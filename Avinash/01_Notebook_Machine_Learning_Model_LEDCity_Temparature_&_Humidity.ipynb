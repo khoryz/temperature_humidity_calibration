{
  "nbformat": 4,
  "nbformat_minor": 0,
  "metadata": {
    "colab": {
      "provenance": []
    },
    "kernelspec": {
      "name": "python3",
      "display_name": "Python 3"
    },
    "language_info": {
      "name": "python"
    },
    "widgets": {
      "application/vnd.jupyter.widget-state+json": {
        "0130d3f5253b45bca1d4a9957261743d": {
          "model_module": "@jupyter-widgets/controls",
          "model_name": "HBoxModel",
          "model_module_version": "1.5.0",
          "state": {
            "_dom_classes": [],
            "_model_module": "@jupyter-widgets/controls",
            "_model_module_version": "1.5.0",
            "_model_name": "HBoxModel",
            "_view_count": null,
            "_view_module": "@jupyter-widgets/controls",
            "_view_module_version": "1.5.0",
            "_view_name": "HBoxView",
            "box_style": "",
            "children": [
              "IPY_MODEL_b0864ff6643644e795b91423546982e7",
              "IPY_MODEL_3ce992dc14ec441da1de2d31e27d3f11",
              "IPY_MODEL_8f4adefcfca34e8fb5f3ee54eea98553"
            ],
            "layout": "IPY_MODEL_f7c6c736bd8745d4b5ce19255555ba3b"
          }
        },
        "b0864ff6643644e795b91423546982e7": {
          "model_module": "@jupyter-widgets/controls",
          "model_name": "HTMLModel",
          "model_module_version": "1.5.0",
          "state": {
            "_dom_classes": [],
            "_model_module": "@jupyter-widgets/controls",
            "_model_module_version": "1.5.0",
            "_model_name": "HTMLModel",
            "_view_count": null,
            "_view_module": "@jupyter-widgets/controls",
            "_view_module_version": "1.5.0",
            "_view_name": "HTMLView",
            "description": "",
            "description_tooltip": null,
            "layout": "IPY_MODEL_6a07e7c2fab2407cba2d12b6af1d04e7",
            "placeholder": "​",
            "style": "IPY_MODEL_7efaed5d70b549fcaabf5d1e6f108611",
            "value": "Processing: 100%"
          }
        },
        "3ce992dc14ec441da1de2d31e27d3f11": {
          "model_module": "@jupyter-widgets/controls",
          "model_name": "FloatProgressModel",
          "model_module_version": "1.5.0",
          "state": {
            "_dom_classes": [],
            "_model_module": "@jupyter-widgets/controls",
            "_model_module_version": "1.5.0",
            "_model_name": "FloatProgressModel",
            "_view_count": null,
            "_view_module": "@jupyter-widgets/controls",
            "_view_module_version": "1.5.0",
            "_view_name": "ProgressView",
            "bar_style": "",
            "description": "",
            "description_tooltip": null,
            "layout": "IPY_MODEL_4412ae1ba1324a51858cc06ed302781b",
            "max": 77,
            "min": 0,
            "orientation": "horizontal",
            "style": "IPY_MODEL_da0ff5bd650e482982bd362f48d652c2",
            "value": 77
          }
        },
        "8f4adefcfca34e8fb5f3ee54eea98553": {
          "model_module": "@jupyter-widgets/controls",
          "model_name": "HTMLModel",
          "model_module_version": "1.5.0",
          "state": {
            "_dom_classes": [],
            "_model_module": "@jupyter-widgets/controls",
            "_model_module_version": "1.5.0",
            "_model_name": "HTMLModel",
            "_view_count": null,
            "_view_module": "@jupyter-widgets/controls",
            "_view_module_version": "1.5.0",
            "_view_name": "HTMLView",
            "description": "",
            "description_tooltip": null,
            "layout": "IPY_MODEL_0b0691d478f746839fb1a8acb112e0c7",
            "placeholder": "​",
            "style": "IPY_MODEL_b782c2df00c34778b31a04341279a27a",
            "value": " 77/77 [03:17&lt;00:00,  1.87s/it]"
          }
        },
        "f7c6c736bd8745d4b5ce19255555ba3b": {
          "model_module": "@jupyter-widgets/base",
          "model_name": "LayoutModel",
          "model_module_version": "1.2.0",
          "state": {
            "_model_module": "@jupyter-widgets/base",
            "_model_module_version": "1.2.0",
            "_model_name": "LayoutModel",
            "_view_count": null,
            "_view_module": "@jupyter-widgets/base",
            "_view_module_version": "1.2.0",
            "_view_name": "LayoutView",
            "align_content": null,
            "align_items": null,
            "align_self": null,
            "border": null,
            "bottom": null,
            "display": null,
            "flex": null,
            "flex_flow": null,
            "grid_area": null,
            "grid_auto_columns": null,
            "grid_auto_flow": null,
            "grid_auto_rows": null,
            "grid_column": null,
            "grid_gap": null,
            "grid_row": null,
            "grid_template_areas": null,
            "grid_template_columns": null,
            "grid_template_rows": null,
            "height": null,
            "justify_content": null,
            "justify_items": null,
            "left": null,
            "margin": null,
            "max_height": null,
            "max_width": null,
            "min_height": null,
            "min_width": null,
            "object_fit": null,
            "object_position": null,
            "order": null,
            "overflow": null,
            "overflow_x": null,
            "overflow_y": null,
            "padding": null,
            "right": null,
            "top": null,
            "visibility": "hidden",
            "width": null
          }
        },
        "6a07e7c2fab2407cba2d12b6af1d04e7": {
          "model_module": "@jupyter-widgets/base",
          "model_name": "LayoutModel",
          "model_module_version": "1.2.0",
          "state": {
            "_model_module": "@jupyter-widgets/base",
            "_model_module_version": "1.2.0",
            "_model_name": "LayoutModel",
            "_view_count": null,
            "_view_module": "@jupyter-widgets/base",
            "_view_module_version": "1.2.0",
            "_view_name": "LayoutView",
            "align_content": null,
            "align_items": null,
            "align_self": null,
            "border": null,
            "bottom": null,
            "display": null,
            "flex": null,
            "flex_flow": null,
            "grid_area": null,
            "grid_auto_columns": null,
            "grid_auto_flow": null,
            "grid_auto_rows": null,
            "grid_column": null,
            "grid_gap": null,
            "grid_row": null,
            "grid_template_areas": null,
            "grid_template_columns": null,
            "grid_template_rows": null,
            "height": null,
            "justify_content": null,
            "justify_items": null,
            "left": null,
            "margin": null,
            "max_height": null,
            "max_width": null,
            "min_height": null,
            "min_width": null,
            "object_fit": null,
            "object_position": null,
            "order": null,
            "overflow": null,
            "overflow_x": null,
            "overflow_y": null,
            "padding": null,
            "right": null,
            "top": null,
            "visibility": null,
            "width": null
          }
        },
        "7efaed5d70b549fcaabf5d1e6f108611": {
          "model_module": "@jupyter-widgets/controls",
          "model_name": "DescriptionStyleModel",
          "model_module_version": "1.5.0",
          "state": {
            "_model_module": "@jupyter-widgets/controls",
            "_model_module_version": "1.5.0",
            "_model_name": "DescriptionStyleModel",
            "_view_count": null,
            "_view_module": "@jupyter-widgets/base",
            "_view_module_version": "1.2.0",
            "_view_name": "StyleView",
            "description_width": ""
          }
        },
        "4412ae1ba1324a51858cc06ed302781b": {
          "model_module": "@jupyter-widgets/base",
          "model_name": "LayoutModel",
          "model_module_version": "1.2.0",
          "state": {
            "_model_module": "@jupyter-widgets/base",
            "_model_module_version": "1.2.0",
            "_model_name": "LayoutModel",
            "_view_count": null,
            "_view_module": "@jupyter-widgets/base",
            "_view_module_version": "1.2.0",
            "_view_name": "LayoutView",
            "align_content": null,
            "align_items": null,
            "align_self": null,
            "border": null,
            "bottom": null,
            "display": null,
            "flex": null,
            "flex_flow": null,
            "grid_area": null,
            "grid_auto_columns": null,
            "grid_auto_flow": null,
            "grid_auto_rows": null,
            "grid_column": null,
            "grid_gap": null,
            "grid_row": null,
            "grid_template_areas": null,
            "grid_template_columns": null,
            "grid_template_rows": null,
            "height": null,
            "justify_content": null,
            "justify_items": null,
            "left": null,
            "margin": null,
            "max_height": null,
            "max_width": null,
            "min_height": null,
            "min_width": null,
            "object_fit": null,
            "object_position": null,
            "order": null,
            "overflow": null,
            "overflow_x": null,
            "overflow_y": null,
            "padding": null,
            "right": null,
            "top": null,
            "visibility": null,
            "width": null
          }
        },
        "da0ff5bd650e482982bd362f48d652c2": {
          "model_module": "@jupyter-widgets/controls",
          "model_name": "ProgressStyleModel",
          "model_module_version": "1.5.0",
          "state": {
            "_model_module": "@jupyter-widgets/controls",
            "_model_module_version": "1.5.0",
            "_model_name": "ProgressStyleModel",
            "_view_count": null,
            "_view_module": "@jupyter-widgets/base",
            "_view_module_version": "1.2.0",
            "_view_name": "StyleView",
            "bar_color": null,
            "description_width": ""
          }
        },
        "0b0691d478f746839fb1a8acb112e0c7": {
          "model_module": "@jupyter-widgets/base",
          "model_name": "LayoutModel",
          "model_module_version": "1.2.0",
          "state": {
            "_model_module": "@jupyter-widgets/base",
            "_model_module_version": "1.2.0",
            "_model_name": "LayoutModel",
            "_view_count": null,
            "_view_module": "@jupyter-widgets/base",
            "_view_module_version": "1.2.0",
            "_view_name": "LayoutView",
            "align_content": null,
            "align_items": null,
            "align_self": null,
            "border": null,
            "bottom": null,
            "display": null,
            "flex": null,
            "flex_flow": null,
            "grid_area": null,
            "grid_auto_columns": null,
            "grid_auto_flow": null,
            "grid_auto_rows": null,
            "grid_column": null,
            "grid_gap": null,
            "grid_row": null,
            "grid_template_areas": null,
            "grid_template_columns": null,
            "grid_template_rows": null,
            "height": null,
            "justify_content": null,
            "justify_items": null,
            "left": null,
            "margin": null,
            "max_height": null,
            "max_width": null,
            "min_height": null,
            "min_width": null,
            "object_fit": null,
            "object_position": null,
            "order": null,
            "overflow": null,
            "overflow_x": null,
            "overflow_y": null,
            "padding": null,
            "right": null,
            "top": null,
            "visibility": null,
            "width": null
          }
        },
        "b782c2df00c34778b31a04341279a27a": {
          "model_module": "@jupyter-widgets/controls",
          "model_name": "DescriptionStyleModel",
          "model_module_version": "1.5.0",
          "state": {
            "_model_module": "@jupyter-widgets/controls",
            "_model_module_version": "1.5.0",
            "_model_name": "DescriptionStyleModel",
            "_view_count": null,
            "_view_module": "@jupyter-widgets/base",
            "_view_module_version": "1.2.0",
            "_view_name": "StyleView",
            "description_width": ""
          }
        },
        "2a2e9d2f94444aef9de1bdbdb5cedf75": {
          "model_module": "@jupyter-widgets/controls",
          "model_name": "HBoxModel",
          "model_module_version": "1.5.0",
          "state": {
            "_dom_classes": [],
            "_model_module": "@jupyter-widgets/controls",
            "_model_module_version": "1.5.0",
            "_model_name": "HBoxModel",
            "_view_count": null,
            "_view_module": "@jupyter-widgets/controls",
            "_view_module_version": "1.5.0",
            "_view_name": "HBoxView",
            "box_style": "",
            "children": [
              "IPY_MODEL_435d0e87104442198e1effe28a517911",
              "IPY_MODEL_daf664f893fc46feab3ff0c628103d00",
              "IPY_MODEL_fbaa459de0f54ac9be76604c5c377b1a"
            ],
            "layout": "IPY_MODEL_2221a5d3222c400880764fbbe3568f9b"
          }
        },
        "435d0e87104442198e1effe28a517911": {
          "model_module": "@jupyter-widgets/controls",
          "model_name": "HTMLModel",
          "model_module_version": "1.5.0",
          "state": {
            "_dom_classes": [],
            "_model_module": "@jupyter-widgets/controls",
            "_model_module_version": "1.5.0",
            "_model_name": "HTMLModel",
            "_view_count": null,
            "_view_module": "@jupyter-widgets/controls",
            "_view_module_version": "1.5.0",
            "_view_name": "HTMLView",
            "description": "",
            "description_tooltip": null,
            "layout": "IPY_MODEL_ba37abc4aeea430093ebb26b7d281676",
            "placeholder": "​",
            "style": "IPY_MODEL_fba4ea93385349ca9fc5daddf86094fd",
            "value": "Processing: 100%"
          }
        },
        "daf664f893fc46feab3ff0c628103d00": {
          "model_module": "@jupyter-widgets/controls",
          "model_name": "FloatProgressModel",
          "model_module_version": "1.5.0",
          "state": {
            "_dom_classes": [],
            "_model_module": "@jupyter-widgets/controls",
            "_model_module_version": "1.5.0",
            "_model_name": "FloatProgressModel",
            "_view_count": null,
            "_view_module": "@jupyter-widgets/controls",
            "_view_module_version": "1.5.0",
            "_view_name": "ProgressView",
            "bar_style": "",
            "description": "",
            "description_tooltip": null,
            "layout": "IPY_MODEL_028dfa76db37441591c97bf02f74db28",
            "max": 77,
            "min": 0,
            "orientation": "horizontal",
            "style": "IPY_MODEL_07f04fd1a9584b7e851ec2d3e45dea2e",
            "value": 77
          }
        },
        "fbaa459de0f54ac9be76604c5c377b1a": {
          "model_module": "@jupyter-widgets/controls",
          "model_name": "HTMLModel",
          "model_module_version": "1.5.0",
          "state": {
            "_dom_classes": [],
            "_model_module": "@jupyter-widgets/controls",
            "_model_module_version": "1.5.0",
            "_model_name": "HTMLModel",
            "_view_count": null,
            "_view_module": "@jupyter-widgets/controls",
            "_view_module_version": "1.5.0",
            "_view_name": "HTMLView",
            "description": "",
            "description_tooltip": null,
            "layout": "IPY_MODEL_2e391d2ff96745bb9c786d204a1738a0",
            "placeholder": "​",
            "style": "IPY_MODEL_5feec37bb09b4232a70e8edd127aa6dc",
            "value": " 77/77 [03:22&lt;00:00,  1.89s/it]"
          }
        },
        "2221a5d3222c400880764fbbe3568f9b": {
          "model_module": "@jupyter-widgets/base",
          "model_name": "LayoutModel",
          "model_module_version": "1.2.0",
          "state": {
            "_model_module": "@jupyter-widgets/base",
            "_model_module_version": "1.2.0",
            "_model_name": "LayoutModel",
            "_view_count": null,
            "_view_module": "@jupyter-widgets/base",
            "_view_module_version": "1.2.0",
            "_view_name": "LayoutView",
            "align_content": null,
            "align_items": null,
            "align_self": null,
            "border": null,
            "bottom": null,
            "display": null,
            "flex": null,
            "flex_flow": null,
            "grid_area": null,
            "grid_auto_columns": null,
            "grid_auto_flow": null,
            "grid_auto_rows": null,
            "grid_column": null,
            "grid_gap": null,
            "grid_row": null,
            "grid_template_areas": null,
            "grid_template_columns": null,
            "grid_template_rows": null,
            "height": null,
            "justify_content": null,
            "justify_items": null,
            "left": null,
            "margin": null,
            "max_height": null,
            "max_width": null,
            "min_height": null,
            "min_width": null,
            "object_fit": null,
            "object_position": null,
            "order": null,
            "overflow": null,
            "overflow_x": null,
            "overflow_y": null,
            "padding": null,
            "right": null,
            "top": null,
            "visibility": "hidden",
            "width": null
          }
        },
        "ba37abc4aeea430093ebb26b7d281676": {
          "model_module": "@jupyter-widgets/base",
          "model_name": "LayoutModel",
          "model_module_version": "1.2.0",
          "state": {
            "_model_module": "@jupyter-widgets/base",
            "_model_module_version": "1.2.0",
            "_model_name": "LayoutModel",
            "_view_count": null,
            "_view_module": "@jupyter-widgets/base",
            "_view_module_version": "1.2.0",
            "_view_name": "LayoutView",
            "align_content": null,
            "align_items": null,
            "align_self": null,
            "border": null,
            "bottom": null,
            "display": null,
            "flex": null,
            "flex_flow": null,
            "grid_area": null,
            "grid_auto_columns": null,
            "grid_auto_flow": null,
            "grid_auto_rows": null,
            "grid_column": null,
            "grid_gap": null,
            "grid_row": null,
            "grid_template_areas": null,
            "grid_template_columns": null,
            "grid_template_rows": null,
            "height": null,
            "justify_content": null,
            "justify_items": null,
            "left": null,
            "margin": null,
            "max_height": null,
            "max_width": null,
            "min_height": null,
            "min_width": null,
            "object_fit": null,
            "object_position": null,
            "order": null,
            "overflow": null,
            "overflow_x": null,
            "overflow_y": null,
            "padding": null,
            "right": null,
            "top": null,
            "visibility": null,
            "width": null
          }
        },
        "fba4ea93385349ca9fc5daddf86094fd": {
          "model_module": "@jupyter-widgets/controls",
          "model_name": "DescriptionStyleModel",
          "model_module_version": "1.5.0",
          "state": {
            "_model_module": "@jupyter-widgets/controls",
            "_model_module_version": "1.5.0",
            "_model_name": "DescriptionStyleModel",
            "_view_count": null,
            "_view_module": "@jupyter-widgets/base",
            "_view_module_version": "1.2.0",
            "_view_name": "StyleView",
            "description_width": ""
          }
        },
        "028dfa76db37441591c97bf02f74db28": {
          "model_module": "@jupyter-widgets/base",
          "model_name": "LayoutModel",
          "model_module_version": "1.2.0",
          "state": {
            "_model_module": "@jupyter-widgets/base",
            "_model_module_version": "1.2.0",
            "_model_name": "LayoutModel",
            "_view_count": null,
            "_view_module": "@jupyter-widgets/base",
            "_view_module_version": "1.2.0",
            "_view_name": "LayoutView",
            "align_content": null,
            "align_items": null,
            "align_self": null,
            "border": null,
            "bottom": null,
            "display": null,
            "flex": null,
            "flex_flow": null,
            "grid_area": null,
            "grid_auto_columns": null,
            "grid_auto_flow": null,
            "grid_auto_rows": null,
            "grid_column": null,
            "grid_gap": null,
            "grid_row": null,
            "grid_template_areas": null,
            "grid_template_columns": null,
            "grid_template_rows": null,
            "height": null,
            "justify_content": null,
            "justify_items": null,
            "left": null,
            "margin": null,
            "max_height": null,
            "max_width": null,
            "min_height": null,
            "min_width": null,
            "object_fit": null,
            "object_position": null,
            "order": null,
            "overflow": null,
            "overflow_x": null,
            "overflow_y": null,
            "padding": null,
            "right": null,
            "top": null,
            "visibility": null,
            "width": null
          }
        },
        "07f04fd1a9584b7e851ec2d3e45dea2e": {
          "model_module": "@jupyter-widgets/controls",
          "model_name": "ProgressStyleModel",
          "model_module_version": "1.5.0",
          "state": {
            "_model_module": "@jupyter-widgets/controls",
            "_model_module_version": "1.5.0",
            "_model_name": "ProgressStyleModel",
            "_view_count": null,
            "_view_module": "@jupyter-widgets/base",
            "_view_module_version": "1.2.0",
            "_view_name": "StyleView",
            "bar_color": null,
            "description_width": ""
          }
        },
        "2e391d2ff96745bb9c786d204a1738a0": {
          "model_module": "@jupyter-widgets/base",
          "model_name": "LayoutModel",
          "model_module_version": "1.2.0",
          "state": {
            "_model_module": "@jupyter-widgets/base",
            "_model_module_version": "1.2.0",
            "_model_name": "LayoutModel",
            "_view_count": null,
            "_view_module": "@jupyter-widgets/base",
            "_view_module_version": "1.2.0",
            "_view_name": "LayoutView",
            "align_content": null,
            "align_items": null,
            "align_self": null,
            "border": null,
            "bottom": null,
            "display": null,
            "flex": null,
            "flex_flow": null,
            "grid_area": null,
            "grid_auto_columns": null,
            "grid_auto_flow": null,
            "grid_auto_rows": null,
            "grid_column": null,
            "grid_gap": null,
            "grid_row": null,
            "grid_template_areas": null,
            "grid_template_columns": null,
            "grid_template_rows": null,
            "height": null,
            "justify_content": null,
            "justify_items": null,
            "left": null,
            "margin": null,
            "max_height": null,
            "max_width": null,
            "min_height": null,
            "min_width": null,
            "object_fit": null,
            "object_position": null,
            "order": null,
            "overflow": null,
            "overflow_x": null,
            "overflow_y": null,
            "padding": null,
            "right": null,
            "top": null,
            "visibility": null,
            "width": null
          }
        },
        "5feec37bb09b4232a70e8edd127aa6dc": {
          "model_module": "@jupyter-widgets/controls",
          "model_name": "DescriptionStyleModel",
          "model_module_version": "1.5.0",
          "state": {
            "_model_module": "@jupyter-widgets/controls",
            "_model_module_version": "1.5.0",
            "_model_name": "DescriptionStyleModel",
            "_view_count": null,
            "_view_module": "@jupyter-widgets/base",
            "_view_module_version": "1.2.0",
            "_view_name": "StyleView",
            "description_width": ""
          }
        },
        "601e34eeacec4cafb33fd72d0ac69e97": {
          "model_module": "@jupyter-widgets/controls",
          "model_name": "HBoxModel",
          "model_module_version": "1.5.0",
          "state": {
            "_dom_classes": [],
            "_model_module": "@jupyter-widgets/controls",
            "_model_module_version": "1.5.0",
            "_model_name": "HBoxModel",
            "_view_count": null,
            "_view_module": "@jupyter-widgets/controls",
            "_view_module_version": "1.5.0",
            "_view_name": "HBoxView",
            "box_style": "",
            "children": [
              "IPY_MODEL_b06e9bd7f1044c788d133329d3cf4e51",
              "IPY_MODEL_1b5ed7ac74524e679fdba2c8e0336e30",
              "IPY_MODEL_26693f1086de41aaa79f047edaf7fc1a"
            ],
            "layout": "IPY_MODEL_0f1b997641ee4b848ed475f6734fa9a5"
          }
        },
        "b06e9bd7f1044c788d133329d3cf4e51": {
          "model_module": "@jupyter-widgets/controls",
          "model_name": "HTMLModel",
          "model_module_version": "1.5.0",
          "state": {
            "_dom_classes": [],
            "_model_module": "@jupyter-widgets/controls",
            "_model_module_version": "1.5.0",
            "_model_name": "HTMLModel",
            "_view_count": null,
            "_view_module": "@jupyter-widgets/controls",
            "_view_module_version": "1.5.0",
            "_view_name": "HTMLView",
            "description": "",
            "description_tooltip": null,
            "layout": "IPY_MODEL_5cc11177fe8c417e91a5f737f800af61",
            "placeholder": "​",
            "style": "IPY_MODEL_2f2b8f5d57bc42feaf077c195636998a",
            "value": "Processing: 100%"
          }
        },
        "1b5ed7ac74524e679fdba2c8e0336e30": {
          "model_module": "@jupyter-widgets/controls",
          "model_name": "FloatProgressModel",
          "model_module_version": "1.5.0",
          "state": {
            "_dom_classes": [],
            "_model_module": "@jupyter-widgets/controls",
            "_model_module_version": "1.5.0",
            "_model_name": "FloatProgressModel",
            "_view_count": null,
            "_view_module": "@jupyter-widgets/controls",
            "_view_module_version": "1.5.0",
            "_view_name": "ProgressView",
            "bar_style": "",
            "description": "",
            "description_tooltip": null,
            "layout": "IPY_MODEL_78e679f3622f4af3925d9c04b9c6784c",
            "max": 4,
            "min": 0,
            "orientation": "horizontal",
            "style": "IPY_MODEL_e0fd80b67ee54630921e59203438e2f4",
            "value": 4
          }
        },
        "26693f1086de41aaa79f047edaf7fc1a": {
          "model_module": "@jupyter-widgets/controls",
          "model_name": "HTMLModel",
          "model_module_version": "1.5.0",
          "state": {
            "_dom_classes": [],
            "_model_module": "@jupyter-widgets/controls",
            "_model_module_version": "1.5.0",
            "_model_name": "HTMLModel",
            "_view_count": null,
            "_view_module": "@jupyter-widgets/controls",
            "_view_module_version": "1.5.0",
            "_view_name": "HTMLView",
            "description": "",
            "description_tooltip": null,
            "layout": "IPY_MODEL_d67ed2e88c2c4ddeb602772cce5c4dd9",
            "placeholder": "​",
            "style": "IPY_MODEL_9836ec334d6046d19a95c74a9266040e",
            "value": " 4/4 [01:27&lt;00:00, 20.22s/it]"
          }
        },
        "0f1b997641ee4b848ed475f6734fa9a5": {
          "model_module": "@jupyter-widgets/base",
          "model_name": "LayoutModel",
          "model_module_version": "1.2.0",
          "state": {
            "_model_module": "@jupyter-widgets/base",
            "_model_module_version": "1.2.0",
            "_model_name": "LayoutModel",
            "_view_count": null,
            "_view_module": "@jupyter-widgets/base",
            "_view_module_version": "1.2.0",
            "_view_name": "LayoutView",
            "align_content": null,
            "align_items": null,
            "align_self": null,
            "border": null,
            "bottom": null,
            "display": null,
            "flex": null,
            "flex_flow": null,
            "grid_area": null,
            "grid_auto_columns": null,
            "grid_auto_flow": null,
            "grid_auto_rows": null,
            "grid_column": null,
            "grid_gap": null,
            "grid_row": null,
            "grid_template_areas": null,
            "grid_template_columns": null,
            "grid_template_rows": null,
            "height": null,
            "justify_content": null,
            "justify_items": null,
            "left": null,
            "margin": null,
            "max_height": null,
            "max_width": null,
            "min_height": null,
            "min_width": null,
            "object_fit": null,
            "object_position": null,
            "order": null,
            "overflow": null,
            "overflow_x": null,
            "overflow_y": null,
            "padding": null,
            "right": null,
            "top": null,
            "visibility": "hidden",
            "width": null
          }
        },
        "5cc11177fe8c417e91a5f737f800af61": {
          "model_module": "@jupyter-widgets/base",
          "model_name": "LayoutModel",
          "model_module_version": "1.2.0",
          "state": {
            "_model_module": "@jupyter-widgets/base",
            "_model_module_version": "1.2.0",
            "_model_name": "LayoutModel",
            "_view_count": null,
            "_view_module": "@jupyter-widgets/base",
            "_view_module_version": "1.2.0",
            "_view_name": "LayoutView",
            "align_content": null,
            "align_items": null,
            "align_self": null,
            "border": null,
            "bottom": null,
            "display": null,
            "flex": null,
            "flex_flow": null,
            "grid_area": null,
            "grid_auto_columns": null,
            "grid_auto_flow": null,
            "grid_auto_rows": null,
            "grid_column": null,
            "grid_gap": null,
            "grid_row": null,
            "grid_template_areas": null,
            "grid_template_columns": null,
            "grid_template_rows": null,
            "height": null,
            "justify_content": null,
            "justify_items": null,
            "left": null,
            "margin": null,
            "max_height": null,
            "max_width": null,
            "min_height": null,
            "min_width": null,
            "object_fit": null,
            "object_position": null,
            "order": null,
            "overflow": null,
            "overflow_x": null,
            "overflow_y": null,
            "padding": null,
            "right": null,
            "top": null,
            "visibility": null,
            "width": null
          }
        },
        "2f2b8f5d57bc42feaf077c195636998a": {
          "model_module": "@jupyter-widgets/controls",
          "model_name": "DescriptionStyleModel",
          "model_module_version": "1.5.0",
          "state": {
            "_model_module": "@jupyter-widgets/controls",
            "_model_module_version": "1.5.0",
            "_model_name": "DescriptionStyleModel",
            "_view_count": null,
            "_view_module": "@jupyter-widgets/base",
            "_view_module_version": "1.2.0",
            "_view_name": "StyleView",
            "description_width": ""
          }
        },
        "78e679f3622f4af3925d9c04b9c6784c": {
          "model_module": "@jupyter-widgets/base",
          "model_name": "LayoutModel",
          "model_module_version": "1.2.0",
          "state": {
            "_model_module": "@jupyter-widgets/base",
            "_model_module_version": "1.2.0",
            "_model_name": "LayoutModel",
            "_view_count": null,
            "_view_module": "@jupyter-widgets/base",
            "_view_module_version": "1.2.0",
            "_view_name": "LayoutView",
            "align_content": null,
            "align_items": null,
            "align_self": null,
            "border": null,
            "bottom": null,
            "display": null,
            "flex": null,
            "flex_flow": null,
            "grid_area": null,
            "grid_auto_columns": null,
            "grid_auto_flow": null,
            "grid_auto_rows": null,
            "grid_column": null,
            "grid_gap": null,
            "grid_row": null,
            "grid_template_areas": null,
            "grid_template_columns": null,
            "grid_template_rows": null,
            "height": null,
            "justify_content": null,
            "justify_items": null,
            "left": null,
            "margin": null,
            "max_height": null,
            "max_width": null,
            "min_height": null,
            "min_width": null,
            "object_fit": null,
            "object_position": null,
            "order": null,
            "overflow": null,
            "overflow_x": null,
            "overflow_y": null,
            "padding": null,
            "right": null,
            "top": null,
            "visibility": null,
            "width": null
          }
        },
        "e0fd80b67ee54630921e59203438e2f4": {
          "model_module": "@jupyter-widgets/controls",
          "model_name": "ProgressStyleModel",
          "model_module_version": "1.5.0",
          "state": {
            "_model_module": "@jupyter-widgets/controls",
            "_model_module_version": "1.5.0",
            "_model_name": "ProgressStyleModel",
            "_view_count": null,
            "_view_module": "@jupyter-widgets/base",
            "_view_module_version": "1.2.0",
            "_view_name": "StyleView",
            "bar_color": null,
            "description_width": ""
          }
        },
        "d67ed2e88c2c4ddeb602772cce5c4dd9": {
          "model_module": "@jupyter-widgets/base",
          "model_name": "LayoutModel",
          "model_module_version": "1.2.0",
          "state": {
            "_model_module": "@jupyter-widgets/base",
            "_model_module_version": "1.2.0",
            "_model_name": "LayoutModel",
            "_view_count": null,
            "_view_module": "@jupyter-widgets/base",
            "_view_module_version": "1.2.0",
            "_view_name": "LayoutView",
            "align_content": null,
            "align_items": null,
            "align_self": null,
            "border": null,
            "bottom": null,
            "display": null,
            "flex": null,
            "flex_flow": null,
            "grid_area": null,
            "grid_auto_columns": null,
            "grid_auto_flow": null,
            "grid_auto_rows": null,
            "grid_column": null,
            "grid_gap": null,
            "grid_row": null,
            "grid_template_areas": null,
            "grid_template_columns": null,
            "grid_template_rows": null,
            "height": null,
            "justify_content": null,
            "justify_items": null,
            "left": null,
            "margin": null,
            "max_height": null,
            "max_width": null,
            "min_height": null,
            "min_width": null,
            "object_fit": null,
            "object_position": null,
            "order": null,
            "overflow": null,
            "overflow_x": null,
            "overflow_y": null,
            "padding": null,
            "right": null,
            "top": null,
            "visibility": null,
            "width": null
          }
        },
        "9836ec334d6046d19a95c74a9266040e": {
          "model_module": "@jupyter-widgets/controls",
          "model_name": "DescriptionStyleModel",
          "model_module_version": "1.5.0",
          "state": {
            "_model_module": "@jupyter-widgets/controls",
            "_model_module_version": "1.5.0",
            "_model_name": "DescriptionStyleModel",
            "_view_count": null,
            "_view_module": "@jupyter-widgets/base",
            "_view_module_version": "1.2.0",
            "_view_name": "StyleView",
            "description_width": ""
          }
        },
        "4130f54f146d4353a48a3e3502308f0d": {
          "model_module": "@jupyter-widgets/controls",
          "model_name": "HBoxModel",
          "model_module_version": "1.5.0",
          "state": {
            "_dom_classes": [],
            "_model_module": "@jupyter-widgets/controls",
            "_model_module_version": "1.5.0",
            "_model_name": "HBoxModel",
            "_view_count": null,
            "_view_module": "@jupyter-widgets/controls",
            "_view_module_version": "1.5.0",
            "_view_name": "HBoxView",
            "box_style": "",
            "children": [
              "IPY_MODEL_ecad467488ba46b8b4a3832446c0eca6",
              "IPY_MODEL_04e240c0236b4fd885e150d436a8c048",
              "IPY_MODEL_3b4c15826d874cfba27be5bd4567e3ba"
            ],
            "layout": "IPY_MODEL_b4d7fad1586d46a48bc685261b87e209"
          }
        },
        "ecad467488ba46b8b4a3832446c0eca6": {
          "model_module": "@jupyter-widgets/controls",
          "model_name": "HTMLModel",
          "model_module_version": "1.5.0",
          "state": {
            "_dom_classes": [],
            "_model_module": "@jupyter-widgets/controls",
            "_model_module_version": "1.5.0",
            "_model_name": "HTMLModel",
            "_view_count": null,
            "_view_module": "@jupyter-widgets/controls",
            "_view_module_version": "1.5.0",
            "_view_name": "HTMLView",
            "description": "",
            "description_tooltip": null,
            "layout": "IPY_MODEL_52758dfbcb2c403bb45434ba6f6b53d5",
            "placeholder": "​",
            "style": "IPY_MODEL_a4503f1f57df44039c87a457a6b322e8",
            "value": "Processing: 100%"
          }
        },
        "04e240c0236b4fd885e150d436a8c048": {
          "model_module": "@jupyter-widgets/controls",
          "model_name": "FloatProgressModel",
          "model_module_version": "1.5.0",
          "state": {
            "_dom_classes": [],
            "_model_module": "@jupyter-widgets/controls",
            "_model_module_version": "1.5.0",
            "_model_name": "FloatProgressModel",
            "_view_count": null,
            "_view_module": "@jupyter-widgets/controls",
            "_view_module_version": "1.5.0",
            "_view_name": "ProgressView",
            "bar_style": "",
            "description": "",
            "description_tooltip": null,
            "layout": "IPY_MODEL_4e71dc4768d845c9990a4f1a4e93fbad",
            "max": 4,
            "min": 0,
            "orientation": "horizontal",
            "style": "IPY_MODEL_9060ab6f10644d0ebbafd8352575613a",
            "value": 4
          }
        },
        "3b4c15826d874cfba27be5bd4567e3ba": {
          "model_module": "@jupyter-widgets/controls",
          "model_name": "HTMLModel",
          "model_module_version": "1.5.0",
          "state": {
            "_dom_classes": [],
            "_model_module": "@jupyter-widgets/controls",
            "_model_module_version": "1.5.0",
            "_model_name": "HTMLModel",
            "_view_count": null,
            "_view_module": "@jupyter-widgets/controls",
            "_view_module_version": "1.5.0",
            "_view_name": "HTMLView",
            "description": "",
            "description_tooltip": null,
            "layout": "IPY_MODEL_9e90706568324b628d45f646d03b0485",
            "placeholder": "​",
            "style": "IPY_MODEL_d6671a9802c44aaf8377f2a2624ea534",
            "value": " 4/4 [00:03&lt;00:00,  1.31it/s]"
          }
        },
        "b4d7fad1586d46a48bc685261b87e209": {
          "model_module": "@jupyter-widgets/base",
          "model_name": "LayoutModel",
          "model_module_version": "1.2.0",
          "state": {
            "_model_module": "@jupyter-widgets/base",
            "_model_module_version": "1.2.0",
            "_model_name": "LayoutModel",
            "_view_count": null,
            "_view_module": "@jupyter-widgets/base",
            "_view_module_version": "1.2.0",
            "_view_name": "LayoutView",
            "align_content": null,
            "align_items": null,
            "align_self": null,
            "border": null,
            "bottom": null,
            "display": null,
            "flex": null,
            "flex_flow": null,
            "grid_area": null,
            "grid_auto_columns": null,
            "grid_auto_flow": null,
            "grid_auto_rows": null,
            "grid_column": null,
            "grid_gap": null,
            "grid_row": null,
            "grid_template_areas": null,
            "grid_template_columns": null,
            "grid_template_rows": null,
            "height": null,
            "justify_content": null,
            "justify_items": null,
            "left": null,
            "margin": null,
            "max_height": null,
            "max_width": null,
            "min_height": null,
            "min_width": null,
            "object_fit": null,
            "object_position": null,
            "order": null,
            "overflow": null,
            "overflow_x": null,
            "overflow_y": null,
            "padding": null,
            "right": null,
            "top": null,
            "visibility": "hidden",
            "width": null
          }
        },
        "52758dfbcb2c403bb45434ba6f6b53d5": {
          "model_module": "@jupyter-widgets/base",
          "model_name": "LayoutModel",
          "model_module_version": "1.2.0",
          "state": {
            "_model_module": "@jupyter-widgets/base",
            "_model_module_version": "1.2.0",
            "_model_name": "LayoutModel",
            "_view_count": null,
            "_view_module": "@jupyter-widgets/base",
            "_view_module_version": "1.2.0",
            "_view_name": "LayoutView",
            "align_content": null,
            "align_items": null,
            "align_self": null,
            "border": null,
            "bottom": null,
            "display": null,
            "flex": null,
            "flex_flow": null,
            "grid_area": null,
            "grid_auto_columns": null,
            "grid_auto_flow": null,
            "grid_auto_rows": null,
            "grid_column": null,
            "grid_gap": null,
            "grid_row": null,
            "grid_template_areas": null,
            "grid_template_columns": null,
            "grid_template_rows": null,
            "height": null,
            "justify_content": null,
            "justify_items": null,
            "left": null,
            "margin": null,
            "max_height": null,
            "max_width": null,
            "min_height": null,
            "min_width": null,
            "object_fit": null,
            "object_position": null,
            "order": null,
            "overflow": null,
            "overflow_x": null,
            "overflow_y": null,
            "padding": null,
            "right": null,
            "top": null,
            "visibility": null,
            "width": null
          }
        },
        "a4503f1f57df44039c87a457a6b322e8": {
          "model_module": "@jupyter-widgets/controls",
          "model_name": "DescriptionStyleModel",
          "model_module_version": "1.5.0",
          "state": {
            "_model_module": "@jupyter-widgets/controls",
            "_model_module_version": "1.5.0",
            "_model_name": "DescriptionStyleModel",
            "_view_count": null,
            "_view_module": "@jupyter-widgets/base",
            "_view_module_version": "1.2.0",
            "_view_name": "StyleView",
            "description_width": ""
          }
        },
        "4e71dc4768d845c9990a4f1a4e93fbad": {
          "model_module": "@jupyter-widgets/base",
          "model_name": "LayoutModel",
          "model_module_version": "1.2.0",
          "state": {
            "_model_module": "@jupyter-widgets/base",
            "_model_module_version": "1.2.0",
            "_model_name": "LayoutModel",
            "_view_count": null,
            "_view_module": "@jupyter-widgets/base",
            "_view_module_version": "1.2.0",
            "_view_name": "LayoutView",
            "align_content": null,
            "align_items": null,
            "align_self": null,
            "border": null,
            "bottom": null,
            "display": null,
            "flex": null,
            "flex_flow": null,
            "grid_area": null,
            "grid_auto_columns": null,
            "grid_auto_flow": null,
            "grid_auto_rows": null,
            "grid_column": null,
            "grid_gap": null,
            "grid_row": null,
            "grid_template_areas": null,
            "grid_template_columns": null,
            "grid_template_rows": null,
            "height": null,
            "justify_content": null,
            "justify_items": null,
            "left": null,
            "margin": null,
            "max_height": null,
            "max_width": null,
            "min_height": null,
            "min_width": null,
            "object_fit": null,
            "object_position": null,
            "order": null,
            "overflow": null,
            "overflow_x": null,
            "overflow_y": null,
            "padding": null,
            "right": null,
            "top": null,
            "visibility": null,
            "width": null
          }
        },
        "9060ab6f10644d0ebbafd8352575613a": {
          "model_module": "@jupyter-widgets/controls",
          "model_name": "ProgressStyleModel",
          "model_module_version": "1.5.0",
          "state": {
            "_model_module": "@jupyter-widgets/controls",
            "_model_module_version": "1.5.0",
            "_model_name": "ProgressStyleModel",
            "_view_count": null,
            "_view_module": "@jupyter-widgets/base",
            "_view_module_version": "1.2.0",
            "_view_name": "StyleView",
            "bar_color": null,
            "description_width": ""
          }
        },
        "9e90706568324b628d45f646d03b0485": {
          "model_module": "@jupyter-widgets/base",
          "model_name": "LayoutModel",
          "model_module_version": "1.2.0",
          "state": {
            "_model_module": "@jupyter-widgets/base",
            "_model_module_version": "1.2.0",
            "_model_name": "LayoutModel",
            "_view_count": null,
            "_view_module": "@jupyter-widgets/base",
            "_view_module_version": "1.2.0",
            "_view_name": "LayoutView",
            "align_content": null,
            "align_items": null,
            "align_self": null,
            "border": null,
            "bottom": null,
            "display": null,
            "flex": null,
            "flex_flow": null,
            "grid_area": null,
            "grid_auto_columns": null,
            "grid_auto_flow": null,
            "grid_auto_rows": null,
            "grid_column": null,
            "grid_gap": null,
            "grid_row": null,
            "grid_template_areas": null,
            "grid_template_columns": null,
            "grid_template_rows": null,
            "height": null,
            "justify_content": null,
            "justify_items": null,
            "left": null,
            "margin": null,
            "max_height": null,
            "max_width": null,
            "min_height": null,
            "min_width": null,
            "object_fit": null,
            "object_position": null,
            "order": null,
            "overflow": null,
            "overflow_x": null,
            "overflow_y": null,
            "padding": null,
            "right": null,
            "top": null,
            "visibility": null,
            "width": null
          }
        },
        "d6671a9802c44aaf8377f2a2624ea534": {
          "model_module": "@jupyter-widgets/controls",
          "model_name": "DescriptionStyleModel",
          "model_module_version": "1.5.0",
          "state": {
            "_model_module": "@jupyter-widgets/controls",
            "_model_module_version": "1.5.0",
            "_model_name": "DescriptionStyleModel",
            "_view_count": null,
            "_view_module": "@jupyter-widgets/base",
            "_view_module_version": "1.2.0",
            "_view_name": "StyleView",
            "description_width": ""
          }
        },
        "ab388e9be2f54ea4a222eedf9c95e1fc": {
          "model_module": "@jupyter-widgets/controls",
          "model_name": "HBoxModel",
          "model_module_version": "1.5.0",
          "state": {
            "_dom_classes": [],
            "_model_module": "@jupyter-widgets/controls",
            "_model_module_version": "1.5.0",
            "_model_name": "HBoxModel",
            "_view_count": null,
            "_view_module": "@jupyter-widgets/controls",
            "_view_module_version": "1.5.0",
            "_view_name": "HBoxView",
            "box_style": "",
            "children": [
              "IPY_MODEL_459bf0a56bb84067990794ea6c8aef16",
              "IPY_MODEL_fe87804bbd05460ea08c35210a16cb79",
              "IPY_MODEL_0c4ce306ea63495baf2e0b55272c4403"
            ],
            "layout": "IPY_MODEL_51718230115a4fecbf49654d03dbde7a"
          }
        },
        "459bf0a56bb84067990794ea6c8aef16": {
          "model_module": "@jupyter-widgets/controls",
          "model_name": "HTMLModel",
          "model_module_version": "1.5.0",
          "state": {
            "_dom_classes": [],
            "_model_module": "@jupyter-widgets/controls",
            "_model_module_version": "1.5.0",
            "_model_name": "HTMLModel",
            "_view_count": null,
            "_view_module": "@jupyter-widgets/controls",
            "_view_module_version": "1.5.0",
            "_view_name": "HTMLView",
            "description": "",
            "description_tooltip": null,
            "layout": "IPY_MODEL_b96fb7a15a404bdfb443923fc49050d7",
            "placeholder": "​",
            "style": "IPY_MODEL_0463c825a5054e8cb90e03afaef8c801",
            "value": "Processing: 100%"
          }
        },
        "fe87804bbd05460ea08c35210a16cb79": {
          "model_module": "@jupyter-widgets/controls",
          "model_name": "FloatProgressModel",
          "model_module_version": "1.5.0",
          "state": {
            "_dom_classes": [],
            "_model_module": "@jupyter-widgets/controls",
            "_model_module_version": "1.5.0",
            "_model_name": "FloatProgressModel",
            "_view_count": null,
            "_view_module": "@jupyter-widgets/controls",
            "_view_module_version": "1.5.0",
            "_view_name": "ProgressView",
            "bar_style": "",
            "description": "",
            "description_tooltip": null,
            "layout": "IPY_MODEL_b6f438710a5749ab8ec1dc735948353c",
            "max": 7,
            "min": 0,
            "orientation": "horizontal",
            "style": "IPY_MODEL_f396d828eb1d4b26a2b1fc5eb3f94b74",
            "value": 7
          }
        },
        "0c4ce306ea63495baf2e0b55272c4403": {
          "model_module": "@jupyter-widgets/controls",
          "model_name": "HTMLModel",
          "model_module_version": "1.5.0",
          "state": {
            "_dom_classes": [],
            "_model_module": "@jupyter-widgets/controls",
            "_model_module_version": "1.5.0",
            "_model_name": "HTMLModel",
            "_view_count": null,
            "_view_module": "@jupyter-widgets/controls",
            "_view_module_version": "1.5.0",
            "_view_name": "HTMLView",
            "description": "",
            "description_tooltip": null,
            "layout": "IPY_MODEL_2de93cd491ca4d7d82a6f9ae08561c6c",
            "placeholder": "​",
            "style": "IPY_MODEL_eeb8e12c9a86481483b4ef56866767f4",
            "value": " 7/7 [1:20:24&lt;00:00, 517.73s/it]"
          }
        },
        "51718230115a4fecbf49654d03dbde7a": {
          "model_module": "@jupyter-widgets/base",
          "model_name": "LayoutModel",
          "model_module_version": "1.2.0",
          "state": {
            "_model_module": "@jupyter-widgets/base",
            "_model_module_version": "1.2.0",
            "_model_name": "LayoutModel",
            "_view_count": null,
            "_view_module": "@jupyter-widgets/base",
            "_view_module_version": "1.2.0",
            "_view_name": "LayoutView",
            "align_content": null,
            "align_items": null,
            "align_self": null,
            "border": null,
            "bottom": null,
            "display": null,
            "flex": null,
            "flex_flow": null,
            "grid_area": null,
            "grid_auto_columns": null,
            "grid_auto_flow": null,
            "grid_auto_rows": null,
            "grid_column": null,
            "grid_gap": null,
            "grid_row": null,
            "grid_template_areas": null,
            "grid_template_columns": null,
            "grid_template_rows": null,
            "height": null,
            "justify_content": null,
            "justify_items": null,
            "left": null,
            "margin": null,
            "max_height": null,
            "max_width": null,
            "min_height": null,
            "min_width": null,
            "object_fit": null,
            "object_position": null,
            "order": null,
            "overflow": null,
            "overflow_x": null,
            "overflow_y": null,
            "padding": null,
            "right": null,
            "top": null,
            "visibility": "hidden",
            "width": null
          }
        },
        "b96fb7a15a404bdfb443923fc49050d7": {
          "model_module": "@jupyter-widgets/base",
          "model_name": "LayoutModel",
          "model_module_version": "1.2.0",
          "state": {
            "_model_module": "@jupyter-widgets/base",
            "_model_module_version": "1.2.0",
            "_model_name": "LayoutModel",
            "_view_count": null,
            "_view_module": "@jupyter-widgets/base",
            "_view_module_version": "1.2.0",
            "_view_name": "LayoutView",
            "align_content": null,
            "align_items": null,
            "align_self": null,
            "border": null,
            "bottom": null,
            "display": null,
            "flex": null,
            "flex_flow": null,
            "grid_area": null,
            "grid_auto_columns": null,
            "grid_auto_flow": null,
            "grid_auto_rows": null,
            "grid_column": null,
            "grid_gap": null,
            "grid_row": null,
            "grid_template_areas": null,
            "grid_template_columns": null,
            "grid_template_rows": null,
            "height": null,
            "justify_content": null,
            "justify_items": null,
            "left": null,
            "margin": null,
            "max_height": null,
            "max_width": null,
            "min_height": null,
            "min_width": null,
            "object_fit": null,
            "object_position": null,
            "order": null,
            "overflow": null,
            "overflow_x": null,
            "overflow_y": null,
            "padding": null,
            "right": null,
            "top": null,
            "visibility": null,
            "width": null
          }
        },
        "0463c825a5054e8cb90e03afaef8c801": {
          "model_module": "@jupyter-widgets/controls",
          "model_name": "DescriptionStyleModel",
          "model_module_version": "1.5.0",
          "state": {
            "_model_module": "@jupyter-widgets/controls",
            "_model_module_version": "1.5.0",
            "_model_name": "DescriptionStyleModel",
            "_view_count": null,
            "_view_module": "@jupyter-widgets/base",
            "_view_module_version": "1.2.0",
            "_view_name": "StyleView",
            "description_width": ""
          }
        },
        "b6f438710a5749ab8ec1dc735948353c": {
          "model_module": "@jupyter-widgets/base",
          "model_name": "LayoutModel",
          "model_module_version": "1.2.0",
          "state": {
            "_model_module": "@jupyter-widgets/base",
            "_model_module_version": "1.2.0",
            "_model_name": "LayoutModel",
            "_view_count": null,
            "_view_module": "@jupyter-widgets/base",
            "_view_module_version": "1.2.0",
            "_view_name": "LayoutView",
            "align_content": null,
            "align_items": null,
            "align_self": null,
            "border": null,
            "bottom": null,
            "display": null,
            "flex": null,
            "flex_flow": null,
            "grid_area": null,
            "grid_auto_columns": null,
            "grid_auto_flow": null,
            "grid_auto_rows": null,
            "grid_column": null,
            "grid_gap": null,
            "grid_row": null,
            "grid_template_areas": null,
            "grid_template_columns": null,
            "grid_template_rows": null,
            "height": null,
            "justify_content": null,
            "justify_items": null,
            "left": null,
            "margin": null,
            "max_height": null,
            "max_width": null,
            "min_height": null,
            "min_width": null,
            "object_fit": null,
            "object_position": null,
            "order": null,
            "overflow": null,
            "overflow_x": null,
            "overflow_y": null,
            "padding": null,
            "right": null,
            "top": null,
            "visibility": null,
            "width": null
          }
        },
        "f396d828eb1d4b26a2b1fc5eb3f94b74": {
          "model_module": "@jupyter-widgets/controls",
          "model_name": "ProgressStyleModel",
          "model_module_version": "1.5.0",
          "state": {
            "_model_module": "@jupyter-widgets/controls",
            "_model_module_version": "1.5.0",
            "_model_name": "ProgressStyleModel",
            "_view_count": null,
            "_view_module": "@jupyter-widgets/base",
            "_view_module_version": "1.2.0",
            "_view_name": "StyleView",
            "bar_color": null,
            "description_width": ""
          }
        },
        "2de93cd491ca4d7d82a6f9ae08561c6c": {
          "model_module": "@jupyter-widgets/base",
          "model_name": "LayoutModel",
          "model_module_version": "1.2.0",
          "state": {
            "_model_module": "@jupyter-widgets/base",
            "_model_module_version": "1.2.0",
            "_model_name": "LayoutModel",
            "_view_count": null,
            "_view_module": "@jupyter-widgets/base",
            "_view_module_version": "1.2.0",
            "_view_name": "LayoutView",
            "align_content": null,
            "align_items": null,
            "align_self": null,
            "border": null,
            "bottom": null,
            "display": null,
            "flex": null,
            "flex_flow": null,
            "grid_area": null,
            "grid_auto_columns": null,
            "grid_auto_flow": null,
            "grid_auto_rows": null,
            "grid_column": null,
            "grid_gap": null,
            "grid_row": null,
            "grid_template_areas": null,
            "grid_template_columns": null,
            "grid_template_rows": null,
            "height": null,
            "justify_content": null,
            "justify_items": null,
            "left": null,
            "margin": null,
            "max_height": null,
            "max_width": null,
            "min_height": null,
            "min_width": null,
            "object_fit": null,
            "object_position": null,
            "order": null,
            "overflow": null,
            "overflow_x": null,
            "overflow_y": null,
            "padding": null,
            "right": null,
            "top": null,
            "visibility": null,
            "width": null
          }
        },
        "eeb8e12c9a86481483b4ef56866767f4": {
          "model_module": "@jupyter-widgets/controls",
          "model_name": "DescriptionStyleModel",
          "model_module_version": "1.5.0",
          "state": {
            "_model_module": "@jupyter-widgets/controls",
            "_model_module_version": "1.5.0",
            "_model_name": "DescriptionStyleModel",
            "_view_count": null,
            "_view_module": "@jupyter-widgets/base",
            "_view_module_version": "1.2.0",
            "_view_name": "StyleView",
            "description_width": ""
          }
        },
        "838ceb7f56f447029c82d016933ca351": {
          "model_module": "@jupyter-widgets/controls",
          "model_name": "HBoxModel",
          "model_module_version": "1.5.0",
          "state": {
            "_dom_classes": [],
            "_model_module": "@jupyter-widgets/controls",
            "_model_module_version": "1.5.0",
            "_model_name": "HBoxModel",
            "_view_count": null,
            "_view_module": "@jupyter-widgets/controls",
            "_view_module_version": "1.5.0",
            "_view_name": "HBoxView",
            "box_style": "",
            "children": [
              "IPY_MODEL_78208af459f447d9b5663239035687b2",
              "IPY_MODEL_4e7343b75b6b4bffb351faa68527c955",
              "IPY_MODEL_9ff6fda38f7e4ee3b97818ab930bcbd5"
            ],
            "layout": "IPY_MODEL_3dd35bff6e3e46579215dfe3c8b97cb1"
          }
        },
        "78208af459f447d9b5663239035687b2": {
          "model_module": "@jupyter-widgets/controls",
          "model_name": "HTMLModel",
          "model_module_version": "1.5.0",
          "state": {
            "_dom_classes": [],
            "_model_module": "@jupyter-widgets/controls",
            "_model_module_version": "1.5.0",
            "_model_name": "HTMLModel",
            "_view_count": null,
            "_view_module": "@jupyter-widgets/controls",
            "_view_module_version": "1.5.0",
            "_view_name": "HTMLView",
            "description": "",
            "description_tooltip": null,
            "layout": "IPY_MODEL_6ec6f99ffdb040948bdf68a31ee394f4",
            "placeholder": "​",
            "style": "IPY_MODEL_72276ae22ab84cfe85c04b75ab04188e",
            "value": "Processing: 100%"
          }
        },
        "4e7343b75b6b4bffb351faa68527c955": {
          "model_module": "@jupyter-widgets/controls",
          "model_name": "FloatProgressModel",
          "model_module_version": "1.5.0",
          "state": {
            "_dom_classes": [],
            "_model_module": "@jupyter-widgets/controls",
            "_model_module_version": "1.5.0",
            "_model_name": "FloatProgressModel",
            "_view_count": null,
            "_view_module": "@jupyter-widgets/controls",
            "_view_module_version": "1.5.0",
            "_view_name": "ProgressView",
            "bar_style": "",
            "description": "",
            "description_tooltip": null,
            "layout": "IPY_MODEL_bcab6e37735740f18f826020823659f7",
            "max": 7,
            "min": 0,
            "orientation": "horizontal",
            "style": "IPY_MODEL_c3e318b5b7eb4283be987a595bafbb76",
            "value": 7
          }
        },
        "9ff6fda38f7e4ee3b97818ab930bcbd5": {
          "model_module": "@jupyter-widgets/controls",
          "model_name": "HTMLModel",
          "model_module_version": "1.5.0",
          "state": {
            "_dom_classes": [],
            "_model_module": "@jupyter-widgets/controls",
            "_model_module_version": "1.5.0",
            "_model_name": "HTMLModel",
            "_view_count": null,
            "_view_module": "@jupyter-widgets/controls",
            "_view_module_version": "1.5.0",
            "_view_name": "HTMLView",
            "description": "",
            "description_tooltip": null,
            "layout": "IPY_MODEL_3063d3e6272e462bbdaa0920e0aa454f",
            "placeholder": "​",
            "style": "IPY_MODEL_dce0c8da0a694d868ceab75268b158a2",
            "value": " 7/7 [00:10&lt;00:00,  1.11s/it]"
          }
        },
        "3dd35bff6e3e46579215dfe3c8b97cb1": {
          "model_module": "@jupyter-widgets/base",
          "model_name": "LayoutModel",
          "model_module_version": "1.2.0",
          "state": {
            "_model_module": "@jupyter-widgets/base",
            "_model_module_version": "1.2.0",
            "_model_name": "LayoutModel",
            "_view_count": null,
            "_view_module": "@jupyter-widgets/base",
            "_view_module_version": "1.2.0",
            "_view_name": "LayoutView",
            "align_content": null,
            "align_items": null,
            "align_self": null,
            "border": null,
            "bottom": null,
            "display": null,
            "flex": null,
            "flex_flow": null,
            "grid_area": null,
            "grid_auto_columns": null,
            "grid_auto_flow": null,
            "grid_auto_rows": null,
            "grid_column": null,
            "grid_gap": null,
            "grid_row": null,
            "grid_template_areas": null,
            "grid_template_columns": null,
            "grid_template_rows": null,
            "height": null,
            "justify_content": null,
            "justify_items": null,
            "left": null,
            "margin": null,
            "max_height": null,
            "max_width": null,
            "min_height": null,
            "min_width": null,
            "object_fit": null,
            "object_position": null,
            "order": null,
            "overflow": null,
            "overflow_x": null,
            "overflow_y": null,
            "padding": null,
            "right": null,
            "top": null,
            "visibility": "hidden",
            "width": null
          }
        },
        "6ec6f99ffdb040948bdf68a31ee394f4": {
          "model_module": "@jupyter-widgets/base",
          "model_name": "LayoutModel",
          "model_module_version": "1.2.0",
          "state": {
            "_model_module": "@jupyter-widgets/base",
            "_model_module_version": "1.2.0",
            "_model_name": "LayoutModel",
            "_view_count": null,
            "_view_module": "@jupyter-widgets/base",
            "_view_module_version": "1.2.0",
            "_view_name": "LayoutView",
            "align_content": null,
            "align_items": null,
            "align_self": null,
            "border": null,
            "bottom": null,
            "display": null,
            "flex": null,
            "flex_flow": null,
            "grid_area": null,
            "grid_auto_columns": null,
            "grid_auto_flow": null,
            "grid_auto_rows": null,
            "grid_column": null,
            "grid_gap": null,
            "grid_row": null,
            "grid_template_areas": null,
            "grid_template_columns": null,
            "grid_template_rows": null,
            "height": null,
            "justify_content": null,
            "justify_items": null,
            "left": null,
            "margin": null,
            "max_height": null,
            "max_width": null,
            "min_height": null,
            "min_width": null,
            "object_fit": null,
            "object_position": null,
            "order": null,
            "overflow": null,
            "overflow_x": null,
            "overflow_y": null,
            "padding": null,
            "right": null,
            "top": null,
            "visibility": null,
            "width": null
          }
        },
        "72276ae22ab84cfe85c04b75ab04188e": {
          "model_module": "@jupyter-widgets/controls",
          "model_name": "DescriptionStyleModel",
          "model_module_version": "1.5.0",
          "state": {
            "_model_module": "@jupyter-widgets/controls",
            "_model_module_version": "1.5.0",
            "_model_name": "DescriptionStyleModel",
            "_view_count": null,
            "_view_module": "@jupyter-widgets/base",
            "_view_module_version": "1.2.0",
            "_view_name": "StyleView",
            "description_width": ""
          }
        },
        "bcab6e37735740f18f826020823659f7": {
          "model_module": "@jupyter-widgets/base",
          "model_name": "LayoutModel",
          "model_module_version": "1.2.0",
          "state": {
            "_model_module": "@jupyter-widgets/base",
            "_model_module_version": "1.2.0",
            "_model_name": "LayoutModel",
            "_view_count": null,
            "_view_module": "@jupyter-widgets/base",
            "_view_module_version": "1.2.0",
            "_view_name": "LayoutView",
            "align_content": null,
            "align_items": null,
            "align_self": null,
            "border": null,
            "bottom": null,
            "display": null,
            "flex": null,
            "flex_flow": null,
            "grid_area": null,
            "grid_auto_columns": null,
            "grid_auto_flow": null,
            "grid_auto_rows": null,
            "grid_column": null,
            "grid_gap": null,
            "grid_row": null,
            "grid_template_areas": null,
            "grid_template_columns": null,
            "grid_template_rows": null,
            "height": null,
            "justify_content": null,
            "justify_items": null,
            "left": null,
            "margin": null,
            "max_height": null,
            "max_width": null,
            "min_height": null,
            "min_width": null,
            "object_fit": null,
            "object_position": null,
            "order": null,
            "overflow": null,
            "overflow_x": null,
            "overflow_y": null,
            "padding": null,
            "right": null,
            "top": null,
            "visibility": null,
            "width": null
          }
        },
        "c3e318b5b7eb4283be987a595bafbb76": {
          "model_module": "@jupyter-widgets/controls",
          "model_name": "ProgressStyleModel",
          "model_module_version": "1.5.0",
          "state": {
            "_model_module": "@jupyter-widgets/controls",
            "_model_module_version": "1.5.0",
            "_model_name": "ProgressStyleModel",
            "_view_count": null,
            "_view_module": "@jupyter-widgets/base",
            "_view_module_version": "1.2.0",
            "_view_name": "StyleView",
            "bar_color": null,
            "description_width": ""
          }
        },
        "3063d3e6272e462bbdaa0920e0aa454f": {
          "model_module": "@jupyter-widgets/base",
          "model_name": "LayoutModel",
          "model_module_version": "1.2.0",
          "state": {
            "_model_module": "@jupyter-widgets/base",
            "_model_module_version": "1.2.0",
            "_model_name": "LayoutModel",
            "_view_count": null,
            "_view_module": "@jupyter-widgets/base",
            "_view_module_version": "1.2.0",
            "_view_name": "LayoutView",
            "align_content": null,
            "align_items": null,
            "align_self": null,
            "border": null,
            "bottom": null,
            "display": null,
            "flex": null,
            "flex_flow": null,
            "grid_area": null,
            "grid_auto_columns": null,
            "grid_auto_flow": null,
            "grid_auto_rows": null,
            "grid_column": null,
            "grid_gap": null,
            "grid_row": null,
            "grid_template_areas": null,
            "grid_template_columns": null,
            "grid_template_rows": null,
            "height": null,
            "justify_content": null,
            "justify_items": null,
            "left": null,
            "margin": null,
            "max_height": null,
            "max_width": null,
            "min_height": null,
            "min_width": null,
            "object_fit": null,
            "object_position": null,
            "order": null,
            "overflow": null,
            "overflow_x": null,
            "overflow_y": null,
            "padding": null,
            "right": null,
            "top": null,
            "visibility": null,
            "width": null
          }
        },
        "dce0c8da0a694d868ceab75268b158a2": {
          "model_module": "@jupyter-widgets/controls",
          "model_name": "DescriptionStyleModel",
          "model_module_version": "1.5.0",
          "state": {
            "_model_module": "@jupyter-widgets/controls",
            "_model_module_version": "1.5.0",
            "_model_name": "DescriptionStyleModel",
            "_view_count": null,
            "_view_module": "@jupyter-widgets/base",
            "_view_module_version": "1.2.0",
            "_view_name": "StyleView",
            "description_width": ""
          }
        }
      }
    }
  },
  "cells": [
    {
      "cell_type": "markdown",
      "source": [
        "## ML Modelling"
      ],
      "metadata": {
        "id": "Nyiuv_5u1HAM"
      }
    },
    {
      "cell_type": "markdown",
      "source": [
        "### Install Dependencies"
      ],
      "metadata": {
        "id": "OVrwYEfvWCmK"
      }
    },
    {
      "cell_type": "code",
      "source": [
        "!pip install --upgrade pip"
      ],
      "metadata": {
        "id": "5TGqDLVeGkE7"
      },
      "execution_count": null,
      "outputs": []
    },
    {
      "cell_type": "code",
      "execution_count": null,
      "metadata": {
        "id": "GERoZjA8j_ov"
      },
      "outputs": [],
      "source": [
        "!pip install --pre pycaret"
      ]
    },
    {
      "cell_type": "code",
      "execution_count": null,
      "metadata": {
        "id": "jZZydX9Ij_ow"
      },
      "outputs": [],
      "source": [
        "# for some model interpretation functions\n",
        "!pip install interpret"
      ]
    },
    {
      "cell_type": "code",
      "source": [
        "pip install tune-sklearn ray[tune]"
      ],
      "metadata": {
        "id": "3rBNUAB2_r-t"
      },
      "execution_count": null,
      "outputs": []
    },
    {
      "cell_type": "code",
      "source": [
        "!pip install preprocessor"
      ],
      "metadata": {
        "id": "Ir3wceoydMSJ"
      },
      "execution_count": null,
      "outputs": []
    },
    {
      "cell_type": "code",
      "source": [
        "!pip install matplotlib==2.1.1"
      ],
      "metadata": {
        "id": "oGN7WYBWr7Tu"
      },
      "execution_count": null,
      "outputs": []
    },
    {
      "cell_type": "markdown",
      "source": [
        "### Load Dependencies and Data"
      ],
      "metadata": {
        "id": "9CHwIljeWIst"
      }
    },
    {
      "cell_type": "code",
      "execution_count": null,
      "metadata": {
        "colab": {
          "base_uri": "https://localhost:8080/"
        },
        "id": "O5ugXZsWj_ox",
        "outputId": "65b7fe56-cea7-4952-f081-385a9cd20a0f"
      },
      "outputs": [
        {
          "output_type": "execute_result",
          "data": {
            "text/plain": [
              "'3.0.0.rc4'"
            ],
            "application/vnd.google.colaboratory.intrinsic+json": {
              "type": "string"
            }
          },
          "metadata": {},
          "execution_count": 8
        }
      ],
      "source": [
        "from pycaret.utils import version\n",
        "version()"
      ]
    },
    {
      "cell_type": "code",
      "execution_count": null,
      "metadata": {
        "id": "xwtLXzXnj_oy",
        "colab": {
          "base_uri": "https://localhost:8080/"
        },
        "outputId": "807c9485-3dd5-46bc-d857-0aa41cac7826"
      },
      "outputs": [
        {
          "output_type": "stream",
          "name": "stdout",
          "text": [
            "Mounted at /content/drive\n"
          ]
        }
      ],
      "source": [
        "#Load dependencies\n",
        "\n",
        "import numpy as np\n",
        "import pandas as pd\n",
        "import pycaret\n",
        "from pycaret.regression import *\n",
        "\n",
        "#Connecting to google Colab\n",
        "from google.colab import drive\n",
        "drive.mount('/content/drive')\n",
        "\n",
        "#Import sklearn dependencies\n",
        "import shap\n",
        "from xgboost import XGBClassifier\n",
        "import preprocessor\n",
        "from sklearn.neighbors import KNeighborsRegressor\n",
        "from sklearn.linear_model import LinearRegression\n",
        "from sklearn.model_selection import train_test_split\n",
        "\n",
        "from sklearn import metrics\n",
        "from sklearn.preprocessing import normalize\n",
        "\n",
        "from sklearn.model_selection import train_test_split\n",
        "from sklearn.compose import ColumnTransformer\n",
        "from sklearn.pipeline import Pipeline\n",
        "from sklearn.impute import SimpleImputer, KNNImputer\n",
        "from sklearn.preprocessing import StandardScaler, OneHotEncoder\n",
        "\n",
        "#Data Visualization\n",
        "import matplotlib.pyplot as plt\n",
        "import seaborn as sns\n",
        "%matplotlib inline\n",
        "\n",
        "import plotly.graph_objects as go\n",
        "import plotly.express as px\n",
        "\n",
        "plt.rcParams[\"figure.figsize\"] = (10, 10)  # Change matplotlib Box Size\n",
        "plt.rcParams[\"font.size\"] = 14  # Change matplotlib Font Size\n",
        "plt.style.use(\"fivethirtyeight\")\n",
        "\n",
        "# supress unnecessary warning msgs.\n",
        "import warnings\n",
        "warnings.filterwarnings('ignore')"
      ]
    },
    {
      "cell_type": "code",
      "source": [
        "##Load CLEAN data sampled every 5 min synced with lamp and the average sensor data with nearest time sampling \n",
        "# orig_url='https://drive.google.com/file/d/1tW4tLhWYQiLXrpPOLjvYJGmooKWannAH/view?usp=sharing'\n",
        "# file_id = orig_url.split('/')[-2]\n",
        "# dwn_url='https://drive.google.com/uc?export=download&id=' + file_id\n",
        "\n",
        "df_single_lamp_avg_sensor_clean=pd.read_csv(\"/content/drive/MyDrive/Colab Notebooks/data_single_lamps_avg_sensors_clean.csv\", parse_dates=['time'])\n",
        "df_single_lamp_avg_sensor_clean.head()"
      ],
      "metadata": {
        "colab": {
          "base_uri": "https://localhost:8080/",
          "height": 357
        },
        "outputId": "711b4392-1740-4c63-8925-1952d0342078",
        "id": "YiKgzB-dQ6OV"
      },
      "execution_count": 48,
      "outputs": [
        {
          "output_type": "execute_result",
          "data": {
            "text/plain": [
              "   source_address                time  light_state  local_detections  \\\n",
              "0      2062404276 2022-08-15 00:00:00          2.0           18565.0   \n",
              "1      2062404276 2022-08-15 00:05:00          2.0           18565.0   \n",
              "2      2062404276 2022-08-15 00:10:00          2.0           18565.0   \n",
              "3      2062404276 2022-08-15 00:15:00          2.0           18565.0   \n",
              "4      2062404276 2022-08-15 00:20:00          2.0           18565.0   \n",
              "\n",
              "   sht40_humidity  sht40_temperature  shtc3_humidity  shtc3_temperature  \\\n",
              "0           26.09              34.87       49.495556          21.908889   \n",
              "1           26.09              34.85       49.500000          21.902222   \n",
              "2           26.02              34.82       49.501111          21.901111   \n",
              "3           26.09              34.83       49.528889          21.896667   \n",
              "4           26.02              34.86       49.642500          21.867500   \n",
              "\n",
              "   total_normalized_energy  wsen_pads_temperature  delta_energy  power  \n",
              "0                 189624.0                  35.84           0.0    1.5  \n",
              "1                 189624.0                  35.81           0.0    1.5  \n",
              "2                 189624.0                  35.80           0.0    1.5  \n",
              "3                 189624.0                  35.78           0.0    1.5  \n",
              "4                 189624.0                  35.78           0.0    1.5  "
            ],
            "text/html": [
              "\n",
              "  <div id=\"df-fcf0d651-c2e4-429e-9dcb-1f708b173d5d\">\n",
              "    <div class=\"colab-df-container\">\n",
              "      <div>\n",
              "<style scoped>\n",
              "    .dataframe tbody tr th:only-of-type {\n",
              "        vertical-align: middle;\n",
              "    }\n",
              "\n",
              "    .dataframe tbody tr th {\n",
              "        vertical-align: top;\n",
              "    }\n",
              "\n",
              "    .dataframe thead th {\n",
              "        text-align: right;\n",
              "    }\n",
              "</style>\n",
              "<table border=\"1\" class=\"dataframe\">\n",
              "  <thead>\n",
              "    <tr style=\"text-align: right;\">\n",
              "      <th></th>\n",
              "      <th>source_address</th>\n",
              "      <th>time</th>\n",
              "      <th>light_state</th>\n",
              "      <th>local_detections</th>\n",
              "      <th>sht40_humidity</th>\n",
              "      <th>sht40_temperature</th>\n",
              "      <th>shtc3_humidity</th>\n",
              "      <th>shtc3_temperature</th>\n",
              "      <th>total_normalized_energy</th>\n",
              "      <th>wsen_pads_temperature</th>\n",
              "      <th>delta_energy</th>\n",
              "      <th>power</th>\n",
              "    </tr>\n",
              "  </thead>\n",
              "  <tbody>\n",
              "    <tr>\n",
              "      <th>0</th>\n",
              "      <td>2062404276</td>\n",
              "      <td>2022-08-15 00:00:00</td>\n",
              "      <td>2.0</td>\n",
              "      <td>18565.0</td>\n",
              "      <td>26.09</td>\n",
              "      <td>34.87</td>\n",
              "      <td>49.495556</td>\n",
              "      <td>21.908889</td>\n",
              "      <td>189624.0</td>\n",
              "      <td>35.84</td>\n",
              "      <td>0.0</td>\n",
              "      <td>1.5</td>\n",
              "    </tr>\n",
              "    <tr>\n",
              "      <th>1</th>\n",
              "      <td>2062404276</td>\n",
              "      <td>2022-08-15 00:05:00</td>\n",
              "      <td>2.0</td>\n",
              "      <td>18565.0</td>\n",
              "      <td>26.09</td>\n",
              "      <td>34.85</td>\n",
              "      <td>49.500000</td>\n",
              "      <td>21.902222</td>\n",
              "      <td>189624.0</td>\n",
              "      <td>35.81</td>\n",
              "      <td>0.0</td>\n",
              "      <td>1.5</td>\n",
              "    </tr>\n",
              "    <tr>\n",
              "      <th>2</th>\n",
              "      <td>2062404276</td>\n",
              "      <td>2022-08-15 00:10:00</td>\n",
              "      <td>2.0</td>\n",
              "      <td>18565.0</td>\n",
              "      <td>26.02</td>\n",
              "      <td>34.82</td>\n",
              "      <td>49.501111</td>\n",
              "      <td>21.901111</td>\n",
              "      <td>189624.0</td>\n",
              "      <td>35.80</td>\n",
              "      <td>0.0</td>\n",
              "      <td>1.5</td>\n",
              "    </tr>\n",
              "    <tr>\n",
              "      <th>3</th>\n",
              "      <td>2062404276</td>\n",
              "      <td>2022-08-15 00:15:00</td>\n",
              "      <td>2.0</td>\n",
              "      <td>18565.0</td>\n",
              "      <td>26.09</td>\n",
              "      <td>34.83</td>\n",
              "      <td>49.528889</td>\n",
              "      <td>21.896667</td>\n",
              "      <td>189624.0</td>\n",
              "      <td>35.78</td>\n",
              "      <td>0.0</td>\n",
              "      <td>1.5</td>\n",
              "    </tr>\n",
              "    <tr>\n",
              "      <th>4</th>\n",
              "      <td>2062404276</td>\n",
              "      <td>2022-08-15 00:20:00</td>\n",
              "      <td>2.0</td>\n",
              "      <td>18565.0</td>\n",
              "      <td>26.02</td>\n",
              "      <td>34.86</td>\n",
              "      <td>49.642500</td>\n",
              "      <td>21.867500</td>\n",
              "      <td>189624.0</td>\n",
              "      <td>35.78</td>\n",
              "      <td>0.0</td>\n",
              "      <td>1.5</td>\n",
              "    </tr>\n",
              "  </tbody>\n",
              "</table>\n",
              "</div>\n",
              "      <button class=\"colab-df-convert\" onclick=\"convertToInteractive('df-fcf0d651-c2e4-429e-9dcb-1f708b173d5d')\"\n",
              "              title=\"Convert this dataframe to an interactive table.\"\n",
              "              style=\"display:none;\">\n",
              "        \n",
              "  <svg xmlns=\"http://www.w3.org/2000/svg\" height=\"24px\"viewBox=\"0 0 24 24\"\n",
              "       width=\"24px\">\n",
              "    <path d=\"M0 0h24v24H0V0z\" fill=\"none\"/>\n",
              "    <path d=\"M18.56 5.44l.94 2.06.94-2.06 2.06-.94-2.06-.94-.94-2.06-.94 2.06-2.06.94zm-11 1L8.5 8.5l.94-2.06 2.06-.94-2.06-.94L8.5 2.5l-.94 2.06-2.06.94zm10 10l.94 2.06.94-2.06 2.06-.94-2.06-.94-.94-2.06-.94 2.06-2.06.94z\"/><path d=\"M17.41 7.96l-1.37-1.37c-.4-.4-.92-.59-1.43-.59-.52 0-1.04.2-1.43.59L10.3 9.45l-7.72 7.72c-.78.78-.78 2.05 0 2.83L4 21.41c.39.39.9.59 1.41.59.51 0 1.02-.2 1.41-.59l7.78-7.78 2.81-2.81c.8-.78.8-2.07 0-2.86zM5.41 20L4 18.59l7.72-7.72 1.47 1.35L5.41 20z\"/>\n",
              "  </svg>\n",
              "      </button>\n",
              "      \n",
              "  <style>\n",
              "    .colab-df-container {\n",
              "      display:flex;\n",
              "      flex-wrap:wrap;\n",
              "      gap: 12px;\n",
              "    }\n",
              "\n",
              "    .colab-df-convert {\n",
              "      background-color: #E8F0FE;\n",
              "      border: none;\n",
              "      border-radius: 50%;\n",
              "      cursor: pointer;\n",
              "      display: none;\n",
              "      fill: #1967D2;\n",
              "      height: 32px;\n",
              "      padding: 0 0 0 0;\n",
              "      width: 32px;\n",
              "    }\n",
              "\n",
              "    .colab-df-convert:hover {\n",
              "      background-color: #E2EBFA;\n",
              "      box-shadow: 0px 1px 2px rgba(60, 64, 67, 0.3), 0px 1px 3px 1px rgba(60, 64, 67, 0.15);\n",
              "      fill: #174EA6;\n",
              "    }\n",
              "\n",
              "    [theme=dark] .colab-df-convert {\n",
              "      background-color: #3B4455;\n",
              "      fill: #D2E3FC;\n",
              "    }\n",
              "\n",
              "    [theme=dark] .colab-df-convert:hover {\n",
              "      background-color: #434B5C;\n",
              "      box-shadow: 0px 1px 3px 1px rgba(0, 0, 0, 0.15);\n",
              "      filter: drop-shadow(0px 1px 2px rgba(0, 0, 0, 0.3));\n",
              "      fill: #FFFFFF;\n",
              "    }\n",
              "  </style>\n",
              "\n",
              "      <script>\n",
              "        const buttonEl =\n",
              "          document.querySelector('#df-fcf0d651-c2e4-429e-9dcb-1f708b173d5d button.colab-df-convert');\n",
              "        buttonEl.style.display =\n",
              "          google.colab.kernel.accessAllowed ? 'block' : 'none';\n",
              "\n",
              "        async function convertToInteractive(key) {\n",
              "          const element = document.querySelector('#df-fcf0d651-c2e4-429e-9dcb-1f708b173d5d');\n",
              "          const dataTable =\n",
              "            await google.colab.kernel.invokeFunction('convertToInteractive',\n",
              "                                                     [key], {});\n",
              "          if (!dataTable) return;\n",
              "\n",
              "          const docLinkHtml = 'Like what you see? Visit the ' +\n",
              "            '<a target=\"_blank\" href=https://colab.research.google.com/notebooks/data_table.ipynb>data table notebook</a>'\n",
              "            + ' to learn more about interactive tables.';\n",
              "          element.innerHTML = '';\n",
              "          dataTable['output_type'] = 'display_data';\n",
              "          await google.colab.output.renderOutput(dataTable, element);\n",
              "          const docLink = document.createElement('div');\n",
              "          docLink.innerHTML = docLinkHtml;\n",
              "          element.appendChild(docLink);\n",
              "        }\n",
              "      </script>\n",
              "    </div>\n",
              "  </div>\n",
              "  "
            ]
          },
          "metadata": {},
          "execution_count": 48
        }
      ]
    },
    {
      "cell_type": "code",
      "source": [
        "#Creating a dataset with 9 lamps to train the model, leaving out 2 lamps to test the model as unseen data.\n",
        "df_single_lamp_avg_sensor_9_lamp_train_clean=df_single_lamp_avg_sensor_clean[~(df_single_lamp_avg_sensor_clean['source_address'].isin([2062404276, 367818600]))]"
      ],
      "metadata": {
        "id": "cNhIFMsXQ6OZ"
      },
      "execution_count": 49,
      "outputs": []
    },
    {
      "cell_type": "code",
      "source": [
        "#Creating a dataset with 2 lamps that were not part of the training of the model, which helps to test the robustness of the model.\n",
        "df_single_lamp_avg_sensor_2_lamp_test_clean=df_single_lamp_avg_sensor_clean[(df_single_lamp_avg_sensor_clean['source_address'].isin([2062404276, 367818600]))]"
      ],
      "metadata": {
        "id": "URh6cCqFQ6Ob"
      },
      "execution_count": 50,
      "outputs": []
    },
    {
      "cell_type": "code",
      "source": [
        "#Reducing the size of the training dataset by taking 2/5 of the data by grouping according to the source ID. Otherwise, model training takes a lot of time that is not necessary. \n",
        "\n",
        "df_single_lamp_avg_sensor_9_lamp_train_clean=df_single_lamp_avg_sensor_9_lamp_train_clean.groupby('source_address', group_keys=False).sample(frac = 2/5)"
      ],
      "metadata": {
        "id": "ItEJ9_CJr1AE"
      },
      "execution_count": 51,
      "outputs": []
    },
    {
      "cell_type": "code",
      "source": [
        "#Final Training dataset for repeating the experiment: removing all other features that are not necessary or redundant for training the model, based on the results of the correlation matrix.\n",
        "\n",
        "df_single_lamp_avg_sensor_9_lamp_train_temp_humidity_clean=df_single_lamp_avg_sensor_9_lamp_train_clean.drop(columns=['time', 'light_state', 'local_detections', 'source_address', 'delta_energy', 'total_normalized_energy', 'wsen_pads_temperature'])\n",
        "df_single_lamp_avg_sensor_9_lamp_train_temp_humidity_clean.head()"
      ],
      "metadata": {
        "colab": {
          "base_uri": "https://localhost:8080/",
          "height": 206
        },
        "outputId": "f67786b0-63d0-4faf-b578-588615798650",
        "id": "zehjYOFbQ6Oa"
      },
      "execution_count": 87,
      "outputs": [
        {
          "output_type": "execute_result",
          "data": {
            "text/plain": [
              "       sht40_humidity  sht40_temperature  shtc3_humidity  shtc3_temperature  \\\n",
              "59265           31.14              34.76       61.301111          22.411111   \n",
              "67881           22.23              35.22       42.381250          22.490000   \n",
              "68607           21.14              35.28       41.998889          22.492222   \n",
              "58794           31.96              34.12       63.048571          21.788571   \n",
              "62698           22.83              34.87       45.036250          22.605000   \n",
              "\n",
              "       power  \n",
              "59265  1.500  \n",
              "67881  1.500  \n",
              "68607  6.445  \n",
              "58794  1.500  \n",
              "62698  1.500  "
            ],
            "text/html": [
              "\n",
              "  <div id=\"df-09e06a53-d2f0-4cc9-8bb3-06d40d2d9814\">\n",
              "    <div class=\"colab-df-container\">\n",
              "      <div>\n",
              "<style scoped>\n",
              "    .dataframe tbody tr th:only-of-type {\n",
              "        vertical-align: middle;\n",
              "    }\n",
              "\n",
              "    .dataframe tbody tr th {\n",
              "        vertical-align: top;\n",
              "    }\n",
              "\n",
              "    .dataframe thead th {\n",
              "        text-align: right;\n",
              "    }\n",
              "</style>\n",
              "<table border=\"1\" class=\"dataframe\">\n",
              "  <thead>\n",
              "    <tr style=\"text-align: right;\">\n",
              "      <th></th>\n",
              "      <th>sht40_humidity</th>\n",
              "      <th>sht40_temperature</th>\n",
              "      <th>shtc3_humidity</th>\n",
              "      <th>shtc3_temperature</th>\n",
              "      <th>power</th>\n",
              "    </tr>\n",
              "  </thead>\n",
              "  <tbody>\n",
              "    <tr>\n",
              "      <th>59265</th>\n",
              "      <td>31.14</td>\n",
              "      <td>34.76</td>\n",
              "      <td>61.301111</td>\n",
              "      <td>22.411111</td>\n",
              "      <td>1.500</td>\n",
              "    </tr>\n",
              "    <tr>\n",
              "      <th>67881</th>\n",
              "      <td>22.23</td>\n",
              "      <td>35.22</td>\n",
              "      <td>42.381250</td>\n",
              "      <td>22.490000</td>\n",
              "      <td>1.500</td>\n",
              "    </tr>\n",
              "    <tr>\n",
              "      <th>68607</th>\n",
              "      <td>21.14</td>\n",
              "      <td>35.28</td>\n",
              "      <td>41.998889</td>\n",
              "      <td>22.492222</td>\n",
              "      <td>6.445</td>\n",
              "    </tr>\n",
              "    <tr>\n",
              "      <th>58794</th>\n",
              "      <td>31.96</td>\n",
              "      <td>34.12</td>\n",
              "      <td>63.048571</td>\n",
              "      <td>21.788571</td>\n",
              "      <td>1.500</td>\n",
              "    </tr>\n",
              "    <tr>\n",
              "      <th>62698</th>\n",
              "      <td>22.83</td>\n",
              "      <td>34.87</td>\n",
              "      <td>45.036250</td>\n",
              "      <td>22.605000</td>\n",
              "      <td>1.500</td>\n",
              "    </tr>\n",
              "  </tbody>\n",
              "</table>\n",
              "</div>\n",
              "      <button class=\"colab-df-convert\" onclick=\"convertToInteractive('df-09e06a53-d2f0-4cc9-8bb3-06d40d2d9814')\"\n",
              "              title=\"Convert this dataframe to an interactive table.\"\n",
              "              style=\"display:none;\">\n",
              "        \n",
              "  <svg xmlns=\"http://www.w3.org/2000/svg\" height=\"24px\"viewBox=\"0 0 24 24\"\n",
              "       width=\"24px\">\n",
              "    <path d=\"M0 0h24v24H0V0z\" fill=\"none\"/>\n",
              "    <path d=\"M18.56 5.44l.94 2.06.94-2.06 2.06-.94-2.06-.94-.94-2.06-.94 2.06-2.06.94zm-11 1L8.5 8.5l.94-2.06 2.06-.94-2.06-.94L8.5 2.5l-.94 2.06-2.06.94zm10 10l.94 2.06.94-2.06 2.06-.94-2.06-.94-.94-2.06-.94 2.06-2.06.94z\"/><path d=\"M17.41 7.96l-1.37-1.37c-.4-.4-.92-.59-1.43-.59-.52 0-1.04.2-1.43.59L10.3 9.45l-7.72 7.72c-.78.78-.78 2.05 0 2.83L4 21.41c.39.39.9.59 1.41.59.51 0 1.02-.2 1.41-.59l7.78-7.78 2.81-2.81c.8-.78.8-2.07 0-2.86zM5.41 20L4 18.59l7.72-7.72 1.47 1.35L5.41 20z\"/>\n",
              "  </svg>\n",
              "      </button>\n",
              "      \n",
              "  <style>\n",
              "    .colab-df-container {\n",
              "      display:flex;\n",
              "      flex-wrap:wrap;\n",
              "      gap: 12px;\n",
              "    }\n",
              "\n",
              "    .colab-df-convert {\n",
              "      background-color: #E8F0FE;\n",
              "      border: none;\n",
              "      border-radius: 50%;\n",
              "      cursor: pointer;\n",
              "      display: none;\n",
              "      fill: #1967D2;\n",
              "      height: 32px;\n",
              "      padding: 0 0 0 0;\n",
              "      width: 32px;\n",
              "    }\n",
              "\n",
              "    .colab-df-convert:hover {\n",
              "      background-color: #E2EBFA;\n",
              "      box-shadow: 0px 1px 2px rgba(60, 64, 67, 0.3), 0px 1px 3px 1px rgba(60, 64, 67, 0.15);\n",
              "      fill: #174EA6;\n",
              "    }\n",
              "\n",
              "    [theme=dark] .colab-df-convert {\n",
              "      background-color: #3B4455;\n",
              "      fill: #D2E3FC;\n",
              "    }\n",
              "\n",
              "    [theme=dark] .colab-df-convert:hover {\n",
              "      background-color: #434B5C;\n",
              "      box-shadow: 0px 1px 3px 1px rgba(0, 0, 0, 0.15);\n",
              "      filter: drop-shadow(0px 1px 2px rgba(0, 0, 0, 0.3));\n",
              "      fill: #FFFFFF;\n",
              "    }\n",
              "  </style>\n",
              "\n",
              "      <script>\n",
              "        const buttonEl =\n",
              "          document.querySelector('#df-09e06a53-d2f0-4cc9-8bb3-06d40d2d9814 button.colab-df-convert');\n",
              "        buttonEl.style.display =\n",
              "          google.colab.kernel.accessAllowed ? 'block' : 'none';\n",
              "\n",
              "        async function convertToInteractive(key) {\n",
              "          const element = document.querySelector('#df-09e06a53-d2f0-4cc9-8bb3-06d40d2d9814');\n",
              "          const dataTable =\n",
              "            await google.colab.kernel.invokeFunction('convertToInteractive',\n",
              "                                                     [key], {});\n",
              "          if (!dataTable) return;\n",
              "\n",
              "          const docLinkHtml = 'Like what you see? Visit the ' +\n",
              "            '<a target=\"_blank\" href=https://colab.research.google.com/notebooks/data_table.ipynb>data table notebook</a>'\n",
              "            + ' to learn more about interactive tables.';\n",
              "          element.innerHTML = '';\n",
              "          dataTable['output_type'] = 'display_data';\n",
              "          await google.colab.output.renderOutput(dataTable, element);\n",
              "          const docLink = document.createElement('div');\n",
              "          docLink.innerHTML = docLinkHtml;\n",
              "          element.appendChild(docLink);\n",
              "        }\n",
              "      </script>\n",
              "    </div>\n",
              "  </div>\n",
              "  "
            ]
          },
          "metadata": {},
          "execution_count": 87
        }
      ]
    },
    {
      "cell_type": "code",
      "source": [
        "#Final test dataset for repeating the experiment: removing features that are not necessary or redundant for training the model, based on the results of the correlation matrix.\n",
        "\n",
        "df_single_lamp_avg_sensor_2_lamp_test_temp_humidity_clean=df_single_lamp_avg_sensor_2_lamp_test_clean.drop(columns=['time', 'delta_energy', 'light_state', 'local_detections', 'source_address', 'total_normalized_energy', 'wsen_pads_temperature'])\n",
        "df_single_lamp_avg_sensor_2_lamp_test_temp_humidity_clean.head()"
      ],
      "metadata": {
        "colab": {
          "base_uri": "https://localhost:8080/",
          "height": 206
        },
        "outputId": "eaf96b9d-473d-4102-8c8c-282ca7810fdf",
        "id": "t_Z60knZQ6Oc"
      },
      "execution_count": 53,
      "outputs": [
        {
          "output_type": "execute_result",
          "data": {
            "text/plain": [
              "   sht40_humidity  sht40_temperature  shtc3_humidity  shtc3_temperature  power\n",
              "0           26.09              34.87       49.495556          21.908889    1.5\n",
              "1           26.09              34.85       49.500000          21.902222    1.5\n",
              "2           26.02              34.82       49.501111          21.901111    1.5\n",
              "3           26.09              34.83       49.528889          21.896667    1.5\n",
              "4           26.02              34.86       49.642500          21.867500    1.5"
            ],
            "text/html": [
              "\n",
              "  <div id=\"df-e19e2f9c-ef96-44e9-b8a1-69e6efc0add9\">\n",
              "    <div class=\"colab-df-container\">\n",
              "      <div>\n",
              "<style scoped>\n",
              "    .dataframe tbody tr th:only-of-type {\n",
              "        vertical-align: middle;\n",
              "    }\n",
              "\n",
              "    .dataframe tbody tr th {\n",
              "        vertical-align: top;\n",
              "    }\n",
              "\n",
              "    .dataframe thead th {\n",
              "        text-align: right;\n",
              "    }\n",
              "</style>\n",
              "<table border=\"1\" class=\"dataframe\">\n",
              "  <thead>\n",
              "    <tr style=\"text-align: right;\">\n",
              "      <th></th>\n",
              "      <th>sht40_humidity</th>\n",
              "      <th>sht40_temperature</th>\n",
              "      <th>shtc3_humidity</th>\n",
              "      <th>shtc3_temperature</th>\n",
              "      <th>power</th>\n",
              "    </tr>\n",
              "  </thead>\n",
              "  <tbody>\n",
              "    <tr>\n",
              "      <th>0</th>\n",
              "      <td>26.09</td>\n",
              "      <td>34.87</td>\n",
              "      <td>49.495556</td>\n",
              "      <td>21.908889</td>\n",
              "      <td>1.5</td>\n",
              "    </tr>\n",
              "    <tr>\n",
              "      <th>1</th>\n",
              "      <td>26.09</td>\n",
              "      <td>34.85</td>\n",
              "      <td>49.500000</td>\n",
              "      <td>21.902222</td>\n",
              "      <td>1.5</td>\n",
              "    </tr>\n",
              "    <tr>\n",
              "      <th>2</th>\n",
              "      <td>26.02</td>\n",
              "      <td>34.82</td>\n",
              "      <td>49.501111</td>\n",
              "      <td>21.901111</td>\n",
              "      <td>1.5</td>\n",
              "    </tr>\n",
              "    <tr>\n",
              "      <th>3</th>\n",
              "      <td>26.09</td>\n",
              "      <td>34.83</td>\n",
              "      <td>49.528889</td>\n",
              "      <td>21.896667</td>\n",
              "      <td>1.5</td>\n",
              "    </tr>\n",
              "    <tr>\n",
              "      <th>4</th>\n",
              "      <td>26.02</td>\n",
              "      <td>34.86</td>\n",
              "      <td>49.642500</td>\n",
              "      <td>21.867500</td>\n",
              "      <td>1.5</td>\n",
              "    </tr>\n",
              "  </tbody>\n",
              "</table>\n",
              "</div>\n",
              "      <button class=\"colab-df-convert\" onclick=\"convertToInteractive('df-e19e2f9c-ef96-44e9-b8a1-69e6efc0add9')\"\n",
              "              title=\"Convert this dataframe to an interactive table.\"\n",
              "              style=\"display:none;\">\n",
              "        \n",
              "  <svg xmlns=\"http://www.w3.org/2000/svg\" height=\"24px\"viewBox=\"0 0 24 24\"\n",
              "       width=\"24px\">\n",
              "    <path d=\"M0 0h24v24H0V0z\" fill=\"none\"/>\n",
              "    <path d=\"M18.56 5.44l.94 2.06.94-2.06 2.06-.94-2.06-.94-.94-2.06-.94 2.06-2.06.94zm-11 1L8.5 8.5l.94-2.06 2.06-.94-2.06-.94L8.5 2.5l-.94 2.06-2.06.94zm10 10l.94 2.06.94-2.06 2.06-.94-2.06-.94-.94-2.06-.94 2.06-2.06.94z\"/><path d=\"M17.41 7.96l-1.37-1.37c-.4-.4-.92-.59-1.43-.59-.52 0-1.04.2-1.43.59L10.3 9.45l-7.72 7.72c-.78.78-.78 2.05 0 2.83L4 21.41c.39.39.9.59 1.41.59.51 0 1.02-.2 1.41-.59l7.78-7.78 2.81-2.81c.8-.78.8-2.07 0-2.86zM5.41 20L4 18.59l7.72-7.72 1.47 1.35L5.41 20z\"/>\n",
              "  </svg>\n",
              "      </button>\n",
              "      \n",
              "  <style>\n",
              "    .colab-df-container {\n",
              "      display:flex;\n",
              "      flex-wrap:wrap;\n",
              "      gap: 12px;\n",
              "    }\n",
              "\n",
              "    .colab-df-convert {\n",
              "      background-color: #E8F0FE;\n",
              "      border: none;\n",
              "      border-radius: 50%;\n",
              "      cursor: pointer;\n",
              "      display: none;\n",
              "      fill: #1967D2;\n",
              "      height: 32px;\n",
              "      padding: 0 0 0 0;\n",
              "      width: 32px;\n",
              "    }\n",
              "\n",
              "    .colab-df-convert:hover {\n",
              "      background-color: #E2EBFA;\n",
              "      box-shadow: 0px 1px 2px rgba(60, 64, 67, 0.3), 0px 1px 3px 1px rgba(60, 64, 67, 0.15);\n",
              "      fill: #174EA6;\n",
              "    }\n",
              "\n",
              "    [theme=dark] .colab-df-convert {\n",
              "      background-color: #3B4455;\n",
              "      fill: #D2E3FC;\n",
              "    }\n",
              "\n",
              "    [theme=dark] .colab-df-convert:hover {\n",
              "      background-color: #434B5C;\n",
              "      box-shadow: 0px 1px 3px 1px rgba(0, 0, 0, 0.15);\n",
              "      filter: drop-shadow(0px 1px 2px rgba(0, 0, 0, 0.3));\n",
              "      fill: #FFFFFF;\n",
              "    }\n",
              "  </style>\n",
              "\n",
              "      <script>\n",
              "        const buttonEl =\n",
              "          document.querySelector('#df-e19e2f9c-ef96-44e9-b8a1-69e6efc0add9 button.colab-df-convert');\n",
              "        buttonEl.style.display =\n",
              "          google.colab.kernel.accessAllowed ? 'block' : 'none';\n",
              "\n",
              "        async function convertToInteractive(key) {\n",
              "          const element = document.querySelector('#df-e19e2f9c-ef96-44e9-b8a1-69e6efc0add9');\n",
              "          const dataTable =\n",
              "            await google.colab.kernel.invokeFunction('convertToInteractive',\n",
              "                                                     [key], {});\n",
              "          if (!dataTable) return;\n",
              "\n",
              "          const docLinkHtml = 'Like what you see? Visit the ' +\n",
              "            '<a target=\"_blank\" href=https://colab.research.google.com/notebooks/data_table.ipynb>data table notebook</a>'\n",
              "            + ' to learn more about interactive tables.';\n",
              "          element.innerHTML = '';\n",
              "          dataTable['output_type'] = 'display_data';\n",
              "          await google.colab.output.renderOutput(dataTable, element);\n",
              "          const docLink = document.createElement('div');\n",
              "          docLink.innerHTML = docLinkHtml;\n",
              "          element.appendChild(docLink);\n",
              "        }\n",
              "      </script>\n",
              "    </div>\n",
              "  </div>\n",
              "  "
            ]
          },
          "metadata": {},
          "execution_count": 53
        }
      ]
    },
    {
      "cell_type": "code",
      "source": [
        "df_single_lamp_avg_sensor_9_lamp_train_clean.columns\n"
      ],
      "metadata": {
        "colab": {
          "base_uri": "https://localhost:8080/"
        },
        "id": "WY5KURDC8TJh",
        "outputId": "10a84248-dabe-4ea8-cd19-bff770d62262"
      },
      "execution_count": 54,
      "outputs": [
        {
          "output_type": "execute_result",
          "data": {
            "text/plain": [
              "Index(['source_address', 'time', 'light_state', 'local_detections',\n",
              "       'sht40_humidity', 'sht40_temperature', 'shtc3_humidity',\n",
              "       'shtc3_temperature', 'total_normalized_energy', 'wsen_pads_temperature',\n",
              "       'delta_energy', 'power'],\n",
              "      dtype='object')"
            ]
          },
          "metadata": {},
          "execution_count": 54
        }
      ]
    },
    {
      "cell_type": "code",
      "source": [
        "#Training dataset for predicting HUMIDITY: removing all other features that are not necessary or redundant for training the model, based on the results of the correlation matrix.\n",
        "\n",
        "df_single_lamp_avg_sensor_9_lamp_train_humidity_clean=df_single_lamp_avg_sensor_9_lamp_train_clean.drop(columns=['time', 'light_state', 'local_detections', 'source_address', 'delta_energy', 'total_normalized_energy', 'shtc3_temperature','wsen_pads_temperature'])\n",
        "df_single_lamp_avg_sensor_9_lamp_train_humidity_clean.head()"
      ],
      "metadata": {
        "colab": {
          "base_uri": "https://localhost:8080/",
          "height": 206
        },
        "outputId": "2fdea422-af4c-4f56-f239-2dd470f9a2e1",
        "id": "yAZrUPCE85fY"
      },
      "execution_count": 55,
      "outputs": [
        {
          "output_type": "execute_result",
          "data": {
            "text/plain": [
              "       sht40_humidity  sht40_temperature  shtc3_humidity  power\n",
              "59265           31.14              34.76       61.301111  1.500\n",
              "67881           22.23              35.22       42.381250  1.500\n",
              "68607           21.14              35.28       41.998889  6.445\n",
              "58794           31.96              34.12       63.048571  1.500\n",
              "62698           22.83              34.87       45.036250  1.500"
            ],
            "text/html": [
              "\n",
              "  <div id=\"df-99640a7f-14f5-4a63-98a5-bdb64f0a027e\">\n",
              "    <div class=\"colab-df-container\">\n",
              "      <div>\n",
              "<style scoped>\n",
              "    .dataframe tbody tr th:only-of-type {\n",
              "        vertical-align: middle;\n",
              "    }\n",
              "\n",
              "    .dataframe tbody tr th {\n",
              "        vertical-align: top;\n",
              "    }\n",
              "\n",
              "    .dataframe thead th {\n",
              "        text-align: right;\n",
              "    }\n",
              "</style>\n",
              "<table border=\"1\" class=\"dataframe\">\n",
              "  <thead>\n",
              "    <tr style=\"text-align: right;\">\n",
              "      <th></th>\n",
              "      <th>sht40_humidity</th>\n",
              "      <th>sht40_temperature</th>\n",
              "      <th>shtc3_humidity</th>\n",
              "      <th>power</th>\n",
              "    </tr>\n",
              "  </thead>\n",
              "  <tbody>\n",
              "    <tr>\n",
              "      <th>59265</th>\n",
              "      <td>31.14</td>\n",
              "      <td>34.76</td>\n",
              "      <td>61.301111</td>\n",
              "      <td>1.500</td>\n",
              "    </tr>\n",
              "    <tr>\n",
              "      <th>67881</th>\n",
              "      <td>22.23</td>\n",
              "      <td>35.22</td>\n",
              "      <td>42.381250</td>\n",
              "      <td>1.500</td>\n",
              "    </tr>\n",
              "    <tr>\n",
              "      <th>68607</th>\n",
              "      <td>21.14</td>\n",
              "      <td>35.28</td>\n",
              "      <td>41.998889</td>\n",
              "      <td>6.445</td>\n",
              "    </tr>\n",
              "    <tr>\n",
              "      <th>58794</th>\n",
              "      <td>31.96</td>\n",
              "      <td>34.12</td>\n",
              "      <td>63.048571</td>\n",
              "      <td>1.500</td>\n",
              "    </tr>\n",
              "    <tr>\n",
              "      <th>62698</th>\n",
              "      <td>22.83</td>\n",
              "      <td>34.87</td>\n",
              "      <td>45.036250</td>\n",
              "      <td>1.500</td>\n",
              "    </tr>\n",
              "  </tbody>\n",
              "</table>\n",
              "</div>\n",
              "      <button class=\"colab-df-convert\" onclick=\"convertToInteractive('df-99640a7f-14f5-4a63-98a5-bdb64f0a027e')\"\n",
              "              title=\"Convert this dataframe to an interactive table.\"\n",
              "              style=\"display:none;\">\n",
              "        \n",
              "  <svg xmlns=\"http://www.w3.org/2000/svg\" height=\"24px\"viewBox=\"0 0 24 24\"\n",
              "       width=\"24px\">\n",
              "    <path d=\"M0 0h24v24H0V0z\" fill=\"none\"/>\n",
              "    <path d=\"M18.56 5.44l.94 2.06.94-2.06 2.06-.94-2.06-.94-.94-2.06-.94 2.06-2.06.94zm-11 1L8.5 8.5l.94-2.06 2.06-.94-2.06-.94L8.5 2.5l-.94 2.06-2.06.94zm10 10l.94 2.06.94-2.06 2.06-.94-2.06-.94-.94-2.06-.94 2.06-2.06.94z\"/><path d=\"M17.41 7.96l-1.37-1.37c-.4-.4-.92-.59-1.43-.59-.52 0-1.04.2-1.43.59L10.3 9.45l-7.72 7.72c-.78.78-.78 2.05 0 2.83L4 21.41c.39.39.9.59 1.41.59.51 0 1.02-.2 1.41-.59l7.78-7.78 2.81-2.81c.8-.78.8-2.07 0-2.86zM5.41 20L4 18.59l7.72-7.72 1.47 1.35L5.41 20z\"/>\n",
              "  </svg>\n",
              "      </button>\n",
              "      \n",
              "  <style>\n",
              "    .colab-df-container {\n",
              "      display:flex;\n",
              "      flex-wrap:wrap;\n",
              "      gap: 12px;\n",
              "    }\n",
              "\n",
              "    .colab-df-convert {\n",
              "      background-color: #E8F0FE;\n",
              "      border: none;\n",
              "      border-radius: 50%;\n",
              "      cursor: pointer;\n",
              "      display: none;\n",
              "      fill: #1967D2;\n",
              "      height: 32px;\n",
              "      padding: 0 0 0 0;\n",
              "      width: 32px;\n",
              "    }\n",
              "\n",
              "    .colab-df-convert:hover {\n",
              "      background-color: #E2EBFA;\n",
              "      box-shadow: 0px 1px 2px rgba(60, 64, 67, 0.3), 0px 1px 3px 1px rgba(60, 64, 67, 0.15);\n",
              "      fill: #174EA6;\n",
              "    }\n",
              "\n",
              "    [theme=dark] .colab-df-convert {\n",
              "      background-color: #3B4455;\n",
              "      fill: #D2E3FC;\n",
              "    }\n",
              "\n",
              "    [theme=dark] .colab-df-convert:hover {\n",
              "      background-color: #434B5C;\n",
              "      box-shadow: 0px 1px 3px 1px rgba(0, 0, 0, 0.15);\n",
              "      filter: drop-shadow(0px 1px 2px rgba(0, 0, 0, 0.3));\n",
              "      fill: #FFFFFF;\n",
              "    }\n",
              "  </style>\n",
              "\n",
              "      <script>\n",
              "        const buttonEl =\n",
              "          document.querySelector('#df-99640a7f-14f5-4a63-98a5-bdb64f0a027e button.colab-df-convert');\n",
              "        buttonEl.style.display =\n",
              "          google.colab.kernel.accessAllowed ? 'block' : 'none';\n",
              "\n",
              "        async function convertToInteractive(key) {\n",
              "          const element = document.querySelector('#df-99640a7f-14f5-4a63-98a5-bdb64f0a027e');\n",
              "          const dataTable =\n",
              "            await google.colab.kernel.invokeFunction('convertToInteractive',\n",
              "                                                     [key], {});\n",
              "          if (!dataTable) return;\n",
              "\n",
              "          const docLinkHtml = 'Like what you see? Visit the ' +\n",
              "            '<a target=\"_blank\" href=https://colab.research.google.com/notebooks/data_table.ipynb>data table notebook</a>'\n",
              "            + ' to learn more about interactive tables.';\n",
              "          element.innerHTML = '';\n",
              "          dataTable['output_type'] = 'display_data';\n",
              "          await google.colab.output.renderOutput(dataTable, element);\n",
              "          const docLink = document.createElement('div');\n",
              "          docLink.innerHTML = docLinkHtml;\n",
              "          element.appendChild(docLink);\n",
              "        }\n",
              "      </script>\n",
              "    </div>\n",
              "  </div>\n",
              "  "
            ]
          },
          "metadata": {},
          "execution_count": 55
        }
      ]
    },
    {
      "cell_type": "code",
      "source": [
        "#Test UNSEEN 2 LAMP dataset for predicting HUMIDITY: removing all other features that are not necessary or redundant for training the model, based on the results of the correlation matrix.\n",
        "\n",
        "df_single_lamp_avg_sensor_2_lamp_test_humidity_clean=df_single_lamp_avg_sensor_2_lamp_test_clean.drop(columns=['time', 'delta_energy', 'shtc3_temperature','light_state', 'local_detections', 'source_address', 'total_normalized_energy', 'wsen_pads_temperature'])\n",
        "df_single_lamp_avg_sensor_2_lamp_test_humidity_clean.head()"
      ],
      "metadata": {
        "colab": {
          "base_uri": "https://localhost:8080/",
          "height": 206
        },
        "outputId": "604cfb5f-9c7e-46e9-a113-5a1ad73f3729",
        "id": "IOq5LeQm85fa"
      },
      "execution_count": 56,
      "outputs": [
        {
          "output_type": "execute_result",
          "data": {
            "text/plain": [
              "   sht40_humidity  sht40_temperature  shtc3_humidity  power\n",
              "0           26.09              34.87       49.495556    1.5\n",
              "1           26.09              34.85       49.500000    1.5\n",
              "2           26.02              34.82       49.501111    1.5\n",
              "3           26.09              34.83       49.528889    1.5\n",
              "4           26.02              34.86       49.642500    1.5"
            ],
            "text/html": [
              "\n",
              "  <div id=\"df-b3f35d00-48f3-488b-8f1e-c057a3cb973b\">\n",
              "    <div class=\"colab-df-container\">\n",
              "      <div>\n",
              "<style scoped>\n",
              "    .dataframe tbody tr th:only-of-type {\n",
              "        vertical-align: middle;\n",
              "    }\n",
              "\n",
              "    .dataframe tbody tr th {\n",
              "        vertical-align: top;\n",
              "    }\n",
              "\n",
              "    .dataframe thead th {\n",
              "        text-align: right;\n",
              "    }\n",
              "</style>\n",
              "<table border=\"1\" class=\"dataframe\">\n",
              "  <thead>\n",
              "    <tr style=\"text-align: right;\">\n",
              "      <th></th>\n",
              "      <th>sht40_humidity</th>\n",
              "      <th>sht40_temperature</th>\n",
              "      <th>shtc3_humidity</th>\n",
              "      <th>power</th>\n",
              "    </tr>\n",
              "  </thead>\n",
              "  <tbody>\n",
              "    <tr>\n",
              "      <th>0</th>\n",
              "      <td>26.09</td>\n",
              "      <td>34.87</td>\n",
              "      <td>49.495556</td>\n",
              "      <td>1.5</td>\n",
              "    </tr>\n",
              "    <tr>\n",
              "      <th>1</th>\n",
              "      <td>26.09</td>\n",
              "      <td>34.85</td>\n",
              "      <td>49.500000</td>\n",
              "      <td>1.5</td>\n",
              "    </tr>\n",
              "    <tr>\n",
              "      <th>2</th>\n",
              "      <td>26.02</td>\n",
              "      <td>34.82</td>\n",
              "      <td>49.501111</td>\n",
              "      <td>1.5</td>\n",
              "    </tr>\n",
              "    <tr>\n",
              "      <th>3</th>\n",
              "      <td>26.09</td>\n",
              "      <td>34.83</td>\n",
              "      <td>49.528889</td>\n",
              "      <td>1.5</td>\n",
              "    </tr>\n",
              "    <tr>\n",
              "      <th>4</th>\n",
              "      <td>26.02</td>\n",
              "      <td>34.86</td>\n",
              "      <td>49.642500</td>\n",
              "      <td>1.5</td>\n",
              "    </tr>\n",
              "  </tbody>\n",
              "</table>\n",
              "</div>\n",
              "      <button class=\"colab-df-convert\" onclick=\"convertToInteractive('df-b3f35d00-48f3-488b-8f1e-c057a3cb973b')\"\n",
              "              title=\"Convert this dataframe to an interactive table.\"\n",
              "              style=\"display:none;\">\n",
              "        \n",
              "  <svg xmlns=\"http://www.w3.org/2000/svg\" height=\"24px\"viewBox=\"0 0 24 24\"\n",
              "       width=\"24px\">\n",
              "    <path d=\"M0 0h24v24H0V0z\" fill=\"none\"/>\n",
              "    <path d=\"M18.56 5.44l.94 2.06.94-2.06 2.06-.94-2.06-.94-.94-2.06-.94 2.06-2.06.94zm-11 1L8.5 8.5l.94-2.06 2.06-.94-2.06-.94L8.5 2.5l-.94 2.06-2.06.94zm10 10l.94 2.06.94-2.06 2.06-.94-2.06-.94-.94-2.06-.94 2.06-2.06.94z\"/><path d=\"M17.41 7.96l-1.37-1.37c-.4-.4-.92-.59-1.43-.59-.52 0-1.04.2-1.43.59L10.3 9.45l-7.72 7.72c-.78.78-.78 2.05 0 2.83L4 21.41c.39.39.9.59 1.41.59.51 0 1.02-.2 1.41-.59l7.78-7.78 2.81-2.81c.8-.78.8-2.07 0-2.86zM5.41 20L4 18.59l7.72-7.72 1.47 1.35L5.41 20z\"/>\n",
              "  </svg>\n",
              "      </button>\n",
              "      \n",
              "  <style>\n",
              "    .colab-df-container {\n",
              "      display:flex;\n",
              "      flex-wrap:wrap;\n",
              "      gap: 12px;\n",
              "    }\n",
              "\n",
              "    .colab-df-convert {\n",
              "      background-color: #E8F0FE;\n",
              "      border: none;\n",
              "      border-radius: 50%;\n",
              "      cursor: pointer;\n",
              "      display: none;\n",
              "      fill: #1967D2;\n",
              "      height: 32px;\n",
              "      padding: 0 0 0 0;\n",
              "      width: 32px;\n",
              "    }\n",
              "\n",
              "    .colab-df-convert:hover {\n",
              "      background-color: #E2EBFA;\n",
              "      box-shadow: 0px 1px 2px rgba(60, 64, 67, 0.3), 0px 1px 3px 1px rgba(60, 64, 67, 0.15);\n",
              "      fill: #174EA6;\n",
              "    }\n",
              "\n",
              "    [theme=dark] .colab-df-convert {\n",
              "      background-color: #3B4455;\n",
              "      fill: #D2E3FC;\n",
              "    }\n",
              "\n",
              "    [theme=dark] .colab-df-convert:hover {\n",
              "      background-color: #434B5C;\n",
              "      box-shadow: 0px 1px 3px 1px rgba(0, 0, 0, 0.15);\n",
              "      filter: drop-shadow(0px 1px 2px rgba(0, 0, 0, 0.3));\n",
              "      fill: #FFFFFF;\n",
              "    }\n",
              "  </style>\n",
              "\n",
              "      <script>\n",
              "        const buttonEl =\n",
              "          document.querySelector('#df-b3f35d00-48f3-488b-8f1e-c057a3cb973b button.colab-df-convert');\n",
              "        buttonEl.style.display =\n",
              "          google.colab.kernel.accessAllowed ? 'block' : 'none';\n",
              "\n",
              "        async function convertToInteractive(key) {\n",
              "          const element = document.querySelector('#df-b3f35d00-48f3-488b-8f1e-c057a3cb973b');\n",
              "          const dataTable =\n",
              "            await google.colab.kernel.invokeFunction('convertToInteractive',\n",
              "                                                     [key], {});\n",
              "          if (!dataTable) return;\n",
              "\n",
              "          const docLinkHtml = 'Like what you see? Visit the ' +\n",
              "            '<a target=\"_blank\" href=https://colab.research.google.com/notebooks/data_table.ipynb>data table notebook</a>'\n",
              "            + ' to learn more about interactive tables.';\n",
              "          element.innerHTML = '';\n",
              "          dataTable['output_type'] = 'display_data';\n",
              "          await google.colab.output.renderOutput(dataTable, element);\n",
              "          const docLink = document.createElement('div');\n",
              "          docLink.innerHTML = docLinkHtml;\n",
              "          element.appendChild(docLink);\n",
              "        }\n",
              "      </script>\n",
              "    </div>\n",
              "  </div>\n",
              "  "
            ]
          },
          "metadata": {},
          "execution_count": 56
        }
      ]
    },
    {
      "cell_type": "code",
      "source": [
        "#Training dataset for predicting TEMPERATURE: removing all other features that are not necessary or redundant for training the model, based on the results of the correlation matrix.\n",
        "\n",
        "df_single_lamp_avg_sensor_9_lamp_train_temperature_clean=df_single_lamp_avg_sensor_9_lamp_train_clean.drop(columns=['time', 'light_state', 'local_detections', 'source_address', 'delta_energy', 'total_normalized_energy', 'shtc3_humidity','wsen_pads_temperature'])\n",
        "df_single_lamp_avg_sensor_9_lamp_train_temperature_clean.head()"
      ],
      "metadata": {
        "colab": {
          "base_uri": "https://localhost:8080/",
          "height": 206
        },
        "outputId": "79b182a0-ed59-41c0-e082-fb287a7a56c6",
        "id": "lICmBFVmIbyK"
      },
      "execution_count": 57,
      "outputs": [
        {
          "output_type": "execute_result",
          "data": {
            "text/plain": [
              "       sht40_humidity  sht40_temperature  shtc3_temperature  power\n",
              "59265           31.14              34.76          22.411111  1.500\n",
              "67881           22.23              35.22          22.490000  1.500\n",
              "68607           21.14              35.28          22.492222  6.445\n",
              "58794           31.96              34.12          21.788571  1.500\n",
              "62698           22.83              34.87          22.605000  1.500"
            ],
            "text/html": [
              "\n",
              "  <div id=\"df-7acedb41-7b71-482b-8430-0e4607a1bae2\">\n",
              "    <div class=\"colab-df-container\">\n",
              "      <div>\n",
              "<style scoped>\n",
              "    .dataframe tbody tr th:only-of-type {\n",
              "        vertical-align: middle;\n",
              "    }\n",
              "\n",
              "    .dataframe tbody tr th {\n",
              "        vertical-align: top;\n",
              "    }\n",
              "\n",
              "    .dataframe thead th {\n",
              "        text-align: right;\n",
              "    }\n",
              "</style>\n",
              "<table border=\"1\" class=\"dataframe\">\n",
              "  <thead>\n",
              "    <tr style=\"text-align: right;\">\n",
              "      <th></th>\n",
              "      <th>sht40_humidity</th>\n",
              "      <th>sht40_temperature</th>\n",
              "      <th>shtc3_temperature</th>\n",
              "      <th>power</th>\n",
              "    </tr>\n",
              "  </thead>\n",
              "  <tbody>\n",
              "    <tr>\n",
              "      <th>59265</th>\n",
              "      <td>31.14</td>\n",
              "      <td>34.76</td>\n",
              "      <td>22.411111</td>\n",
              "      <td>1.500</td>\n",
              "    </tr>\n",
              "    <tr>\n",
              "      <th>67881</th>\n",
              "      <td>22.23</td>\n",
              "      <td>35.22</td>\n",
              "      <td>22.490000</td>\n",
              "      <td>1.500</td>\n",
              "    </tr>\n",
              "    <tr>\n",
              "      <th>68607</th>\n",
              "      <td>21.14</td>\n",
              "      <td>35.28</td>\n",
              "      <td>22.492222</td>\n",
              "      <td>6.445</td>\n",
              "    </tr>\n",
              "    <tr>\n",
              "      <th>58794</th>\n",
              "      <td>31.96</td>\n",
              "      <td>34.12</td>\n",
              "      <td>21.788571</td>\n",
              "      <td>1.500</td>\n",
              "    </tr>\n",
              "    <tr>\n",
              "      <th>62698</th>\n",
              "      <td>22.83</td>\n",
              "      <td>34.87</td>\n",
              "      <td>22.605000</td>\n",
              "      <td>1.500</td>\n",
              "    </tr>\n",
              "  </tbody>\n",
              "</table>\n",
              "</div>\n",
              "      <button class=\"colab-df-convert\" onclick=\"convertToInteractive('df-7acedb41-7b71-482b-8430-0e4607a1bae2')\"\n",
              "              title=\"Convert this dataframe to an interactive table.\"\n",
              "              style=\"display:none;\">\n",
              "        \n",
              "  <svg xmlns=\"http://www.w3.org/2000/svg\" height=\"24px\"viewBox=\"0 0 24 24\"\n",
              "       width=\"24px\">\n",
              "    <path d=\"M0 0h24v24H0V0z\" fill=\"none\"/>\n",
              "    <path d=\"M18.56 5.44l.94 2.06.94-2.06 2.06-.94-2.06-.94-.94-2.06-.94 2.06-2.06.94zm-11 1L8.5 8.5l.94-2.06 2.06-.94-2.06-.94L8.5 2.5l-.94 2.06-2.06.94zm10 10l.94 2.06.94-2.06 2.06-.94-2.06-.94-.94-2.06-.94 2.06-2.06.94z\"/><path d=\"M17.41 7.96l-1.37-1.37c-.4-.4-.92-.59-1.43-.59-.52 0-1.04.2-1.43.59L10.3 9.45l-7.72 7.72c-.78.78-.78 2.05 0 2.83L4 21.41c.39.39.9.59 1.41.59.51 0 1.02-.2 1.41-.59l7.78-7.78 2.81-2.81c.8-.78.8-2.07 0-2.86zM5.41 20L4 18.59l7.72-7.72 1.47 1.35L5.41 20z\"/>\n",
              "  </svg>\n",
              "      </button>\n",
              "      \n",
              "  <style>\n",
              "    .colab-df-container {\n",
              "      display:flex;\n",
              "      flex-wrap:wrap;\n",
              "      gap: 12px;\n",
              "    }\n",
              "\n",
              "    .colab-df-convert {\n",
              "      background-color: #E8F0FE;\n",
              "      border: none;\n",
              "      border-radius: 50%;\n",
              "      cursor: pointer;\n",
              "      display: none;\n",
              "      fill: #1967D2;\n",
              "      height: 32px;\n",
              "      padding: 0 0 0 0;\n",
              "      width: 32px;\n",
              "    }\n",
              "\n",
              "    .colab-df-convert:hover {\n",
              "      background-color: #E2EBFA;\n",
              "      box-shadow: 0px 1px 2px rgba(60, 64, 67, 0.3), 0px 1px 3px 1px rgba(60, 64, 67, 0.15);\n",
              "      fill: #174EA6;\n",
              "    }\n",
              "\n",
              "    [theme=dark] .colab-df-convert {\n",
              "      background-color: #3B4455;\n",
              "      fill: #D2E3FC;\n",
              "    }\n",
              "\n",
              "    [theme=dark] .colab-df-convert:hover {\n",
              "      background-color: #434B5C;\n",
              "      box-shadow: 0px 1px 3px 1px rgba(0, 0, 0, 0.15);\n",
              "      filter: drop-shadow(0px 1px 2px rgba(0, 0, 0, 0.3));\n",
              "      fill: #FFFFFF;\n",
              "    }\n",
              "  </style>\n",
              "\n",
              "      <script>\n",
              "        const buttonEl =\n",
              "          document.querySelector('#df-7acedb41-7b71-482b-8430-0e4607a1bae2 button.colab-df-convert');\n",
              "        buttonEl.style.display =\n",
              "          google.colab.kernel.accessAllowed ? 'block' : 'none';\n",
              "\n",
              "        async function convertToInteractive(key) {\n",
              "          const element = document.querySelector('#df-7acedb41-7b71-482b-8430-0e4607a1bae2');\n",
              "          const dataTable =\n",
              "            await google.colab.kernel.invokeFunction('convertToInteractive',\n",
              "                                                     [key], {});\n",
              "          if (!dataTable) return;\n",
              "\n",
              "          const docLinkHtml = 'Like what you see? Visit the ' +\n",
              "            '<a target=\"_blank\" href=https://colab.research.google.com/notebooks/data_table.ipynb>data table notebook</a>'\n",
              "            + ' to learn more about interactive tables.';\n",
              "          element.innerHTML = '';\n",
              "          dataTable['output_type'] = 'display_data';\n",
              "          await google.colab.output.renderOutput(dataTable, element);\n",
              "          const docLink = document.createElement('div');\n",
              "          docLink.innerHTML = docLinkHtml;\n",
              "          element.appendChild(docLink);\n",
              "        }\n",
              "      </script>\n",
              "    </div>\n",
              "  </div>\n",
              "  "
            ]
          },
          "metadata": {},
          "execution_count": 57
        }
      ]
    },
    {
      "cell_type": "code",
      "source": [
        "#Test UNSEEN 2 LAMP dataset for predicting TEMPERATURE: removing all other features that are not necessary or redundant for training the model, based on the results of the correlation matrix.\n",
        "\n",
        "df_single_lamp_avg_sensor_2_lamp_test_temperature_clean=df_single_lamp_avg_sensor_2_lamp_test_clean.drop(columns=['time', 'delta_energy', 'shtc3_humidity','light_state', 'local_detections', 'source_address', 'total_normalized_energy', 'wsen_pads_temperature'])\n",
        "df_single_lamp_avg_sensor_2_lamp_test_temperature_clean.head()"
      ],
      "metadata": {
        "colab": {
          "base_uri": "https://localhost:8080/",
          "height": 206
        },
        "outputId": "342abc18-2cc8-4438-d4b2-3c2f89d4f6a4",
        "id": "z1DpNolUIbyN"
      },
      "execution_count": 58,
      "outputs": [
        {
          "output_type": "execute_result",
          "data": {
            "text/plain": [
              "   sht40_humidity  sht40_temperature  shtc3_temperature  power\n",
              "0           26.09              34.87          21.908889    1.5\n",
              "1           26.09              34.85          21.902222    1.5\n",
              "2           26.02              34.82          21.901111    1.5\n",
              "3           26.09              34.83          21.896667    1.5\n",
              "4           26.02              34.86          21.867500    1.5"
            ],
            "text/html": [
              "\n",
              "  <div id=\"df-35bf7e39-323d-4115-a06e-32eb4620a8c2\">\n",
              "    <div class=\"colab-df-container\">\n",
              "      <div>\n",
              "<style scoped>\n",
              "    .dataframe tbody tr th:only-of-type {\n",
              "        vertical-align: middle;\n",
              "    }\n",
              "\n",
              "    .dataframe tbody tr th {\n",
              "        vertical-align: top;\n",
              "    }\n",
              "\n",
              "    .dataframe thead th {\n",
              "        text-align: right;\n",
              "    }\n",
              "</style>\n",
              "<table border=\"1\" class=\"dataframe\">\n",
              "  <thead>\n",
              "    <tr style=\"text-align: right;\">\n",
              "      <th></th>\n",
              "      <th>sht40_humidity</th>\n",
              "      <th>sht40_temperature</th>\n",
              "      <th>shtc3_temperature</th>\n",
              "      <th>power</th>\n",
              "    </tr>\n",
              "  </thead>\n",
              "  <tbody>\n",
              "    <tr>\n",
              "      <th>0</th>\n",
              "      <td>26.09</td>\n",
              "      <td>34.87</td>\n",
              "      <td>21.908889</td>\n",
              "      <td>1.5</td>\n",
              "    </tr>\n",
              "    <tr>\n",
              "      <th>1</th>\n",
              "      <td>26.09</td>\n",
              "      <td>34.85</td>\n",
              "      <td>21.902222</td>\n",
              "      <td>1.5</td>\n",
              "    </tr>\n",
              "    <tr>\n",
              "      <th>2</th>\n",
              "      <td>26.02</td>\n",
              "      <td>34.82</td>\n",
              "      <td>21.901111</td>\n",
              "      <td>1.5</td>\n",
              "    </tr>\n",
              "    <tr>\n",
              "      <th>3</th>\n",
              "      <td>26.09</td>\n",
              "      <td>34.83</td>\n",
              "      <td>21.896667</td>\n",
              "      <td>1.5</td>\n",
              "    </tr>\n",
              "    <tr>\n",
              "      <th>4</th>\n",
              "      <td>26.02</td>\n",
              "      <td>34.86</td>\n",
              "      <td>21.867500</td>\n",
              "      <td>1.5</td>\n",
              "    </tr>\n",
              "  </tbody>\n",
              "</table>\n",
              "</div>\n",
              "      <button class=\"colab-df-convert\" onclick=\"convertToInteractive('df-35bf7e39-323d-4115-a06e-32eb4620a8c2')\"\n",
              "              title=\"Convert this dataframe to an interactive table.\"\n",
              "              style=\"display:none;\">\n",
              "        \n",
              "  <svg xmlns=\"http://www.w3.org/2000/svg\" height=\"24px\"viewBox=\"0 0 24 24\"\n",
              "       width=\"24px\">\n",
              "    <path d=\"M0 0h24v24H0V0z\" fill=\"none\"/>\n",
              "    <path d=\"M18.56 5.44l.94 2.06.94-2.06 2.06-.94-2.06-.94-.94-2.06-.94 2.06-2.06.94zm-11 1L8.5 8.5l.94-2.06 2.06-.94-2.06-.94L8.5 2.5l-.94 2.06-2.06.94zm10 10l.94 2.06.94-2.06 2.06-.94-2.06-.94-.94-2.06-.94 2.06-2.06.94z\"/><path d=\"M17.41 7.96l-1.37-1.37c-.4-.4-.92-.59-1.43-.59-.52 0-1.04.2-1.43.59L10.3 9.45l-7.72 7.72c-.78.78-.78 2.05 0 2.83L4 21.41c.39.39.9.59 1.41.59.51 0 1.02-.2 1.41-.59l7.78-7.78 2.81-2.81c.8-.78.8-2.07 0-2.86zM5.41 20L4 18.59l7.72-7.72 1.47 1.35L5.41 20z\"/>\n",
              "  </svg>\n",
              "      </button>\n",
              "      \n",
              "  <style>\n",
              "    .colab-df-container {\n",
              "      display:flex;\n",
              "      flex-wrap:wrap;\n",
              "      gap: 12px;\n",
              "    }\n",
              "\n",
              "    .colab-df-convert {\n",
              "      background-color: #E8F0FE;\n",
              "      border: none;\n",
              "      border-radius: 50%;\n",
              "      cursor: pointer;\n",
              "      display: none;\n",
              "      fill: #1967D2;\n",
              "      height: 32px;\n",
              "      padding: 0 0 0 0;\n",
              "      width: 32px;\n",
              "    }\n",
              "\n",
              "    .colab-df-convert:hover {\n",
              "      background-color: #E2EBFA;\n",
              "      box-shadow: 0px 1px 2px rgba(60, 64, 67, 0.3), 0px 1px 3px 1px rgba(60, 64, 67, 0.15);\n",
              "      fill: #174EA6;\n",
              "    }\n",
              "\n",
              "    [theme=dark] .colab-df-convert {\n",
              "      background-color: #3B4455;\n",
              "      fill: #D2E3FC;\n",
              "    }\n",
              "\n",
              "    [theme=dark] .colab-df-convert:hover {\n",
              "      background-color: #434B5C;\n",
              "      box-shadow: 0px 1px 3px 1px rgba(0, 0, 0, 0.15);\n",
              "      filter: drop-shadow(0px 1px 2px rgba(0, 0, 0, 0.3));\n",
              "      fill: #FFFFFF;\n",
              "    }\n",
              "  </style>\n",
              "\n",
              "      <script>\n",
              "        const buttonEl =\n",
              "          document.querySelector('#df-35bf7e39-323d-4115-a06e-32eb4620a8c2 button.colab-df-convert');\n",
              "        buttonEl.style.display =\n",
              "          google.colab.kernel.accessAllowed ? 'block' : 'none';\n",
              "\n",
              "        async function convertToInteractive(key) {\n",
              "          const element = document.querySelector('#df-35bf7e39-323d-4115-a06e-32eb4620a8c2');\n",
              "          const dataTable =\n",
              "            await google.colab.kernel.invokeFunction('convertToInteractive',\n",
              "                                                     [key], {});\n",
              "          if (!dataTable) return;\n",
              "\n",
              "          const docLinkHtml = 'Like what you see? Visit the ' +\n",
              "            '<a target=\"_blank\" href=https://colab.research.google.com/notebooks/data_table.ipynb>data table notebook</a>'\n",
              "            + ' to learn more about interactive tables.';\n",
              "          element.innerHTML = '';\n",
              "          dataTable['output_type'] = 'display_data';\n",
              "          await google.colab.output.renderOutput(dataTable, element);\n",
              "          const docLink = document.createElement('div');\n",
              "          docLink.innerHTML = docLinkHtml;\n",
              "          element.appendChild(docLink);\n",
              "        }\n",
              "      </script>\n",
              "    </div>\n",
              "  </div>\n",
              "  "
            ]
          },
          "metadata": {},
          "execution_count": 58
        }
      ]
    },
    {
      "cell_type": "code",
      "source": [
        "# structure all the DataFrames used for taining and testing into a simple dict to SAVE all the relevant files. \n",
        "dfs = {\n",
        "    #original clean dataset\n",
        "    \"data-cleaned-single_lamp_avg_sensor_power\": df_single_lamp_avg_sensor_clean,\n",
        "\n",
        "    #Training and unseen dataset for repeating the experiment\n",
        "    \"data-cleaned-single_lamp_avg_sensor__power_9_lamp_2_5th_train_data\": df_single_lamp_avg_sensor_9_lamp_train_temp_humidity_clean,\n",
        "    \"data-cleaned-single_lamp_avg_sensor__power_2_lamp_test_data\": df_single_lamp_avg_sensor_2_lamp_test_temp_humidity_clean,\n",
        "\n",
        "    #Dataframes for MODEL specifically predicting HUMIDITY   \n",
        "    \"data-HUMIDITY_cleaned-single_lamp_avg_sensor__power_9_lamp_2_5th_train_data\": df_single_lamp_avg_sensor_9_lamp_train_humidity_clean,\n",
        "    \"data-HUMIDITY_cleaned-single_lamp_avg_sensor__power_2_lamp_test_data\": df_single_lamp_avg_sensor_2_lamp_test_temp_humidity_clean,\n",
        "    \n",
        "    #Dataframes for MODEL specifically predicting TEMPERATURE\n",
        "    \"data-TEMPERATURE_cleaned-single_lamp_avg_sensor__power_9_lamp_2_5th_train_data\": df_single_lamp_avg_sensor_9_lamp_train_temperature_clean,\n",
        "    \"data-TEMPERATURE_cleaned-single_lamp_avg_sensor__power_2_lamp_test_data\": df_single_lamp_avg_sensor_2_lamp_test_temperature_clean,  \n",
        "    }\n",
        "\n",
        "# iterate and save the data to CSV\n",
        "for name, data in dfs.items():\n",
        "    data.to_csv(f\"{name}.csv\", index=False)"
      ],
      "metadata": {
        "id": "17r8sj3I5v7A"
      },
      "execution_count": 59,
      "outputs": []
    },
    {
      "cell_type": "markdown",
      "source": [
        "### Train Test Split the data"
      ],
      "metadata": {
        "id": "XQ1EBarbWRWS"
      }
    },
    {
      "cell_type": "code",
      "source": [
        "# Repeating the EXPERIMENT for predicting HUMIDITY: Train Test Split data from single lamp & average sensor dataset for model only light temparature, sensor temparature and delta energy\n",
        "\n",
        "X1 = df_single_lamp_avg_sensor_9_lamp_train_temp_humidity_clean.drop(columns=['shtc3_humidity'])\n",
        "y1 = df_single_lamp_avg_sensor_9_lamp_train_temp_humidity_clean.shtc3_humidity\n",
        "\n",
        "X_train, X_test, y_train, y_test = train_test_split(X1, y1, test_size=0.2, random_state=42)\n",
        "X_train.shape, X_test.shape"
      ],
      "metadata": {
        "id": "914jrbq3_6m8",
        "colab": {
          "base_uri": "https://localhost:8080/"
        },
        "outputId": "8987170e-d697-4654-814f-9de86dfec0c6"
      },
      "execution_count": 60,
      "outputs": [
        {
          "output_type": "execute_result",
          "data": {
            "text/plain": [
              "((39807, 4), (9952, 4))"
            ]
          },
          "metadata": {},
          "execution_count": 60
        }
      ]
    },
    {
      "cell_type": "code",
      "source": [
        "# Repeating the EXPERIMENT for predicting TEMPERATURE: Train Test Split data from single lamp & average sensor dataset for model only light temparature, sensor temparature and delta energy\n",
        "\n",
        "X2 = df_single_lamp_avg_sensor_9_lamp_train_temp_humidity_clean.drop(columns=['shtc3_temperature'])\n",
        "y2 = df_single_lamp_avg_sensor_9_lamp_train_temp_humidity_clean.shtc3_temperature\n",
        "\n",
        "X_train, X_test, y_train, y_test = train_test_split(X2, y2, test_size=0.2, random_state=42)\n",
        "X_train.shape, X_test.shape"
      ],
      "metadata": {
        "colab": {
          "base_uri": "https://localhost:8080/"
        },
        "id": "iYRA8DP5wyp5",
        "outputId": "f53e7411-f1d2-4e59-a29c-5258d6361f2a"
      },
      "execution_count": 88,
      "outputs": [
        {
          "output_type": "execute_result",
          "data": {
            "text/plain": [
              "((39807, 4), (9952, 4))"
            ]
          },
          "metadata": {},
          "execution_count": 88
        }
      ]
    },
    {
      "cell_type": "code",
      "source": [
        "# For predicting only HUMIDITY: Train Test Split data from single lamp & average sensor dataset for model only light temparature, sensor temparature and delta energy\n",
        "\n",
        "X3 = df_single_lamp_avg_sensor_9_lamp_train_humidity_clean.drop(columns=['shtc3_humidity'])\n",
        "y3 = df_single_lamp_avg_sensor_9_lamp_train_humidity_clean.shtc3_temperature\n",
        "\n",
        "X_train, X_test, y_train, y_test = train_test_split(X3, y3, test_size=0.2, random_state=42)\n",
        "X_train.shape, X_test.shape"
      ],
      "metadata": {
        "colab": {
          "base_uri": "https://localhost:8080/"
        },
        "id": "4g-xkmOUjftp",
        "outputId": "02fdd3ff-4624-43b1-c30a-e747f61bf593"
      },
      "execution_count": null,
      "outputs": [
        {
          "output_type": "execute_result",
          "data": {
            "text/plain": [
              "((39807, 4), (9952, 4))"
            ]
          },
          "metadata": {},
          "execution_count": 11
        }
      ]
    },
    {
      "cell_type": "code",
      "source": [
        "# For predicting only TEMPERATURE: Train Test Split data from single lamp & average sensor dataset for model only light temparature, sensor temparature and delta energy\n",
        "\n",
        "X4 = df_single_lamp_avg_sensor_9_lamp_train_temperature_clean.drop(columns=['shtc3_temperature'])\n",
        "y4 = df_single_lamp_avg_sensor_9_lamp_train_temperature_clean.shtc3_temperature\n",
        "\n",
        "X_train, X_test, y_train, y_test = train_test_split(X4, y4, test_size=0.2, random_state=42)\n",
        "X_train.shape, X_test.shape"
      ],
      "metadata": {
        "colab": {
          "base_uri": "https://localhost:8080/"
        },
        "id": "mZNWpatMJVe8",
        "outputId": "0ade0bcf-14a0-4959-9293-34f50b439db9"
      },
      "execution_count": null,
      "outputs": [
        {
          "output_type": "execute_result",
          "data": {
            "text/plain": [
              "((39807, 3), (9952, 3))"
            ]
          },
          "metadata": {},
          "execution_count": 42
        }
      ]
    },
    {
      "cell_type": "code",
      "source": [
        "# Review the X_test dataset for correctness before proceeding to initialize the model.\n",
        "\n",
        "X_test.head()"
      ],
      "metadata": {
        "colab": {
          "base_uri": "https://localhost:8080/",
          "height": 206
        },
        "id": "ZNQUyhr43K_r",
        "outputId": "129b8b32-757b-482c-bb1d-62fbf0fb2444"
      },
      "execution_count": 89,
      "outputs": [
        {
          "output_type": "execute_result",
          "data": {
            "text/plain": [
              "        sht40_humidity  sht40_temperature  shtc3_humidity     power\n",
              "48239            30.52              37.21       64.414286  4.510000\n",
              "98853            30.37              34.81       59.382222  1.500000\n",
              "148766           25.07              35.70       47.474286  1.500000\n",
              "83569            27.96              34.63       54.175556  1.500000\n",
              "32137            31.34              36.81       61.461429  5.656667"
            ],
            "text/html": [
              "\n",
              "  <div id=\"df-7416b3fb-35ff-4546-8a07-a2a34f30e154\">\n",
              "    <div class=\"colab-df-container\">\n",
              "      <div>\n",
              "<style scoped>\n",
              "    .dataframe tbody tr th:only-of-type {\n",
              "        vertical-align: middle;\n",
              "    }\n",
              "\n",
              "    .dataframe tbody tr th {\n",
              "        vertical-align: top;\n",
              "    }\n",
              "\n",
              "    .dataframe thead th {\n",
              "        text-align: right;\n",
              "    }\n",
              "</style>\n",
              "<table border=\"1\" class=\"dataframe\">\n",
              "  <thead>\n",
              "    <tr style=\"text-align: right;\">\n",
              "      <th></th>\n",
              "      <th>sht40_humidity</th>\n",
              "      <th>sht40_temperature</th>\n",
              "      <th>shtc3_humidity</th>\n",
              "      <th>power</th>\n",
              "    </tr>\n",
              "  </thead>\n",
              "  <tbody>\n",
              "    <tr>\n",
              "      <th>48239</th>\n",
              "      <td>30.52</td>\n",
              "      <td>37.21</td>\n",
              "      <td>64.414286</td>\n",
              "      <td>4.510000</td>\n",
              "    </tr>\n",
              "    <tr>\n",
              "      <th>98853</th>\n",
              "      <td>30.37</td>\n",
              "      <td>34.81</td>\n",
              "      <td>59.382222</td>\n",
              "      <td>1.500000</td>\n",
              "    </tr>\n",
              "    <tr>\n",
              "      <th>148766</th>\n",
              "      <td>25.07</td>\n",
              "      <td>35.70</td>\n",
              "      <td>47.474286</td>\n",
              "      <td>1.500000</td>\n",
              "    </tr>\n",
              "    <tr>\n",
              "      <th>83569</th>\n",
              "      <td>27.96</td>\n",
              "      <td>34.63</td>\n",
              "      <td>54.175556</td>\n",
              "      <td>1.500000</td>\n",
              "    </tr>\n",
              "    <tr>\n",
              "      <th>32137</th>\n",
              "      <td>31.34</td>\n",
              "      <td>36.81</td>\n",
              "      <td>61.461429</td>\n",
              "      <td>5.656667</td>\n",
              "    </tr>\n",
              "  </tbody>\n",
              "</table>\n",
              "</div>\n",
              "      <button class=\"colab-df-convert\" onclick=\"convertToInteractive('df-7416b3fb-35ff-4546-8a07-a2a34f30e154')\"\n",
              "              title=\"Convert this dataframe to an interactive table.\"\n",
              "              style=\"display:none;\">\n",
              "        \n",
              "  <svg xmlns=\"http://www.w3.org/2000/svg\" height=\"24px\"viewBox=\"0 0 24 24\"\n",
              "       width=\"24px\">\n",
              "    <path d=\"M0 0h24v24H0V0z\" fill=\"none\"/>\n",
              "    <path d=\"M18.56 5.44l.94 2.06.94-2.06 2.06-.94-2.06-.94-.94-2.06-.94 2.06-2.06.94zm-11 1L8.5 8.5l.94-2.06 2.06-.94-2.06-.94L8.5 2.5l-.94 2.06-2.06.94zm10 10l.94 2.06.94-2.06 2.06-.94-2.06-.94-.94-2.06-.94 2.06-2.06.94z\"/><path d=\"M17.41 7.96l-1.37-1.37c-.4-.4-.92-.59-1.43-.59-.52 0-1.04.2-1.43.59L10.3 9.45l-7.72 7.72c-.78.78-.78 2.05 0 2.83L4 21.41c.39.39.9.59 1.41.59.51 0 1.02-.2 1.41-.59l7.78-7.78 2.81-2.81c.8-.78.8-2.07 0-2.86zM5.41 20L4 18.59l7.72-7.72 1.47 1.35L5.41 20z\"/>\n",
              "  </svg>\n",
              "      </button>\n",
              "      \n",
              "  <style>\n",
              "    .colab-df-container {\n",
              "      display:flex;\n",
              "      flex-wrap:wrap;\n",
              "      gap: 12px;\n",
              "    }\n",
              "\n",
              "    .colab-df-convert {\n",
              "      background-color: #E8F0FE;\n",
              "      border: none;\n",
              "      border-radius: 50%;\n",
              "      cursor: pointer;\n",
              "      display: none;\n",
              "      fill: #1967D2;\n",
              "      height: 32px;\n",
              "      padding: 0 0 0 0;\n",
              "      width: 32px;\n",
              "    }\n",
              "\n",
              "    .colab-df-convert:hover {\n",
              "      background-color: #E2EBFA;\n",
              "      box-shadow: 0px 1px 2px rgba(60, 64, 67, 0.3), 0px 1px 3px 1px rgba(60, 64, 67, 0.15);\n",
              "      fill: #174EA6;\n",
              "    }\n",
              "\n",
              "    [theme=dark] .colab-df-convert {\n",
              "      background-color: #3B4455;\n",
              "      fill: #D2E3FC;\n",
              "    }\n",
              "\n",
              "    [theme=dark] .colab-df-convert:hover {\n",
              "      background-color: #434B5C;\n",
              "      box-shadow: 0px 1px 3px 1px rgba(0, 0, 0, 0.15);\n",
              "      filter: drop-shadow(0px 1px 2px rgba(0, 0, 0, 0.3));\n",
              "      fill: #FFFFFF;\n",
              "    }\n",
              "  </style>\n",
              "\n",
              "      <script>\n",
              "        const buttonEl =\n",
              "          document.querySelector('#df-7416b3fb-35ff-4546-8a07-a2a34f30e154 button.colab-df-convert');\n",
              "        buttonEl.style.display =\n",
              "          google.colab.kernel.accessAllowed ? 'block' : 'none';\n",
              "\n",
              "        async function convertToInteractive(key) {\n",
              "          const element = document.querySelector('#df-7416b3fb-35ff-4546-8a07-a2a34f30e154');\n",
              "          const dataTable =\n",
              "            await google.colab.kernel.invokeFunction('convertToInteractive',\n",
              "                                                     [key], {});\n",
              "          if (!dataTable) return;\n",
              "\n",
              "          const docLinkHtml = 'Like what you see? Visit the ' +\n",
              "            '<a target=\"_blank\" href=https://colab.research.google.com/notebooks/data_table.ipynb>data table notebook</a>'\n",
              "            + ' to learn more about interactive tables.';\n",
              "          element.innerHTML = '';\n",
              "          dataTable['output_type'] = 'display_data';\n",
              "          await google.colab.output.renderOutput(dataTable, element);\n",
              "          const docLink = document.createElement('div');\n",
              "          docLink.innerHTML = docLinkHtml;\n",
              "          element.appendChild(docLink);\n",
              "        }\n",
              "      </script>\n",
              "    </div>\n",
              "  </div>\n",
              "  "
            ]
          },
          "metadata": {},
          "execution_count": 89
        }
      ]
    },
    {
      "cell_type": "code",
      "source": [
        "# Review the y_test dataset for correctness before proceeding to initialize the model.\n",
        "\n",
        "y_test.head()"
      ],
      "metadata": {
        "id": "-DyPjrqGOGdY",
        "colab": {
          "base_uri": "https://localhost:8080/"
        },
        "outputId": "3aa7f9b8-7d82-40cd-9f5f-9967535ef365"
      },
      "execution_count": 90,
      "outputs": [
        {
          "output_type": "execute_result",
          "data": {
            "text/plain": [
              "48239     23.107143\n",
              "98853     22.220000\n",
              "148766    23.225714\n",
              "83569     21.735556\n",
              "32137     23.717143\n",
              "Name: shtc3_temperature, dtype: float64"
            ]
          },
          "metadata": {},
          "execution_count": 90
        }
      ]
    },
    {
      "cell_type": "markdown",
      "source": [
        "# **ML Model setup**\n"
      ],
      "metadata": {
        "id": "_52ct99koggA"
      }
    },
    {
      "cell_type": "markdown",
      "source": [
        "## **Initialize Setup using PyCaret**"
      ],
      "metadata": {
        "id": "wfnB0r-VOSfq"
      }
    },
    {
      "cell_type": "markdown",
      "source": [
        "Below are the initialization settings for creating 4 different ML models for repeating the experiment that predict either humidity or temperature;\n",
        "\n",
        "&\n",
        "\n",
        "ML model for predicting only humidity or temperature.\n",
        "\n",
        "**make sure to initialize model setup ONCE at a time specifically for a particular X_train and y_train dataset**"
      ],
      "metadata": {
        "id": "yoH1jjXlEJ9e"
      }
    },
    {
      "cell_type": "code",
      "source": [
        "#Initialize setup\n",
        "#Model for repeating the EXPERIMENT, and predicting HUMIDITY\n",
        "\n",
        "reg_experiment_humidity = setup(data=pd.concat([X_train, y_train], axis=1), \n",
        "            target = 'shtc3_humidity', \n",
        "            session_id=1, \n",
        "            multicollinearity_threshold=True,\n",
        "            normalize=True,\n",
        "            polynomial_features=False,\n",
        "            #polynomial_degree=2,\n",
        "            experiment_name='ML Model: Repeating the experiment for predicting HUMIDITY',\n",
        "            n_jobs=-1)"
      ],
      "metadata": {
        "id": "IGMys2g8OMWr",
        "colab": {
          "base_uri": "https://localhost:8080/",
          "height": 708
        },
        "outputId": "efb0dd58-f07f-4810-8468-3ceae82779db"
      },
      "execution_count": 63,
      "outputs": [
        {
          "output_type": "display_data",
          "data": {
            "text/plain": [
              "<pandas.io.formats.style.Styler at 0x7f8de4fd8c10>"
            ],
            "text/html": [
              "<style type=\"text/css\">\n",
              "#T_2ec91_row7_col1, #T_2ec91_row12_col1 {\n",
              "  background-color: lightgreen;\n",
              "}\n",
              "</style>\n",
              "<table id=\"T_2ec91_\" class=\"dataframe\">\n",
              "  <thead>\n",
              "    <tr>\n",
              "      <th class=\"blank level0\" >&nbsp;</th>\n",
              "      <th class=\"col_heading level0 col0\" >Description</th>\n",
              "      <th class=\"col_heading level0 col1\" >Value</th>\n",
              "    </tr>\n",
              "  </thead>\n",
              "  <tbody>\n",
              "    <tr>\n",
              "      <th id=\"T_2ec91_level0_row0\" class=\"row_heading level0 row0\" >0</th>\n",
              "      <td id=\"T_2ec91_row0_col0\" class=\"data row0 col0\" >Session id</td>\n",
              "      <td id=\"T_2ec91_row0_col1\" class=\"data row0 col1\" >1</td>\n",
              "    </tr>\n",
              "    <tr>\n",
              "      <th id=\"T_2ec91_level0_row1\" class=\"row_heading level0 row1\" >1</th>\n",
              "      <td id=\"T_2ec91_row1_col0\" class=\"data row1 col0\" >Target</td>\n",
              "      <td id=\"T_2ec91_row1_col1\" class=\"data row1 col1\" >shtc3_humidity</td>\n",
              "    </tr>\n",
              "    <tr>\n",
              "      <th id=\"T_2ec91_level0_row2\" class=\"row_heading level0 row2\" >2</th>\n",
              "      <td id=\"T_2ec91_row2_col0\" class=\"data row2 col0\" >Target type</td>\n",
              "      <td id=\"T_2ec91_row2_col1\" class=\"data row2 col1\" >Regression</td>\n",
              "    </tr>\n",
              "    <tr>\n",
              "      <th id=\"T_2ec91_level0_row3\" class=\"row_heading level0 row3\" >3</th>\n",
              "      <td id=\"T_2ec91_row3_col0\" class=\"data row3 col0\" >Data shape</td>\n",
              "      <td id=\"T_2ec91_row3_col1\" class=\"data row3 col1\" >(39807, 5)</td>\n",
              "    </tr>\n",
              "    <tr>\n",
              "      <th id=\"T_2ec91_level0_row4\" class=\"row_heading level0 row4\" >4</th>\n",
              "      <td id=\"T_2ec91_row4_col0\" class=\"data row4 col0\" >Train data shape</td>\n",
              "      <td id=\"T_2ec91_row4_col1\" class=\"data row4 col1\" >(27864, 5)</td>\n",
              "    </tr>\n",
              "    <tr>\n",
              "      <th id=\"T_2ec91_level0_row5\" class=\"row_heading level0 row5\" >5</th>\n",
              "      <td id=\"T_2ec91_row5_col0\" class=\"data row5 col0\" >Test data shape</td>\n",
              "      <td id=\"T_2ec91_row5_col1\" class=\"data row5 col1\" >(11943, 5)</td>\n",
              "    </tr>\n",
              "    <tr>\n",
              "      <th id=\"T_2ec91_level0_row6\" class=\"row_heading level0 row6\" >6</th>\n",
              "      <td id=\"T_2ec91_row6_col0\" class=\"data row6 col0\" >Numeric features</td>\n",
              "      <td id=\"T_2ec91_row6_col1\" class=\"data row6 col1\" >4</td>\n",
              "    </tr>\n",
              "    <tr>\n",
              "      <th id=\"T_2ec91_level0_row7\" class=\"row_heading level0 row7\" >7</th>\n",
              "      <td id=\"T_2ec91_row7_col0\" class=\"data row7 col0\" >Preprocess</td>\n",
              "      <td id=\"T_2ec91_row7_col1\" class=\"data row7 col1\" >True</td>\n",
              "    </tr>\n",
              "    <tr>\n",
              "      <th id=\"T_2ec91_level0_row8\" class=\"row_heading level0 row8\" >8</th>\n",
              "      <td id=\"T_2ec91_row8_col0\" class=\"data row8 col0\" >Imputation type</td>\n",
              "      <td id=\"T_2ec91_row8_col1\" class=\"data row8 col1\" >simple</td>\n",
              "    </tr>\n",
              "    <tr>\n",
              "      <th id=\"T_2ec91_level0_row9\" class=\"row_heading level0 row9\" >9</th>\n",
              "      <td id=\"T_2ec91_row9_col0\" class=\"data row9 col0\" >Numeric imputation</td>\n",
              "      <td id=\"T_2ec91_row9_col1\" class=\"data row9 col1\" >mean</td>\n",
              "    </tr>\n",
              "    <tr>\n",
              "      <th id=\"T_2ec91_level0_row10\" class=\"row_heading level0 row10\" >10</th>\n",
              "      <td id=\"T_2ec91_row10_col0\" class=\"data row10 col0\" >Categorical imputation</td>\n",
              "      <td id=\"T_2ec91_row10_col1\" class=\"data row10 col1\" >constant</td>\n",
              "    </tr>\n",
              "    <tr>\n",
              "      <th id=\"T_2ec91_level0_row11\" class=\"row_heading level0 row11\" >11</th>\n",
              "      <td id=\"T_2ec91_row11_col0\" class=\"data row11 col0\" >Low variance threshold</td>\n",
              "      <td id=\"T_2ec91_row11_col1\" class=\"data row11 col1\" >0</td>\n",
              "    </tr>\n",
              "    <tr>\n",
              "      <th id=\"T_2ec91_level0_row12\" class=\"row_heading level0 row12\" >12</th>\n",
              "      <td id=\"T_2ec91_row12_col0\" class=\"data row12 col0\" >Normalize</td>\n",
              "      <td id=\"T_2ec91_row12_col1\" class=\"data row12 col1\" >True</td>\n",
              "    </tr>\n",
              "    <tr>\n",
              "      <th id=\"T_2ec91_level0_row13\" class=\"row_heading level0 row13\" >13</th>\n",
              "      <td id=\"T_2ec91_row13_col0\" class=\"data row13 col0\" >Normalize method</td>\n",
              "      <td id=\"T_2ec91_row13_col1\" class=\"data row13 col1\" >zscore</td>\n",
              "    </tr>\n",
              "    <tr>\n",
              "      <th id=\"T_2ec91_level0_row14\" class=\"row_heading level0 row14\" >14</th>\n",
              "      <td id=\"T_2ec91_row14_col0\" class=\"data row14 col0\" >Fold Generator</td>\n",
              "      <td id=\"T_2ec91_row14_col1\" class=\"data row14 col1\" >KFold</td>\n",
              "    </tr>\n",
              "    <tr>\n",
              "      <th id=\"T_2ec91_level0_row15\" class=\"row_heading level0 row15\" >15</th>\n",
              "      <td id=\"T_2ec91_row15_col0\" class=\"data row15 col0\" >Fold Number</td>\n",
              "      <td id=\"T_2ec91_row15_col1\" class=\"data row15 col1\" >10</td>\n",
              "    </tr>\n",
              "    <tr>\n",
              "      <th id=\"T_2ec91_level0_row16\" class=\"row_heading level0 row16\" >16</th>\n",
              "      <td id=\"T_2ec91_row16_col0\" class=\"data row16 col0\" >CPU Jobs</td>\n",
              "      <td id=\"T_2ec91_row16_col1\" class=\"data row16 col1\" >-1</td>\n",
              "    </tr>\n",
              "    <tr>\n",
              "      <th id=\"T_2ec91_level0_row17\" class=\"row_heading level0 row17\" >17</th>\n",
              "      <td id=\"T_2ec91_row17_col0\" class=\"data row17 col0\" >Use GPU</td>\n",
              "      <td id=\"T_2ec91_row17_col1\" class=\"data row17 col1\" >False</td>\n",
              "    </tr>\n",
              "    <tr>\n",
              "      <th id=\"T_2ec91_level0_row18\" class=\"row_heading level0 row18\" >18</th>\n",
              "      <td id=\"T_2ec91_row18_col0\" class=\"data row18 col0\" >Log Experiment</td>\n",
              "      <td id=\"T_2ec91_row18_col1\" class=\"data row18 col1\" >False</td>\n",
              "    </tr>\n",
              "    <tr>\n",
              "      <th id=\"T_2ec91_level0_row19\" class=\"row_heading level0 row19\" >19</th>\n",
              "      <td id=\"T_2ec91_row19_col0\" class=\"data row19 col0\" >Experiment Name</td>\n",
              "      <td id=\"T_2ec91_row19_col1\" class=\"data row19 col1\" >ML Model: Repeating the experiment for predicting HUMIDITY</td>\n",
              "    </tr>\n",
              "    <tr>\n",
              "      <th id=\"T_2ec91_level0_row20\" class=\"row_heading level0 row20\" >20</th>\n",
              "      <td id=\"T_2ec91_row20_col0\" class=\"data row20 col0\" >USI</td>\n",
              "      <td id=\"T_2ec91_row20_col1\" class=\"data row20 col1\" >6fa9</td>\n",
              "    </tr>\n",
              "  </tbody>\n",
              "</table>\n"
            ]
          },
          "metadata": {}
        }
      ]
    },
    {
      "cell_type": "code",
      "source": [
        "#Initialize setup\n",
        "#Model for repeating the EXPERIMENT, and predicting TEMPERATURE\n",
        "\n",
        "reg_experiment_temperature = setup(data=pd.concat([X_train, y_train], axis=1), \n",
        "            target = 'shtc3_temperature', \n",
        "            session_id=1, \n",
        "            multicollinearity_threshold=True,\n",
        "            normalize=True,\n",
        "            polynomial_features=False,\n",
        "            #polynomial_degree=2,\n",
        "            experiment_name='ML Model: Repeating the experiment for predicting TEMPERATURE',\n",
        "            n_jobs=-1)"
      ],
      "metadata": {
        "id": "pbn8Qxpn5EuH",
        "colab": {
          "base_uri": "https://localhost:8080/",
          "height": 708
        },
        "outputId": "9600b734-9f14-4fd1-aa7c-2dfaade677f5"
      },
      "execution_count": 91,
      "outputs": [
        {
          "output_type": "display_data",
          "data": {
            "text/plain": [
              "<pandas.io.formats.style.Styler at 0x7f8de09d49d0>"
            ],
            "text/html": [
              "<style type=\"text/css\">\n",
              "#T_1ef3a_row7_col1, #T_1ef3a_row12_col1 {\n",
              "  background-color: lightgreen;\n",
              "}\n",
              "</style>\n",
              "<table id=\"T_1ef3a_\" class=\"dataframe\">\n",
              "  <thead>\n",
              "    <tr>\n",
              "      <th class=\"blank level0\" >&nbsp;</th>\n",
              "      <th class=\"col_heading level0 col0\" >Description</th>\n",
              "      <th class=\"col_heading level0 col1\" >Value</th>\n",
              "    </tr>\n",
              "  </thead>\n",
              "  <tbody>\n",
              "    <tr>\n",
              "      <th id=\"T_1ef3a_level0_row0\" class=\"row_heading level0 row0\" >0</th>\n",
              "      <td id=\"T_1ef3a_row0_col0\" class=\"data row0 col0\" >Session id</td>\n",
              "      <td id=\"T_1ef3a_row0_col1\" class=\"data row0 col1\" >1</td>\n",
              "    </tr>\n",
              "    <tr>\n",
              "      <th id=\"T_1ef3a_level0_row1\" class=\"row_heading level0 row1\" >1</th>\n",
              "      <td id=\"T_1ef3a_row1_col0\" class=\"data row1 col0\" >Target</td>\n",
              "      <td id=\"T_1ef3a_row1_col1\" class=\"data row1 col1\" >shtc3_temperature</td>\n",
              "    </tr>\n",
              "    <tr>\n",
              "      <th id=\"T_1ef3a_level0_row2\" class=\"row_heading level0 row2\" >2</th>\n",
              "      <td id=\"T_1ef3a_row2_col0\" class=\"data row2 col0\" >Target type</td>\n",
              "      <td id=\"T_1ef3a_row2_col1\" class=\"data row2 col1\" >Regression</td>\n",
              "    </tr>\n",
              "    <tr>\n",
              "      <th id=\"T_1ef3a_level0_row3\" class=\"row_heading level0 row3\" >3</th>\n",
              "      <td id=\"T_1ef3a_row3_col0\" class=\"data row3 col0\" >Data shape</td>\n",
              "      <td id=\"T_1ef3a_row3_col1\" class=\"data row3 col1\" >(39807, 5)</td>\n",
              "    </tr>\n",
              "    <tr>\n",
              "      <th id=\"T_1ef3a_level0_row4\" class=\"row_heading level0 row4\" >4</th>\n",
              "      <td id=\"T_1ef3a_row4_col0\" class=\"data row4 col0\" >Train data shape</td>\n",
              "      <td id=\"T_1ef3a_row4_col1\" class=\"data row4 col1\" >(27864, 5)</td>\n",
              "    </tr>\n",
              "    <tr>\n",
              "      <th id=\"T_1ef3a_level0_row5\" class=\"row_heading level0 row5\" >5</th>\n",
              "      <td id=\"T_1ef3a_row5_col0\" class=\"data row5 col0\" >Test data shape</td>\n",
              "      <td id=\"T_1ef3a_row5_col1\" class=\"data row5 col1\" >(11943, 5)</td>\n",
              "    </tr>\n",
              "    <tr>\n",
              "      <th id=\"T_1ef3a_level0_row6\" class=\"row_heading level0 row6\" >6</th>\n",
              "      <td id=\"T_1ef3a_row6_col0\" class=\"data row6 col0\" >Numeric features</td>\n",
              "      <td id=\"T_1ef3a_row6_col1\" class=\"data row6 col1\" >4</td>\n",
              "    </tr>\n",
              "    <tr>\n",
              "      <th id=\"T_1ef3a_level0_row7\" class=\"row_heading level0 row7\" >7</th>\n",
              "      <td id=\"T_1ef3a_row7_col0\" class=\"data row7 col0\" >Preprocess</td>\n",
              "      <td id=\"T_1ef3a_row7_col1\" class=\"data row7 col1\" >True</td>\n",
              "    </tr>\n",
              "    <tr>\n",
              "      <th id=\"T_1ef3a_level0_row8\" class=\"row_heading level0 row8\" >8</th>\n",
              "      <td id=\"T_1ef3a_row8_col0\" class=\"data row8 col0\" >Imputation type</td>\n",
              "      <td id=\"T_1ef3a_row8_col1\" class=\"data row8 col1\" >simple</td>\n",
              "    </tr>\n",
              "    <tr>\n",
              "      <th id=\"T_1ef3a_level0_row9\" class=\"row_heading level0 row9\" >9</th>\n",
              "      <td id=\"T_1ef3a_row9_col0\" class=\"data row9 col0\" >Numeric imputation</td>\n",
              "      <td id=\"T_1ef3a_row9_col1\" class=\"data row9 col1\" >mean</td>\n",
              "    </tr>\n",
              "    <tr>\n",
              "      <th id=\"T_1ef3a_level0_row10\" class=\"row_heading level0 row10\" >10</th>\n",
              "      <td id=\"T_1ef3a_row10_col0\" class=\"data row10 col0\" >Categorical imputation</td>\n",
              "      <td id=\"T_1ef3a_row10_col1\" class=\"data row10 col1\" >constant</td>\n",
              "    </tr>\n",
              "    <tr>\n",
              "      <th id=\"T_1ef3a_level0_row11\" class=\"row_heading level0 row11\" >11</th>\n",
              "      <td id=\"T_1ef3a_row11_col0\" class=\"data row11 col0\" >Low variance threshold</td>\n",
              "      <td id=\"T_1ef3a_row11_col1\" class=\"data row11 col1\" >0</td>\n",
              "    </tr>\n",
              "    <tr>\n",
              "      <th id=\"T_1ef3a_level0_row12\" class=\"row_heading level0 row12\" >12</th>\n",
              "      <td id=\"T_1ef3a_row12_col0\" class=\"data row12 col0\" >Normalize</td>\n",
              "      <td id=\"T_1ef3a_row12_col1\" class=\"data row12 col1\" >True</td>\n",
              "    </tr>\n",
              "    <tr>\n",
              "      <th id=\"T_1ef3a_level0_row13\" class=\"row_heading level0 row13\" >13</th>\n",
              "      <td id=\"T_1ef3a_row13_col0\" class=\"data row13 col0\" >Normalize method</td>\n",
              "      <td id=\"T_1ef3a_row13_col1\" class=\"data row13 col1\" >zscore</td>\n",
              "    </tr>\n",
              "    <tr>\n",
              "      <th id=\"T_1ef3a_level0_row14\" class=\"row_heading level0 row14\" >14</th>\n",
              "      <td id=\"T_1ef3a_row14_col0\" class=\"data row14 col0\" >Fold Generator</td>\n",
              "      <td id=\"T_1ef3a_row14_col1\" class=\"data row14 col1\" >KFold</td>\n",
              "    </tr>\n",
              "    <tr>\n",
              "      <th id=\"T_1ef3a_level0_row15\" class=\"row_heading level0 row15\" >15</th>\n",
              "      <td id=\"T_1ef3a_row15_col0\" class=\"data row15 col0\" >Fold Number</td>\n",
              "      <td id=\"T_1ef3a_row15_col1\" class=\"data row15 col1\" >10</td>\n",
              "    </tr>\n",
              "    <tr>\n",
              "      <th id=\"T_1ef3a_level0_row16\" class=\"row_heading level0 row16\" >16</th>\n",
              "      <td id=\"T_1ef3a_row16_col0\" class=\"data row16 col0\" >CPU Jobs</td>\n",
              "      <td id=\"T_1ef3a_row16_col1\" class=\"data row16 col1\" >-1</td>\n",
              "    </tr>\n",
              "    <tr>\n",
              "      <th id=\"T_1ef3a_level0_row17\" class=\"row_heading level0 row17\" >17</th>\n",
              "      <td id=\"T_1ef3a_row17_col0\" class=\"data row17 col0\" >Use GPU</td>\n",
              "      <td id=\"T_1ef3a_row17_col1\" class=\"data row17 col1\" >False</td>\n",
              "    </tr>\n",
              "    <tr>\n",
              "      <th id=\"T_1ef3a_level0_row18\" class=\"row_heading level0 row18\" >18</th>\n",
              "      <td id=\"T_1ef3a_row18_col0\" class=\"data row18 col0\" >Log Experiment</td>\n",
              "      <td id=\"T_1ef3a_row18_col1\" class=\"data row18 col1\" >False</td>\n",
              "    </tr>\n",
              "    <tr>\n",
              "      <th id=\"T_1ef3a_level0_row19\" class=\"row_heading level0 row19\" >19</th>\n",
              "      <td id=\"T_1ef3a_row19_col0\" class=\"data row19 col0\" >Experiment Name</td>\n",
              "      <td id=\"T_1ef3a_row19_col1\" class=\"data row19 col1\" >ML Model: Repeating the experiment for predicting TEMPERATURE</td>\n",
              "    </tr>\n",
              "    <tr>\n",
              "      <th id=\"T_1ef3a_level0_row20\" class=\"row_heading level0 row20\" >20</th>\n",
              "      <td id=\"T_1ef3a_row20_col0\" class=\"data row20 col0\" >USI</td>\n",
              "      <td id=\"T_1ef3a_row20_col1\" class=\"data row20 col1\" >b67c</td>\n",
              "    </tr>\n",
              "  </tbody>\n",
              "</table>\n"
            ]
          },
          "metadata": {}
        }
      ]
    },
    {
      "cell_type": "code",
      "source": [
        "#Initialize setup\n",
        "#Model for predicting HUMIDITY\n",
        "\n",
        "reg_HUMIDITY = setup(data=pd.concat([X_train, y_train], axis=1), \n",
        "            target = 'shtc3_humidity', \n",
        "            session_id=1, \n",
        "            multicollinearity_threshold=True,\n",
        "            normalize=True,\n",
        "            polynomial_features=False,\n",
        "            #polynomial_degree=2,\n",
        "            experiment_name='ML Model for predicting HUMIDITY',\n",
        "            n_jobs=-1)"
      ],
      "metadata": {
        "id": "3PUgATWkw7mz"
      },
      "execution_count": null,
      "outputs": []
    },
    {
      "cell_type": "code",
      "source": [
        "#Initialize setup\n",
        "#Model for predicting TEMPERATURE\n",
        "\n",
        "reg_TEMPERATURE = setup(data=pd.concat([X_train, y_train], axis=1), \n",
        "            target = 'shtc3_temperature', \n",
        "            session_id=1, \n",
        "            multicollinearity_threshold=True,\n",
        "            normalize=True,\n",
        "            polynomial_features=False,\n",
        "            #polynomial_degree=2,\n",
        "            experiment_name='ML Model for predicting TEMPERATURE',\n",
        "            n_jobs=-1)"
      ],
      "metadata": {
        "id": "X95K7cf53gb5"
      },
      "execution_count": null,
      "outputs": []
    },
    {
      "cell_type": "markdown",
      "source": [
        "## **Train and Compare to find BEST model**"
      ],
      "metadata": {
        "id": "ZHsWT2bNOfM5"
      }
    },
    {
      "cell_type": "markdown",
      "source": [
        "Determine the best model for each category by executing the cells one by one."
      ],
      "metadata": {
        "id": "CXCBFtVgFFl7"
      }
    },
    {
      "cell_type": "code",
      "source": [
        "best_model_experiment_humidity = compare_models(fold=20, sort='R2')"
      ],
      "metadata": {
        "id": "3YQ-2TnUOcQS",
        "colab": {
          "base_uri": "https://localhost:8080/",
          "height": 614,
          "referenced_widgets": [
            "0130d3f5253b45bca1d4a9957261743d",
            "b0864ff6643644e795b91423546982e7",
            "3ce992dc14ec441da1de2d31e27d3f11",
            "8f4adefcfca34e8fb5f3ee54eea98553",
            "f7c6c736bd8745d4b5ce19255555ba3b",
            "6a07e7c2fab2407cba2d12b6af1d04e7",
            "7efaed5d70b549fcaabf5d1e6f108611",
            "4412ae1ba1324a51858cc06ed302781b",
            "da0ff5bd650e482982bd362f48d652c2",
            "0b0691d478f746839fb1a8acb112e0c7",
            "b782c2df00c34778b31a04341279a27a"
          ]
        },
        "outputId": "6822f3ee-8633-4bde-cf7c-c5c6148facc3"
      },
      "execution_count": 64,
      "outputs": [
        {
          "output_type": "display_data",
          "data": {
            "text/plain": [
              "<IPython.core.display.HTML object>"
            ],
            "text/html": []
          },
          "metadata": {}
        },
        {
          "output_type": "display_data",
          "data": {
            "text/plain": [
              "<pandas.io.formats.style.Styler at 0x7f8de4ec3490>"
            ],
            "text/html": [
              "<style type=\"text/css\">\n",
              "#T_66854_ th {\n",
              "  text-align: left;\n",
              "}\n",
              "#T_66854_row0_col0, #T_66854_row0_col1, #T_66854_row1_col0, #T_66854_row1_col2, #T_66854_row1_col3, #T_66854_row1_col4, #T_66854_row1_col5, #T_66854_row2_col0, #T_66854_row2_col1, #T_66854_row2_col2, #T_66854_row2_col3, #T_66854_row2_col4, #T_66854_row2_col5, #T_66854_row2_col6, #T_66854_row3_col0, #T_66854_row3_col1, #T_66854_row3_col2, #T_66854_row3_col3, #T_66854_row3_col4, #T_66854_row3_col5, #T_66854_row3_col6, #T_66854_row4_col0, #T_66854_row4_col1, #T_66854_row4_col2, #T_66854_row4_col3, #T_66854_row4_col4, #T_66854_row4_col5, #T_66854_row4_col6, #T_66854_row5_col0, #T_66854_row5_col1, #T_66854_row5_col2, #T_66854_row5_col3, #T_66854_row5_col4, #T_66854_row5_col5, #T_66854_row5_col6, #T_66854_row6_col0, #T_66854_row6_col1, #T_66854_row6_col2, #T_66854_row6_col3, #T_66854_row6_col4, #T_66854_row6_col5, #T_66854_row6_col6, #T_66854_row7_col0, #T_66854_row7_col1, #T_66854_row7_col2, #T_66854_row7_col3, #T_66854_row7_col4, #T_66854_row7_col5, #T_66854_row7_col6, #T_66854_row8_col0, #T_66854_row8_col1, #T_66854_row8_col2, #T_66854_row8_col3, #T_66854_row8_col4, #T_66854_row8_col5, #T_66854_row8_col6, #T_66854_row9_col0, #T_66854_row9_col1, #T_66854_row9_col2, #T_66854_row9_col3, #T_66854_row9_col4, #T_66854_row9_col5, #T_66854_row9_col6, #T_66854_row10_col0, #T_66854_row10_col1, #T_66854_row10_col2, #T_66854_row10_col3, #T_66854_row10_col4, #T_66854_row10_col5, #T_66854_row10_col6, #T_66854_row11_col0, #T_66854_row11_col1, #T_66854_row11_col2, #T_66854_row11_col3, #T_66854_row11_col4, #T_66854_row11_col5, #T_66854_row11_col6, #T_66854_row12_col0, #T_66854_row12_col1, #T_66854_row12_col2, #T_66854_row12_col3, #T_66854_row12_col4, #T_66854_row12_col5, #T_66854_row12_col6, #T_66854_row13_col0, #T_66854_row13_col1, #T_66854_row13_col2, #T_66854_row13_col3, #T_66854_row13_col4, #T_66854_row13_col5, #T_66854_row13_col6, #T_66854_row14_col0, #T_66854_row14_col1, #T_66854_row14_col2, #T_66854_row14_col3, #T_66854_row14_col4, #T_66854_row14_col5, #T_66854_row14_col6, #T_66854_row15_col0, #T_66854_row15_col1, #T_66854_row15_col2, #T_66854_row15_col3, #T_66854_row15_col4, #T_66854_row15_col5, #T_66854_row15_col6, #T_66854_row16_col0, #T_66854_row16_col1, #T_66854_row16_col2, #T_66854_row16_col3, #T_66854_row16_col4, #T_66854_row16_col5, #T_66854_row16_col6, #T_66854_row17_col0, #T_66854_row17_col1, #T_66854_row17_col2, #T_66854_row17_col3, #T_66854_row17_col4, #T_66854_row17_col5, #T_66854_row17_col6 {\n",
              "  text-align: left;\n",
              "}\n",
              "#T_66854_row0_col2, #T_66854_row0_col3, #T_66854_row0_col4, #T_66854_row0_col5, #T_66854_row0_col6, #T_66854_row1_col1, #T_66854_row1_col6 {\n",
              "  text-align: left;\n",
              "  background-color: yellow;\n",
              "}\n",
              "#T_66854_row0_col7, #T_66854_row1_col7, #T_66854_row2_col7, #T_66854_row3_col7, #T_66854_row4_col7, #T_66854_row5_col7, #T_66854_row6_col7, #T_66854_row7_col7, #T_66854_row8_col7, #T_66854_row9_col7, #T_66854_row10_col7, #T_66854_row12_col7, #T_66854_row13_col7, #T_66854_row14_col7, #T_66854_row15_col7, #T_66854_row16_col7, #T_66854_row17_col7 {\n",
              "  text-align: left;\n",
              "  background-color: lightgrey;\n",
              "}\n",
              "#T_66854_row11_col7 {\n",
              "  text-align: left;\n",
              "  background-color: yellow;\n",
              "  background-color: lightgrey;\n",
              "}\n",
              "</style>\n",
              "<table id=\"T_66854_\" class=\"dataframe\">\n",
              "  <thead>\n",
              "    <tr>\n",
              "      <th class=\"blank level0\" >&nbsp;</th>\n",
              "      <th class=\"col_heading level0 col0\" >Model</th>\n",
              "      <th class=\"col_heading level0 col1\" >MAE</th>\n",
              "      <th class=\"col_heading level0 col2\" >MSE</th>\n",
              "      <th class=\"col_heading level0 col3\" >RMSE</th>\n",
              "      <th class=\"col_heading level0 col4\" >R2</th>\n",
              "      <th class=\"col_heading level0 col5\" >RMSLE</th>\n",
              "      <th class=\"col_heading level0 col6\" >MAPE</th>\n",
              "      <th class=\"col_heading level0 col7\" >TT (Sec)</th>\n",
              "    </tr>\n",
              "  </thead>\n",
              "  <tbody>\n",
              "    <tr>\n",
              "      <th id=\"T_66854_level0_row0\" class=\"row_heading level0 row0\" >rf</th>\n",
              "      <td id=\"T_66854_row0_col0\" class=\"data row0 col0\" >Random Forest Regressor</td>\n",
              "      <td id=\"T_66854_row0_col1\" class=\"data row0 col1\" >0.6351</td>\n",
              "      <td id=\"T_66854_row0_col2\" class=\"data row0 col2\" >0.8650</td>\n",
              "      <td id=\"T_66854_row0_col3\" class=\"data row0 col3\" >0.9297</td>\n",
              "      <td id=\"T_66854_row0_col4\" class=\"data row0 col4\" >0.9905</td>\n",
              "      <td id=\"T_66854_row0_col5\" class=\"data row0 col5\" >0.0178</td>\n",
              "      <td id=\"T_66854_row0_col6\" class=\"data row0 col6\" >0.0124</td>\n",
              "      <td id=\"T_66854_row0_col7\" class=\"data row0 col7\" >4.0875</td>\n",
              "    </tr>\n",
              "    <tr>\n",
              "      <th id=\"T_66854_level0_row1\" class=\"row_heading level0 row1\" >et</th>\n",
              "      <td id=\"T_66854_row1_col0\" class=\"data row1 col0\" >Extra Trees Regressor</td>\n",
              "      <td id=\"T_66854_row1_col1\" class=\"data row1 col1\" >0.6329</td>\n",
              "      <td id=\"T_66854_row1_col2\" class=\"data row1 col2\" >0.8668</td>\n",
              "      <td id=\"T_66854_row1_col3\" class=\"data row1 col3\" >0.9307</td>\n",
              "      <td id=\"T_66854_row1_col4\" class=\"data row1 col4\" >0.9904</td>\n",
              "      <td id=\"T_66854_row1_col5\" class=\"data row1 col5\" >0.0179</td>\n",
              "      <td id=\"T_66854_row1_col6\" class=\"data row1 col6\" >0.0124</td>\n",
              "      <td id=\"T_66854_row1_col7\" class=\"data row1 col7\" >2.3805</td>\n",
              "    </tr>\n",
              "    <tr>\n",
              "      <th id=\"T_66854_level0_row2\" class=\"row_heading level0 row2\" >lightgbm</th>\n",
              "      <td id=\"T_66854_row2_col0\" class=\"data row2 col0\" >Light Gradient Boosting Machine</td>\n",
              "      <td id=\"T_66854_row2_col1\" class=\"data row2 col1\" >0.7662</td>\n",
              "      <td id=\"T_66854_row2_col2\" class=\"data row2 col2\" >1.0328</td>\n",
              "      <td id=\"T_66854_row2_col3\" class=\"data row2 col3\" >1.0160</td>\n",
              "      <td id=\"T_66854_row2_col4\" class=\"data row2 col4\" >0.9886</td>\n",
              "      <td id=\"T_66854_row2_col5\" class=\"data row2 col5\" >0.0196</td>\n",
              "      <td id=\"T_66854_row2_col6\" class=\"data row2 col6\" >0.0151</td>\n",
              "      <td id=\"T_66854_row2_col7\" class=\"data row2 col7\" >0.1900</td>\n",
              "    </tr>\n",
              "    <tr>\n",
              "      <th id=\"T_66854_level0_row3\" class=\"row_heading level0 row3\" >knn</th>\n",
              "      <td id=\"T_66854_row3_col0\" class=\"data row3 col0\" >K Neighbors Regressor</td>\n",
              "      <td id=\"T_66854_row3_col1\" class=\"data row3 col1\" >0.7221</td>\n",
              "      <td id=\"T_66854_row3_col2\" class=\"data row3 col2\" >1.0960</td>\n",
              "      <td id=\"T_66854_row3_col3\" class=\"data row3 col3\" >1.0465</td>\n",
              "      <td id=\"T_66854_row3_col4\" class=\"data row3 col4\" >0.9879</td>\n",
              "      <td id=\"T_66854_row3_col5\" class=\"data row3 col5\" >0.0203</td>\n",
              "      <td id=\"T_66854_row3_col6\" class=\"data row3 col6\" >0.0142</td>\n",
              "      <td id=\"T_66854_row3_col7\" class=\"data row3 col7\" >0.0840</td>\n",
              "    </tr>\n",
              "    <tr>\n",
              "      <th id=\"T_66854_level0_row4\" class=\"row_heading level0 row4\" >gbr</th>\n",
              "      <td id=\"T_66854_row4_col0\" class=\"data row4 col0\" >Gradient Boosting Regressor</td>\n",
              "      <td id=\"T_66854_row4_col1\" class=\"data row4 col1\" >0.8591</td>\n",
              "      <td id=\"T_66854_row4_col2\" class=\"data row4 col2\" >1.2506</td>\n",
              "      <td id=\"T_66854_row4_col3\" class=\"data row4 col3\" >1.1181</td>\n",
              "      <td id=\"T_66854_row4_col4\" class=\"data row4 col4\" >0.9862</td>\n",
              "      <td id=\"T_66854_row4_col5\" class=\"data row4 col5\" >0.0215</td>\n",
              "      <td id=\"T_66854_row4_col6\" class=\"data row4 col6\" >0.0169</td>\n",
              "      <td id=\"T_66854_row4_col7\" class=\"data row4 col7\" >1.2395</td>\n",
              "    </tr>\n",
              "    <tr>\n",
              "      <th id=\"T_66854_level0_row5\" class=\"row_heading level0 row5\" >lar</th>\n",
              "      <td id=\"T_66854_row5_col0\" class=\"data row5 col0\" >Least Angle Regression</td>\n",
              "      <td id=\"T_66854_row5_col1\" class=\"data row5 col1\" >0.9263</td>\n",
              "      <td id=\"T_66854_row5_col2\" class=\"data row5 col2\" >1.3803</td>\n",
              "      <td id=\"T_66854_row5_col3\" class=\"data row5 col3\" >1.1747</td>\n",
              "      <td id=\"T_66854_row5_col4\" class=\"data row5 col4\" >0.9848</td>\n",
              "      <td id=\"T_66854_row5_col5\" class=\"data row5 col5\" >0.0231</td>\n",
              "      <td id=\"T_66854_row5_col6\" class=\"data row5 col6\" >0.0184</td>\n",
              "      <td id=\"T_66854_row5_col7\" class=\"data row5 col7\" >0.0310</td>\n",
              "    </tr>\n",
              "    <tr>\n",
              "      <th id=\"T_66854_level0_row6\" class=\"row_heading level0 row6\" >br</th>\n",
              "      <td id=\"T_66854_row6_col0\" class=\"data row6 col0\" >Bayesian Ridge</td>\n",
              "      <td id=\"T_66854_row6_col1\" class=\"data row6 col1\" >0.9263</td>\n",
              "      <td id=\"T_66854_row6_col2\" class=\"data row6 col2\" >1.3803</td>\n",
              "      <td id=\"T_66854_row6_col3\" class=\"data row6 col3\" >1.1747</td>\n",
              "      <td id=\"T_66854_row6_col4\" class=\"data row6 col4\" >0.9848</td>\n",
              "      <td id=\"T_66854_row6_col5\" class=\"data row6 col5\" >0.0231</td>\n",
              "      <td id=\"T_66854_row6_col6\" class=\"data row6 col6\" >0.0184</td>\n",
              "      <td id=\"T_66854_row6_col7\" class=\"data row6 col7\" >0.0310</td>\n",
              "    </tr>\n",
              "    <tr>\n",
              "      <th id=\"T_66854_level0_row7\" class=\"row_heading level0 row7\" >huber</th>\n",
              "      <td id=\"T_66854_row7_col0\" class=\"data row7 col0\" >Huber Regressor</td>\n",
              "      <td id=\"T_66854_row7_col1\" class=\"data row7 col1\" >0.9254</td>\n",
              "      <td id=\"T_66854_row7_col2\" class=\"data row7 col2\" >1.3817</td>\n",
              "      <td id=\"T_66854_row7_col3\" class=\"data row7 col3\" >1.1753</td>\n",
              "      <td id=\"T_66854_row7_col4\" class=\"data row7 col4\" >0.9848</td>\n",
              "      <td id=\"T_66854_row7_col5\" class=\"data row7 col5\" >0.0231</td>\n",
              "      <td id=\"T_66854_row7_col6\" class=\"data row7 col6\" >0.0184</td>\n",
              "      <td id=\"T_66854_row7_col7\" class=\"data row7 col7\" >0.0705</td>\n",
              "    </tr>\n",
              "    <tr>\n",
              "      <th id=\"T_66854_level0_row8\" class=\"row_heading level0 row8\" >ridge</th>\n",
              "      <td id=\"T_66854_row8_col0\" class=\"data row8 col0\" >Ridge Regression</td>\n",
              "      <td id=\"T_66854_row8_col1\" class=\"data row8 col1\" >0.9264</td>\n",
              "      <td id=\"T_66854_row8_col2\" class=\"data row8 col2\" >1.3803</td>\n",
              "      <td id=\"T_66854_row8_col3\" class=\"data row8 col3\" >1.1747</td>\n",
              "      <td id=\"T_66854_row8_col4\" class=\"data row8 col4\" >0.9848</td>\n",
              "      <td id=\"T_66854_row8_col5\" class=\"data row8 col5\" >0.0231</td>\n",
              "      <td id=\"T_66854_row8_col6\" class=\"data row8 col6\" >0.0184</td>\n",
              "      <td id=\"T_66854_row8_col7\" class=\"data row8 col7\" >0.0340</td>\n",
              "    </tr>\n",
              "    <tr>\n",
              "      <th id=\"T_66854_level0_row9\" class=\"row_heading level0 row9\" >lr</th>\n",
              "      <td id=\"T_66854_row9_col0\" class=\"data row9 col0\" >Linear Regression</td>\n",
              "      <td id=\"T_66854_row9_col1\" class=\"data row9 col1\" >0.9263</td>\n",
              "      <td id=\"T_66854_row9_col2\" class=\"data row9 col2\" >1.3803</td>\n",
              "      <td id=\"T_66854_row9_col3\" class=\"data row9 col3\" >1.1747</td>\n",
              "      <td id=\"T_66854_row9_col4\" class=\"data row9 col4\" >0.9848</td>\n",
              "      <td id=\"T_66854_row9_col5\" class=\"data row9 col5\" >0.0231</td>\n",
              "      <td id=\"T_66854_row9_col6\" class=\"data row9 col6\" >0.0184</td>\n",
              "      <td id=\"T_66854_row9_col7\" class=\"data row9 col7\" >0.2760</td>\n",
              "    </tr>\n",
              "    <tr>\n",
              "      <th id=\"T_66854_level0_row10\" class=\"row_heading level0 row10\" >dt</th>\n",
              "      <td id=\"T_66854_row10_col0\" class=\"data row10 col0\" >Decision Tree Regressor</td>\n",
              "      <td id=\"T_66854_row10_col1\" class=\"data row10 col1\" >0.7725</td>\n",
              "      <td id=\"T_66854_row10_col2\" class=\"data row10 col2\" >1.5903</td>\n",
              "      <td id=\"T_66854_row10_col3\" class=\"data row10 col3\" >1.2605</td>\n",
              "      <td id=\"T_66854_row10_col4\" class=\"data row10 col4\" >0.9825</td>\n",
              "      <td id=\"T_66854_row10_col5\" class=\"data row10 col5\" >0.0242</td>\n",
              "      <td id=\"T_66854_row10_col6\" class=\"data row10 col6\" >0.0151</td>\n",
              "      <td id=\"T_66854_row10_col7\" class=\"data row10 col7\" >0.0975</td>\n",
              "    </tr>\n",
              "    <tr>\n",
              "      <th id=\"T_66854_level0_row11\" class=\"row_heading level0 row11\" >omp</th>\n",
              "      <td id=\"T_66854_row11_col0\" class=\"data row11 col0\" >Orthogonal Matching Pursuit</td>\n",
              "      <td id=\"T_66854_row11_col1\" class=\"data row11 col1\" >1.1532</td>\n",
              "      <td id=\"T_66854_row11_col2\" class=\"data row11 col2\" >2.2210</td>\n",
              "      <td id=\"T_66854_row11_col3\" class=\"data row11 col3\" >1.4900</td>\n",
              "      <td id=\"T_66854_row11_col4\" class=\"data row11 col4\" >0.9755</td>\n",
              "      <td id=\"T_66854_row11_col5\" class=\"data row11 col5\" >0.0286</td>\n",
              "      <td id=\"T_66854_row11_col6\" class=\"data row11 col6\" >0.0227</td>\n",
              "      <td id=\"T_66854_row11_col7\" class=\"data row11 col7\" >0.0290</td>\n",
              "    </tr>\n",
              "    <tr>\n",
              "      <th id=\"T_66854_level0_row12\" class=\"row_heading level0 row12\" >ada</th>\n",
              "      <td id=\"T_66854_row12_col0\" class=\"data row12 col0\" >AdaBoost Regressor</td>\n",
              "      <td id=\"T_66854_row12_col1\" class=\"data row12 col1\" >1.2533</td>\n",
              "      <td id=\"T_66854_row12_col2\" class=\"data row12 col2\" >2.4705</td>\n",
              "      <td id=\"T_66854_row12_col3\" class=\"data row12 col3\" >1.5716</td>\n",
              "      <td id=\"T_66854_row12_col4\" class=\"data row12 col4\" >0.9727</td>\n",
              "      <td id=\"T_66854_row12_col5\" class=\"data row12 col5\" >0.0313</td>\n",
              "      <td id=\"T_66854_row12_col6\" class=\"data row12 col6\" >0.0253</td>\n",
              "      <td id=\"T_66854_row12_col7\" class=\"data row12 col7\" >0.6970</td>\n",
              "    </tr>\n",
              "    <tr>\n",
              "      <th id=\"T_66854_level0_row13\" class=\"row_heading level0 row13\" >lasso</th>\n",
              "      <td id=\"T_66854_row13_col0\" class=\"data row13 col0\" >Lasso Regression</td>\n",
              "      <td id=\"T_66854_row13_col1\" class=\"data row13 col1\" >1.4711</td>\n",
              "      <td id=\"T_66854_row13_col2\" class=\"data row13 col2\" >3.2210</td>\n",
              "      <td id=\"T_66854_row13_col3\" class=\"data row13 col3\" >1.7946</td>\n",
              "      <td id=\"T_66854_row13_col4\" class=\"data row13 col4\" >0.9645</td>\n",
              "      <td id=\"T_66854_row13_col5\" class=\"data row13 col5\" >0.0363</td>\n",
              "      <td id=\"T_66854_row13_col6\" class=\"data row13 col6\" >0.0299</td>\n",
              "      <td id=\"T_66854_row13_col7\" class=\"data row13 col7\" >0.0300</td>\n",
              "    </tr>\n",
              "    <tr>\n",
              "      <th id=\"T_66854_level0_row14\" class=\"row_heading level0 row14\" >par</th>\n",
              "      <td id=\"T_66854_row14_col0\" class=\"data row14 col0\" >Passive Aggressive Regressor</td>\n",
              "      <td id=\"T_66854_row14_col1\" class=\"data row14 col1\" >1.5116</td>\n",
              "      <td id=\"T_66854_row14_col2\" class=\"data row14 col2\" >3.8488</td>\n",
              "      <td id=\"T_66854_row14_col3\" class=\"data row14 col3\" >1.9192</td>\n",
              "      <td id=\"T_66854_row14_col4\" class=\"data row14 col4\" >0.9576</td>\n",
              "      <td id=\"T_66854_row14_col5\" class=\"data row14 col5\" >0.0374</td>\n",
              "      <td id=\"T_66854_row14_col6\" class=\"data row14 col6\" >0.0299</td>\n",
              "      <td id=\"T_66854_row14_col7\" class=\"data row14 col7\" >0.0405</td>\n",
              "    </tr>\n",
              "    <tr>\n",
              "      <th id=\"T_66854_level0_row15\" class=\"row_heading level0 row15\" >en</th>\n",
              "      <td id=\"T_66854_row15_col0\" class=\"data row15 col0\" >Elastic Net</td>\n",
              "      <td id=\"T_66854_row15_col1\" class=\"data row15 col1\" >3.2201</td>\n",
              "      <td id=\"T_66854_row15_col2\" class=\"data row15 col2\" >13.8334</td>\n",
              "      <td id=\"T_66854_row15_col3\" class=\"data row15 col3\" >3.7191</td>\n",
              "      <td id=\"T_66854_row15_col4\" class=\"data row15 col4\" >0.8474</td>\n",
              "      <td id=\"T_66854_row15_col5\" class=\"data row15 col5\" >0.0776</td>\n",
              "      <td id=\"T_66854_row15_col6\" class=\"data row15 col6\" >0.0670</td>\n",
              "      <td id=\"T_66854_row15_col7\" class=\"data row15 col7\" >0.0300</td>\n",
              "    </tr>\n",
              "    <tr>\n",
              "      <th id=\"T_66854_level0_row16\" class=\"row_heading level0 row16\" >llar</th>\n",
              "      <td id=\"T_66854_row16_col0\" class=\"data row16 col0\" >Lasso Least Angle Regression</td>\n",
              "      <td id=\"T_66854_row16_col1\" class=\"data row16 col1\" >8.0720</td>\n",
              "      <td id=\"T_66854_row16_col2\" class=\"data row16 col2\" >90.7192</td>\n",
              "      <td id=\"T_66854_row16_col3\" class=\"data row16 col3\" >9.5240</td>\n",
              "      <td id=\"T_66854_row16_col4\" class=\"data row16 col4\" >-0.0005</td>\n",
              "      <td id=\"T_66854_row16_col5\" class=\"data row16 col5\" >0.1912</td>\n",
              "      <td id=\"T_66854_row16_col6\" class=\"data row16 col6\" >0.1692</td>\n",
              "      <td id=\"T_66854_row16_col7\" class=\"data row16 col7\" >0.0310</td>\n",
              "    </tr>\n",
              "    <tr>\n",
              "      <th id=\"T_66854_level0_row17\" class=\"row_heading level0 row17\" >dummy</th>\n",
              "      <td id=\"T_66854_row17_col0\" class=\"data row17 col0\" >Dummy Regressor</td>\n",
              "      <td id=\"T_66854_row17_col1\" class=\"data row17 col1\" >8.0720</td>\n",
              "      <td id=\"T_66854_row17_col2\" class=\"data row17 col2\" >90.7192</td>\n",
              "      <td id=\"T_66854_row17_col3\" class=\"data row17 col3\" >9.5240</td>\n",
              "      <td id=\"T_66854_row17_col4\" class=\"data row17 col4\" >-0.0005</td>\n",
              "      <td id=\"T_66854_row17_col5\" class=\"data row17 col5\" >0.1912</td>\n",
              "      <td id=\"T_66854_row17_col6\" class=\"data row17 col6\" >0.1692</td>\n",
              "      <td id=\"T_66854_row17_col7\" class=\"data row17 col7\" >0.0375</td>\n",
              "    </tr>\n",
              "  </tbody>\n",
              "</table>\n"
            ]
          },
          "metadata": {}
        },
        {
          "output_type": "display_data",
          "data": {
            "text/plain": [
              "Processing:   0%|          | 0/77 [00:00<?, ?it/s]"
            ],
            "application/vnd.jupyter.widget-view+json": {
              "version_major": 2,
              "version_minor": 0,
              "model_id": "0130d3f5253b45bca1d4a9957261743d"
            }
          },
          "metadata": {
            "application/vnd.jupyter.widget-view+json": {
              "colab": {
                "custom_widget_manager": {
                  "url": "https://ssl.gstatic.com/colaboratory-static/widgets/colab-cdn-widget-manager/d2e234f7cc04bf79/manager.min.js"
                }
              }
            }
          }
        },
        {
          "output_type": "display_data",
          "data": {
            "text/plain": [
              "<IPython.core.display.HTML object>"
            ],
            "text/html": []
          },
          "metadata": {}
        }
      ]
    },
    {
      "cell_type": "code",
      "source": [
        "best_model_experiment_temperature = compare_models(fold=20, sort='R2')"
      ],
      "metadata": {
        "id": "-c76Xpx76GtA",
        "colab": {
          "base_uri": "https://localhost:8080/",
          "height": 614,
          "referenced_widgets": [
            "2a2e9d2f94444aef9de1bdbdb5cedf75",
            "435d0e87104442198e1effe28a517911",
            "daf664f893fc46feab3ff0c628103d00",
            "fbaa459de0f54ac9be76604c5c377b1a",
            "2221a5d3222c400880764fbbe3568f9b",
            "ba37abc4aeea430093ebb26b7d281676",
            "fba4ea93385349ca9fc5daddf86094fd",
            "028dfa76db37441591c97bf02f74db28",
            "07f04fd1a9584b7e851ec2d3e45dea2e",
            "2e391d2ff96745bb9c786d204a1738a0",
            "5feec37bb09b4232a70e8edd127aa6dc"
          ]
        },
        "outputId": "745367a1-1e05-4883-d465-7b35e923729b"
      },
      "execution_count": 92,
      "outputs": [
        {
          "output_type": "display_data",
          "data": {
            "text/plain": [
              "<IPython.core.display.HTML object>"
            ],
            "text/html": []
          },
          "metadata": {}
        },
        {
          "output_type": "display_data",
          "data": {
            "text/plain": [
              "<pandas.io.formats.style.Styler at 0x7f8de461bb90>"
            ],
            "text/html": [
              "<style type=\"text/css\">\n",
              "#T_6fdee_ th {\n",
              "  text-align: left;\n",
              "}\n",
              "#T_6fdee_row0_col0, #T_6fdee_row1_col0, #T_6fdee_row1_col1, #T_6fdee_row1_col2, #T_6fdee_row1_col3, #T_6fdee_row1_col4, #T_6fdee_row1_col5, #T_6fdee_row1_col6, #T_6fdee_row2_col0, #T_6fdee_row2_col1, #T_6fdee_row2_col2, #T_6fdee_row2_col3, #T_6fdee_row2_col4, #T_6fdee_row2_col5, #T_6fdee_row2_col6, #T_6fdee_row3_col0, #T_6fdee_row3_col1, #T_6fdee_row3_col2, #T_6fdee_row3_col3, #T_6fdee_row3_col4, #T_6fdee_row3_col5, #T_6fdee_row3_col6, #T_6fdee_row4_col0, #T_6fdee_row4_col1, #T_6fdee_row4_col2, #T_6fdee_row4_col3, #T_6fdee_row4_col4, #T_6fdee_row4_col5, #T_6fdee_row4_col6, #T_6fdee_row5_col0, #T_6fdee_row5_col1, #T_6fdee_row5_col2, #T_6fdee_row5_col3, #T_6fdee_row5_col4, #T_6fdee_row5_col5, #T_6fdee_row5_col6, #T_6fdee_row6_col0, #T_6fdee_row6_col1, #T_6fdee_row6_col2, #T_6fdee_row6_col3, #T_6fdee_row6_col4, #T_6fdee_row6_col5, #T_6fdee_row6_col6, #T_6fdee_row7_col0, #T_6fdee_row7_col1, #T_6fdee_row7_col2, #T_6fdee_row7_col3, #T_6fdee_row7_col4, #T_6fdee_row7_col5, #T_6fdee_row7_col6, #T_6fdee_row8_col0, #T_6fdee_row8_col1, #T_6fdee_row8_col2, #T_6fdee_row8_col3, #T_6fdee_row8_col4, #T_6fdee_row8_col5, #T_6fdee_row8_col6, #T_6fdee_row9_col0, #T_6fdee_row9_col1, #T_6fdee_row9_col2, #T_6fdee_row9_col3, #T_6fdee_row9_col4, #T_6fdee_row9_col5, #T_6fdee_row9_col6, #T_6fdee_row10_col0, #T_6fdee_row10_col1, #T_6fdee_row10_col2, #T_6fdee_row10_col3, #T_6fdee_row10_col4, #T_6fdee_row10_col5, #T_6fdee_row10_col6, #T_6fdee_row11_col0, #T_6fdee_row11_col1, #T_6fdee_row11_col2, #T_6fdee_row11_col3, #T_6fdee_row11_col4, #T_6fdee_row11_col5, #T_6fdee_row11_col6, #T_6fdee_row12_col0, #T_6fdee_row12_col1, #T_6fdee_row12_col2, #T_6fdee_row12_col3, #T_6fdee_row12_col4, #T_6fdee_row12_col5, #T_6fdee_row12_col6, #T_6fdee_row13_col0, #T_6fdee_row13_col1, #T_6fdee_row13_col2, #T_6fdee_row13_col3, #T_6fdee_row13_col4, #T_6fdee_row13_col5, #T_6fdee_row13_col6, #T_6fdee_row14_col0, #T_6fdee_row14_col1, #T_6fdee_row14_col2, #T_6fdee_row14_col3, #T_6fdee_row14_col4, #T_6fdee_row14_col5, #T_6fdee_row14_col6, #T_6fdee_row15_col0, #T_6fdee_row15_col1, #T_6fdee_row15_col2, #T_6fdee_row15_col3, #T_6fdee_row15_col4, #T_6fdee_row15_col5, #T_6fdee_row15_col6, #T_6fdee_row16_col0, #T_6fdee_row16_col1, #T_6fdee_row16_col2, #T_6fdee_row16_col3, #T_6fdee_row16_col4, #T_6fdee_row16_col5, #T_6fdee_row16_col6, #T_6fdee_row17_col0, #T_6fdee_row17_col1, #T_6fdee_row17_col2, #T_6fdee_row17_col3, #T_6fdee_row17_col4, #T_6fdee_row17_col5, #T_6fdee_row17_col6 {\n",
              "  text-align: left;\n",
              "}\n",
              "#T_6fdee_row0_col1, #T_6fdee_row0_col2, #T_6fdee_row0_col3, #T_6fdee_row0_col4, #T_6fdee_row0_col5, #T_6fdee_row0_col6 {\n",
              "  text-align: left;\n",
              "  background-color: yellow;\n",
              "}\n",
              "#T_6fdee_row0_col7, #T_6fdee_row1_col7, #T_6fdee_row2_col7, #T_6fdee_row3_col7, #T_6fdee_row4_col7, #T_6fdee_row5_col7, #T_6fdee_row6_col7, #T_6fdee_row7_col7, #T_6fdee_row8_col7, #T_6fdee_row9_col7, #T_6fdee_row10_col7, #T_6fdee_row11_col7, #T_6fdee_row12_col7, #T_6fdee_row13_col7, #T_6fdee_row14_col7, #T_6fdee_row15_col7, #T_6fdee_row16_col7 {\n",
              "  text-align: left;\n",
              "  background-color: lightgrey;\n",
              "}\n",
              "#T_6fdee_row17_col7 {\n",
              "  text-align: left;\n",
              "  background-color: yellow;\n",
              "  background-color: lightgrey;\n",
              "}\n",
              "</style>\n",
              "<table id=\"T_6fdee_\" class=\"dataframe\">\n",
              "  <thead>\n",
              "    <tr>\n",
              "      <th class=\"blank level0\" >&nbsp;</th>\n",
              "      <th class=\"col_heading level0 col0\" >Model</th>\n",
              "      <th class=\"col_heading level0 col1\" >MAE</th>\n",
              "      <th class=\"col_heading level0 col2\" >MSE</th>\n",
              "      <th class=\"col_heading level0 col3\" >RMSE</th>\n",
              "      <th class=\"col_heading level0 col4\" >R2</th>\n",
              "      <th class=\"col_heading level0 col5\" >RMSLE</th>\n",
              "      <th class=\"col_heading level0 col6\" >MAPE</th>\n",
              "      <th class=\"col_heading level0 col7\" >TT (Sec)</th>\n",
              "    </tr>\n",
              "  </thead>\n",
              "  <tbody>\n",
              "    <tr>\n",
              "      <th id=\"T_6fdee_level0_row0\" class=\"row_heading level0 row0\" >rf</th>\n",
              "      <td id=\"T_6fdee_row0_col0\" class=\"data row0 col0\" >Random Forest Regressor</td>\n",
              "      <td id=\"T_6fdee_row0_col1\" class=\"data row0 col1\" >0.1270</td>\n",
              "      <td id=\"T_6fdee_row0_col2\" class=\"data row0 col2\" >0.0340</td>\n",
              "      <td id=\"T_6fdee_row0_col3\" class=\"data row0 col3\" >0.1844</td>\n",
              "      <td id=\"T_6fdee_row0_col4\" class=\"data row0 col4\" >0.9288</td>\n",
              "      <td id=\"T_6fdee_row0_col5\" class=\"data row0 col5\" >0.0078</td>\n",
              "      <td id=\"T_6fdee_row0_col6\" class=\"data row0 col6\" >0.0056</td>\n",
              "      <td id=\"T_6fdee_row0_col7\" class=\"data row0 col7\" >4.2745</td>\n",
              "    </tr>\n",
              "    <tr>\n",
              "      <th id=\"T_6fdee_level0_row1\" class=\"row_heading level0 row1\" >et</th>\n",
              "      <td id=\"T_6fdee_row1_col0\" class=\"data row1 col0\" >Extra Trees Regressor</td>\n",
              "      <td id=\"T_6fdee_row1_col1\" class=\"data row1 col1\" >0.1317</td>\n",
              "      <td id=\"T_6fdee_row1_col2\" class=\"data row1 col2\" >0.0357</td>\n",
              "      <td id=\"T_6fdee_row1_col3\" class=\"data row1 col3\" >0.1889</td>\n",
              "      <td id=\"T_6fdee_row1_col4\" class=\"data row1 col4\" >0.9253</td>\n",
              "      <td id=\"T_6fdee_row1_col5\" class=\"data row1 col5\" >0.0080</td>\n",
              "      <td id=\"T_6fdee_row1_col6\" class=\"data row1 col6\" >0.0058</td>\n",
              "      <td id=\"T_6fdee_row1_col7\" class=\"data row1 col7\" >2.4605</td>\n",
              "    </tr>\n",
              "    <tr>\n",
              "      <th id=\"T_6fdee_level0_row2\" class=\"row_heading level0 row2\" >lightgbm</th>\n",
              "      <td id=\"T_6fdee_row2_col0\" class=\"data row2 col0\" >Light Gradient Boosting Machine</td>\n",
              "      <td id=\"T_6fdee_row2_col1\" class=\"data row2 col1\" >0.1521</td>\n",
              "      <td id=\"T_6fdee_row2_col2\" class=\"data row2 col2\" >0.0402</td>\n",
              "      <td id=\"T_6fdee_row2_col3\" class=\"data row2 col3\" >0.2004</td>\n",
              "      <td id=\"T_6fdee_row2_col4\" class=\"data row2 col4\" >0.9159</td>\n",
              "      <td id=\"T_6fdee_row2_col5\" class=\"data row2 col5\" >0.0085</td>\n",
              "      <td id=\"T_6fdee_row2_col6\" class=\"data row2 col6\" >0.0067</td>\n",
              "      <td id=\"T_6fdee_row2_col7\" class=\"data row2 col7\" >0.1500</td>\n",
              "    </tr>\n",
              "    <tr>\n",
              "      <th id=\"T_6fdee_level0_row3\" class=\"row_heading level0 row3\" >knn</th>\n",
              "      <td id=\"T_6fdee_row3_col0\" class=\"data row3 col0\" >K Neighbors Regressor</td>\n",
              "      <td id=\"T_6fdee_row3_col1\" class=\"data row3 col1\" >0.1499</td>\n",
              "      <td id=\"T_6fdee_row3_col2\" class=\"data row3 col2\" >0.0453</td>\n",
              "      <td id=\"T_6fdee_row3_col3\" class=\"data row3 col3\" >0.2128</td>\n",
              "      <td id=\"T_6fdee_row3_col4\" class=\"data row3 col4\" >0.9052</td>\n",
              "      <td id=\"T_6fdee_row3_col5\" class=\"data row3 col5\" >0.0089</td>\n",
              "      <td id=\"T_6fdee_row3_col6\" class=\"data row3 col6\" >0.0066</td>\n",
              "      <td id=\"T_6fdee_row3_col7\" class=\"data row3 col7\" >0.0850</td>\n",
              "    </tr>\n",
              "    <tr>\n",
              "      <th id=\"T_6fdee_level0_row4\" class=\"row_heading level0 row4\" >gbr</th>\n",
              "      <td id=\"T_6fdee_row4_col0\" class=\"data row4 col0\" >Gradient Boosting Regressor</td>\n",
              "      <td id=\"T_6fdee_row4_col1\" class=\"data row4 col1\" >0.1803</td>\n",
              "      <td id=\"T_6fdee_row4_col2\" class=\"data row4 col2\" >0.0543</td>\n",
              "      <td id=\"T_6fdee_row4_col3\" class=\"data row4 col3\" >0.2329</td>\n",
              "      <td id=\"T_6fdee_row4_col4\" class=\"data row4 col4\" >0.8865</td>\n",
              "      <td id=\"T_6fdee_row4_col5\" class=\"data row4 col5\" >0.0098</td>\n",
              "      <td id=\"T_6fdee_row4_col6\" class=\"data row4 col6\" >0.0080</td>\n",
              "      <td id=\"T_6fdee_row4_col7\" class=\"data row4 col7\" >1.3130</td>\n",
              "    </tr>\n",
              "    <tr>\n",
              "      <th id=\"T_6fdee_level0_row5\" class=\"row_heading level0 row5\" >lr</th>\n",
              "      <td id=\"T_6fdee_row5_col0\" class=\"data row5 col0\" >Linear Regression</td>\n",
              "      <td id=\"T_6fdee_row5_col1\" class=\"data row5 col1\" >0.1881</td>\n",
              "      <td id=\"T_6fdee_row5_col2\" class=\"data row5 col2\" >0.0568</td>\n",
              "      <td id=\"T_6fdee_row5_col3\" class=\"data row5 col3\" >0.2384</td>\n",
              "      <td id=\"T_6fdee_row5_col4\" class=\"data row5 col4\" >0.8811</td>\n",
              "      <td id=\"T_6fdee_row5_col5\" class=\"data row5 col5\" >0.0100</td>\n",
              "      <td id=\"T_6fdee_row5_col6\" class=\"data row5 col6\" >0.0083</td>\n",
              "      <td id=\"T_6fdee_row5_col7\" class=\"data row5 col7\" >0.0390</td>\n",
              "    </tr>\n",
              "    <tr>\n",
              "      <th id=\"T_6fdee_level0_row6\" class=\"row_heading level0 row6\" >ridge</th>\n",
              "      <td id=\"T_6fdee_row6_col0\" class=\"data row6 col0\" >Ridge Regression</td>\n",
              "      <td id=\"T_6fdee_row6_col1\" class=\"data row6 col1\" >0.1881</td>\n",
              "      <td id=\"T_6fdee_row6_col2\" class=\"data row6 col2\" >0.0568</td>\n",
              "      <td id=\"T_6fdee_row6_col3\" class=\"data row6 col3\" >0.2384</td>\n",
              "      <td id=\"T_6fdee_row6_col4\" class=\"data row6 col4\" >0.8811</td>\n",
              "      <td id=\"T_6fdee_row6_col5\" class=\"data row6 col5\" >0.0100</td>\n",
              "      <td id=\"T_6fdee_row6_col6\" class=\"data row6 col6\" >0.0083</td>\n",
              "      <td id=\"T_6fdee_row6_col7\" class=\"data row6 col7\" >0.0375</td>\n",
              "    </tr>\n",
              "    <tr>\n",
              "      <th id=\"T_6fdee_level0_row7\" class=\"row_heading level0 row7\" >lar</th>\n",
              "      <td id=\"T_6fdee_row7_col0\" class=\"data row7 col0\" >Least Angle Regression</td>\n",
              "      <td id=\"T_6fdee_row7_col1\" class=\"data row7 col1\" >0.1881</td>\n",
              "      <td id=\"T_6fdee_row7_col2\" class=\"data row7 col2\" >0.0568</td>\n",
              "      <td id=\"T_6fdee_row7_col3\" class=\"data row7 col3\" >0.2384</td>\n",
              "      <td id=\"T_6fdee_row7_col4\" class=\"data row7 col4\" >0.8811</td>\n",
              "      <td id=\"T_6fdee_row7_col5\" class=\"data row7 col5\" >0.0100</td>\n",
              "      <td id=\"T_6fdee_row7_col6\" class=\"data row7 col6\" >0.0083</td>\n",
              "      <td id=\"T_6fdee_row7_col7\" class=\"data row7 col7\" >0.0450</td>\n",
              "    </tr>\n",
              "    <tr>\n",
              "      <th id=\"T_6fdee_level0_row8\" class=\"row_heading level0 row8\" >br</th>\n",
              "      <td id=\"T_6fdee_row8_col0\" class=\"data row8 col0\" >Bayesian Ridge</td>\n",
              "      <td id=\"T_6fdee_row8_col1\" class=\"data row8 col1\" >0.1881</td>\n",
              "      <td id=\"T_6fdee_row8_col2\" class=\"data row8 col2\" >0.0568</td>\n",
              "      <td id=\"T_6fdee_row8_col3\" class=\"data row8 col3\" >0.2384</td>\n",
              "      <td id=\"T_6fdee_row8_col4\" class=\"data row8 col4\" >0.8811</td>\n",
              "      <td id=\"T_6fdee_row8_col5\" class=\"data row8 col5\" >0.0100</td>\n",
              "      <td id=\"T_6fdee_row8_col6\" class=\"data row8 col6\" >0.0083</td>\n",
              "      <td id=\"T_6fdee_row8_col7\" class=\"data row8 col7\" >0.0410</td>\n",
              "    </tr>\n",
              "    <tr>\n",
              "      <th id=\"T_6fdee_level0_row9\" class=\"row_heading level0 row9\" >huber</th>\n",
              "      <td id=\"T_6fdee_row9_col0\" class=\"data row9 col0\" >Huber Regressor</td>\n",
              "      <td id=\"T_6fdee_row9_col1\" class=\"data row9 col1\" >0.1871</td>\n",
              "      <td id=\"T_6fdee_row9_col2\" class=\"data row9 col2\" >0.0571</td>\n",
              "      <td id=\"T_6fdee_row9_col3\" class=\"data row9 col3\" >0.2390</td>\n",
              "      <td id=\"T_6fdee_row9_col4\" class=\"data row9 col4\" >0.8805</td>\n",
              "      <td id=\"T_6fdee_row9_col5\" class=\"data row9 col5\" >0.0101</td>\n",
              "      <td id=\"T_6fdee_row9_col6\" class=\"data row9 col6\" >0.0082</td>\n",
              "      <td id=\"T_6fdee_row9_col7\" class=\"data row9 col7\" >0.1645</td>\n",
              "    </tr>\n",
              "    <tr>\n",
              "      <th id=\"T_6fdee_level0_row10\" class=\"row_heading level0 row10\" >dt</th>\n",
              "      <td id=\"T_6fdee_row10_col0\" class=\"data row10 col0\" >Decision Tree Regressor</td>\n",
              "      <td id=\"T_6fdee_row10_col1\" class=\"data row10 col1\" >0.1566</td>\n",
              "      <td id=\"T_6fdee_row10_col2\" class=\"data row10 col2\" >0.0634</td>\n",
              "      <td id=\"T_6fdee_row10_col3\" class=\"data row10 col3\" >0.2516</td>\n",
              "      <td id=\"T_6fdee_row10_col4\" class=\"data row10 col4\" >0.8674</td>\n",
              "      <td id=\"T_6fdee_row10_col5\" class=\"data row10 col5\" >0.0106</td>\n",
              "      <td id=\"T_6fdee_row10_col6\" class=\"data row10 col6\" >0.0069</td>\n",
              "      <td id=\"T_6fdee_row10_col7\" class=\"data row10 col7\" >0.1000</td>\n",
              "    </tr>\n",
              "    <tr>\n",
              "      <th id=\"T_6fdee_level0_row11\" class=\"row_heading level0 row11\" >ada</th>\n",
              "      <td id=\"T_6fdee_row11_col0\" class=\"data row11 col0\" >AdaBoost Regressor</td>\n",
              "      <td id=\"T_6fdee_row11_col1\" class=\"data row11 col1\" >0.2300</td>\n",
              "      <td id=\"T_6fdee_row11_col2\" class=\"data row11 col2\" >0.0824</td>\n",
              "      <td id=\"T_6fdee_row11_col3\" class=\"data row11 col3\" >0.2870</td>\n",
              "      <td id=\"T_6fdee_row11_col4\" class=\"data row11 col4\" >0.8277</td>\n",
              "      <td id=\"T_6fdee_row11_col5\" class=\"data row11 col5\" >0.0121</td>\n",
              "      <td id=\"T_6fdee_row11_col6\" class=\"data row11 col6\" >0.0101</td>\n",
              "      <td id=\"T_6fdee_row11_col7\" class=\"data row11 col7\" >0.7095</td>\n",
              "    </tr>\n",
              "    <tr>\n",
              "      <th id=\"T_6fdee_level0_row12\" class=\"row_heading level0 row12\" >omp</th>\n",
              "      <td id=\"T_6fdee_row12_col0\" class=\"data row12 col0\" >Orthogonal Matching Pursuit</td>\n",
              "      <td id=\"T_6fdee_row12_col1\" class=\"data row12 col1\" >0.2397</td>\n",
              "      <td id=\"T_6fdee_row12_col2\" class=\"data row12 col2\" >0.0952</td>\n",
              "      <td id=\"T_6fdee_row12_col3\" class=\"data row12 col3\" >0.3086</td>\n",
              "      <td id=\"T_6fdee_row12_col4\" class=\"data row12 col4\" >0.8008</td>\n",
              "      <td id=\"T_6fdee_row12_col5\" class=\"data row12 col5\" >0.0130</td>\n",
              "      <td id=\"T_6fdee_row12_col6\" class=\"data row12 col6\" >0.0106</td>\n",
              "      <td id=\"T_6fdee_row12_col7\" class=\"data row12 col7\" >0.0385</td>\n",
              "    </tr>\n",
              "    <tr>\n",
              "      <th id=\"T_6fdee_level0_row13\" class=\"row_heading level0 row13\" >par</th>\n",
              "      <td id=\"T_6fdee_row13_col0\" class=\"data row13 col0\" >Passive Aggressive Regressor</td>\n",
              "      <td id=\"T_6fdee_row13_col1\" class=\"data row13 col1\" >0.3896</td>\n",
              "      <td id=\"T_6fdee_row13_col2\" class=\"data row13 col2\" >0.2513</td>\n",
              "      <td id=\"T_6fdee_row13_col3\" class=\"data row13 col3\" >0.4881</td>\n",
              "      <td id=\"T_6fdee_row13_col4\" class=\"data row13 col4\" >0.4735</td>\n",
              "      <td id=\"T_6fdee_row13_col5\" class=\"data row13 col5\" >0.0206</td>\n",
              "      <td id=\"T_6fdee_row13_col6\" class=\"data row13 col6\" >0.0172</td>\n",
              "      <td id=\"T_6fdee_row13_col7\" class=\"data row13 col7\" >0.0520</td>\n",
              "    </tr>\n",
              "    <tr>\n",
              "      <th id=\"T_6fdee_level0_row14\" class=\"row_heading level0 row14\" >en</th>\n",
              "      <td id=\"T_6fdee_row14_col0\" class=\"data row14 col0\" >Elastic Net</td>\n",
              "      <td id=\"T_6fdee_row14_col1\" class=\"data row14 col1\" >0.5073</td>\n",
              "      <td id=\"T_6fdee_row14_col2\" class=\"data row14 col2\" >0.3865</td>\n",
              "      <td id=\"T_6fdee_row14_col3\" class=\"data row14 col3\" >0.6216</td>\n",
              "      <td id=\"T_6fdee_row14_col4\" class=\"data row14 col4\" >0.1918</td>\n",
              "      <td id=\"T_6fdee_row14_col5\" class=\"data row14 col5\" >0.0263</td>\n",
              "      <td id=\"T_6fdee_row14_col6\" class=\"data row14 col6\" >0.0225</td>\n",
              "      <td id=\"T_6fdee_row14_col7\" class=\"data row14 col7\" >0.0410</td>\n",
              "    </tr>\n",
              "    <tr>\n",
              "      <th id=\"T_6fdee_level0_row15\" class=\"row_heading level0 row15\" >lasso</th>\n",
              "      <td id=\"T_6fdee_row15_col0\" class=\"data row15 col0\" >Lasso Regression</td>\n",
              "      <td id=\"T_6fdee_row15_col1\" class=\"data row15 col1\" >0.5650</td>\n",
              "      <td id=\"T_6fdee_row15_col2\" class=\"data row15 col2\" >0.4785</td>\n",
              "      <td id=\"T_6fdee_row15_col3\" class=\"data row15 col3\" >0.6917</td>\n",
              "      <td id=\"T_6fdee_row15_col4\" class=\"data row15 col4\" >-0.0006</td>\n",
              "      <td id=\"T_6fdee_row15_col5\" class=\"data row15 col5\" >0.0293</td>\n",
              "      <td id=\"T_6fdee_row15_col6\" class=\"data row15 col6\" >0.0250</td>\n",
              "      <td id=\"T_6fdee_row15_col7\" class=\"data row15 col7\" >0.0385</td>\n",
              "    </tr>\n",
              "    <tr>\n",
              "      <th id=\"T_6fdee_level0_row16\" class=\"row_heading level0 row16\" >llar</th>\n",
              "      <td id=\"T_6fdee_row16_col0\" class=\"data row16 col0\" >Lasso Least Angle Regression</td>\n",
              "      <td id=\"T_6fdee_row16_col1\" class=\"data row16 col1\" >0.5650</td>\n",
              "      <td id=\"T_6fdee_row16_col2\" class=\"data row16 col2\" >0.4785</td>\n",
              "      <td id=\"T_6fdee_row16_col3\" class=\"data row16 col3\" >0.6917</td>\n",
              "      <td id=\"T_6fdee_row16_col4\" class=\"data row16 col4\" >-0.0006</td>\n",
              "      <td id=\"T_6fdee_row16_col5\" class=\"data row16 col5\" >0.0293</td>\n",
              "      <td id=\"T_6fdee_row16_col6\" class=\"data row16 col6\" >0.0250</td>\n",
              "      <td id=\"T_6fdee_row16_col7\" class=\"data row16 col7\" >0.0425</td>\n",
              "    </tr>\n",
              "    <tr>\n",
              "      <th id=\"T_6fdee_level0_row17\" class=\"row_heading level0 row17\" >dummy</th>\n",
              "      <td id=\"T_6fdee_row17_col0\" class=\"data row17 col0\" >Dummy Regressor</td>\n",
              "      <td id=\"T_6fdee_row17_col1\" class=\"data row17 col1\" >0.5650</td>\n",
              "      <td id=\"T_6fdee_row17_col2\" class=\"data row17 col2\" >0.4785</td>\n",
              "      <td id=\"T_6fdee_row17_col3\" class=\"data row17 col3\" >0.6917</td>\n",
              "      <td id=\"T_6fdee_row17_col4\" class=\"data row17 col4\" >-0.0006</td>\n",
              "      <td id=\"T_6fdee_row17_col5\" class=\"data row17 col5\" >0.0293</td>\n",
              "      <td id=\"T_6fdee_row17_col6\" class=\"data row17 col6\" >0.0250</td>\n",
              "      <td id=\"T_6fdee_row17_col7\" class=\"data row17 col7\" >0.0275</td>\n",
              "    </tr>\n",
              "  </tbody>\n",
              "</table>\n"
            ]
          },
          "metadata": {}
        },
        {
          "output_type": "display_data",
          "data": {
            "text/plain": [
              "Processing:   0%|          | 0/77 [00:00<?, ?it/s]"
            ],
            "application/vnd.jupyter.widget-view+json": {
              "version_major": 2,
              "version_minor": 0,
              "model_id": "2a2e9d2f94444aef9de1bdbdb5cedf75"
            }
          },
          "metadata": {
            "application/vnd.jupyter.widget-view+json": {
              "colab": {
                "custom_widget_manager": {
                  "url": "https://ssl.gstatic.com/colaboratory-static/widgets/colab-cdn-widget-manager/d2e234f7cc04bf79/manager.min.js"
                }
              }
            }
          }
        },
        {
          "output_type": "display_data",
          "data": {
            "text/plain": [
              "<IPython.core.display.HTML object>"
            ],
            "text/html": []
          },
          "metadata": {}
        }
      ]
    },
    {
      "cell_type": "code",
      "source": [
        "best_model_HUMIDITY = compare_models(fold=20, sort='R2')"
      ],
      "metadata": {
        "id": "ZRKUCb51-jZK"
      },
      "execution_count": null,
      "outputs": []
    },
    {
      "cell_type": "code",
      "source": [
        "best_model_TEMPERATURE = compare_models(fold=20, sort='R2')"
      ],
      "metadata": {
        "id": "UIfJs6DuKJ0A"
      },
      "execution_count": null,
      "outputs": []
    },
    {
      "cell_type": "markdown",
      "source": [
        "## **Create Model**"
      ],
      "metadata": {
        "id": "uigCXdkFOlHJ"
      }
    },
    {
      "cell_type": "markdown",
      "source": [
        "Create model by taking the best model based on MAE and R2 scores for each category by executing the cells one by one."
      ],
      "metadata": {
        "id": "JLRo7ztYGL8-"
      }
    },
    {
      "cell_type": "code",
      "source": [
        "model_experiment_humidity = create_model('rf', fold=20)"
      ],
      "metadata": {
        "id": "V_39ytUbOoEB",
        "colab": {
          "base_uri": "https://localhost:8080/",
          "height": 771,
          "referenced_widgets": [
            "601e34eeacec4cafb33fd72d0ac69e97",
            "b06e9bd7f1044c788d133329d3cf4e51",
            "1b5ed7ac74524e679fdba2c8e0336e30",
            "26693f1086de41aaa79f047edaf7fc1a",
            "0f1b997641ee4b848ed475f6734fa9a5",
            "5cc11177fe8c417e91a5f737f800af61",
            "2f2b8f5d57bc42feaf077c195636998a",
            "78e679f3622f4af3925d9c04b9c6784c",
            "e0fd80b67ee54630921e59203438e2f4",
            "d67ed2e88c2c4ddeb602772cce5c4dd9",
            "9836ec334d6046d19a95c74a9266040e"
          ]
        },
        "outputId": "6499faab-4536-48e7-d8b8-d58c45384d8a"
      },
      "execution_count": 65,
      "outputs": [
        {
          "output_type": "display_data",
          "data": {
            "text/plain": [
              "<IPython.core.display.HTML object>"
            ],
            "text/html": []
          },
          "metadata": {}
        },
        {
          "output_type": "display_data",
          "data": {
            "text/plain": [
              "<pandas.io.formats.style.Styler at 0x7f8de519bad0>"
            ],
            "text/html": [
              "<style type=\"text/css\">\n",
              "#T_39a9e_row20_col0, #T_39a9e_row20_col1, #T_39a9e_row20_col2, #T_39a9e_row20_col3, #T_39a9e_row20_col4, #T_39a9e_row20_col5 {\n",
              "  background: yellow;\n",
              "}\n",
              "</style>\n",
              "<table id=\"T_39a9e_\" class=\"dataframe\">\n",
              "  <thead>\n",
              "    <tr>\n",
              "      <th class=\"blank level0\" >&nbsp;</th>\n",
              "      <th class=\"col_heading level0 col0\" >MAE</th>\n",
              "      <th class=\"col_heading level0 col1\" >MSE</th>\n",
              "      <th class=\"col_heading level0 col2\" >RMSE</th>\n",
              "      <th class=\"col_heading level0 col3\" >R2</th>\n",
              "      <th class=\"col_heading level0 col4\" >RMSLE</th>\n",
              "      <th class=\"col_heading level0 col5\" >MAPE</th>\n",
              "    </tr>\n",
              "    <tr>\n",
              "      <th class=\"index_name level0\" >Fold</th>\n",
              "      <th class=\"blank col0\" >&nbsp;</th>\n",
              "      <th class=\"blank col1\" >&nbsp;</th>\n",
              "      <th class=\"blank col2\" >&nbsp;</th>\n",
              "      <th class=\"blank col3\" >&nbsp;</th>\n",
              "      <th class=\"blank col4\" >&nbsp;</th>\n",
              "      <th class=\"blank col5\" >&nbsp;</th>\n",
              "    </tr>\n",
              "  </thead>\n",
              "  <tbody>\n",
              "    <tr>\n",
              "      <th id=\"T_39a9e_level0_row0\" class=\"row_heading level0 row0\" >0</th>\n",
              "      <td id=\"T_39a9e_row0_col0\" class=\"data row0 col0\" >0.6457</td>\n",
              "      <td id=\"T_39a9e_row0_col1\" class=\"data row0 col1\" >0.8911</td>\n",
              "      <td id=\"T_39a9e_row0_col2\" class=\"data row0 col2\" >0.9440</td>\n",
              "      <td id=\"T_39a9e_row0_col3\" class=\"data row0 col3\" >0.9900</td>\n",
              "      <td id=\"T_39a9e_row0_col4\" class=\"data row0 col4\" >0.0182</td>\n",
              "      <td id=\"T_39a9e_row0_col5\" class=\"data row0 col5\" >0.0127</td>\n",
              "    </tr>\n",
              "    <tr>\n",
              "      <th id=\"T_39a9e_level0_row1\" class=\"row_heading level0 row1\" >1</th>\n",
              "      <td id=\"T_39a9e_row1_col0\" class=\"data row1 col0\" >0.6189</td>\n",
              "      <td id=\"T_39a9e_row1_col1\" class=\"data row1 col1\" >0.8110</td>\n",
              "      <td id=\"T_39a9e_row1_col2\" class=\"data row1 col2\" >0.9005</td>\n",
              "      <td id=\"T_39a9e_row1_col3\" class=\"data row1 col3\" >0.9910</td>\n",
              "      <td id=\"T_39a9e_row1_col4\" class=\"data row1 col4\" >0.0171</td>\n",
              "      <td id=\"T_39a9e_row1_col5\" class=\"data row1 col5\" >0.0120</td>\n",
              "    </tr>\n",
              "    <tr>\n",
              "      <th id=\"T_39a9e_level0_row2\" class=\"row_heading level0 row2\" >2</th>\n",
              "      <td id=\"T_39a9e_row2_col0\" class=\"data row2 col0\" >0.6290</td>\n",
              "      <td id=\"T_39a9e_row2_col1\" class=\"data row2 col1\" >0.8616</td>\n",
              "      <td id=\"T_39a9e_row2_col2\" class=\"data row2 col2\" >0.9282</td>\n",
              "      <td id=\"T_39a9e_row2_col3\" class=\"data row2 col3\" >0.9904</td>\n",
              "      <td id=\"T_39a9e_row2_col4\" class=\"data row2 col4\" >0.0180</td>\n",
              "      <td id=\"T_39a9e_row2_col5\" class=\"data row2 col5\" >0.0124</td>\n",
              "    </tr>\n",
              "    <tr>\n",
              "      <th id=\"T_39a9e_level0_row3\" class=\"row_heading level0 row3\" >3</th>\n",
              "      <td id=\"T_39a9e_row3_col0\" class=\"data row3 col0\" >0.6068</td>\n",
              "      <td id=\"T_39a9e_row3_col1\" class=\"data row3 col1\" >0.8176</td>\n",
              "      <td id=\"T_39a9e_row3_col2\" class=\"data row3 col2\" >0.9042</td>\n",
              "      <td id=\"T_39a9e_row3_col3\" class=\"data row3 col3\" >0.9911</td>\n",
              "      <td id=\"T_39a9e_row3_col4\" class=\"data row3 col4\" >0.0171</td>\n",
              "      <td id=\"T_39a9e_row3_col5\" class=\"data row3 col5\" >0.0118</td>\n",
              "    </tr>\n",
              "    <tr>\n",
              "      <th id=\"T_39a9e_level0_row4\" class=\"row_heading level0 row4\" >4</th>\n",
              "      <td id=\"T_39a9e_row4_col0\" class=\"data row4 col0\" >0.6539</td>\n",
              "      <td id=\"T_39a9e_row4_col1\" class=\"data row4 col1\" >0.9535</td>\n",
              "      <td id=\"T_39a9e_row4_col2\" class=\"data row4 col2\" >0.9765</td>\n",
              "      <td id=\"T_39a9e_row4_col3\" class=\"data row4 col3\" >0.9896</td>\n",
              "      <td id=\"T_39a9e_row4_col4\" class=\"data row4 col4\" >0.0188</td>\n",
              "      <td id=\"T_39a9e_row4_col5\" class=\"data row4 col5\" >0.0128</td>\n",
              "    </tr>\n",
              "    <tr>\n",
              "      <th id=\"T_39a9e_level0_row5\" class=\"row_heading level0 row5\" >5</th>\n",
              "      <td id=\"T_39a9e_row5_col0\" class=\"data row5 col0\" >0.6267</td>\n",
              "      <td id=\"T_39a9e_row5_col1\" class=\"data row5 col1\" >0.8381</td>\n",
              "      <td id=\"T_39a9e_row5_col2\" class=\"data row5 col2\" >0.9155</td>\n",
              "      <td id=\"T_39a9e_row5_col3\" class=\"data row5 col3\" >0.9906</td>\n",
              "      <td id=\"T_39a9e_row5_col4\" class=\"data row5 col4\" >0.0174</td>\n",
              "      <td id=\"T_39a9e_row5_col5\" class=\"data row5 col5\" >0.0123</td>\n",
              "    </tr>\n",
              "    <tr>\n",
              "      <th id=\"T_39a9e_level0_row6\" class=\"row_heading level0 row6\" >6</th>\n",
              "      <td id=\"T_39a9e_row6_col0\" class=\"data row6 col0\" >0.6202</td>\n",
              "      <td id=\"T_39a9e_row6_col1\" class=\"data row6 col1\" >0.8519</td>\n",
              "      <td id=\"T_39a9e_row6_col2\" class=\"data row6 col2\" >0.9230</td>\n",
              "      <td id=\"T_39a9e_row6_col3\" class=\"data row6 col3\" >0.9908</td>\n",
              "      <td id=\"T_39a9e_row6_col4\" class=\"data row6 col4\" >0.0178</td>\n",
              "      <td id=\"T_39a9e_row6_col5\" class=\"data row6 col5\" >0.0122</td>\n",
              "    </tr>\n",
              "    <tr>\n",
              "      <th id=\"T_39a9e_level0_row7\" class=\"row_heading level0 row7\" >7</th>\n",
              "      <td id=\"T_39a9e_row7_col0\" class=\"data row7 col0\" >0.6280</td>\n",
              "      <td id=\"T_39a9e_row7_col1\" class=\"data row7 col1\" >0.8425</td>\n",
              "      <td id=\"T_39a9e_row7_col2\" class=\"data row7 col2\" >0.9179</td>\n",
              "      <td id=\"T_39a9e_row7_col3\" class=\"data row7 col3\" >0.9910</td>\n",
              "      <td id=\"T_39a9e_row7_col4\" class=\"data row7 col4\" >0.0176</td>\n",
              "      <td id=\"T_39a9e_row7_col5\" class=\"data row7 col5\" >0.0123</td>\n",
              "    </tr>\n",
              "    <tr>\n",
              "      <th id=\"T_39a9e_level0_row8\" class=\"row_heading level0 row8\" >8</th>\n",
              "      <td id=\"T_39a9e_row8_col0\" class=\"data row8 col0\" >0.6531</td>\n",
              "      <td id=\"T_39a9e_row8_col1\" class=\"data row8 col1\" >0.9293</td>\n",
              "      <td id=\"T_39a9e_row8_col2\" class=\"data row8 col2\" >0.9640</td>\n",
              "      <td id=\"T_39a9e_row8_col3\" class=\"data row8 col3\" >0.9896</td>\n",
              "      <td id=\"T_39a9e_row8_col4\" class=\"data row8 col4\" >0.0184</td>\n",
              "      <td id=\"T_39a9e_row8_col5\" class=\"data row8 col5\" >0.0127</td>\n",
              "    </tr>\n",
              "    <tr>\n",
              "      <th id=\"T_39a9e_level0_row9\" class=\"row_heading level0 row9\" >9</th>\n",
              "      <td id=\"T_39a9e_row9_col0\" class=\"data row9 col0\" >0.6177</td>\n",
              "      <td id=\"T_39a9e_row9_col1\" class=\"data row9 col1\" >0.7993</td>\n",
              "      <td id=\"T_39a9e_row9_col2\" class=\"data row9 col2\" >0.8940</td>\n",
              "      <td id=\"T_39a9e_row9_col3\" class=\"data row9 col3\" >0.9912</td>\n",
              "      <td id=\"T_39a9e_row9_col4\" class=\"data row9 col4\" >0.0173</td>\n",
              "      <td id=\"T_39a9e_row9_col5\" class=\"data row9 col5\" >0.0122</td>\n",
              "    </tr>\n",
              "    <tr>\n",
              "      <th id=\"T_39a9e_level0_row10\" class=\"row_heading level0 row10\" >10</th>\n",
              "      <td id=\"T_39a9e_row10_col0\" class=\"data row10 col0\" >0.6557</td>\n",
              "      <td id=\"T_39a9e_row10_col1\" class=\"data row10 col1\" >0.9069</td>\n",
              "      <td id=\"T_39a9e_row10_col2\" class=\"data row10 col2\" >0.9523</td>\n",
              "      <td id=\"T_39a9e_row10_col3\" class=\"data row10 col3\" >0.9897</td>\n",
              "      <td id=\"T_39a9e_row10_col4\" class=\"data row10 col4\" >0.0180</td>\n",
              "      <td id=\"T_39a9e_row10_col5\" class=\"data row10 col5\" >0.0128</td>\n",
              "    </tr>\n",
              "    <tr>\n",
              "      <th id=\"T_39a9e_level0_row11\" class=\"row_heading level0 row11\" >11</th>\n",
              "      <td id=\"T_39a9e_row11_col0\" class=\"data row11 col0\" >0.6396</td>\n",
              "      <td id=\"T_39a9e_row11_col1\" class=\"data row11 col1\" >0.8772</td>\n",
              "      <td id=\"T_39a9e_row11_col2\" class=\"data row11 col2\" >0.9366</td>\n",
              "      <td id=\"T_39a9e_row11_col3\" class=\"data row11 col3\" >0.9905</td>\n",
              "      <td id=\"T_39a9e_row11_col4\" class=\"data row11 col4\" >0.0178</td>\n",
              "      <td id=\"T_39a9e_row11_col5\" class=\"data row11 col5\" >0.0125</td>\n",
              "    </tr>\n",
              "    <tr>\n",
              "      <th id=\"T_39a9e_level0_row12\" class=\"row_heading level0 row12\" >12</th>\n",
              "      <td id=\"T_39a9e_row12_col0\" class=\"data row12 col0\" >0.6620</td>\n",
              "      <td id=\"T_39a9e_row12_col1\" class=\"data row12 col1\" >0.9037</td>\n",
              "      <td id=\"T_39a9e_row12_col2\" class=\"data row12 col2\" >0.9506</td>\n",
              "      <td id=\"T_39a9e_row12_col3\" class=\"data row12 col3\" >0.9904</td>\n",
              "      <td id=\"T_39a9e_row12_col4\" class=\"data row12 col4\" >0.0182</td>\n",
              "      <td id=\"T_39a9e_row12_col5\" class=\"data row12 col5\" >0.0129</td>\n",
              "    </tr>\n",
              "    <tr>\n",
              "      <th id=\"T_39a9e_level0_row13\" class=\"row_heading level0 row13\" >13</th>\n",
              "      <td id=\"T_39a9e_row13_col0\" class=\"data row13 col0\" >0.6456</td>\n",
              "      <td id=\"T_39a9e_row13_col1\" class=\"data row13 col1\" >0.9120</td>\n",
              "      <td id=\"T_39a9e_row13_col2\" class=\"data row13 col2\" >0.9550</td>\n",
              "      <td id=\"T_39a9e_row13_col3\" class=\"data row13 col3\" >0.9901</td>\n",
              "      <td id=\"T_39a9e_row13_col4\" class=\"data row13 col4\" >0.0186</td>\n",
              "      <td id=\"T_39a9e_row13_col5\" class=\"data row13 col5\" >0.0127</td>\n",
              "    </tr>\n",
              "    <tr>\n",
              "      <th id=\"T_39a9e_level0_row14\" class=\"row_heading level0 row14\" >14</th>\n",
              "      <td id=\"T_39a9e_row14_col0\" class=\"data row14 col0\" >0.6094</td>\n",
              "      <td id=\"T_39a9e_row14_col1\" class=\"data row14 col1\" >0.8316</td>\n",
              "      <td id=\"T_39a9e_row14_col2\" class=\"data row14 col2\" >0.9119</td>\n",
              "      <td id=\"T_39a9e_row14_col3\" class=\"data row14 col3\" >0.9908</td>\n",
              "      <td id=\"T_39a9e_row14_col4\" class=\"data row14 col4\" >0.0175</td>\n",
              "      <td id=\"T_39a9e_row14_col5\" class=\"data row14 col5\" >0.0119</td>\n",
              "    </tr>\n",
              "    <tr>\n",
              "      <th id=\"T_39a9e_level0_row15\" class=\"row_heading level0 row15\" >15</th>\n",
              "      <td id=\"T_39a9e_row15_col0\" class=\"data row15 col0\" >0.6473</td>\n",
              "      <td id=\"T_39a9e_row15_col1\" class=\"data row15 col1\" >0.8647</td>\n",
              "      <td id=\"T_39a9e_row15_col2\" class=\"data row15 col2\" >0.9299</td>\n",
              "      <td id=\"T_39a9e_row15_col3\" class=\"data row15 col3\" >0.9900</td>\n",
              "      <td id=\"T_39a9e_row15_col4\" class=\"data row15 col4\" >0.0178</td>\n",
              "      <td id=\"T_39a9e_row15_col5\" class=\"data row15 col5\" >0.0127</td>\n",
              "    </tr>\n",
              "    <tr>\n",
              "      <th id=\"T_39a9e_level0_row16\" class=\"row_heading level0 row16\" >16</th>\n",
              "      <td id=\"T_39a9e_row16_col0\" class=\"data row16 col0\" >0.6069</td>\n",
              "      <td id=\"T_39a9e_row16_col1\" class=\"data row16 col1\" >0.7806</td>\n",
              "      <td id=\"T_39a9e_row16_col2\" class=\"data row16 col2\" >0.8835</td>\n",
              "      <td id=\"T_39a9e_row16_col3\" class=\"data row16 col3\" >0.9912</td>\n",
              "      <td id=\"T_39a9e_row16_col4\" class=\"data row16 col4\" >0.0171</td>\n",
              "      <td id=\"T_39a9e_row16_col5\" class=\"data row16 col5\" >0.0119</td>\n",
              "    </tr>\n",
              "    <tr>\n",
              "      <th id=\"T_39a9e_level0_row17\" class=\"row_heading level0 row17\" >17</th>\n",
              "      <td id=\"T_39a9e_row17_col0\" class=\"data row17 col0\" >0.6182</td>\n",
              "      <td id=\"T_39a9e_row17_col1\" class=\"data row17 col1\" >0.8211</td>\n",
              "      <td id=\"T_39a9e_row17_col2\" class=\"data row17 col2\" >0.9061</td>\n",
              "      <td id=\"T_39a9e_row17_col3\" class=\"data row17 col3\" >0.9912</td>\n",
              "      <td id=\"T_39a9e_row17_col4\" class=\"data row17 col4\" >0.0174</td>\n",
              "      <td id=\"T_39a9e_row17_col5\" class=\"data row17 col5\" >0.0122</td>\n",
              "    </tr>\n",
              "    <tr>\n",
              "      <th id=\"T_39a9e_level0_row18\" class=\"row_heading level0 row18\" >18</th>\n",
              "      <td id=\"T_39a9e_row18_col0\" class=\"data row18 col0\" >0.6719</td>\n",
              "      <td id=\"T_39a9e_row18_col1\" class=\"data row18 col1\" >0.9395</td>\n",
              "      <td id=\"T_39a9e_row18_col2\" class=\"data row18 col2\" >0.9693</td>\n",
              "      <td id=\"T_39a9e_row18_col3\" class=\"data row18 col3\" >0.9896</td>\n",
              "      <td id=\"T_39a9e_row18_col4\" class=\"data row18 col4\" >0.0186</td>\n",
              "      <td id=\"T_39a9e_row18_col5\" class=\"data row18 col5\" >0.0131</td>\n",
              "    </tr>\n",
              "    <tr>\n",
              "      <th id=\"T_39a9e_level0_row19\" class=\"row_heading level0 row19\" >19</th>\n",
              "      <td id=\"T_39a9e_row19_col0\" class=\"data row19 col0\" >0.6461</td>\n",
              "      <td id=\"T_39a9e_row19_col1\" class=\"data row19 col1\" >0.8674</td>\n",
              "      <td id=\"T_39a9e_row19_col2\" class=\"data row19 col2\" >0.9314</td>\n",
              "      <td id=\"T_39a9e_row19_col3\" class=\"data row19 col3\" >0.9902</td>\n",
              "      <td id=\"T_39a9e_row19_col4\" class=\"data row19 col4\" >0.0178</td>\n",
              "      <td id=\"T_39a9e_row19_col5\" class=\"data row19 col5\" >0.0126</td>\n",
              "    </tr>\n",
              "    <tr>\n",
              "      <th id=\"T_39a9e_level0_row20\" class=\"row_heading level0 row20\" >Mean</th>\n",
              "      <td id=\"T_39a9e_row20_col0\" class=\"data row20 col0\" >0.6351</td>\n",
              "      <td id=\"T_39a9e_row20_col1\" class=\"data row20 col1\" >0.8650</td>\n",
              "      <td id=\"T_39a9e_row20_col2\" class=\"data row20 col2\" >0.9297</td>\n",
              "      <td id=\"T_39a9e_row20_col3\" class=\"data row20 col3\" >0.9905</td>\n",
              "      <td id=\"T_39a9e_row20_col4\" class=\"data row20 col4\" >0.0178</td>\n",
              "      <td id=\"T_39a9e_row20_col5\" class=\"data row20 col5\" >0.0124</td>\n",
              "    </tr>\n",
              "    <tr>\n",
              "      <th id=\"T_39a9e_level0_row21\" class=\"row_heading level0 row21\" >Std</th>\n",
              "      <td id=\"T_39a9e_row21_col0\" class=\"data row21 col0\" >0.0189</td>\n",
              "      <td id=\"T_39a9e_row21_col1\" class=\"data row21 col1\" >0.0474</td>\n",
              "      <td id=\"T_39a9e_row21_col2\" class=\"data row21 col2\" >0.0254</td>\n",
              "      <td id=\"T_39a9e_row21_col3\" class=\"data row21 col3\" >0.0006</td>\n",
              "      <td id=\"T_39a9e_row21_col4\" class=\"data row21 col4\" >0.0005</td>\n",
              "      <td id=\"T_39a9e_row21_col5\" class=\"data row21 col5\" >0.0004</td>\n",
              "    </tr>\n",
              "  </tbody>\n",
              "</table>\n"
            ]
          },
          "metadata": {}
        },
        {
          "output_type": "display_data",
          "data": {
            "text/plain": [
              "Processing:   0%|          | 0/4 [00:00<?, ?it/s]"
            ],
            "application/vnd.jupyter.widget-view+json": {
              "version_major": 2,
              "version_minor": 0,
              "model_id": "601e34eeacec4cafb33fd72d0ac69e97"
            }
          },
          "metadata": {
            "application/vnd.jupyter.widget-view+json": {
              "colab": {
                "custom_widget_manager": {
                  "url": "https://ssl.gstatic.com/colaboratory-static/widgets/colab-cdn-widget-manager/d2e234f7cc04bf79/manager.min.js"
                }
              }
            }
          }
        },
        {
          "output_type": "display_data",
          "data": {
            "text/plain": [
              "<IPython.core.display.HTML object>"
            ],
            "text/html": []
          },
          "metadata": {}
        }
      ]
    },
    {
      "cell_type": "code",
      "source": [
        "model_experiment_temperature = create_model('lightgbm', fold=20)"
      ],
      "metadata": {
        "colab": {
          "base_uri": "https://localhost:8080/",
          "height": 771,
          "referenced_widgets": [
            "4130f54f146d4353a48a3e3502308f0d",
            "ecad467488ba46b8b4a3832446c0eca6",
            "04e240c0236b4fd885e150d436a8c048",
            "3b4c15826d874cfba27be5bd4567e3ba",
            "b4d7fad1586d46a48bc685261b87e209",
            "52758dfbcb2c403bb45434ba6f6b53d5",
            "a4503f1f57df44039c87a457a6b322e8",
            "4e71dc4768d845c9990a4f1a4e93fbad",
            "9060ab6f10644d0ebbafd8352575613a",
            "9e90706568324b628d45f646d03b0485",
            "d6671a9802c44aaf8377f2a2624ea534"
          ]
        },
        "id": "FoCbdJ8E6UDa",
        "outputId": "aeb670ef-436b-44cd-ed72-84987989effa"
      },
      "execution_count": 93,
      "outputs": [
        {
          "output_type": "display_data",
          "data": {
            "text/plain": [
              "<IPython.core.display.HTML object>"
            ],
            "text/html": []
          },
          "metadata": {}
        },
        {
          "output_type": "display_data",
          "data": {
            "text/plain": [
              "<pandas.io.formats.style.Styler at 0x7f8de4316410>"
            ],
            "text/html": [
              "<style type=\"text/css\">\n",
              "#T_3aef8_row20_col0, #T_3aef8_row20_col1, #T_3aef8_row20_col2, #T_3aef8_row20_col3, #T_3aef8_row20_col4, #T_3aef8_row20_col5 {\n",
              "  background: yellow;\n",
              "}\n",
              "</style>\n",
              "<table id=\"T_3aef8_\" class=\"dataframe\">\n",
              "  <thead>\n",
              "    <tr>\n",
              "      <th class=\"blank level0\" >&nbsp;</th>\n",
              "      <th class=\"col_heading level0 col0\" >MAE</th>\n",
              "      <th class=\"col_heading level0 col1\" >MSE</th>\n",
              "      <th class=\"col_heading level0 col2\" >RMSE</th>\n",
              "      <th class=\"col_heading level0 col3\" >R2</th>\n",
              "      <th class=\"col_heading level0 col4\" >RMSLE</th>\n",
              "      <th class=\"col_heading level0 col5\" >MAPE</th>\n",
              "    </tr>\n",
              "    <tr>\n",
              "      <th class=\"index_name level0\" >Fold</th>\n",
              "      <th class=\"blank col0\" >&nbsp;</th>\n",
              "      <th class=\"blank col1\" >&nbsp;</th>\n",
              "      <th class=\"blank col2\" >&nbsp;</th>\n",
              "      <th class=\"blank col3\" >&nbsp;</th>\n",
              "      <th class=\"blank col4\" >&nbsp;</th>\n",
              "      <th class=\"blank col5\" >&nbsp;</th>\n",
              "    </tr>\n",
              "  </thead>\n",
              "  <tbody>\n",
              "    <tr>\n",
              "      <th id=\"T_3aef8_level0_row0\" class=\"row_heading level0 row0\" >0</th>\n",
              "      <td id=\"T_3aef8_row0_col0\" class=\"data row0 col0\" >0.1528</td>\n",
              "      <td id=\"T_3aef8_row0_col1\" class=\"data row0 col1\" >0.0398</td>\n",
              "      <td id=\"T_3aef8_row0_col2\" class=\"data row0 col2\" >0.1995</td>\n",
              "      <td id=\"T_3aef8_row0_col3\" class=\"data row0 col3\" >0.9176</td>\n",
              "      <td id=\"T_3aef8_row0_col4\" class=\"data row0 col4\" >0.0084</td>\n",
              "      <td id=\"T_3aef8_row0_col5\" class=\"data row0 col5\" >0.0067</td>\n",
              "    </tr>\n",
              "    <tr>\n",
              "      <th id=\"T_3aef8_level0_row1\" class=\"row_heading level0 row1\" >1</th>\n",
              "      <td id=\"T_3aef8_row1_col0\" class=\"data row1 col0\" >0.1471</td>\n",
              "      <td id=\"T_3aef8_row1_col1\" class=\"data row1 col1\" >0.0364</td>\n",
              "      <td id=\"T_3aef8_row1_col2\" class=\"data row1 col2\" >0.1908</td>\n",
              "      <td id=\"T_3aef8_row1_col3\" class=\"data row1 col3\" >0.9220</td>\n",
              "      <td id=\"T_3aef8_row1_col4\" class=\"data row1 col4\" >0.0081</td>\n",
              "      <td id=\"T_3aef8_row1_col5\" class=\"data row1 col5\" >0.0065</td>\n",
              "    </tr>\n",
              "    <tr>\n",
              "      <th id=\"T_3aef8_level0_row2\" class=\"row_heading level0 row2\" >2</th>\n",
              "      <td id=\"T_3aef8_row2_col0\" class=\"data row2 col0\" >0.1510</td>\n",
              "      <td id=\"T_3aef8_row2_col1\" class=\"data row2 col1\" >0.0403</td>\n",
              "      <td id=\"T_3aef8_row2_col2\" class=\"data row2 col2\" >0.2006</td>\n",
              "      <td id=\"T_3aef8_row2_col3\" class=\"data row2 col3\" >0.9152</td>\n",
              "      <td id=\"T_3aef8_row2_col4\" class=\"data row2 col4\" >0.0084</td>\n",
              "      <td id=\"T_3aef8_row2_col5\" class=\"data row2 col5\" >0.0067</td>\n",
              "    </tr>\n",
              "    <tr>\n",
              "      <th id=\"T_3aef8_level0_row3\" class=\"row_heading level0 row3\" >3</th>\n",
              "      <td id=\"T_3aef8_row3_col0\" class=\"data row3 col0\" >0.1477</td>\n",
              "      <td id=\"T_3aef8_row3_col1\" class=\"data row3 col1\" >0.0376</td>\n",
              "      <td id=\"T_3aef8_row3_col2\" class=\"data row3 col2\" >0.1939</td>\n",
              "      <td id=\"T_3aef8_row3_col3\" class=\"data row3 col3\" >0.9236</td>\n",
              "      <td id=\"T_3aef8_row3_col4\" class=\"data row3 col4\" >0.0082</td>\n",
              "      <td id=\"T_3aef8_row3_col5\" class=\"data row3 col5\" >0.0065</td>\n",
              "    </tr>\n",
              "    <tr>\n",
              "      <th id=\"T_3aef8_level0_row4\" class=\"row_heading level0 row4\" >4</th>\n",
              "      <td id=\"T_3aef8_row4_col0\" class=\"data row4 col0\" >0.1526</td>\n",
              "      <td id=\"T_3aef8_row4_col1\" class=\"data row4 col1\" >0.0411</td>\n",
              "      <td id=\"T_3aef8_row4_col2\" class=\"data row4 col2\" >0.2028</td>\n",
              "      <td id=\"T_3aef8_row4_col3\" class=\"data row4 col3\" >0.9084</td>\n",
              "      <td id=\"T_3aef8_row4_col4\" class=\"data row4 col4\" >0.0086</td>\n",
              "      <td id=\"T_3aef8_row4_col5\" class=\"data row4 col5\" >0.0067</td>\n",
              "    </tr>\n",
              "    <tr>\n",
              "      <th id=\"T_3aef8_level0_row5\" class=\"row_heading level0 row5\" >5</th>\n",
              "      <td id=\"T_3aef8_row5_col0\" class=\"data row5 col0\" >0.1533</td>\n",
              "      <td id=\"T_3aef8_row5_col1\" class=\"data row5 col1\" >0.0413</td>\n",
              "      <td id=\"T_3aef8_row5_col2\" class=\"data row5 col2\" >0.2032</td>\n",
              "      <td id=\"T_3aef8_row5_col3\" class=\"data row5 col3\" >0.9176</td>\n",
              "      <td id=\"T_3aef8_row5_col4\" class=\"data row5 col4\" >0.0086</td>\n",
              "      <td id=\"T_3aef8_row5_col5\" class=\"data row5 col5\" >0.0068</td>\n",
              "    </tr>\n",
              "    <tr>\n",
              "      <th id=\"T_3aef8_level0_row6\" class=\"row_heading level0 row6\" >6</th>\n",
              "      <td id=\"T_3aef8_row6_col0\" class=\"data row6 col0\" >0.1468</td>\n",
              "      <td id=\"T_3aef8_row6_col1\" class=\"data row6 col1\" >0.0384</td>\n",
              "      <td id=\"T_3aef8_row6_col2\" class=\"data row6 col2\" >0.1959</td>\n",
              "      <td id=\"T_3aef8_row6_col3\" class=\"data row6 col3\" >0.9211</td>\n",
              "      <td id=\"T_3aef8_row6_col4\" class=\"data row6 col4\" >0.0083</td>\n",
              "      <td id=\"T_3aef8_row6_col5\" class=\"data row6 col5\" >0.0065</td>\n",
              "    </tr>\n",
              "    <tr>\n",
              "      <th id=\"T_3aef8_level0_row7\" class=\"row_heading level0 row7\" >7</th>\n",
              "      <td id=\"T_3aef8_row7_col0\" class=\"data row7 col0\" >0.1501</td>\n",
              "      <td id=\"T_3aef8_row7_col1\" class=\"data row7 col1\" >0.0394</td>\n",
              "      <td id=\"T_3aef8_row7_col2\" class=\"data row7 col2\" >0.1984</td>\n",
              "      <td id=\"T_3aef8_row7_col3\" class=\"data row7 col3\" >0.9163</td>\n",
              "      <td id=\"T_3aef8_row7_col4\" class=\"data row7 col4\" >0.0084</td>\n",
              "      <td id=\"T_3aef8_row7_col5\" class=\"data row7 col5\" >0.0066</td>\n",
              "    </tr>\n",
              "    <tr>\n",
              "      <th id=\"T_3aef8_level0_row8\" class=\"row_heading level0 row8\" >8</th>\n",
              "      <td id=\"T_3aef8_row8_col0\" class=\"data row8 col0\" >0.1527</td>\n",
              "      <td id=\"T_3aef8_row8_col1\" class=\"data row8 col1\" >0.0418</td>\n",
              "      <td id=\"T_3aef8_row8_col2\" class=\"data row8 col2\" >0.2044</td>\n",
              "      <td id=\"T_3aef8_row8_col3\" class=\"data row8 col3\" >0.9140</td>\n",
              "      <td id=\"T_3aef8_row8_col4\" class=\"data row8 col4\" >0.0086</td>\n",
              "      <td id=\"T_3aef8_row8_col5\" class=\"data row8 col5\" >0.0067</td>\n",
              "    </tr>\n",
              "    <tr>\n",
              "      <th id=\"T_3aef8_level0_row9\" class=\"row_heading level0 row9\" >9</th>\n",
              "      <td id=\"T_3aef8_row9_col0\" class=\"data row9 col0\" >0.1559</td>\n",
              "      <td id=\"T_3aef8_row9_col1\" class=\"data row9 col1\" >0.0439</td>\n",
              "      <td id=\"T_3aef8_row9_col2\" class=\"data row9 col2\" >0.2095</td>\n",
              "      <td id=\"T_3aef8_row9_col3\" class=\"data row9 col3\" >0.9110</td>\n",
              "      <td id=\"T_3aef8_row9_col4\" class=\"data row9 col4\" >0.0088</td>\n",
              "      <td id=\"T_3aef8_row9_col5\" class=\"data row9 col5\" >0.0069</td>\n",
              "    </tr>\n",
              "    <tr>\n",
              "      <th id=\"T_3aef8_level0_row10\" class=\"row_heading level0 row10\" >10</th>\n",
              "      <td id=\"T_3aef8_row10_col0\" class=\"data row10 col0\" >0.1538</td>\n",
              "      <td id=\"T_3aef8_row10_col1\" class=\"data row10 col1\" >0.0404</td>\n",
              "      <td id=\"T_3aef8_row10_col2\" class=\"data row10 col2\" >0.2011</td>\n",
              "      <td id=\"T_3aef8_row10_col3\" class=\"data row10 col3\" >0.9120</td>\n",
              "      <td id=\"T_3aef8_row10_col4\" class=\"data row10 col4\" >0.0085</td>\n",
              "      <td id=\"T_3aef8_row10_col5\" class=\"data row10 col5\" >0.0068</td>\n",
              "    </tr>\n",
              "    <tr>\n",
              "      <th id=\"T_3aef8_level0_row11\" class=\"row_heading level0 row11\" >11</th>\n",
              "      <td id=\"T_3aef8_row11_col0\" class=\"data row11 col0\" >0.1524</td>\n",
              "      <td id=\"T_3aef8_row11_col1\" class=\"data row11 col1\" >0.0406</td>\n",
              "      <td id=\"T_3aef8_row11_col2\" class=\"data row11 col2\" >0.2016</td>\n",
              "      <td id=\"T_3aef8_row11_col3\" class=\"data row11 col3\" >0.9111</td>\n",
              "      <td id=\"T_3aef8_row11_col4\" class=\"data row11 col4\" >0.0085</td>\n",
              "      <td id=\"T_3aef8_row11_col5\" class=\"data row11 col5\" >0.0067</td>\n",
              "    </tr>\n",
              "    <tr>\n",
              "      <th id=\"T_3aef8_level0_row12\" class=\"row_heading level0 row12\" >12</th>\n",
              "      <td id=\"T_3aef8_row12_col0\" class=\"data row12 col0\" >0.1526</td>\n",
              "      <td id=\"T_3aef8_row12_col1\" class=\"data row12 col1\" >0.0390</td>\n",
              "      <td id=\"T_3aef8_row12_col2\" class=\"data row12 col2\" >0.1976</td>\n",
              "      <td id=\"T_3aef8_row12_col3\" class=\"data row12 col3\" >0.9168</td>\n",
              "      <td id=\"T_3aef8_row12_col4\" class=\"data row12 col4\" >0.0083</td>\n",
              "      <td id=\"T_3aef8_row12_col5\" class=\"data row12 col5\" >0.0067</td>\n",
              "    </tr>\n",
              "    <tr>\n",
              "      <th id=\"T_3aef8_level0_row13\" class=\"row_heading level0 row13\" >13</th>\n",
              "      <td id=\"T_3aef8_row13_col0\" class=\"data row13 col0\" >0.1555</td>\n",
              "      <td id=\"T_3aef8_row13_col1\" class=\"data row13 col1\" >0.0408</td>\n",
              "      <td id=\"T_3aef8_row13_col2\" class=\"data row13 col2\" >0.2021</td>\n",
              "      <td id=\"T_3aef8_row13_col3\" class=\"data row13 col3\" >0.9147</td>\n",
              "      <td id=\"T_3aef8_row13_col4\" class=\"data row13 col4\" >0.0085</td>\n",
              "      <td id=\"T_3aef8_row13_col5\" class=\"data row13 col5\" >0.0069</td>\n",
              "    </tr>\n",
              "    <tr>\n",
              "      <th id=\"T_3aef8_level0_row14\" class=\"row_heading level0 row14\" >14</th>\n",
              "      <td id=\"T_3aef8_row14_col0\" class=\"data row14 col0\" >0.1528</td>\n",
              "      <td id=\"T_3aef8_row14_col1\" class=\"data row14 col1\" >0.0402</td>\n",
              "      <td id=\"T_3aef8_row14_col2\" class=\"data row14 col2\" >0.2004</td>\n",
              "      <td id=\"T_3aef8_row14_col3\" class=\"data row14 col3\" >0.9167</td>\n",
              "      <td id=\"T_3aef8_row14_col4\" class=\"data row14 col4\" >0.0085</td>\n",
              "      <td id=\"T_3aef8_row14_col5\" class=\"data row14 col5\" >0.0067</td>\n",
              "    </tr>\n",
              "    <tr>\n",
              "      <th id=\"T_3aef8_level0_row15\" class=\"row_heading level0 row15\" >15</th>\n",
              "      <td id=\"T_3aef8_row15_col0\" class=\"data row15 col0\" >0.1524</td>\n",
              "      <td id=\"T_3aef8_row15_col1\" class=\"data row15 col1\" >0.0402</td>\n",
              "      <td id=\"T_3aef8_row15_col2\" class=\"data row15 col2\" >0.2004</td>\n",
              "      <td id=\"T_3aef8_row15_col3\" class=\"data row15 col3\" >0.9183</td>\n",
              "      <td id=\"T_3aef8_row15_col4\" class=\"data row15 col4\" >0.0085</td>\n",
              "      <td id=\"T_3aef8_row15_col5\" class=\"data row15 col5\" >0.0067</td>\n",
              "    </tr>\n",
              "    <tr>\n",
              "      <th id=\"T_3aef8_level0_row16\" class=\"row_heading level0 row16\" >16</th>\n",
              "      <td id=\"T_3aef8_row16_col0\" class=\"data row16 col0\" >0.1526</td>\n",
              "      <td id=\"T_3aef8_row16_col1\" class=\"data row16 col1\" >0.0397</td>\n",
              "      <td id=\"T_3aef8_row16_col2\" class=\"data row16 col2\" >0.1993</td>\n",
              "      <td id=\"T_3aef8_row16_col3\" class=\"data row16 col3\" >0.9181</td>\n",
              "      <td id=\"T_3aef8_row16_col4\" class=\"data row16 col4\" >0.0084</td>\n",
              "      <td id=\"T_3aef8_row16_col5\" class=\"data row16 col5\" >0.0067</td>\n",
              "    </tr>\n",
              "    <tr>\n",
              "      <th id=\"T_3aef8_level0_row17\" class=\"row_heading level0 row17\" >17</th>\n",
              "      <td id=\"T_3aef8_row17_col0\" class=\"data row17 col0\" >0.1524</td>\n",
              "      <td id=\"T_3aef8_row17_col1\" class=\"data row17 col1\" >0.0405</td>\n",
              "      <td id=\"T_3aef8_row17_col2\" class=\"data row17 col2\" >0.2012</td>\n",
              "      <td id=\"T_3aef8_row17_col3\" class=\"data row17 col3\" >0.9168</td>\n",
              "      <td id=\"T_3aef8_row17_col4\" class=\"data row17 col4\" >0.0085</td>\n",
              "      <td id=\"T_3aef8_row17_col5\" class=\"data row17 col5\" >0.0067</td>\n",
              "    </tr>\n",
              "    <tr>\n",
              "      <th id=\"T_3aef8_level0_row18\" class=\"row_heading level0 row18\" >18</th>\n",
              "      <td id=\"T_3aef8_row18_col0\" class=\"data row18 col0\" >0.1527</td>\n",
              "      <td id=\"T_3aef8_row18_col1\" class=\"data row18 col1\" >0.0417</td>\n",
              "      <td id=\"T_3aef8_row18_col2\" class=\"data row18 col2\" >0.2042</td>\n",
              "      <td id=\"T_3aef8_row18_col3\" class=\"data row18 col3\" >0.9113</td>\n",
              "      <td id=\"T_3aef8_row18_col4\" class=\"data row18 col4\" >0.0086</td>\n",
              "      <td id=\"T_3aef8_row18_col5\" class=\"data row18 col5\" >0.0067</td>\n",
              "    </tr>\n",
              "    <tr>\n",
              "      <th id=\"T_3aef8_level0_row19\" class=\"row_heading level0 row19\" >19</th>\n",
              "      <td id=\"T_3aef8_row19_col0\" class=\"data row19 col0\" >0.1557</td>\n",
              "      <td id=\"T_3aef8_row19_col1\" class=\"data row19 col1\" >0.0408</td>\n",
              "      <td id=\"T_3aef8_row19_col2\" class=\"data row19 col2\" >0.2020</td>\n",
              "      <td id=\"T_3aef8_row19_col3\" class=\"data row19 col3\" >0.9155</td>\n",
              "      <td id=\"T_3aef8_row19_col4\" class=\"data row19 col4\" >0.0085</td>\n",
              "      <td id=\"T_3aef8_row19_col5\" class=\"data row19 col5\" >0.0069</td>\n",
              "    </tr>\n",
              "    <tr>\n",
              "      <th id=\"T_3aef8_level0_row20\" class=\"row_heading level0 row20\" >Mean</th>\n",
              "      <td id=\"T_3aef8_row20_col0\" class=\"data row20 col0\" >0.1521</td>\n",
              "      <td id=\"T_3aef8_row20_col1\" class=\"data row20 col1\" >0.0402</td>\n",
              "      <td id=\"T_3aef8_row20_col2\" class=\"data row20 col2\" >0.2004</td>\n",
              "      <td id=\"T_3aef8_row20_col3\" class=\"data row20 col3\" >0.9159</td>\n",
              "      <td id=\"T_3aef8_row20_col4\" class=\"data row20 col4\" >0.0085</td>\n",
              "      <td id=\"T_3aef8_row20_col5\" class=\"data row20 col5\" >0.0067</td>\n",
              "    </tr>\n",
              "    <tr>\n",
              "      <th id=\"T_3aef8_level0_row21\" class=\"row_heading level0 row21\" >Std</th>\n",
              "      <td id=\"T_3aef8_row21_col0\" class=\"data row21 col0\" >0.0025</td>\n",
              "      <td id=\"T_3aef8_row21_col1\" class=\"data row21 col1\" >0.0016</td>\n",
              "      <td id=\"T_3aef8_row21_col2\" class=\"data row21 col2\" >0.0039</td>\n",
              "      <td id=\"T_3aef8_row21_col3\" class=\"data row21 col3\" >0.0038</td>\n",
              "      <td id=\"T_3aef8_row21_col4\" class=\"data row21 col4\" >0.0002</td>\n",
              "      <td id=\"T_3aef8_row21_col5\" class=\"data row21 col5\" >0.0001</td>\n",
              "    </tr>\n",
              "  </tbody>\n",
              "</table>\n"
            ]
          },
          "metadata": {}
        },
        {
          "output_type": "display_data",
          "data": {
            "text/plain": [
              "Processing:   0%|          | 0/4 [00:00<?, ?it/s]"
            ],
            "application/vnd.jupyter.widget-view+json": {
              "version_major": 2,
              "version_minor": 0,
              "model_id": "4130f54f146d4353a48a3e3502308f0d"
            }
          },
          "metadata": {
            "application/vnd.jupyter.widget-view+json": {
              "colab": {
                "custom_widget_manager": {
                  "url": "https://ssl.gstatic.com/colaboratory-static/widgets/colab-cdn-widget-manager/d2e234f7cc04bf79/manager.min.js"
                }
              }
            }
          }
        },
        {
          "output_type": "display_data",
          "data": {
            "text/plain": [
              "<IPython.core.display.HTML object>"
            ],
            "text/html": []
          },
          "metadata": {}
        }
      ]
    },
    {
      "cell_type": "code",
      "source": [
        "model_HUMIDITY = create_model('rf', fold=20)"
      ],
      "metadata": {
        "id": "HVtfpobjBOzH"
      },
      "execution_count": null,
      "outputs": []
    },
    {
      "cell_type": "code",
      "source": [
        "model_TEMPERATURE = create_model('rf', fold=20)"
      ],
      "metadata": {
        "id": "VN1EUQ8f-p3o"
      },
      "execution_count": null,
      "outputs": []
    },
    {
      "cell_type": "markdown",
      "source": [
        "## **Tune Model Hyperparameters**"
      ],
      "metadata": {
        "id": "HmERscTo1_mD"
      }
    },
    {
      "cell_type": "markdown",
      "source": [
        "**Make sure you tune the model ONCE at a time specifically for a model created from a particular X_train and y_train dataset**"
      ],
      "metadata": {
        "id": "jVhsx0BQI_Dg"
      }
    },
    {
      "cell_type": "code",
      "source": [
        "#Tune the model for repeating the EXPERIMENT, and predicting HUMIDITY\n",
        "\n",
        "tuned_model_experiment_humidity = tune_model(model_experiment_humidity, n_iter=10, \n",
        "                      search_library='scikit-learn', \n",
        "                      search_algorithm='random', optimize='R2', verbose=True,\n",
        "                      fold=5                 \n",
        "                                         )"
      ],
      "metadata": {
        "id": "QlpYJenh14Cr",
        "colab": {
          "base_uri": "https://localhost:8080/",
          "height": 337,
          "referenced_widgets": [
            "ab388e9be2f54ea4a222eedf9c95e1fc",
            "459bf0a56bb84067990794ea6c8aef16",
            "fe87804bbd05460ea08c35210a16cb79",
            "0c4ce306ea63495baf2e0b55272c4403",
            "51718230115a4fecbf49654d03dbde7a",
            "b96fb7a15a404bdfb443923fc49050d7",
            "0463c825a5054e8cb90e03afaef8c801",
            "b6f438710a5749ab8ec1dc735948353c",
            "f396d828eb1d4b26a2b1fc5eb3f94b74",
            "2de93cd491ca4d7d82a6f9ae08561c6c",
            "eeb8e12c9a86481483b4ef56866767f4"
          ]
        },
        "outputId": "998a2678-5169-4f4e-cc8f-2aefc9a5ecae"
      },
      "execution_count": 66,
      "outputs": [
        {
          "output_type": "display_data",
          "data": {
            "text/plain": [
              "<IPython.core.display.HTML object>"
            ],
            "text/html": []
          },
          "metadata": {}
        },
        {
          "output_type": "display_data",
          "data": {
            "text/plain": [
              "<pandas.io.formats.style.Styler at 0x7f8de461bb10>"
            ],
            "text/html": [
              "<style type=\"text/css\">\n",
              "#T_7650b_row5_col0, #T_7650b_row5_col1, #T_7650b_row5_col2, #T_7650b_row5_col3, #T_7650b_row5_col4, #T_7650b_row5_col5 {\n",
              "  background: yellow;\n",
              "}\n",
              "</style>\n",
              "<table id=\"T_7650b_\" class=\"dataframe\">\n",
              "  <thead>\n",
              "    <tr>\n",
              "      <th class=\"blank level0\" >&nbsp;</th>\n",
              "      <th class=\"col_heading level0 col0\" >MAE</th>\n",
              "      <th class=\"col_heading level0 col1\" >MSE</th>\n",
              "      <th class=\"col_heading level0 col2\" >RMSE</th>\n",
              "      <th class=\"col_heading level0 col3\" >R2</th>\n",
              "      <th class=\"col_heading level0 col4\" >RMSLE</th>\n",
              "      <th class=\"col_heading level0 col5\" >MAPE</th>\n",
              "    </tr>\n",
              "    <tr>\n",
              "      <th class=\"index_name level0\" >Fold</th>\n",
              "      <th class=\"blank col0\" >&nbsp;</th>\n",
              "      <th class=\"blank col1\" >&nbsp;</th>\n",
              "      <th class=\"blank col2\" >&nbsp;</th>\n",
              "      <th class=\"blank col3\" >&nbsp;</th>\n",
              "      <th class=\"blank col4\" >&nbsp;</th>\n",
              "      <th class=\"blank col5\" >&nbsp;</th>\n",
              "    </tr>\n",
              "  </thead>\n",
              "  <tbody>\n",
              "    <tr>\n",
              "      <th id=\"T_7650b_level0_row0\" class=\"row_heading level0 row0\" >0</th>\n",
              "      <td id=\"T_7650b_row0_col0\" class=\"data row0 col0\" >0.7639</td>\n",
              "      <td id=\"T_7650b_row0_col1\" class=\"data row0 col1\" >1.0767</td>\n",
              "      <td id=\"T_7650b_row0_col2\" class=\"data row0 col2\" >1.0377</td>\n",
              "      <td id=\"T_7650b_row0_col3\" class=\"data row0 col3\" >0.9881</td>\n",
              "      <td id=\"T_7650b_row0_col4\" class=\"data row0 col4\" >0.0199</td>\n",
              "      <td id=\"T_7650b_row0_col5\" class=\"data row0 col5\" >0.0150</td>\n",
              "    </tr>\n",
              "    <tr>\n",
              "      <th id=\"T_7650b_level0_row1\" class=\"row_heading level0 row1\" >1</th>\n",
              "      <td id=\"T_7650b_row1_col0\" class=\"data row1 col0\" >0.7710</td>\n",
              "      <td id=\"T_7650b_row1_col1\" class=\"data row1 col1\" >1.1051</td>\n",
              "      <td id=\"T_7650b_row1_col2\" class=\"data row1 col2\" >1.0513</td>\n",
              "      <td id=\"T_7650b_row1_col3\" class=\"data row1 col3\" >0.9880</td>\n",
              "      <td id=\"T_7650b_row1_col4\" class=\"data row1 col4\" >0.0202</td>\n",
              "      <td id=\"T_7650b_row1_col5\" class=\"data row1 col5\" >0.0152</td>\n",
              "    </tr>\n",
              "    <tr>\n",
              "      <th id=\"T_7650b_level0_row2\" class=\"row_heading level0 row2\" >2</th>\n",
              "      <td id=\"T_7650b_row2_col0\" class=\"data row2 col0\" >0.7800</td>\n",
              "      <td id=\"T_7650b_row2_col1\" class=\"data row2 col1\" >1.1107</td>\n",
              "      <td id=\"T_7650b_row2_col2\" class=\"data row2 col2\" >1.0539</td>\n",
              "      <td id=\"T_7650b_row2_col3\" class=\"data row2 col3\" >0.9877</td>\n",
              "      <td id=\"T_7650b_row2_col4\" class=\"data row2 col4\" >0.0201</td>\n",
              "      <td id=\"T_7650b_row2_col5\" class=\"data row2 col5\" >0.0152</td>\n",
              "    </tr>\n",
              "    <tr>\n",
              "      <th id=\"T_7650b_level0_row3\" class=\"row_heading level0 row3\" >3</th>\n",
              "      <td id=\"T_7650b_row3_col0\" class=\"data row3 col0\" >0.7829</td>\n",
              "      <td id=\"T_7650b_row3_col1\" class=\"data row3 col1\" >1.1124</td>\n",
              "      <td id=\"T_7650b_row3_col2\" class=\"data row3 col2\" >1.0547</td>\n",
              "      <td id=\"T_7650b_row3_col3\" class=\"data row3 col3\" >0.9878</td>\n",
              "      <td id=\"T_7650b_row3_col4\" class=\"data row3 col4\" >0.0203</td>\n",
              "      <td id=\"T_7650b_row3_col5\" class=\"data row3 col5\" >0.0154</td>\n",
              "    </tr>\n",
              "    <tr>\n",
              "      <th id=\"T_7650b_level0_row4\" class=\"row_heading level0 row4\" >4</th>\n",
              "      <td id=\"T_7650b_row4_col0\" class=\"data row4 col0\" >0.7809</td>\n",
              "      <td id=\"T_7650b_row4_col1\" class=\"data row4 col1\" >1.1041</td>\n",
              "      <td id=\"T_7650b_row4_col2\" class=\"data row4 col2\" >1.0508</td>\n",
              "      <td id=\"T_7650b_row4_col3\" class=\"data row4 col3\" >0.9878</td>\n",
              "      <td id=\"T_7650b_row4_col4\" class=\"data row4 col4\" >0.0202</td>\n",
              "      <td id=\"T_7650b_row4_col5\" class=\"data row4 col5\" >0.0154</td>\n",
              "    </tr>\n",
              "    <tr>\n",
              "      <th id=\"T_7650b_level0_row5\" class=\"row_heading level0 row5\" >Mean</th>\n",
              "      <td id=\"T_7650b_row5_col0\" class=\"data row5 col0\" >0.7758</td>\n",
              "      <td id=\"T_7650b_row5_col1\" class=\"data row5 col1\" >1.1018</td>\n",
              "      <td id=\"T_7650b_row5_col2\" class=\"data row5 col2\" >1.0497</td>\n",
              "      <td id=\"T_7650b_row5_col3\" class=\"data row5 col3\" >0.9879</td>\n",
              "      <td id=\"T_7650b_row5_col4\" class=\"data row5 col4\" >0.0202</td>\n",
              "      <td id=\"T_7650b_row5_col5\" class=\"data row5 col5\" >0.0152</td>\n",
              "    </tr>\n",
              "    <tr>\n",
              "      <th id=\"T_7650b_level0_row6\" class=\"row_heading level0 row6\" >Std</th>\n",
              "      <td id=\"T_7650b_row6_col0\" class=\"data row6 col0\" >0.0072</td>\n",
              "      <td id=\"T_7650b_row6_col1\" class=\"data row6 col1\" >0.0129</td>\n",
              "      <td id=\"T_7650b_row6_col2\" class=\"data row6 col2\" >0.0062</td>\n",
              "      <td id=\"T_7650b_row6_col3\" class=\"data row6 col3\" >0.0002</td>\n",
              "      <td id=\"T_7650b_row6_col4\" class=\"data row6 col4\" >0.0002</td>\n",
              "      <td id=\"T_7650b_row6_col5\" class=\"data row6 col5\" >0.0002</td>\n",
              "    </tr>\n",
              "  </tbody>\n",
              "</table>\n"
            ]
          },
          "metadata": {}
        },
        {
          "output_type": "display_data",
          "data": {
            "text/plain": [
              "Processing:   0%|          | 0/7 [00:00<?, ?it/s]"
            ],
            "application/vnd.jupyter.widget-view+json": {
              "version_major": 2,
              "version_minor": 0,
              "model_id": "ab388e9be2f54ea4a222eedf9c95e1fc"
            }
          },
          "metadata": {
            "application/vnd.jupyter.widget-view+json": {
              "colab": {
                "custom_widget_manager": {
                  "url": "https://ssl.gstatic.com/colaboratory-static/widgets/colab-cdn-widget-manager/d2e234f7cc04bf79/manager.min.js"
                }
              }
            }
          }
        },
        {
          "output_type": "stream",
          "name": "stdout",
          "text": [
            "Fitting 5 folds for each of 10 candidates, totalling 50 fits\n"
          ]
        },
        {
          "output_type": "display_data",
          "data": {
            "text/plain": [
              "<IPython.core.display.HTML object>"
            ],
            "text/html": []
          },
          "metadata": {}
        },
        {
          "output_type": "stream",
          "name": "stdout",
          "text": [
            "Original model was better than the tuned model, hence it will be returned. NOTE: The display metrics are for the tuned model (not the original one).\n"
          ]
        }
      ]
    },
    {
      "cell_type": "code",
      "source": [
        "#Tune the model for repeating the EXPERIMENT, and predicting TEMPERATURE\n",
        "\n",
        "tuned_model_experiment_temperature = tune_model(model_experiment_temperature, n_iter=10, \n",
        "                      search_library='scikit-learn', \n",
        "                      search_algorithm='random', optimize='R2', verbose=True,\n",
        "                      fold=5                 \n",
        "                                         )"
      ],
      "metadata": {
        "id": "-vRMBkLB7azu",
        "colab": {
          "base_uri": "https://localhost:8080/",
          "height": 337,
          "referenced_widgets": [
            "838ceb7f56f447029c82d016933ca351",
            "78208af459f447d9b5663239035687b2",
            "4e7343b75b6b4bffb351faa68527c955",
            "9ff6fda38f7e4ee3b97818ab930bcbd5",
            "3dd35bff6e3e46579215dfe3c8b97cb1",
            "6ec6f99ffdb040948bdf68a31ee394f4",
            "72276ae22ab84cfe85c04b75ab04188e",
            "bcab6e37735740f18f826020823659f7",
            "c3e318b5b7eb4283be987a595bafbb76",
            "3063d3e6272e462bbdaa0920e0aa454f",
            "dce0c8da0a694d868ceab75268b158a2"
          ]
        },
        "outputId": "b6810851-242a-4384-fe64-39a30c74a6b0"
      },
      "execution_count": 94,
      "outputs": [
        {
          "output_type": "display_data",
          "data": {
            "text/plain": [
              "<IPython.core.display.HTML object>"
            ],
            "text/html": []
          },
          "metadata": {}
        },
        {
          "output_type": "display_data",
          "data": {
            "text/plain": [
              "<pandas.io.formats.style.Styler at 0x7f8de4f74c50>"
            ],
            "text/html": [
              "<style type=\"text/css\">\n",
              "#T_abaa9_row5_col0, #T_abaa9_row5_col1, #T_abaa9_row5_col2, #T_abaa9_row5_col3, #T_abaa9_row5_col4, #T_abaa9_row5_col5 {\n",
              "  background: yellow;\n",
              "}\n",
              "</style>\n",
              "<table id=\"T_abaa9_\" class=\"dataframe\">\n",
              "  <thead>\n",
              "    <tr>\n",
              "      <th class=\"blank level0\" >&nbsp;</th>\n",
              "      <th class=\"col_heading level0 col0\" >MAE</th>\n",
              "      <th class=\"col_heading level0 col1\" >MSE</th>\n",
              "      <th class=\"col_heading level0 col2\" >RMSE</th>\n",
              "      <th class=\"col_heading level0 col3\" >R2</th>\n",
              "      <th class=\"col_heading level0 col4\" >RMSLE</th>\n",
              "      <th class=\"col_heading level0 col5\" >MAPE</th>\n",
              "    </tr>\n",
              "    <tr>\n",
              "      <th class=\"index_name level0\" >Fold</th>\n",
              "      <th class=\"blank col0\" >&nbsp;</th>\n",
              "      <th class=\"blank col1\" >&nbsp;</th>\n",
              "      <th class=\"blank col2\" >&nbsp;</th>\n",
              "      <th class=\"blank col3\" >&nbsp;</th>\n",
              "      <th class=\"blank col4\" >&nbsp;</th>\n",
              "      <th class=\"blank col5\" >&nbsp;</th>\n",
              "    </tr>\n",
              "  </thead>\n",
              "  <tbody>\n",
              "    <tr>\n",
              "      <th id=\"T_abaa9_level0_row0\" class=\"row_heading level0 row0\" >0</th>\n",
              "      <td id=\"T_abaa9_row0_col0\" class=\"data row0 col0\" >0.1721</td>\n",
              "      <td id=\"T_abaa9_row0_col1\" class=\"data row0 col1\" >0.0498</td>\n",
              "      <td id=\"T_abaa9_row0_col2\" class=\"data row0 col2\" >0.2231</td>\n",
              "      <td id=\"T_abaa9_row0_col3\" class=\"data row0 col3\" >0.8962</td>\n",
              "      <td id=\"T_abaa9_row0_col4\" class=\"data row0 col4\" >0.0094</td>\n",
              "      <td id=\"T_abaa9_row0_col5\" class=\"data row0 col5\" >0.0076</td>\n",
              "    </tr>\n",
              "    <tr>\n",
              "      <th id=\"T_abaa9_level0_row1\" class=\"row_heading level0 row1\" >1</th>\n",
              "      <td id=\"T_abaa9_row1_col0\" class=\"data row1 col0\" >0.1741</td>\n",
              "      <td id=\"T_abaa9_row1_col1\" class=\"data row1 col1\" >0.0513</td>\n",
              "      <td id=\"T_abaa9_row1_col2\" class=\"data row1 col2\" >0.2266</td>\n",
              "      <td id=\"T_abaa9_row1_col3\" class=\"data row1 col3\" >0.8924</td>\n",
              "      <td id=\"T_abaa9_row1_col4\" class=\"data row1 col4\" >0.0096</td>\n",
              "      <td id=\"T_abaa9_row1_col5\" class=\"data row1 col5\" >0.0077</td>\n",
              "    </tr>\n",
              "    <tr>\n",
              "      <th id=\"T_abaa9_level0_row2\" class=\"row_heading level0 row2\" >2</th>\n",
              "      <td id=\"T_abaa9_row2_col0\" class=\"data row2 col0\" >0.1796</td>\n",
              "      <td id=\"T_abaa9_row2_col1\" class=\"data row2 col1\" >0.0547</td>\n",
              "      <td id=\"T_abaa9_row2_col2\" class=\"data row2 col2\" >0.2338</td>\n",
              "      <td id=\"T_abaa9_row2_col3\" class=\"data row2 col3\" >0.8847</td>\n",
              "      <td id=\"T_abaa9_row2_col4\" class=\"data row2 col4\" >0.0099</td>\n",
              "      <td id=\"T_abaa9_row2_col5\" class=\"data row2 col5\" >0.0079</td>\n",
              "    </tr>\n",
              "    <tr>\n",
              "      <th id=\"T_abaa9_level0_row3\" class=\"row_heading level0 row3\" >3</th>\n",
              "      <td id=\"T_abaa9_row3_col0\" class=\"data row3 col0\" >0.1773</td>\n",
              "      <td id=\"T_abaa9_row3_col1\" class=\"data row3 col1\" >0.0518</td>\n",
              "      <td id=\"T_abaa9_row3_col2\" class=\"data row3 col2\" >0.2275</td>\n",
              "      <td id=\"T_abaa9_row3_col3\" class=\"data row3 col3\" >0.8923</td>\n",
              "      <td id=\"T_abaa9_row3_col4\" class=\"data row3 col4\" >0.0096</td>\n",
              "      <td id=\"T_abaa9_row3_col5\" class=\"data row3 col5\" >0.0078</td>\n",
              "    </tr>\n",
              "    <tr>\n",
              "      <th id=\"T_abaa9_level0_row4\" class=\"row_heading level0 row4\" >4</th>\n",
              "      <td id=\"T_abaa9_row4_col0\" class=\"data row4 col0\" >0.1761</td>\n",
              "      <td id=\"T_abaa9_row4_col1\" class=\"data row4 col1\" >0.0519</td>\n",
              "      <td id=\"T_abaa9_row4_col2\" class=\"data row4 col2\" >0.2277</td>\n",
              "      <td id=\"T_abaa9_row4_col3\" class=\"data row4 col3\" >0.8922</td>\n",
              "      <td id=\"T_abaa9_row4_col4\" class=\"data row4 col4\" >0.0096</td>\n",
              "      <td id=\"T_abaa9_row4_col5\" class=\"data row4 col5\" >0.0078</td>\n",
              "    </tr>\n",
              "    <tr>\n",
              "      <th id=\"T_abaa9_level0_row5\" class=\"row_heading level0 row5\" >Mean</th>\n",
              "      <td id=\"T_abaa9_row5_col0\" class=\"data row5 col0\" >0.1758</td>\n",
              "      <td id=\"T_abaa9_row5_col1\" class=\"data row5 col1\" >0.0519</td>\n",
              "      <td id=\"T_abaa9_row5_col2\" class=\"data row5 col2\" >0.2277</td>\n",
              "      <td id=\"T_abaa9_row5_col3\" class=\"data row5 col3\" >0.8916</td>\n",
              "      <td id=\"T_abaa9_row5_col4\" class=\"data row5 col4\" >0.0096</td>\n",
              "      <td id=\"T_abaa9_row5_col5\" class=\"data row5 col5\" >0.0078</td>\n",
              "    </tr>\n",
              "    <tr>\n",
              "      <th id=\"T_abaa9_level0_row6\" class=\"row_heading level0 row6\" >Std</th>\n",
              "      <td id=\"T_abaa9_row6_col0\" class=\"data row6 col0\" >0.0026</td>\n",
              "      <td id=\"T_abaa9_row6_col1\" class=\"data row6 col1\" >0.0016</td>\n",
              "      <td id=\"T_abaa9_row6_col2\" class=\"data row6 col2\" >0.0034</td>\n",
              "      <td id=\"T_abaa9_row6_col3\" class=\"data row6 col3\" >0.0038</td>\n",
              "      <td id=\"T_abaa9_row6_col4\" class=\"data row6 col4\" >0.0001</td>\n",
              "      <td id=\"T_abaa9_row6_col5\" class=\"data row6 col5\" >0.0001</td>\n",
              "    </tr>\n",
              "  </tbody>\n",
              "</table>\n"
            ]
          },
          "metadata": {}
        },
        {
          "output_type": "display_data",
          "data": {
            "text/plain": [
              "Processing:   0%|          | 0/7 [00:00<?, ?it/s]"
            ],
            "application/vnd.jupyter.widget-view+json": {
              "version_major": 2,
              "version_minor": 0,
              "model_id": "838ceb7f56f447029c82d016933ca351"
            }
          },
          "metadata": {
            "application/vnd.jupyter.widget-view+json": {
              "colab": {
                "custom_widget_manager": {
                  "url": "https://ssl.gstatic.com/colaboratory-static/widgets/colab-cdn-widget-manager/d2e234f7cc04bf79/manager.min.js"
                }
              }
            }
          }
        },
        {
          "output_type": "stream",
          "name": "stdout",
          "text": [
            "Fitting 5 folds for each of 10 candidates, totalling 50 fits\n"
          ]
        },
        {
          "output_type": "display_data",
          "data": {
            "text/plain": [
              "<IPython.core.display.HTML object>"
            ],
            "text/html": []
          },
          "metadata": {}
        },
        {
          "output_type": "stream",
          "name": "stdout",
          "text": [
            "Original model was better than the tuned model, hence it will be returned. NOTE: The display metrics are for the tuned model (not the original one).\n"
          ]
        }
      ]
    },
    {
      "cell_type": "code",
      "source": [
        "#Tune the model for predicting HUMIDITY\n",
        "\n",
        "tuned_model_HUMIDITY = tune_model(model_HUMIDITY, n_iter=10, \n",
        "                      search_library='scikit-learn', \n",
        "                      search_algorithm='random', optimize='R2', verbose=True,\n",
        "                      fold=5                 \n",
        "                                         )"
      ],
      "metadata": {
        "id": "ot2m4LomBI43"
      },
      "execution_count": null,
      "outputs": []
    },
    {
      "cell_type": "code",
      "source": [
        "#Tune the model for predicting TEMPERATURE\n",
        "\n",
        "tuned_model_TEMPERATURE = tune_model(model_TEMPERATURE, n_iter=10, \n",
        "                      search_library='scikit-learn', \n",
        "                      search_algorithm='random', optimize='R2', verbose=True,\n",
        "                      fold=5                 \n",
        "                                         )"
      ],
      "metadata": {
        "id": "B3wDs8TBAzhg"
      },
      "execution_count": null,
      "outputs": []
    },
    {
      "cell_type": "markdown",
      "source": [
        "## **Analyze Model Performance Diagnostics**"
      ],
      "metadata": {
        "id": "Sle5tq9E2Kk7"
      }
    },
    {
      "cell_type": "markdown",
      "source": [
        "Model for repeating the EXPERIMENT, and predicting HUMIDITY"
      ],
      "metadata": {
        "id": "_lP1adXNK1gr"
      }
    },
    {
      "cell_type": "code",
      "source": [
        "plt.figure(figsize = (18,9))\n",
        "plot_model(tuned_model_experiment_humidity)\n",
        "#plt.savefig('rf_humidity.png', dpi=300, bbox_inches=\"tight\")"
      ],
      "metadata": {
        "id": "UG5B3aNS2Hsb",
        "colab": {
          "base_uri": "https://localhost:8080/",
          "height": 359
        },
        "outputId": "59e319fb-e652-4848-b4e2-5f42cff4cbb6"
      },
      "execution_count": 67,
      "outputs": [
        {
          "output_type": "display_data",
          "data": {
            "text/plain": [
              "<IPython.core.display.HTML object>"
            ],
            "text/html": []
          },
          "metadata": {}
        },
        {
          "output_type": "error",
          "ename": "AttributeError",
          "evalue": "ignored",
          "traceback": [
            "\u001b[0;31m---------------------------------------------------------------------------\u001b[0m",
            "\u001b[0;31mAttributeError\u001b[0m                            Traceback (most recent call last)",
            "\u001b[0;32m<ipython-input-67-62ea5b060182>\u001b[0m in \u001b[0;36m<module>\u001b[0;34m\u001b[0m\n\u001b[1;32m      1\u001b[0m \u001b[0mplt\u001b[0m\u001b[0;34m.\u001b[0m\u001b[0mfigure\u001b[0m\u001b[0;34m(\u001b[0m\u001b[0mfigsize\u001b[0m \u001b[0;34m=\u001b[0m \u001b[0;34m(\u001b[0m\u001b[0;36m18\u001b[0m\u001b[0;34m,\u001b[0m\u001b[0;36m9\u001b[0m\u001b[0;34m)\u001b[0m\u001b[0;34m)\u001b[0m\u001b[0;34m\u001b[0m\u001b[0;34m\u001b[0m\u001b[0m\n\u001b[0;32m----> 2\u001b[0;31m \u001b[0mplot_model\u001b[0m\u001b[0;34m(\u001b[0m\u001b[0mtuned_model_experiment_humidity\u001b[0m\u001b[0;34m)\u001b[0m\u001b[0;34m\u001b[0m\u001b[0;34m\u001b[0m\u001b[0m\n\u001b[0m\u001b[1;32m      3\u001b[0m \u001b[0;31m#plt.savefig('rf_humidity.png', dpi=300, bbox_inches=\"tight\")\u001b[0m\u001b[0;34m\u001b[0m\u001b[0;34m\u001b[0m\u001b[0;34m\u001b[0m\u001b[0m\n",
            "\u001b[0;32m/usr/local/lib/python3.7/dist-packages/pycaret/utils/generic.py\u001b[0m in \u001b[0;36mwrapper\u001b[0;34m(*args, **kwargs)\u001b[0m\n\u001b[1;32m    948\u001b[0m                 \u001b[0;32mif\u001b[0m \u001b[0mglobals_d\u001b[0m\u001b[0;34m[\u001b[0m\u001b[0mname\u001b[0m\u001b[0;34m]\u001b[0m \u001b[0;32mis\u001b[0m \u001b[0;32mNone\u001b[0m\u001b[0;34m:\u001b[0m\u001b[0;34m\u001b[0m\u001b[0;34m\u001b[0m\u001b[0m\n\u001b[1;32m    949\u001b[0m                     \u001b[0;32mraise\u001b[0m \u001b[0mValueError\u001b[0m\u001b[0;34m(\u001b[0m\u001b[0mmessage\u001b[0m\u001b[0;34m)\u001b[0m\u001b[0;34m\u001b[0m\u001b[0;34m\u001b[0m\u001b[0m\n\u001b[0;32m--> 950\u001b[0;31m             \u001b[0;32mreturn\u001b[0m \u001b[0mfunc\u001b[0m\u001b[0;34m(\u001b[0m\u001b[0;34m*\u001b[0m\u001b[0margs\u001b[0m\u001b[0;34m,\u001b[0m \u001b[0;34m**\u001b[0m\u001b[0mkwargs\u001b[0m\u001b[0;34m)\u001b[0m\u001b[0;34m\u001b[0m\u001b[0;34m\u001b[0m\u001b[0m\n\u001b[0m\u001b[1;32m    951\u001b[0m \u001b[0;34m\u001b[0m\u001b[0m\n\u001b[1;32m    952\u001b[0m         \u001b[0;32mreturn\u001b[0m \u001b[0mwrapper\u001b[0m\u001b[0;34m\u001b[0m\u001b[0;34m\u001b[0m\u001b[0m\n",
            "\u001b[0;32m/usr/local/lib/python3.7/dist-packages/pycaret/regression/functional.py\u001b[0m in \u001b[0;36mplot_model\u001b[0;34m(estimator, plot, scale, save, fold, fit_kwargs, plot_kwargs, groups, use_train_data, verbose, display_format)\u001b[0m\n\u001b[1;32m   1668\u001b[0m         \u001b[0mverbose\u001b[0m\u001b[0;34m=\u001b[0m\u001b[0mverbose\u001b[0m\u001b[0;34m,\u001b[0m\u001b[0;34m\u001b[0m\u001b[0;34m\u001b[0m\u001b[0m\n\u001b[1;32m   1669\u001b[0m         \u001b[0muse_train_data\u001b[0m\u001b[0;34m=\u001b[0m\u001b[0muse_train_data\u001b[0m\u001b[0;34m,\u001b[0m\u001b[0;34m\u001b[0m\u001b[0;34m\u001b[0m\u001b[0m\n\u001b[0;32m-> 1670\u001b[0;31m         \u001b[0mdisplay_format\u001b[0m\u001b[0;34m=\u001b[0m\u001b[0mdisplay_format\u001b[0m\u001b[0;34m,\u001b[0m\u001b[0;34m\u001b[0m\u001b[0;34m\u001b[0m\u001b[0m\n\u001b[0m\u001b[1;32m   1671\u001b[0m     )\n\u001b[1;32m   1672\u001b[0m \u001b[0;34m\u001b[0m\u001b[0m\n",
            "\u001b[0;32m/usr/local/lib/python3.7/dist-packages/pycaret/regression/oop.py\u001b[0m in \u001b[0;36mplot_model\u001b[0;34m(self, estimator, plot, scale, save, fold, fit_kwargs, plot_kwargs, groups, use_train_data, verbose, display_format)\u001b[0m\n\u001b[1;32m   1964\u001b[0m             \u001b[0mverbose\u001b[0m\u001b[0;34m=\u001b[0m\u001b[0mverbose\u001b[0m\u001b[0;34m,\u001b[0m\u001b[0;34m\u001b[0m\u001b[0;34m\u001b[0m\u001b[0m\n\u001b[1;32m   1965\u001b[0m             \u001b[0muse_train_data\u001b[0m\u001b[0;34m=\u001b[0m\u001b[0muse_train_data\u001b[0m\u001b[0;34m,\u001b[0m\u001b[0;34m\u001b[0m\u001b[0;34m\u001b[0m\u001b[0m\n\u001b[0;32m-> 1966\u001b[0;31m             \u001b[0mdisplay_format\u001b[0m\u001b[0;34m=\u001b[0m\u001b[0mdisplay_format\u001b[0m\u001b[0;34m,\u001b[0m\u001b[0;34m\u001b[0m\u001b[0;34m\u001b[0m\u001b[0m\n\u001b[0m\u001b[1;32m   1967\u001b[0m         )\n\u001b[1;32m   1968\u001b[0m \u001b[0;34m\u001b[0m\u001b[0m\n",
            "\u001b[0;32m/usr/local/lib/python3.7/dist-packages/pycaret/internal/pycaret_experiment/tabular_experiment.py\u001b[0m in \u001b[0;36mplot_model\u001b[0;34m(self, estimator, plot, scale, save, fold, fit_kwargs, plot_kwargs, groups, feature_name, label, use_train_data, verbose, display_format)\u001b[0m\n\u001b[1;32m   2105\u001b[0m             \u001b[0muse_train_data\u001b[0m\u001b[0;34m=\u001b[0m\u001b[0muse_train_data\u001b[0m\u001b[0;34m,\u001b[0m\u001b[0;34m\u001b[0m\u001b[0;34m\u001b[0m\u001b[0m\n\u001b[1;32m   2106\u001b[0m             \u001b[0mverbose\u001b[0m\u001b[0;34m=\u001b[0m\u001b[0mverbose\u001b[0m\u001b[0;34m,\u001b[0m\u001b[0;34m\u001b[0m\u001b[0;34m\u001b[0m\u001b[0m\n\u001b[0;32m-> 2107\u001b[0;31m             \u001b[0mdisplay_format\u001b[0m\u001b[0;34m=\u001b[0m\u001b[0mdisplay_format\u001b[0m\u001b[0;34m,\u001b[0m\u001b[0;34m\u001b[0m\u001b[0;34m\u001b[0m\u001b[0m\n\u001b[0m\u001b[1;32m   2108\u001b[0m         )\n\u001b[1;32m   2109\u001b[0m \u001b[0;34m\u001b[0m\u001b[0m\n",
            "\u001b[0;32m/usr/local/lib/python3.7/dist-packages/pycaret/internal/pycaret_experiment/tabular_experiment.py\u001b[0m in \u001b[0;36m_plot_model\u001b[0;34m(self, estimator, plot, scale, save, fold, fit_kwargs, plot_kwargs, groups, feature_name, label, use_train_data, verbose, system, display, display_format)\u001b[0m\n\u001b[1;32m   1958\u001b[0m                 \u001b[0;31m# execute the plot method\u001b[0m\u001b[0;34m\u001b[0m\u001b[0;34m\u001b[0m\u001b[0;34m\u001b[0m\u001b[0m\n\u001b[1;32m   1959\u001b[0m                 \u001b[0;32mwith\u001b[0m \u001b[0mredirect_output\u001b[0m\u001b[0;34m(\u001b[0m\u001b[0mself\u001b[0m\u001b[0;34m.\u001b[0m\u001b[0mlogger\u001b[0m\u001b[0;34m)\u001b[0m\u001b[0;34m:\u001b[0m\u001b[0;34m\u001b[0m\u001b[0;34m\u001b[0m\u001b[0m\n\u001b[0;32m-> 1960\u001b[0;31m                     \u001b[0mret\u001b[0m \u001b[0;34m=\u001b[0m \u001b[0mlocals\u001b[0m\u001b[0;34m(\u001b[0m\u001b[0;34m)\u001b[0m\u001b[0;34m[\u001b[0m\u001b[0mplot\u001b[0m\u001b[0;34m]\u001b[0m\u001b[0;34m(\u001b[0m\u001b[0;34m)\u001b[0m\u001b[0;34m\u001b[0m\u001b[0;34m\u001b[0m\u001b[0m\n\u001b[0m\u001b[1;32m   1961\u001b[0m                 \u001b[0;32mif\u001b[0m \u001b[0mret\u001b[0m\u001b[0;34m:\u001b[0m\u001b[0;34m\u001b[0m\u001b[0;34m\u001b[0m\u001b[0m\n\u001b[1;32m   1962\u001b[0m                     \u001b[0mplot_filename\u001b[0m \u001b[0;34m=\u001b[0m \u001b[0mret\u001b[0m\u001b[0;34m\u001b[0m\u001b[0;34m\u001b[0m\u001b[0m\n",
            "\u001b[0;32m/usr/local/lib/python3.7/dist-packages/pycaret/internal/pycaret_experiment/tabular_experiment.py\u001b[0m in \u001b[0;36mresiduals\u001b[0;34m()\u001b[0m\n\u001b[1;32m   1130\u001b[0m                 \u001b[0;32mdef\u001b[0m \u001b[0mresiduals\u001b[0m\u001b[0;34m(\u001b[0m\u001b[0;34m)\u001b[0m\u001b[0;34m:\u001b[0m\u001b[0;34m\u001b[0m\u001b[0;34m\u001b[0m\u001b[0m\n\u001b[1;32m   1131\u001b[0m \u001b[0;34m\u001b[0m\u001b[0m\n\u001b[0;32m-> 1132\u001b[0;31m                     \u001b[0;32mfrom\u001b[0m \u001b[0myellowbrick\u001b[0m\u001b[0;34m.\u001b[0m\u001b[0mregressor\u001b[0m \u001b[0;32mimport\u001b[0m \u001b[0mResidualsPlot\u001b[0m\u001b[0;34m\u001b[0m\u001b[0;34m\u001b[0m\u001b[0m\n\u001b[0m\u001b[1;32m   1133\u001b[0m \u001b[0;34m\u001b[0m\u001b[0m\n\u001b[1;32m   1134\u001b[0m                     \u001b[0mvisualizer\u001b[0m \u001b[0;34m=\u001b[0m \u001b[0mResidualsPlot\u001b[0m\u001b[0;34m(\u001b[0m\u001b[0mestimator\u001b[0m\u001b[0;34m,\u001b[0m \u001b[0;34m**\u001b[0m\u001b[0mplot_kwargs\u001b[0m\u001b[0;34m)\u001b[0m\u001b[0;34m\u001b[0m\u001b[0;34m\u001b[0m\u001b[0m\n",
            "\u001b[0;32m/usr/local/lib/python3.7/dist-packages/yellowbrick/regressor/__init__.py\u001b[0m in \u001b[0;36m<module>\u001b[0;34m\u001b[0m\n\u001b[1;32m     21\u001b[0m \u001b[0;31m## Hoist visualizers into the regressor namespace\u001b[0m\u001b[0;34m\u001b[0m\u001b[0;34m\u001b[0m\u001b[0;34m\u001b[0m\u001b[0m\n\u001b[1;32m     22\u001b[0m \u001b[0;32mfrom\u001b[0m \u001b[0;34m.\u001b[0m\u001b[0mbase\u001b[0m \u001b[0;32mimport\u001b[0m \u001b[0;34m*\u001b[0m\u001b[0;34m\u001b[0m\u001b[0;34m\u001b[0m\u001b[0m\n\u001b[0;32m---> 23\u001b[0;31m \u001b[0;32mfrom\u001b[0m \u001b[0;34m.\u001b[0m\u001b[0mresiduals\u001b[0m \u001b[0;32mimport\u001b[0m \u001b[0;34m*\u001b[0m\u001b[0;34m\u001b[0m\u001b[0;34m\u001b[0m\u001b[0m\n\u001b[0m\u001b[1;32m     24\u001b[0m \u001b[0;32mfrom\u001b[0m \u001b[0;34m.\u001b[0m\u001b[0mprediction_error\u001b[0m \u001b[0;32mimport\u001b[0m \u001b[0;34m*\u001b[0m\u001b[0;34m\u001b[0m\u001b[0;34m\u001b[0m\u001b[0m\n\u001b[1;32m     25\u001b[0m \u001b[0;32mfrom\u001b[0m \u001b[0;34m.\u001b[0m\u001b[0malphas\u001b[0m \u001b[0;32mimport\u001b[0m \u001b[0;34m*\u001b[0m\u001b[0;34m\u001b[0m\u001b[0;34m\u001b[0m\u001b[0m\n",
            "\u001b[0;32m/usr/local/lib/python3.7/dist-packages/yellowbrick/regressor/residuals.py\u001b[0m in \u001b[0;36m<module>\u001b[0;34m\u001b[0m\n\u001b[1;32m     26\u001b[0m \u001b[0;32mtry\u001b[0m\u001b[0;34m:\u001b[0m\u001b[0;34m\u001b[0m\u001b[0;34m\u001b[0m\u001b[0m\n\u001b[1;32m     27\u001b[0m     \u001b[0;31m# Only available in Matplotlib >= 2.0.2\u001b[0m\u001b[0;34m\u001b[0m\u001b[0;34m\u001b[0m\u001b[0;34m\u001b[0m\u001b[0m\n\u001b[0;32m---> 28\u001b[0;31m     \u001b[0;32mfrom\u001b[0m \u001b[0mmpl_toolkits\u001b[0m\u001b[0;34m.\u001b[0m\u001b[0maxes_grid1\u001b[0m \u001b[0;32mimport\u001b[0m \u001b[0mmake_axes_locatable\u001b[0m\u001b[0;34m\u001b[0m\u001b[0;34m\u001b[0m\u001b[0m\n\u001b[0m\u001b[1;32m     29\u001b[0m \u001b[0;32mexcept\u001b[0m \u001b[0mImportError\u001b[0m\u001b[0;34m:\u001b[0m\u001b[0;34m\u001b[0m\u001b[0;34m\u001b[0m\u001b[0m\n\u001b[1;32m     30\u001b[0m     \u001b[0mmake_axes_locatable\u001b[0m \u001b[0;34m=\u001b[0m \u001b[0;32mNone\u001b[0m\u001b[0;34m\u001b[0m\u001b[0;34m\u001b[0m\u001b[0m\n",
            "\u001b[0;32m/usr/local/lib/python3.7/dist-packages/mpl_toolkits/axes_grid1/__init__.py\u001b[0m in \u001b[0;36m<module>\u001b[0;34m\u001b[0m\n\u001b[1;32m     10\u001b[0m \u001b[0;31m#from axes_divider import make_axes_locatable\u001b[0m\u001b[0;34m\u001b[0m\u001b[0;34m\u001b[0m\u001b[0;34m\u001b[0m\u001b[0m\n\u001b[1;32m     11\u001b[0m \u001b[0;34m\u001b[0m\u001b[0m\n\u001b[0;32m---> 12\u001b[0;31m \u001b[0;32mfrom\u001b[0m \u001b[0;34m.\u001b[0m\u001b[0mparasite_axes\u001b[0m \u001b[0;32mimport\u001b[0m \u001b[0mhost_subplot\u001b[0m\u001b[0;34m,\u001b[0m \u001b[0mhost_axes\u001b[0m\u001b[0;34m\u001b[0m\u001b[0;34m\u001b[0m\u001b[0m\n\u001b[0m",
            "\u001b[0;32m/usr/local/lib/python3.7/dist-packages/mpl_toolkits/axes_grid1/parasite_axes.py\u001b[0m in \u001b[0;36m<module>\u001b[0;34m\u001b[0m\n\u001b[1;32m     21\u001b[0m \u001b[0;34m\u001b[0m\u001b[0m\n\u001b[1;32m     22\u001b[0m \u001b[0;32mimport\u001b[0m \u001b[0mmatplotlib\u001b[0m\u001b[0;34m.\u001b[0m\u001b[0mcbook\u001b[0m \u001b[0;32mas\u001b[0m \u001b[0mcbook\u001b[0m\u001b[0;34m\u001b[0m\u001b[0;34m\u001b[0m\u001b[0m\n\u001b[0;32m---> 23\u001b[0;31m \u001b[0mis_string_like\u001b[0m \u001b[0;34m=\u001b[0m \u001b[0mcbook\u001b[0m\u001b[0;34m.\u001b[0m\u001b[0mis_string_like\u001b[0m\u001b[0;34m\u001b[0m\u001b[0;34m\u001b[0m\u001b[0m\n\u001b[0m\u001b[1;32m     24\u001b[0m \u001b[0;34m\u001b[0m\u001b[0m\n\u001b[1;32m     25\u001b[0m \u001b[0;34m\u001b[0m\u001b[0m\n",
            "\u001b[0;31mAttributeError\u001b[0m: module 'matplotlib.cbook' has no attribute 'is_string_like'"
          ]
        }
      ]
    },
    {
      "cell_type": "code",
      "source": [
        "plt.figure(figsize = (18,9))\n",
        "plot_model(tuned_model_experiment_humidity, plot='error')\n",
        "#plt.savefig('rf_humidity1.png', dpi=300, bbox_inches=\"tight\")"
      ],
      "metadata": {
        "id": "-FPa5NG52NRj"
      },
      "execution_count": null,
      "outputs": []
    },
    {
      "cell_type": "code",
      "source": [
        "plot_model(tuned_model_experiment_humidity, plot='feature')"
      ],
      "metadata": {
        "id": "Ebd-V4Md2P2z"
      },
      "execution_count": null,
      "outputs": []
    },
    {
      "cell_type": "code",
      "source": [
        "evaluate_model(tuned_model_experiment_humidity)"
      ],
      "metadata": {
        "id": "P1CWLcQz2P6k"
      },
      "execution_count": null,
      "outputs": []
    },
    {
      "cell_type": "markdown",
      "source": [
        "**Model for repeating the EXPERIMENT, and predicting TEMPERATURE**"
      ],
      "metadata": {
        "id": "xrZX0YcqLMJc"
      }
    },
    {
      "cell_type": "code",
      "source": [
        "plt.figure(figsize = (18,9))\n",
        "plot_model(tuned_model_experiment_temperature)\n",
        "#plt.savefig('rf_humidity.png', dpi=300, bbox_inches=\"tight\")"
      ],
      "metadata": {
        "id": "YgUvVukSLW9-"
      },
      "execution_count": null,
      "outputs": []
    },
    {
      "cell_type": "code",
      "source": [
        "plt.figure(figsize = (18,9))\n",
        "plot_model(tuned_model_experiment_temperature, plot='error')\n",
        "#plt.savefig('rf_humidity1.png', dpi=300, bbox_inches=\"tight\")"
      ],
      "metadata": {
        "id": "aiYXq_3cLW9-"
      },
      "execution_count": null,
      "outputs": []
    },
    {
      "cell_type": "code",
      "source": [
        "plot_model(tuned_model_experiment_temperature, plot='feature')"
      ],
      "metadata": {
        "id": "iYH1oYeWLW-A"
      },
      "execution_count": null,
      "outputs": []
    },
    {
      "cell_type": "code",
      "source": [
        "evaluate_model(tuned_model_experiment_temperature)"
      ],
      "metadata": {
        "id": "CxvhJWIfLW-B"
      },
      "execution_count": null,
      "outputs": []
    },
    {
      "cell_type": "markdown",
      "source": [
        "**Model for predicting HUMIDITY**"
      ],
      "metadata": {
        "id": "GSgzEn_ELbuX"
      }
    },
    {
      "cell_type": "code",
      "source": [
        "plt.figure(figsize = (18,9))\n",
        "plot_model(tuned_model_HUMIDITY)\n",
        "#plt.savefig('rf_humidity.png', dpi=300, bbox_inches=\"tight\")"
      ],
      "metadata": {
        "id": "rChmCpWJLbuZ"
      },
      "execution_count": null,
      "outputs": []
    },
    {
      "cell_type": "code",
      "source": [
        "plt.figure(figsize = (18,9))\n",
        "plot_model(tuned_model_HUMIDITY, plot='error')\n",
        "#plt.savefig('rf_humidity1.png', dpi=300, bbox_inches=\"tight\")"
      ],
      "metadata": {
        "id": "tVFOr5i9Lbua"
      },
      "execution_count": null,
      "outputs": []
    },
    {
      "cell_type": "code",
      "source": [
        "plot_model(tuned_model_HUMIDITY, plot='feature')"
      ],
      "metadata": {
        "id": "4G6ab6ZvLbub"
      },
      "execution_count": null,
      "outputs": []
    },
    {
      "cell_type": "code",
      "source": [
        "evaluate_model(tuned_model_HUMIDITY)"
      ],
      "metadata": {
        "id": "85tksd1ALbuc"
      },
      "execution_count": null,
      "outputs": []
    },
    {
      "cell_type": "markdown",
      "source": [
        "**Model for predicting TEMPERATURE**"
      ],
      "metadata": {
        "id": "MYzUuGtyLdxC"
      }
    },
    {
      "cell_type": "code",
      "source": [
        "plt.figure(figsize = (18,9))\n",
        "plot_model(tuned_model_TEMPERATURE)\n",
        "#plt.savefig('rf_humidity.png', dpi=300, bbox_inches=\"tight\")"
      ],
      "metadata": {
        "id": "N3jZoeBeLdxD"
      },
      "execution_count": null,
      "outputs": []
    },
    {
      "cell_type": "code",
      "source": [
        "plt.figure(figsize = (18,9))\n",
        "plot_model(tuned_model_TEMPERATURE, plot='error')\n",
        "#plt.savefig('rf_humidity1.png', dpi=300, bbox_inches=\"tight\")"
      ],
      "metadata": {
        "id": "eYsiOEh9LdxD"
      },
      "execution_count": null,
      "outputs": []
    },
    {
      "cell_type": "code",
      "source": [
        "plot_model(tuned_model_TEMPERATURE, plot='feature')"
      ],
      "metadata": {
        "id": "aARA8R9ILdxE"
      },
      "execution_count": null,
      "outputs": []
    },
    {
      "cell_type": "code",
      "source": [
        "evaluate_model(tuned_model_TEMPERATURE)"
      ],
      "metadata": {
        "id": "FKZWAwQnLdxF"
      },
      "execution_count": null,
      "outputs": []
    },
    {
      "cell_type": "markdown",
      "source": [
        "## **Interpret Model**\n"
      ],
      "metadata": {
        "id": "dKJ24lsy2XxM"
      }
    },
    {
      "cell_type": "markdown",
      "source": [
        "Model for repeating the EXPERIMENT, and predicting HUMIDITY"
      ],
      "metadata": {
        "id": "xf0EiUAGMP7N"
      }
    },
    {
      "cell_type": "code",
      "source": [
        "# Details: https://interpret.ml/docs/msa.html\n",
        "interpret_model(tuned_model_experiment_humidity, plot='msa');"
      ],
      "metadata": {
        "id": "Ef5kI_hQ2UtM"
      },
      "execution_count": null,
      "outputs": []
    },
    {
      "cell_type": "code",
      "source": [
        "predict_model(tuned_model_experiment_humidity)"
      ],
      "metadata": {
        "id": "Bpp2c2EZS0cn"
      },
      "execution_count": null,
      "outputs": []
    },
    {
      "cell_type": "markdown",
      "source": [
        "**Model for repeating the EXPERIMENT, and predicting TEMPERATURE**"
      ],
      "metadata": {
        "id": "tczY-EkHMP7N"
      }
    },
    {
      "cell_type": "code",
      "source": [
        "# Details: https://interpret.ml/docs/msa.html\n",
        "interpret_model(tuned_model_experiment_temperature, plot='msa')"
      ],
      "metadata": {
        "id": "DyMKT0jg9KSb"
      },
      "execution_count": null,
      "outputs": []
    },
    {
      "cell_type": "code",
      "source": [
        "predict_model(tuned_model_experiment_temperature)"
      ],
      "metadata": {
        "id": "U28B8jb29KSe",
        "colab": {
          "base_uri": "https://localhost:8080/",
          "height": 487
        },
        "outputId": "63329d76-2b23-4a33-e1a5-125ffa545b09"
      },
      "execution_count": 95,
      "outputs": [
        {
          "output_type": "display_data",
          "data": {
            "text/plain": [
              "<pandas.io.formats.style.Styler at 0x7f8de4667d90>"
            ],
            "text/html": [
              "<style type=\"text/css\">\n",
              "</style>\n",
              "<table id=\"T_21d2d_\" class=\"dataframe\">\n",
              "  <thead>\n",
              "    <tr>\n",
              "      <th class=\"blank level0\" >&nbsp;</th>\n",
              "      <th class=\"col_heading level0 col0\" >Model</th>\n",
              "      <th class=\"col_heading level0 col1\" >MAE</th>\n",
              "      <th class=\"col_heading level0 col2\" >MSE</th>\n",
              "      <th class=\"col_heading level0 col3\" >RMSE</th>\n",
              "      <th class=\"col_heading level0 col4\" >R2</th>\n",
              "      <th class=\"col_heading level0 col5\" >RMSLE</th>\n",
              "      <th class=\"col_heading level0 col6\" >MAPE</th>\n",
              "    </tr>\n",
              "  </thead>\n",
              "  <tbody>\n",
              "    <tr>\n",
              "      <th id=\"T_21d2d_level0_row0\" class=\"row_heading level0 row0\" >0</th>\n",
              "      <td id=\"T_21d2d_row0_col0\" class=\"data row0 col0\" >Light Gradient Boosting Machine</td>\n",
              "      <td id=\"T_21d2d_row0_col1\" class=\"data row0 col1\" >0.1516</td>\n",
              "      <td id=\"T_21d2d_row0_col2\" class=\"data row0 col2\" >0.0399</td>\n",
              "      <td id=\"T_21d2d_row0_col3\" class=\"data row0 col3\" >0.1997</td>\n",
              "      <td id=\"T_21d2d_row0_col4\" class=\"data row0 col4\" >0.9185</td>\n",
              "      <td id=\"T_21d2d_row0_col5\" class=\"data row0 col5\" >0.0084</td>\n",
              "      <td id=\"T_21d2d_row0_col6\" class=\"data row0 col6\" >0.0067</td>\n",
              "    </tr>\n",
              "  </tbody>\n",
              "</table>\n"
            ]
          },
          "metadata": {}
        },
        {
          "output_type": "execute_result",
          "data": {
            "text/plain": [
              "       sht40_humidity  sht40_temperature  shtc3_humidity     power  \\\n",
              "27864        1.242623          -1.297343        1.180090 -0.382864   \n",
              "27865       -1.129408          -0.348130       -1.268486 -0.382864   \n",
              "27866       -1.759753           0.514787       -1.802039 -0.382864   \n",
              "27867       -0.727481          -0.335804       -0.451244 -0.382864   \n",
              "27868        0.715505           0.638065        0.729143 -0.382864   \n",
              "...               ...                ...             ...       ...   \n",
              "39802       -1.902515           0.428496       -1.913407 -0.382864   \n",
              "39803        0.957100           1.587278        0.909732  0.384296   \n",
              "39804        0.906585           1.340728        1.117750 -0.273270   \n",
              "39805        1.049346           0.440826        0.979553 -0.382864   \n",
              "39806       -0.694536          -0.101585       -0.811502 -0.382864   \n",
              "\n",
              "       shtc3_temperature  prediction_label  \n",
              "27864          21.652500         21.664690  \n",
              "27865          22.821251         22.587554  \n",
              "27866          23.302856         23.173940  \n",
              "27867          22.379999         22.386440  \n",
              "27868          22.883751         23.110408  \n",
              "...                  ...               ...  \n",
              "39802          22.941250         23.060160  \n",
              "39803          23.719999         23.796690  \n",
              "39804          23.290001         23.225159  \n",
              "39805          23.257500         23.082146  \n",
              "39806          23.218750         22.742652  \n",
              "\n",
              "[11943 rows x 6 columns]"
            ],
            "text/html": [
              "\n",
              "  <div id=\"df-650a8c4a-1e96-4f8e-b659-4567fbbde5a2\">\n",
              "    <div class=\"colab-df-container\">\n",
              "      <div>\n",
              "<style scoped>\n",
              "    .dataframe tbody tr th:only-of-type {\n",
              "        vertical-align: middle;\n",
              "    }\n",
              "\n",
              "    .dataframe tbody tr th {\n",
              "        vertical-align: top;\n",
              "    }\n",
              "\n",
              "    .dataframe thead th {\n",
              "        text-align: right;\n",
              "    }\n",
              "</style>\n",
              "<table border=\"1\" class=\"dataframe\">\n",
              "  <thead>\n",
              "    <tr style=\"text-align: right;\">\n",
              "      <th></th>\n",
              "      <th>sht40_humidity</th>\n",
              "      <th>sht40_temperature</th>\n",
              "      <th>shtc3_humidity</th>\n",
              "      <th>power</th>\n",
              "      <th>shtc3_temperature</th>\n",
              "      <th>prediction_label</th>\n",
              "    </tr>\n",
              "  </thead>\n",
              "  <tbody>\n",
              "    <tr>\n",
              "      <th>27864</th>\n",
              "      <td>1.242623</td>\n",
              "      <td>-1.297343</td>\n",
              "      <td>1.180090</td>\n",
              "      <td>-0.382864</td>\n",
              "      <td>21.652500</td>\n",
              "      <td>21.664690</td>\n",
              "    </tr>\n",
              "    <tr>\n",
              "      <th>27865</th>\n",
              "      <td>-1.129408</td>\n",
              "      <td>-0.348130</td>\n",
              "      <td>-1.268486</td>\n",
              "      <td>-0.382864</td>\n",
              "      <td>22.821251</td>\n",
              "      <td>22.587554</td>\n",
              "    </tr>\n",
              "    <tr>\n",
              "      <th>27866</th>\n",
              "      <td>-1.759753</td>\n",
              "      <td>0.514787</td>\n",
              "      <td>-1.802039</td>\n",
              "      <td>-0.382864</td>\n",
              "      <td>23.302856</td>\n",
              "      <td>23.173940</td>\n",
              "    </tr>\n",
              "    <tr>\n",
              "      <th>27867</th>\n",
              "      <td>-0.727481</td>\n",
              "      <td>-0.335804</td>\n",
              "      <td>-0.451244</td>\n",
              "      <td>-0.382864</td>\n",
              "      <td>22.379999</td>\n",
              "      <td>22.386440</td>\n",
              "    </tr>\n",
              "    <tr>\n",
              "      <th>27868</th>\n",
              "      <td>0.715505</td>\n",
              "      <td>0.638065</td>\n",
              "      <td>0.729143</td>\n",
              "      <td>-0.382864</td>\n",
              "      <td>22.883751</td>\n",
              "      <td>23.110408</td>\n",
              "    </tr>\n",
              "    <tr>\n",
              "      <th>...</th>\n",
              "      <td>...</td>\n",
              "      <td>...</td>\n",
              "      <td>...</td>\n",
              "      <td>...</td>\n",
              "      <td>...</td>\n",
              "      <td>...</td>\n",
              "    </tr>\n",
              "    <tr>\n",
              "      <th>39802</th>\n",
              "      <td>-1.902515</td>\n",
              "      <td>0.428496</td>\n",
              "      <td>-1.913407</td>\n",
              "      <td>-0.382864</td>\n",
              "      <td>22.941250</td>\n",
              "      <td>23.060160</td>\n",
              "    </tr>\n",
              "    <tr>\n",
              "      <th>39803</th>\n",
              "      <td>0.957100</td>\n",
              "      <td>1.587278</td>\n",
              "      <td>0.909732</td>\n",
              "      <td>0.384296</td>\n",
              "      <td>23.719999</td>\n",
              "      <td>23.796690</td>\n",
              "    </tr>\n",
              "    <tr>\n",
              "      <th>39804</th>\n",
              "      <td>0.906585</td>\n",
              "      <td>1.340728</td>\n",
              "      <td>1.117750</td>\n",
              "      <td>-0.273270</td>\n",
              "      <td>23.290001</td>\n",
              "      <td>23.225159</td>\n",
              "    </tr>\n",
              "    <tr>\n",
              "      <th>39805</th>\n",
              "      <td>1.049346</td>\n",
              "      <td>0.440826</td>\n",
              "      <td>0.979553</td>\n",
              "      <td>-0.382864</td>\n",
              "      <td>23.257500</td>\n",
              "      <td>23.082146</td>\n",
              "    </tr>\n",
              "    <tr>\n",
              "      <th>39806</th>\n",
              "      <td>-0.694536</td>\n",
              "      <td>-0.101585</td>\n",
              "      <td>-0.811502</td>\n",
              "      <td>-0.382864</td>\n",
              "      <td>23.218750</td>\n",
              "      <td>22.742652</td>\n",
              "    </tr>\n",
              "  </tbody>\n",
              "</table>\n",
              "<p>11943 rows × 6 columns</p>\n",
              "</div>\n",
              "      <button class=\"colab-df-convert\" onclick=\"convertToInteractive('df-650a8c4a-1e96-4f8e-b659-4567fbbde5a2')\"\n",
              "              title=\"Convert this dataframe to an interactive table.\"\n",
              "              style=\"display:none;\">\n",
              "        \n",
              "  <svg xmlns=\"http://www.w3.org/2000/svg\" height=\"24px\"viewBox=\"0 0 24 24\"\n",
              "       width=\"24px\">\n",
              "    <path d=\"M0 0h24v24H0V0z\" fill=\"none\"/>\n",
              "    <path d=\"M18.56 5.44l.94 2.06.94-2.06 2.06-.94-2.06-.94-.94-2.06-.94 2.06-2.06.94zm-11 1L8.5 8.5l.94-2.06 2.06-.94-2.06-.94L8.5 2.5l-.94 2.06-2.06.94zm10 10l.94 2.06.94-2.06 2.06-.94-2.06-.94-.94-2.06-.94 2.06-2.06.94z\"/><path d=\"M17.41 7.96l-1.37-1.37c-.4-.4-.92-.59-1.43-.59-.52 0-1.04.2-1.43.59L10.3 9.45l-7.72 7.72c-.78.78-.78 2.05 0 2.83L4 21.41c.39.39.9.59 1.41.59.51 0 1.02-.2 1.41-.59l7.78-7.78 2.81-2.81c.8-.78.8-2.07 0-2.86zM5.41 20L4 18.59l7.72-7.72 1.47 1.35L5.41 20z\"/>\n",
              "  </svg>\n",
              "      </button>\n",
              "      \n",
              "  <style>\n",
              "    .colab-df-container {\n",
              "      display:flex;\n",
              "      flex-wrap:wrap;\n",
              "      gap: 12px;\n",
              "    }\n",
              "\n",
              "    .colab-df-convert {\n",
              "      background-color: #E8F0FE;\n",
              "      border: none;\n",
              "      border-radius: 50%;\n",
              "      cursor: pointer;\n",
              "      display: none;\n",
              "      fill: #1967D2;\n",
              "      height: 32px;\n",
              "      padding: 0 0 0 0;\n",
              "      width: 32px;\n",
              "    }\n",
              "\n",
              "    .colab-df-convert:hover {\n",
              "      background-color: #E2EBFA;\n",
              "      box-shadow: 0px 1px 2px rgba(60, 64, 67, 0.3), 0px 1px 3px 1px rgba(60, 64, 67, 0.15);\n",
              "      fill: #174EA6;\n",
              "    }\n",
              "\n",
              "    [theme=dark] .colab-df-convert {\n",
              "      background-color: #3B4455;\n",
              "      fill: #D2E3FC;\n",
              "    }\n",
              "\n",
              "    [theme=dark] .colab-df-convert:hover {\n",
              "      background-color: #434B5C;\n",
              "      box-shadow: 0px 1px 3px 1px rgba(0, 0, 0, 0.15);\n",
              "      filter: drop-shadow(0px 1px 2px rgba(0, 0, 0, 0.3));\n",
              "      fill: #FFFFFF;\n",
              "    }\n",
              "  </style>\n",
              "\n",
              "      <script>\n",
              "        const buttonEl =\n",
              "          document.querySelector('#df-650a8c4a-1e96-4f8e-b659-4567fbbde5a2 button.colab-df-convert');\n",
              "        buttonEl.style.display =\n",
              "          google.colab.kernel.accessAllowed ? 'block' : 'none';\n",
              "\n",
              "        async function convertToInteractive(key) {\n",
              "          const element = document.querySelector('#df-650a8c4a-1e96-4f8e-b659-4567fbbde5a2');\n",
              "          const dataTable =\n",
              "            await google.colab.kernel.invokeFunction('convertToInteractive',\n",
              "                                                     [key], {});\n",
              "          if (!dataTable) return;\n",
              "\n",
              "          const docLinkHtml = 'Like what you see? Visit the ' +\n",
              "            '<a target=\"_blank\" href=https://colab.research.google.com/notebooks/data_table.ipynb>data table notebook</a>'\n",
              "            + ' to learn more about interactive tables.';\n",
              "          element.innerHTML = '';\n",
              "          dataTable['output_type'] = 'display_data';\n",
              "          await google.colab.output.renderOutput(dataTable, element);\n",
              "          const docLink = document.createElement('div');\n",
              "          docLink.innerHTML = docLinkHtml;\n",
              "          element.appendChild(docLink);\n",
              "        }\n",
              "      </script>\n",
              "    </div>\n",
              "  </div>\n",
              "  "
            ]
          },
          "metadata": {},
          "execution_count": 95
        }
      ]
    },
    {
      "cell_type": "markdown",
      "source": [
        "**Model for predicting HUMIDITY**"
      ],
      "metadata": {
        "id": "aEp5Wb4nMP7P"
      }
    },
    {
      "cell_type": "code",
      "source": [
        "# Details: https://interpret.ml/docs/msa.html\n",
        "interpret_model(tuned_model_HUMIDITY, plot='msa')"
      ],
      "metadata": {
        "id": "OcLnM4kAJ73L"
      },
      "execution_count": null,
      "outputs": []
    },
    {
      "cell_type": "code",
      "source": [
        "predict_model(tuned_model_HUMIDITY)"
      ],
      "metadata": {
        "id": "xvR6wAj5J73O"
      },
      "execution_count": null,
      "outputs": []
    },
    {
      "cell_type": "markdown",
      "source": [
        "**Model for predicting TEMPERATURE**"
      ],
      "metadata": {
        "id": "aohgMXfoMP7P"
      }
    },
    {
      "cell_type": "code",
      "source": [
        "# Details: https://interpret.ml/docs/msa.html\n",
        "interpret_model(tuned_model_TEMPERATURE, plot='msa')"
      ],
      "metadata": {
        "id": "pmZycIJ0MwUY"
      },
      "execution_count": null,
      "outputs": []
    },
    {
      "cell_type": "code",
      "source": [
        "predict_model(tuned_model_TEMPERATURE)"
      ],
      "metadata": {
        "id": "eGEjlNM1Lyek"
      },
      "execution_count": null,
      "outputs": []
    },
    {
      "cell_type": "markdown",
      "source": [
        "# Finalize Model"
      ],
      "metadata": {
        "id": "zdn4M9l-UgkD"
      }
    },
    {
      "cell_type": "code",
      "source": [
        "#FINALIZE Model for repeating the EXPERIMENT, and predicting HUMIDITY\n",
        "final_model_experiment_humidity = finalize_model(tuned_model_experiment_humidity)\n",
        "final_model_experiment_humidity "
      ],
      "metadata": {
        "id": "CiBrD54bUddY",
        "colab": {
          "base_uri": "https://localhost:8080/"
        },
        "outputId": "25600132-ce3a-4efd-a3b8-fd75dd904e35"
      },
      "execution_count": 68,
      "outputs": [
        {
          "output_type": "execute_result",
          "data": {
            "text/plain": [
              "Pipeline(memory=Memory(location=/tmp/joblib),\n",
              "         steps=[('numerical_imputer',\n",
              "                 TransformerWrapper(include=['sht40_humidity',\n",
              "                                             'sht40_temperature',\n",
              "                                             'shtc3_temperature', 'power'],\n",
              "                                    transformer=SimpleImputer())),\n",
              "                ('categorical_imputer',\n",
              "                 TransformerWrapper(include=[],\n",
              "                                    transformer=SimpleImputer(fill_value='constant',\n",
              "                                                              strategy='constant'))),\n",
              "                ('low_variance',\n",
              "                 TransformerWrapper(exclude=[],\n",
              "                                    transformer=VarianceThreshold(threshold=0))),\n",
              "                ('normalize', TransformerWrapper(transformer=StandardScaler())),\n",
              "                ('actual_estimator',\n",
              "                 RandomForestRegressor(n_jobs=-1, random_state=1))])"
            ]
          },
          "metadata": {},
          "execution_count": 68
        }
      ]
    },
    {
      "cell_type": "code",
      "source": [
        "#FINALIZE Model for repeating the EXPERIMENT, and predicting TEMPERATURE\n",
        "final_model_experiment_temperature = finalize_model(tuned_model_experiment_temperature)\n",
        "final_model_experiment_temperature "
      ],
      "metadata": {
        "id": "dmdcAgB3KJ1V",
        "colab": {
          "base_uri": "https://localhost:8080/"
        },
        "outputId": "d3a4e411-56a3-4bf2-81b7-e0096e397ce2"
      },
      "execution_count": 96,
      "outputs": [
        {
          "output_type": "execute_result",
          "data": {
            "text/plain": [
              "Pipeline(memory=Memory(location=/tmp/joblib),\n",
              "         steps=[('numerical_imputer',\n",
              "                 TransformerWrapper(include=['sht40_humidity',\n",
              "                                             'sht40_temperature',\n",
              "                                             'shtc3_humidity', 'power'],\n",
              "                                    transformer=SimpleImputer())),\n",
              "                ('categorical_imputer',\n",
              "                 TransformerWrapper(include=[],\n",
              "                                    transformer=SimpleImputer(fill_value='constant',\n",
              "                                                              strategy='constant'))),\n",
              "                ('low_variance',\n",
              "                 TransformerWrapper(exclude=[],\n",
              "                                    transformer=VarianceThreshold(threshold=0))),\n",
              "                ('normalize', TransformerWrapper(transformer=StandardScaler())),\n",
              "                ('actual_estimator', LGBMRegressor(random_state=1))])"
            ]
          },
          "metadata": {},
          "execution_count": 96
        }
      ]
    },
    {
      "cell_type": "code",
      "source": [
        "#FINALIZE Model predicting HUMIDITY\n",
        "final_model_HUMIDITY = finalize_model(tuned_model_HUMIDITY)\n",
        "final_model_HUMIDITY"
      ],
      "metadata": {
        "id": "SQQz24fO9Rwz"
      },
      "execution_count": null,
      "outputs": []
    },
    {
      "cell_type": "code",
      "source": [
        "#FINALIZE Model for predicting TEMPERATURE\n",
        "final_model_TEMPERATURE = finalize_model(tuned_model_TEMPERATURE)\n",
        "final_model_TEMPERATURE"
      ],
      "metadata": {
        "id": "CvS6lP0C6KxF"
      },
      "execution_count": null,
      "outputs": []
    },
    {
      "cell_type": "markdown",
      "source": [
        "# Predict Model"
      ],
      "metadata": {
        "id": "MO6M4QRD2m28"
      }
    },
    {
      "cell_type": "markdown",
      "source": [
        "PREDICT model for repeating the EXPERIMENT, and predicting HUMIDITY"
      ],
      "metadata": {
        "id": "QvFZRTOLPvX0"
      }
    },
    {
      "cell_type": "code",
      "source": [
        "y_test.shape"
      ],
      "metadata": {
        "id": "XYpxi1Xw2lnM",
        "colab": {
          "base_uri": "https://localhost:8080/"
        },
        "outputId": "bede62fa-a415-41d6-9ba1-b2d80f657f9e"
      },
      "execution_count": 69,
      "outputs": [
        {
          "output_type": "execute_result",
          "data": {
            "text/plain": [
              "(9952,)"
            ]
          },
          "metadata": {},
          "execution_count": 69
        }
      ]
    },
    {
      "cell_type": "code",
      "source": [
        "X_test"
      ],
      "metadata": {
        "id": "yA73hPuxeQyf",
        "colab": {
          "base_uri": "https://localhost:8080/",
          "height": 424
        },
        "outputId": "acfd0312-c0d0-4887-8b82-184c4baf6e48"
      },
      "execution_count": 70,
      "outputs": [
        {
          "output_type": "execute_result",
          "data": {
            "text/plain": [
              "        sht40_humidity  sht40_temperature  shtc3_temperature     power\n",
              "48239            30.52              37.21          23.107143  4.510000\n",
              "98853            30.37              34.81          22.220000  1.500000\n",
              "148766           25.07              35.70          23.225714  1.500000\n",
              "83569            27.96              34.63          21.735556  1.500000\n",
              "32137            31.34              36.81          23.717143  5.656667\n",
              "...                ...                ...                ...       ...\n",
              "99675            27.53              34.48          21.535000  1.500000\n",
              "141870           30.64              35.78          22.680000  1.500000\n",
              "135147           24.94              35.54          22.581250  1.500000\n",
              "47781            29.59              35.67          22.545000  1.500000\n",
              "121511           23.94              35.74          22.728571  1.500000\n",
              "\n",
              "[9952 rows x 4 columns]"
            ],
            "text/html": [
              "\n",
              "  <div id=\"df-6218b40d-ade8-49f7-9e5c-db93670cfe3f\">\n",
              "    <div class=\"colab-df-container\">\n",
              "      <div>\n",
              "<style scoped>\n",
              "    .dataframe tbody tr th:only-of-type {\n",
              "        vertical-align: middle;\n",
              "    }\n",
              "\n",
              "    .dataframe tbody tr th {\n",
              "        vertical-align: top;\n",
              "    }\n",
              "\n",
              "    .dataframe thead th {\n",
              "        text-align: right;\n",
              "    }\n",
              "</style>\n",
              "<table border=\"1\" class=\"dataframe\">\n",
              "  <thead>\n",
              "    <tr style=\"text-align: right;\">\n",
              "      <th></th>\n",
              "      <th>sht40_humidity</th>\n",
              "      <th>sht40_temperature</th>\n",
              "      <th>shtc3_temperature</th>\n",
              "      <th>power</th>\n",
              "    </tr>\n",
              "  </thead>\n",
              "  <tbody>\n",
              "    <tr>\n",
              "      <th>48239</th>\n",
              "      <td>30.52</td>\n",
              "      <td>37.21</td>\n",
              "      <td>23.107143</td>\n",
              "      <td>4.510000</td>\n",
              "    </tr>\n",
              "    <tr>\n",
              "      <th>98853</th>\n",
              "      <td>30.37</td>\n",
              "      <td>34.81</td>\n",
              "      <td>22.220000</td>\n",
              "      <td>1.500000</td>\n",
              "    </tr>\n",
              "    <tr>\n",
              "      <th>148766</th>\n",
              "      <td>25.07</td>\n",
              "      <td>35.70</td>\n",
              "      <td>23.225714</td>\n",
              "      <td>1.500000</td>\n",
              "    </tr>\n",
              "    <tr>\n",
              "      <th>83569</th>\n",
              "      <td>27.96</td>\n",
              "      <td>34.63</td>\n",
              "      <td>21.735556</td>\n",
              "      <td>1.500000</td>\n",
              "    </tr>\n",
              "    <tr>\n",
              "      <th>32137</th>\n",
              "      <td>31.34</td>\n",
              "      <td>36.81</td>\n",
              "      <td>23.717143</td>\n",
              "      <td>5.656667</td>\n",
              "    </tr>\n",
              "    <tr>\n",
              "      <th>...</th>\n",
              "      <td>...</td>\n",
              "      <td>...</td>\n",
              "      <td>...</td>\n",
              "      <td>...</td>\n",
              "    </tr>\n",
              "    <tr>\n",
              "      <th>99675</th>\n",
              "      <td>27.53</td>\n",
              "      <td>34.48</td>\n",
              "      <td>21.535000</td>\n",
              "      <td>1.500000</td>\n",
              "    </tr>\n",
              "    <tr>\n",
              "      <th>141870</th>\n",
              "      <td>30.64</td>\n",
              "      <td>35.78</td>\n",
              "      <td>22.680000</td>\n",
              "      <td>1.500000</td>\n",
              "    </tr>\n",
              "    <tr>\n",
              "      <th>135147</th>\n",
              "      <td>24.94</td>\n",
              "      <td>35.54</td>\n",
              "      <td>22.581250</td>\n",
              "      <td>1.500000</td>\n",
              "    </tr>\n",
              "    <tr>\n",
              "      <th>47781</th>\n",
              "      <td>29.59</td>\n",
              "      <td>35.67</td>\n",
              "      <td>22.545000</td>\n",
              "      <td>1.500000</td>\n",
              "    </tr>\n",
              "    <tr>\n",
              "      <th>121511</th>\n",
              "      <td>23.94</td>\n",
              "      <td>35.74</td>\n",
              "      <td>22.728571</td>\n",
              "      <td>1.500000</td>\n",
              "    </tr>\n",
              "  </tbody>\n",
              "</table>\n",
              "<p>9952 rows × 4 columns</p>\n",
              "</div>\n",
              "      <button class=\"colab-df-convert\" onclick=\"convertToInteractive('df-6218b40d-ade8-49f7-9e5c-db93670cfe3f')\"\n",
              "              title=\"Convert this dataframe to an interactive table.\"\n",
              "              style=\"display:none;\">\n",
              "        \n",
              "  <svg xmlns=\"http://www.w3.org/2000/svg\" height=\"24px\"viewBox=\"0 0 24 24\"\n",
              "       width=\"24px\">\n",
              "    <path d=\"M0 0h24v24H0V0z\" fill=\"none\"/>\n",
              "    <path d=\"M18.56 5.44l.94 2.06.94-2.06 2.06-.94-2.06-.94-.94-2.06-.94 2.06-2.06.94zm-11 1L8.5 8.5l.94-2.06 2.06-.94-2.06-.94L8.5 2.5l-.94 2.06-2.06.94zm10 10l.94 2.06.94-2.06 2.06-.94-2.06-.94-.94-2.06-.94 2.06-2.06.94z\"/><path d=\"M17.41 7.96l-1.37-1.37c-.4-.4-.92-.59-1.43-.59-.52 0-1.04.2-1.43.59L10.3 9.45l-7.72 7.72c-.78.78-.78 2.05 0 2.83L4 21.41c.39.39.9.59 1.41.59.51 0 1.02-.2 1.41-.59l7.78-7.78 2.81-2.81c.8-.78.8-2.07 0-2.86zM5.41 20L4 18.59l7.72-7.72 1.47 1.35L5.41 20z\"/>\n",
              "  </svg>\n",
              "      </button>\n",
              "      \n",
              "  <style>\n",
              "    .colab-df-container {\n",
              "      display:flex;\n",
              "      flex-wrap:wrap;\n",
              "      gap: 12px;\n",
              "    }\n",
              "\n",
              "    .colab-df-convert {\n",
              "      background-color: #E8F0FE;\n",
              "      border: none;\n",
              "      border-radius: 50%;\n",
              "      cursor: pointer;\n",
              "      display: none;\n",
              "      fill: #1967D2;\n",
              "      height: 32px;\n",
              "      padding: 0 0 0 0;\n",
              "      width: 32px;\n",
              "    }\n",
              "\n",
              "    .colab-df-convert:hover {\n",
              "      background-color: #E2EBFA;\n",
              "      box-shadow: 0px 1px 2px rgba(60, 64, 67, 0.3), 0px 1px 3px 1px rgba(60, 64, 67, 0.15);\n",
              "      fill: #174EA6;\n",
              "    }\n",
              "\n",
              "    [theme=dark] .colab-df-convert {\n",
              "      background-color: #3B4455;\n",
              "      fill: #D2E3FC;\n",
              "    }\n",
              "\n",
              "    [theme=dark] .colab-df-convert:hover {\n",
              "      background-color: #434B5C;\n",
              "      box-shadow: 0px 1px 3px 1px rgba(0, 0, 0, 0.15);\n",
              "      filter: drop-shadow(0px 1px 2px rgba(0, 0, 0, 0.3));\n",
              "      fill: #FFFFFF;\n",
              "    }\n",
              "  </style>\n",
              "\n",
              "      <script>\n",
              "        const buttonEl =\n",
              "          document.querySelector('#df-6218b40d-ade8-49f7-9e5c-db93670cfe3f button.colab-df-convert');\n",
              "        buttonEl.style.display =\n",
              "          google.colab.kernel.accessAllowed ? 'block' : 'none';\n",
              "\n",
              "        async function convertToInteractive(key) {\n",
              "          const element = document.querySelector('#df-6218b40d-ade8-49f7-9e5c-db93670cfe3f');\n",
              "          const dataTable =\n",
              "            await google.colab.kernel.invokeFunction('convertToInteractive',\n",
              "                                                     [key], {});\n",
              "          if (!dataTable) return;\n",
              "\n",
              "          const docLinkHtml = 'Like what you see? Visit the ' +\n",
              "            '<a target=\"_blank\" href=https://colab.research.google.com/notebooks/data_table.ipynb>data table notebook</a>'\n",
              "            + ' to learn more about interactive tables.';\n",
              "          element.innerHTML = '';\n",
              "          dataTable['output_type'] = 'display_data';\n",
              "          await google.colab.output.renderOutput(dataTable, element);\n",
              "          const docLink = document.createElement('div');\n",
              "          docLink.innerHTML = docLinkHtml;\n",
              "          element.appendChild(docLink);\n",
              "        }\n",
              "      </script>\n",
              "    </div>\n",
              "  </div>\n",
              "  "
            ]
          },
          "metadata": {},
          "execution_count": 70
        }
      ]
    },
    {
      "cell_type": "code",
      "source": [
        "prediction_df = predict_model(final_model_experiment_humidity, data=X_test)\n",
        "prediction_df.head()"
      ],
      "metadata": {
        "id": "UIp5iIqU2qbu",
        "colab": {
          "base_uri": "https://localhost:8080/",
          "height": 206
        },
        "outputId": "b7ba6ba9-5d2f-4133-af0f-c966c72bca2e"
      },
      "execution_count": 71,
      "outputs": [
        {
          "output_type": "display_data",
          "data": {
            "text/plain": [
              "<IPython.core.display.HTML object>"
            ],
            "text/html": []
          },
          "metadata": {}
        },
        {
          "output_type": "execute_result",
          "data": {
            "text/plain": [
              "   sht40_humidity  sht40_temperature  shtc3_temperature     power  \\\n",
              "0        0.835308           2.066200           0.700421  1.889735   \n",
              "1        0.802426          -0.878159          -0.577596 -0.384908   \n",
              "2       -0.359438           0.213708           0.871234 -0.384908   \n",
              "3        0.274106          -1.098987          -1.275485 -0.384908   \n",
              "4        1.015068           1.575476           1.579184  2.756265   \n",
              "\n",
              "   prediction_label  \n",
              "0         62.329119  \n",
              "1         59.928108  \n",
              "2         47.535451  \n",
              "3         54.138680  \n",
              "4         61.123614  "
            ],
            "text/html": [
              "\n",
              "  <div id=\"df-6302822e-c345-419d-9036-7ff997d354d4\">\n",
              "    <div class=\"colab-df-container\">\n",
              "      <div>\n",
              "<style scoped>\n",
              "    .dataframe tbody tr th:only-of-type {\n",
              "        vertical-align: middle;\n",
              "    }\n",
              "\n",
              "    .dataframe tbody tr th {\n",
              "        vertical-align: top;\n",
              "    }\n",
              "\n",
              "    .dataframe thead th {\n",
              "        text-align: right;\n",
              "    }\n",
              "</style>\n",
              "<table border=\"1\" class=\"dataframe\">\n",
              "  <thead>\n",
              "    <tr style=\"text-align: right;\">\n",
              "      <th></th>\n",
              "      <th>sht40_humidity</th>\n",
              "      <th>sht40_temperature</th>\n",
              "      <th>shtc3_temperature</th>\n",
              "      <th>power</th>\n",
              "      <th>prediction_label</th>\n",
              "    </tr>\n",
              "  </thead>\n",
              "  <tbody>\n",
              "    <tr>\n",
              "      <th>0</th>\n",
              "      <td>0.835308</td>\n",
              "      <td>2.066200</td>\n",
              "      <td>0.700421</td>\n",
              "      <td>1.889735</td>\n",
              "      <td>62.329119</td>\n",
              "    </tr>\n",
              "    <tr>\n",
              "      <th>1</th>\n",
              "      <td>0.802426</td>\n",
              "      <td>-0.878159</td>\n",
              "      <td>-0.577596</td>\n",
              "      <td>-0.384908</td>\n",
              "      <td>59.928108</td>\n",
              "    </tr>\n",
              "    <tr>\n",
              "      <th>2</th>\n",
              "      <td>-0.359438</td>\n",
              "      <td>0.213708</td>\n",
              "      <td>0.871234</td>\n",
              "      <td>-0.384908</td>\n",
              "      <td>47.535451</td>\n",
              "    </tr>\n",
              "    <tr>\n",
              "      <th>3</th>\n",
              "      <td>0.274106</td>\n",
              "      <td>-1.098987</td>\n",
              "      <td>-1.275485</td>\n",
              "      <td>-0.384908</td>\n",
              "      <td>54.138680</td>\n",
              "    </tr>\n",
              "    <tr>\n",
              "      <th>4</th>\n",
              "      <td>1.015068</td>\n",
              "      <td>1.575476</td>\n",
              "      <td>1.579184</td>\n",
              "      <td>2.756265</td>\n",
              "      <td>61.123614</td>\n",
              "    </tr>\n",
              "  </tbody>\n",
              "</table>\n",
              "</div>\n",
              "      <button class=\"colab-df-convert\" onclick=\"convertToInteractive('df-6302822e-c345-419d-9036-7ff997d354d4')\"\n",
              "              title=\"Convert this dataframe to an interactive table.\"\n",
              "              style=\"display:none;\">\n",
              "        \n",
              "  <svg xmlns=\"http://www.w3.org/2000/svg\" height=\"24px\"viewBox=\"0 0 24 24\"\n",
              "       width=\"24px\">\n",
              "    <path d=\"M0 0h24v24H0V0z\" fill=\"none\"/>\n",
              "    <path d=\"M18.56 5.44l.94 2.06.94-2.06 2.06-.94-2.06-.94-.94-2.06-.94 2.06-2.06.94zm-11 1L8.5 8.5l.94-2.06 2.06-.94-2.06-.94L8.5 2.5l-.94 2.06-2.06.94zm10 10l.94 2.06.94-2.06 2.06-.94-2.06-.94-.94-2.06-.94 2.06-2.06.94z\"/><path d=\"M17.41 7.96l-1.37-1.37c-.4-.4-.92-.59-1.43-.59-.52 0-1.04.2-1.43.59L10.3 9.45l-7.72 7.72c-.78.78-.78 2.05 0 2.83L4 21.41c.39.39.9.59 1.41.59.51 0 1.02-.2 1.41-.59l7.78-7.78 2.81-2.81c.8-.78.8-2.07 0-2.86zM5.41 20L4 18.59l7.72-7.72 1.47 1.35L5.41 20z\"/>\n",
              "  </svg>\n",
              "      </button>\n",
              "      \n",
              "  <style>\n",
              "    .colab-df-container {\n",
              "      display:flex;\n",
              "      flex-wrap:wrap;\n",
              "      gap: 12px;\n",
              "    }\n",
              "\n",
              "    .colab-df-convert {\n",
              "      background-color: #E8F0FE;\n",
              "      border: none;\n",
              "      border-radius: 50%;\n",
              "      cursor: pointer;\n",
              "      display: none;\n",
              "      fill: #1967D2;\n",
              "      height: 32px;\n",
              "      padding: 0 0 0 0;\n",
              "      width: 32px;\n",
              "    }\n",
              "\n",
              "    .colab-df-convert:hover {\n",
              "      background-color: #E2EBFA;\n",
              "      box-shadow: 0px 1px 2px rgba(60, 64, 67, 0.3), 0px 1px 3px 1px rgba(60, 64, 67, 0.15);\n",
              "      fill: #174EA6;\n",
              "    }\n",
              "\n",
              "    [theme=dark] .colab-df-convert {\n",
              "      background-color: #3B4455;\n",
              "      fill: #D2E3FC;\n",
              "    }\n",
              "\n",
              "    [theme=dark] .colab-df-convert:hover {\n",
              "      background-color: #434B5C;\n",
              "      box-shadow: 0px 1px 3px 1px rgba(0, 0, 0, 0.15);\n",
              "      filter: drop-shadow(0px 1px 2px rgba(0, 0, 0, 0.3));\n",
              "      fill: #FFFFFF;\n",
              "    }\n",
              "  </style>\n",
              "\n",
              "      <script>\n",
              "        const buttonEl =\n",
              "          document.querySelector('#df-6302822e-c345-419d-9036-7ff997d354d4 button.colab-df-convert');\n",
              "        buttonEl.style.display =\n",
              "          google.colab.kernel.accessAllowed ? 'block' : 'none';\n",
              "\n",
              "        async function convertToInteractive(key) {\n",
              "          const element = document.querySelector('#df-6302822e-c345-419d-9036-7ff997d354d4');\n",
              "          const dataTable =\n",
              "            await google.colab.kernel.invokeFunction('convertToInteractive',\n",
              "                                                     [key], {});\n",
              "          if (!dataTable) return;\n",
              "\n",
              "          const docLinkHtml = 'Like what you see? Visit the ' +\n",
              "            '<a target=\"_blank\" href=https://colab.research.google.com/notebooks/data_table.ipynb>data table notebook</a>'\n",
              "            + ' to learn more about interactive tables.';\n",
              "          element.innerHTML = '';\n",
              "          dataTable['output_type'] = 'display_data';\n",
              "          await google.colab.output.renderOutput(dataTable, element);\n",
              "          const docLink = document.createElement('div');\n",
              "          docLink.innerHTML = docLinkHtml;\n",
              "          element.appendChild(docLink);\n",
              "        }\n",
              "      </script>\n",
              "    </div>\n",
              "  </div>\n",
              "  "
            ]
          },
          "metadata": {},
          "execution_count": 71
        }
      ]
    },
    {
      "cell_type": "code",
      "source": [
        "df_pred=prediction_df.filter(['prediction_label'], axis=1)\n",
        "df_pred.head()"
      ],
      "metadata": {
        "id": "6nASyy1FO1Tm",
        "colab": {
          "base_uri": "https://localhost:8080/",
          "height": 206
        },
        "outputId": "a8f247ee-c6ae-4247-dea0-24fcf58a0496"
      },
      "execution_count": 72,
      "outputs": [
        {
          "output_type": "execute_result",
          "data": {
            "text/plain": [
              "   prediction_label\n",
              "0         62.329119\n",
              "1         59.928108\n",
              "2         47.535451\n",
              "3         54.138680\n",
              "4         61.123614"
            ],
            "text/html": [
              "\n",
              "  <div id=\"df-f4313259-328e-45a6-a03c-3da4dd813e82\">\n",
              "    <div class=\"colab-df-container\">\n",
              "      <div>\n",
              "<style scoped>\n",
              "    .dataframe tbody tr th:only-of-type {\n",
              "        vertical-align: middle;\n",
              "    }\n",
              "\n",
              "    .dataframe tbody tr th {\n",
              "        vertical-align: top;\n",
              "    }\n",
              "\n",
              "    .dataframe thead th {\n",
              "        text-align: right;\n",
              "    }\n",
              "</style>\n",
              "<table border=\"1\" class=\"dataframe\">\n",
              "  <thead>\n",
              "    <tr style=\"text-align: right;\">\n",
              "      <th></th>\n",
              "      <th>prediction_label</th>\n",
              "    </tr>\n",
              "  </thead>\n",
              "  <tbody>\n",
              "    <tr>\n",
              "      <th>0</th>\n",
              "      <td>62.329119</td>\n",
              "    </tr>\n",
              "    <tr>\n",
              "      <th>1</th>\n",
              "      <td>59.928108</td>\n",
              "    </tr>\n",
              "    <tr>\n",
              "      <th>2</th>\n",
              "      <td>47.535451</td>\n",
              "    </tr>\n",
              "    <tr>\n",
              "      <th>3</th>\n",
              "      <td>54.138680</td>\n",
              "    </tr>\n",
              "    <tr>\n",
              "      <th>4</th>\n",
              "      <td>61.123614</td>\n",
              "    </tr>\n",
              "  </tbody>\n",
              "</table>\n",
              "</div>\n",
              "      <button class=\"colab-df-convert\" onclick=\"convertToInteractive('df-f4313259-328e-45a6-a03c-3da4dd813e82')\"\n",
              "              title=\"Convert this dataframe to an interactive table.\"\n",
              "              style=\"display:none;\">\n",
              "        \n",
              "  <svg xmlns=\"http://www.w3.org/2000/svg\" height=\"24px\"viewBox=\"0 0 24 24\"\n",
              "       width=\"24px\">\n",
              "    <path d=\"M0 0h24v24H0V0z\" fill=\"none\"/>\n",
              "    <path d=\"M18.56 5.44l.94 2.06.94-2.06 2.06-.94-2.06-.94-.94-2.06-.94 2.06-2.06.94zm-11 1L8.5 8.5l.94-2.06 2.06-.94-2.06-.94L8.5 2.5l-.94 2.06-2.06.94zm10 10l.94 2.06.94-2.06 2.06-.94-2.06-.94-.94-2.06-.94 2.06-2.06.94z\"/><path d=\"M17.41 7.96l-1.37-1.37c-.4-.4-.92-.59-1.43-.59-.52 0-1.04.2-1.43.59L10.3 9.45l-7.72 7.72c-.78.78-.78 2.05 0 2.83L4 21.41c.39.39.9.59 1.41.59.51 0 1.02-.2 1.41-.59l7.78-7.78 2.81-2.81c.8-.78.8-2.07 0-2.86zM5.41 20L4 18.59l7.72-7.72 1.47 1.35L5.41 20z\"/>\n",
              "  </svg>\n",
              "      </button>\n",
              "      \n",
              "  <style>\n",
              "    .colab-df-container {\n",
              "      display:flex;\n",
              "      flex-wrap:wrap;\n",
              "      gap: 12px;\n",
              "    }\n",
              "\n",
              "    .colab-df-convert {\n",
              "      background-color: #E8F0FE;\n",
              "      border: none;\n",
              "      border-radius: 50%;\n",
              "      cursor: pointer;\n",
              "      display: none;\n",
              "      fill: #1967D2;\n",
              "      height: 32px;\n",
              "      padding: 0 0 0 0;\n",
              "      width: 32px;\n",
              "    }\n",
              "\n",
              "    .colab-df-convert:hover {\n",
              "      background-color: #E2EBFA;\n",
              "      box-shadow: 0px 1px 2px rgba(60, 64, 67, 0.3), 0px 1px 3px 1px rgba(60, 64, 67, 0.15);\n",
              "      fill: #174EA6;\n",
              "    }\n",
              "\n",
              "    [theme=dark] .colab-df-convert {\n",
              "      background-color: #3B4455;\n",
              "      fill: #D2E3FC;\n",
              "    }\n",
              "\n",
              "    [theme=dark] .colab-df-convert:hover {\n",
              "      background-color: #434B5C;\n",
              "      box-shadow: 0px 1px 3px 1px rgba(0, 0, 0, 0.15);\n",
              "      filter: drop-shadow(0px 1px 2px rgba(0, 0, 0, 0.3));\n",
              "      fill: #FFFFFF;\n",
              "    }\n",
              "  </style>\n",
              "\n",
              "      <script>\n",
              "        const buttonEl =\n",
              "          document.querySelector('#df-f4313259-328e-45a6-a03c-3da4dd813e82 button.colab-df-convert');\n",
              "        buttonEl.style.display =\n",
              "          google.colab.kernel.accessAllowed ? 'block' : 'none';\n",
              "\n",
              "        async function convertToInteractive(key) {\n",
              "          const element = document.querySelector('#df-f4313259-328e-45a6-a03c-3da4dd813e82');\n",
              "          const dataTable =\n",
              "            await google.colab.kernel.invokeFunction('convertToInteractive',\n",
              "                                                     [key], {});\n",
              "          if (!dataTable) return;\n",
              "\n",
              "          const docLinkHtml = 'Like what you see? Visit the ' +\n",
              "            '<a target=\"_blank\" href=https://colab.research.google.com/notebooks/data_table.ipynb>data table notebook</a>'\n",
              "            + ' to learn more about interactive tables.';\n",
              "          element.innerHTML = '';\n",
              "          dataTable['output_type'] = 'display_data';\n",
              "          await google.colab.output.renderOutput(dataTable, element);\n",
              "          const docLink = document.createElement('div');\n",
              "          docLink.innerHTML = docLinkHtml;\n",
              "          element.appendChild(docLink);\n",
              "        }\n",
              "      </script>\n",
              "    </div>\n",
              "  </div>\n",
              "  "
            ]
          },
          "metadata": {},
          "execution_count": 72
        }
      ]
    },
    {
      "cell_type": "code",
      "source": [
        "from sklearn import metrics\n",
        "\n",
        "print('MAE', metrics.mean_absolute_error(y_test, df_pred))\n",
        "print('MSE', metrics.mean_squared_error(y_test, df_pred))\n",
        "print('RMSE', np.sqrt(metrics.mean_squared_error(y_test, df_pred)))\n",
        "print('R2 Score', metrics.r2_score(y_test, df_pred))"
      ],
      "metadata": {
        "id": "8Tmz-JxgVBYL",
        "colab": {
          "base_uri": "https://localhost:8080/"
        },
        "outputId": "5c242630-88b5-43b8-ef5f-0b000d22d172"
      },
      "execution_count": 73,
      "outputs": [
        {
          "output_type": "stream",
          "name": "stdout",
          "text": [
            "MAE 0.6054327187074889\n",
            "MSE 0.8174420017283676\n",
            "RMSE 0.9041249923148721\n",
            "R2 Score 0.9909627657889722\n"
          ]
        }
      ]
    },
    {
      "cell_type": "markdown",
      "source": [
        "**PREDICT model for repeating the EXPERIMENT, and predicting TEMPERATURE**"
      ],
      "metadata": {
        "id": "_KG51FxGPvX1"
      }
    },
    {
      "cell_type": "code",
      "source": [
        "y_test.shape"
      ],
      "metadata": {
        "id": "zDvHSJ7XPkXi",
        "colab": {
          "base_uri": "https://localhost:8080/"
        },
        "outputId": "5866cc36-0cbb-4311-8be2-cc11bbfad0dc"
      },
      "execution_count": 97,
      "outputs": [
        {
          "output_type": "execute_result",
          "data": {
            "text/plain": [
              "(9952,)"
            ]
          },
          "metadata": {},
          "execution_count": 97
        }
      ]
    },
    {
      "cell_type": "code",
      "source": [
        "X_test"
      ],
      "metadata": {
        "id": "3PfrqLE-PkXk",
        "colab": {
          "base_uri": "https://localhost:8080/",
          "height": 424
        },
        "outputId": "60b9b3a6-90c0-47a0-b788-3e048a5c4192"
      },
      "execution_count": 98,
      "outputs": [
        {
          "output_type": "execute_result",
          "data": {
            "text/plain": [
              "        sht40_humidity  sht40_temperature  shtc3_humidity     power\n",
              "48239            30.52              37.21       64.414286  4.510000\n",
              "98853            30.37              34.81       59.382222  1.500000\n",
              "148766           25.07              35.70       47.474286  1.500000\n",
              "83569            27.96              34.63       54.175556  1.500000\n",
              "32137            31.34              36.81       61.461429  5.656667\n",
              "...                ...                ...             ...       ...\n",
              "99675            27.53              34.48       53.238750  1.500000\n",
              "141870           30.64              35.78       62.068750  1.500000\n",
              "135147           24.94              35.54       46.967500  1.500000\n",
              "47781            29.59              35.67       58.551250  1.500000\n",
              "121511           23.94              35.74       45.560000  1.500000\n",
              "\n",
              "[9952 rows x 4 columns]"
            ],
            "text/html": [
              "\n",
              "  <div id=\"df-77cb6879-2011-4bb4-a6fc-4e104bb931ea\">\n",
              "    <div class=\"colab-df-container\">\n",
              "      <div>\n",
              "<style scoped>\n",
              "    .dataframe tbody tr th:only-of-type {\n",
              "        vertical-align: middle;\n",
              "    }\n",
              "\n",
              "    .dataframe tbody tr th {\n",
              "        vertical-align: top;\n",
              "    }\n",
              "\n",
              "    .dataframe thead th {\n",
              "        text-align: right;\n",
              "    }\n",
              "</style>\n",
              "<table border=\"1\" class=\"dataframe\">\n",
              "  <thead>\n",
              "    <tr style=\"text-align: right;\">\n",
              "      <th></th>\n",
              "      <th>sht40_humidity</th>\n",
              "      <th>sht40_temperature</th>\n",
              "      <th>shtc3_humidity</th>\n",
              "      <th>power</th>\n",
              "    </tr>\n",
              "  </thead>\n",
              "  <tbody>\n",
              "    <tr>\n",
              "      <th>48239</th>\n",
              "      <td>30.52</td>\n",
              "      <td>37.21</td>\n",
              "      <td>64.414286</td>\n",
              "      <td>4.510000</td>\n",
              "    </tr>\n",
              "    <tr>\n",
              "      <th>98853</th>\n",
              "      <td>30.37</td>\n",
              "      <td>34.81</td>\n",
              "      <td>59.382222</td>\n",
              "      <td>1.500000</td>\n",
              "    </tr>\n",
              "    <tr>\n",
              "      <th>148766</th>\n",
              "      <td>25.07</td>\n",
              "      <td>35.70</td>\n",
              "      <td>47.474286</td>\n",
              "      <td>1.500000</td>\n",
              "    </tr>\n",
              "    <tr>\n",
              "      <th>83569</th>\n",
              "      <td>27.96</td>\n",
              "      <td>34.63</td>\n",
              "      <td>54.175556</td>\n",
              "      <td>1.500000</td>\n",
              "    </tr>\n",
              "    <tr>\n",
              "      <th>32137</th>\n",
              "      <td>31.34</td>\n",
              "      <td>36.81</td>\n",
              "      <td>61.461429</td>\n",
              "      <td>5.656667</td>\n",
              "    </tr>\n",
              "    <tr>\n",
              "      <th>...</th>\n",
              "      <td>...</td>\n",
              "      <td>...</td>\n",
              "      <td>...</td>\n",
              "      <td>...</td>\n",
              "    </tr>\n",
              "    <tr>\n",
              "      <th>99675</th>\n",
              "      <td>27.53</td>\n",
              "      <td>34.48</td>\n",
              "      <td>53.238750</td>\n",
              "      <td>1.500000</td>\n",
              "    </tr>\n",
              "    <tr>\n",
              "      <th>141870</th>\n",
              "      <td>30.64</td>\n",
              "      <td>35.78</td>\n",
              "      <td>62.068750</td>\n",
              "      <td>1.500000</td>\n",
              "    </tr>\n",
              "    <tr>\n",
              "      <th>135147</th>\n",
              "      <td>24.94</td>\n",
              "      <td>35.54</td>\n",
              "      <td>46.967500</td>\n",
              "      <td>1.500000</td>\n",
              "    </tr>\n",
              "    <tr>\n",
              "      <th>47781</th>\n",
              "      <td>29.59</td>\n",
              "      <td>35.67</td>\n",
              "      <td>58.551250</td>\n",
              "      <td>1.500000</td>\n",
              "    </tr>\n",
              "    <tr>\n",
              "      <th>121511</th>\n",
              "      <td>23.94</td>\n",
              "      <td>35.74</td>\n",
              "      <td>45.560000</td>\n",
              "      <td>1.500000</td>\n",
              "    </tr>\n",
              "  </tbody>\n",
              "</table>\n",
              "<p>9952 rows × 4 columns</p>\n",
              "</div>\n",
              "      <button class=\"colab-df-convert\" onclick=\"convertToInteractive('df-77cb6879-2011-4bb4-a6fc-4e104bb931ea')\"\n",
              "              title=\"Convert this dataframe to an interactive table.\"\n",
              "              style=\"display:none;\">\n",
              "        \n",
              "  <svg xmlns=\"http://www.w3.org/2000/svg\" height=\"24px\"viewBox=\"0 0 24 24\"\n",
              "       width=\"24px\">\n",
              "    <path d=\"M0 0h24v24H0V0z\" fill=\"none\"/>\n",
              "    <path d=\"M18.56 5.44l.94 2.06.94-2.06 2.06-.94-2.06-.94-.94-2.06-.94 2.06-2.06.94zm-11 1L8.5 8.5l.94-2.06 2.06-.94-2.06-.94L8.5 2.5l-.94 2.06-2.06.94zm10 10l.94 2.06.94-2.06 2.06-.94-2.06-.94-.94-2.06-.94 2.06-2.06.94z\"/><path d=\"M17.41 7.96l-1.37-1.37c-.4-.4-.92-.59-1.43-.59-.52 0-1.04.2-1.43.59L10.3 9.45l-7.72 7.72c-.78.78-.78 2.05 0 2.83L4 21.41c.39.39.9.59 1.41.59.51 0 1.02-.2 1.41-.59l7.78-7.78 2.81-2.81c.8-.78.8-2.07 0-2.86zM5.41 20L4 18.59l7.72-7.72 1.47 1.35L5.41 20z\"/>\n",
              "  </svg>\n",
              "      </button>\n",
              "      \n",
              "  <style>\n",
              "    .colab-df-container {\n",
              "      display:flex;\n",
              "      flex-wrap:wrap;\n",
              "      gap: 12px;\n",
              "    }\n",
              "\n",
              "    .colab-df-convert {\n",
              "      background-color: #E8F0FE;\n",
              "      border: none;\n",
              "      border-radius: 50%;\n",
              "      cursor: pointer;\n",
              "      display: none;\n",
              "      fill: #1967D2;\n",
              "      height: 32px;\n",
              "      padding: 0 0 0 0;\n",
              "      width: 32px;\n",
              "    }\n",
              "\n",
              "    .colab-df-convert:hover {\n",
              "      background-color: #E2EBFA;\n",
              "      box-shadow: 0px 1px 2px rgba(60, 64, 67, 0.3), 0px 1px 3px 1px rgba(60, 64, 67, 0.15);\n",
              "      fill: #174EA6;\n",
              "    }\n",
              "\n",
              "    [theme=dark] .colab-df-convert {\n",
              "      background-color: #3B4455;\n",
              "      fill: #D2E3FC;\n",
              "    }\n",
              "\n",
              "    [theme=dark] .colab-df-convert:hover {\n",
              "      background-color: #434B5C;\n",
              "      box-shadow: 0px 1px 3px 1px rgba(0, 0, 0, 0.15);\n",
              "      filter: drop-shadow(0px 1px 2px rgba(0, 0, 0, 0.3));\n",
              "      fill: #FFFFFF;\n",
              "    }\n",
              "  </style>\n",
              "\n",
              "      <script>\n",
              "        const buttonEl =\n",
              "          document.querySelector('#df-77cb6879-2011-4bb4-a6fc-4e104bb931ea button.colab-df-convert');\n",
              "        buttonEl.style.display =\n",
              "          google.colab.kernel.accessAllowed ? 'block' : 'none';\n",
              "\n",
              "        async function convertToInteractive(key) {\n",
              "          const element = document.querySelector('#df-77cb6879-2011-4bb4-a6fc-4e104bb931ea');\n",
              "          const dataTable =\n",
              "            await google.colab.kernel.invokeFunction('convertToInteractive',\n",
              "                                                     [key], {});\n",
              "          if (!dataTable) return;\n",
              "\n",
              "          const docLinkHtml = 'Like what you see? Visit the ' +\n",
              "            '<a target=\"_blank\" href=https://colab.research.google.com/notebooks/data_table.ipynb>data table notebook</a>'\n",
              "            + ' to learn more about interactive tables.';\n",
              "          element.innerHTML = '';\n",
              "          dataTable['output_type'] = 'display_data';\n",
              "          await google.colab.output.renderOutput(dataTable, element);\n",
              "          const docLink = document.createElement('div');\n",
              "          docLink.innerHTML = docLinkHtml;\n",
              "          element.appendChild(docLink);\n",
              "        }\n",
              "      </script>\n",
              "    </div>\n",
              "  </div>\n",
              "  "
            ]
          },
          "metadata": {},
          "execution_count": 98
        }
      ]
    },
    {
      "cell_type": "code",
      "source": [
        "prediction_df = predict_model(tuned_model_experiment_temperature, data=X_test)\n",
        "prediction_df.head()"
      ],
      "metadata": {
        "id": "6XeKbKYxPkXl",
        "colab": {
          "base_uri": "https://localhost:8080/",
          "height": 206
        },
        "outputId": "48559206-db28-4dfe-de32-f68bcaeb5fc3"
      },
      "execution_count": 99,
      "outputs": [
        {
          "output_type": "display_data",
          "data": {
            "text/plain": [
              "<IPython.core.display.HTML object>"
            ],
            "text/html": []
          },
          "metadata": {}
        },
        {
          "output_type": "execute_result",
          "data": {
            "text/plain": [
              "   sht40_humidity  sht40_temperature  shtc3_humidity     power  \\\n",
              "0        0.834106           2.080373        1.322412  1.918615   \n",
              "1        0.801161          -0.878210        0.794079 -0.382864   \n",
              "2       -0.362891           0.218932       -0.456175 -0.382864   \n",
              "3        0.271847          -1.100104        0.247414 -0.382864   \n",
              "4        1.014205           1.587278        1.012382  2.795369   \n",
              "\n",
              "   prediction_label  \n",
              "0         23.110450  \n",
              "1         21.981104  \n",
              "2         22.841862  \n",
              "3         21.855214  \n",
              "4         23.540207  "
            ],
            "text/html": [
              "\n",
              "  <div id=\"df-05378e49-3e62-4841-9b0c-2be2b3d8d878\">\n",
              "    <div class=\"colab-df-container\">\n",
              "      <div>\n",
              "<style scoped>\n",
              "    .dataframe tbody tr th:only-of-type {\n",
              "        vertical-align: middle;\n",
              "    }\n",
              "\n",
              "    .dataframe tbody tr th {\n",
              "        vertical-align: top;\n",
              "    }\n",
              "\n",
              "    .dataframe thead th {\n",
              "        text-align: right;\n",
              "    }\n",
              "</style>\n",
              "<table border=\"1\" class=\"dataframe\">\n",
              "  <thead>\n",
              "    <tr style=\"text-align: right;\">\n",
              "      <th></th>\n",
              "      <th>sht40_humidity</th>\n",
              "      <th>sht40_temperature</th>\n",
              "      <th>shtc3_humidity</th>\n",
              "      <th>power</th>\n",
              "      <th>prediction_label</th>\n",
              "    </tr>\n",
              "  </thead>\n",
              "  <tbody>\n",
              "    <tr>\n",
              "      <th>0</th>\n",
              "      <td>0.834106</td>\n",
              "      <td>2.080373</td>\n",
              "      <td>1.322412</td>\n",
              "      <td>1.918615</td>\n",
              "      <td>23.110450</td>\n",
              "    </tr>\n",
              "    <tr>\n",
              "      <th>1</th>\n",
              "      <td>0.801161</td>\n",
              "      <td>-0.878210</td>\n",
              "      <td>0.794079</td>\n",
              "      <td>-0.382864</td>\n",
              "      <td>21.981104</td>\n",
              "    </tr>\n",
              "    <tr>\n",
              "      <th>2</th>\n",
              "      <td>-0.362891</td>\n",
              "      <td>0.218932</td>\n",
              "      <td>-0.456175</td>\n",
              "      <td>-0.382864</td>\n",
              "      <td>22.841862</td>\n",
              "    </tr>\n",
              "    <tr>\n",
              "      <th>3</th>\n",
              "      <td>0.271847</td>\n",
              "      <td>-1.100104</td>\n",
              "      <td>0.247414</td>\n",
              "      <td>-0.382864</td>\n",
              "      <td>21.855214</td>\n",
              "    </tr>\n",
              "    <tr>\n",
              "      <th>4</th>\n",
              "      <td>1.014205</td>\n",
              "      <td>1.587278</td>\n",
              "      <td>1.012382</td>\n",
              "      <td>2.795369</td>\n",
              "      <td>23.540207</td>\n",
              "    </tr>\n",
              "  </tbody>\n",
              "</table>\n",
              "</div>\n",
              "      <button class=\"colab-df-convert\" onclick=\"convertToInteractive('df-05378e49-3e62-4841-9b0c-2be2b3d8d878')\"\n",
              "              title=\"Convert this dataframe to an interactive table.\"\n",
              "              style=\"display:none;\">\n",
              "        \n",
              "  <svg xmlns=\"http://www.w3.org/2000/svg\" height=\"24px\"viewBox=\"0 0 24 24\"\n",
              "       width=\"24px\">\n",
              "    <path d=\"M0 0h24v24H0V0z\" fill=\"none\"/>\n",
              "    <path d=\"M18.56 5.44l.94 2.06.94-2.06 2.06-.94-2.06-.94-.94-2.06-.94 2.06-2.06.94zm-11 1L8.5 8.5l.94-2.06 2.06-.94-2.06-.94L8.5 2.5l-.94 2.06-2.06.94zm10 10l.94 2.06.94-2.06 2.06-.94-2.06-.94-.94-2.06-.94 2.06-2.06.94z\"/><path d=\"M17.41 7.96l-1.37-1.37c-.4-.4-.92-.59-1.43-.59-.52 0-1.04.2-1.43.59L10.3 9.45l-7.72 7.72c-.78.78-.78 2.05 0 2.83L4 21.41c.39.39.9.59 1.41.59.51 0 1.02-.2 1.41-.59l7.78-7.78 2.81-2.81c.8-.78.8-2.07 0-2.86zM5.41 20L4 18.59l7.72-7.72 1.47 1.35L5.41 20z\"/>\n",
              "  </svg>\n",
              "      </button>\n",
              "      \n",
              "  <style>\n",
              "    .colab-df-container {\n",
              "      display:flex;\n",
              "      flex-wrap:wrap;\n",
              "      gap: 12px;\n",
              "    }\n",
              "\n",
              "    .colab-df-convert {\n",
              "      background-color: #E8F0FE;\n",
              "      border: none;\n",
              "      border-radius: 50%;\n",
              "      cursor: pointer;\n",
              "      display: none;\n",
              "      fill: #1967D2;\n",
              "      height: 32px;\n",
              "      padding: 0 0 0 0;\n",
              "      width: 32px;\n",
              "    }\n",
              "\n",
              "    .colab-df-convert:hover {\n",
              "      background-color: #E2EBFA;\n",
              "      box-shadow: 0px 1px 2px rgba(60, 64, 67, 0.3), 0px 1px 3px 1px rgba(60, 64, 67, 0.15);\n",
              "      fill: #174EA6;\n",
              "    }\n",
              "\n",
              "    [theme=dark] .colab-df-convert {\n",
              "      background-color: #3B4455;\n",
              "      fill: #D2E3FC;\n",
              "    }\n",
              "\n",
              "    [theme=dark] .colab-df-convert:hover {\n",
              "      background-color: #434B5C;\n",
              "      box-shadow: 0px 1px 3px 1px rgba(0, 0, 0, 0.15);\n",
              "      filter: drop-shadow(0px 1px 2px rgba(0, 0, 0, 0.3));\n",
              "      fill: #FFFFFF;\n",
              "    }\n",
              "  </style>\n",
              "\n",
              "      <script>\n",
              "        const buttonEl =\n",
              "          document.querySelector('#df-05378e49-3e62-4841-9b0c-2be2b3d8d878 button.colab-df-convert');\n",
              "        buttonEl.style.display =\n",
              "          google.colab.kernel.accessAllowed ? 'block' : 'none';\n",
              "\n",
              "        async function convertToInteractive(key) {\n",
              "          const element = document.querySelector('#df-05378e49-3e62-4841-9b0c-2be2b3d8d878');\n",
              "          const dataTable =\n",
              "            await google.colab.kernel.invokeFunction('convertToInteractive',\n",
              "                                                     [key], {});\n",
              "          if (!dataTable) return;\n",
              "\n",
              "          const docLinkHtml = 'Like what you see? Visit the ' +\n",
              "            '<a target=\"_blank\" href=https://colab.research.google.com/notebooks/data_table.ipynb>data table notebook</a>'\n",
              "            + ' to learn more about interactive tables.';\n",
              "          element.innerHTML = '';\n",
              "          dataTable['output_type'] = 'display_data';\n",
              "          await google.colab.output.renderOutput(dataTable, element);\n",
              "          const docLink = document.createElement('div');\n",
              "          docLink.innerHTML = docLinkHtml;\n",
              "          element.appendChild(docLink);\n",
              "        }\n",
              "      </script>\n",
              "    </div>\n",
              "  </div>\n",
              "  "
            ]
          },
          "metadata": {},
          "execution_count": 99
        }
      ]
    },
    {
      "cell_type": "code",
      "source": [
        "df_pred=prediction_df.filter(['prediction_label'], axis=1)\n",
        "df_pred.head()"
      ],
      "metadata": {
        "id": "Iqi88vZEPkXm",
        "colab": {
          "base_uri": "https://localhost:8080/",
          "height": 206
        },
        "outputId": "46cb3878-281d-473d-85d9-cc891cae33b2"
      },
      "execution_count": 100,
      "outputs": [
        {
          "output_type": "execute_result",
          "data": {
            "text/plain": [
              "   prediction_label\n",
              "0         23.110450\n",
              "1         21.981104\n",
              "2         22.841862\n",
              "3         21.855214\n",
              "4         23.540207"
            ],
            "text/html": [
              "\n",
              "  <div id=\"df-ba4314c2-2d6d-48c0-be70-e156bea28deb\">\n",
              "    <div class=\"colab-df-container\">\n",
              "      <div>\n",
              "<style scoped>\n",
              "    .dataframe tbody tr th:only-of-type {\n",
              "        vertical-align: middle;\n",
              "    }\n",
              "\n",
              "    .dataframe tbody tr th {\n",
              "        vertical-align: top;\n",
              "    }\n",
              "\n",
              "    .dataframe thead th {\n",
              "        text-align: right;\n",
              "    }\n",
              "</style>\n",
              "<table border=\"1\" class=\"dataframe\">\n",
              "  <thead>\n",
              "    <tr style=\"text-align: right;\">\n",
              "      <th></th>\n",
              "      <th>prediction_label</th>\n",
              "    </tr>\n",
              "  </thead>\n",
              "  <tbody>\n",
              "    <tr>\n",
              "      <th>0</th>\n",
              "      <td>23.110450</td>\n",
              "    </tr>\n",
              "    <tr>\n",
              "      <th>1</th>\n",
              "      <td>21.981104</td>\n",
              "    </tr>\n",
              "    <tr>\n",
              "      <th>2</th>\n",
              "      <td>22.841862</td>\n",
              "    </tr>\n",
              "    <tr>\n",
              "      <th>3</th>\n",
              "      <td>21.855214</td>\n",
              "    </tr>\n",
              "    <tr>\n",
              "      <th>4</th>\n",
              "      <td>23.540207</td>\n",
              "    </tr>\n",
              "  </tbody>\n",
              "</table>\n",
              "</div>\n",
              "      <button class=\"colab-df-convert\" onclick=\"convertToInteractive('df-ba4314c2-2d6d-48c0-be70-e156bea28deb')\"\n",
              "              title=\"Convert this dataframe to an interactive table.\"\n",
              "              style=\"display:none;\">\n",
              "        \n",
              "  <svg xmlns=\"http://www.w3.org/2000/svg\" height=\"24px\"viewBox=\"0 0 24 24\"\n",
              "       width=\"24px\">\n",
              "    <path d=\"M0 0h24v24H0V0z\" fill=\"none\"/>\n",
              "    <path d=\"M18.56 5.44l.94 2.06.94-2.06 2.06-.94-2.06-.94-.94-2.06-.94 2.06-2.06.94zm-11 1L8.5 8.5l.94-2.06 2.06-.94-2.06-.94L8.5 2.5l-.94 2.06-2.06.94zm10 10l.94 2.06.94-2.06 2.06-.94-2.06-.94-.94-2.06-.94 2.06-2.06.94z\"/><path d=\"M17.41 7.96l-1.37-1.37c-.4-.4-.92-.59-1.43-.59-.52 0-1.04.2-1.43.59L10.3 9.45l-7.72 7.72c-.78.78-.78 2.05 0 2.83L4 21.41c.39.39.9.59 1.41.59.51 0 1.02-.2 1.41-.59l7.78-7.78 2.81-2.81c.8-.78.8-2.07 0-2.86zM5.41 20L4 18.59l7.72-7.72 1.47 1.35L5.41 20z\"/>\n",
              "  </svg>\n",
              "      </button>\n",
              "      \n",
              "  <style>\n",
              "    .colab-df-container {\n",
              "      display:flex;\n",
              "      flex-wrap:wrap;\n",
              "      gap: 12px;\n",
              "    }\n",
              "\n",
              "    .colab-df-convert {\n",
              "      background-color: #E8F0FE;\n",
              "      border: none;\n",
              "      border-radius: 50%;\n",
              "      cursor: pointer;\n",
              "      display: none;\n",
              "      fill: #1967D2;\n",
              "      height: 32px;\n",
              "      padding: 0 0 0 0;\n",
              "      width: 32px;\n",
              "    }\n",
              "\n",
              "    .colab-df-convert:hover {\n",
              "      background-color: #E2EBFA;\n",
              "      box-shadow: 0px 1px 2px rgba(60, 64, 67, 0.3), 0px 1px 3px 1px rgba(60, 64, 67, 0.15);\n",
              "      fill: #174EA6;\n",
              "    }\n",
              "\n",
              "    [theme=dark] .colab-df-convert {\n",
              "      background-color: #3B4455;\n",
              "      fill: #D2E3FC;\n",
              "    }\n",
              "\n",
              "    [theme=dark] .colab-df-convert:hover {\n",
              "      background-color: #434B5C;\n",
              "      box-shadow: 0px 1px 3px 1px rgba(0, 0, 0, 0.15);\n",
              "      filter: drop-shadow(0px 1px 2px rgba(0, 0, 0, 0.3));\n",
              "      fill: #FFFFFF;\n",
              "    }\n",
              "  </style>\n",
              "\n",
              "      <script>\n",
              "        const buttonEl =\n",
              "          document.querySelector('#df-ba4314c2-2d6d-48c0-be70-e156bea28deb button.colab-df-convert');\n",
              "        buttonEl.style.display =\n",
              "          google.colab.kernel.accessAllowed ? 'block' : 'none';\n",
              "\n",
              "        async function convertToInteractive(key) {\n",
              "          const element = document.querySelector('#df-ba4314c2-2d6d-48c0-be70-e156bea28deb');\n",
              "          const dataTable =\n",
              "            await google.colab.kernel.invokeFunction('convertToInteractive',\n",
              "                                                     [key], {});\n",
              "          if (!dataTable) return;\n",
              "\n",
              "          const docLinkHtml = 'Like what you see? Visit the ' +\n",
              "            '<a target=\"_blank\" href=https://colab.research.google.com/notebooks/data_table.ipynb>data table notebook</a>'\n",
              "            + ' to learn more about interactive tables.';\n",
              "          element.innerHTML = '';\n",
              "          dataTable['output_type'] = 'display_data';\n",
              "          await google.colab.output.renderOutput(dataTable, element);\n",
              "          const docLink = document.createElement('div');\n",
              "          docLink.innerHTML = docLinkHtml;\n",
              "          element.appendChild(docLink);\n",
              "        }\n",
              "      </script>\n",
              "    </div>\n",
              "  </div>\n",
              "  "
            ]
          },
          "metadata": {},
          "execution_count": 100
        }
      ]
    },
    {
      "cell_type": "code",
      "source": [
        "from sklearn import metrics\n",
        "\n",
        "print('MAE', metrics.mean_absolute_error(y_test, df_pred))\n",
        "print('MSE', metrics.mean_squared_error(y_test, df_pred))\n",
        "print('RMSE', np.sqrt(metrics.mean_squared_error(y_test, df_pred)))\n",
        "print('R2 Score', metrics.r2_score(y_test, df_pred))"
      ],
      "metadata": {
        "id": "5qC1WfLtPkXo",
        "colab": {
          "base_uri": "https://localhost:8080/"
        },
        "outputId": "95c9476e-ad3a-4593-ed25-6ff891dc4ddd"
      },
      "execution_count": 101,
      "outputs": [
        {
          "output_type": "stream",
          "name": "stdout",
          "text": [
            "MAE 0.15230827719580142\n",
            "MSE 0.04010061747890428\n",
            "RMSE 0.20025138571032233\n",
            "R2 Score 0.9164843358699807\n"
          ]
        }
      ]
    },
    {
      "cell_type": "markdown",
      "source": [
        "**PREDICT model for predicting HUMIDITY**"
      ],
      "metadata": {
        "id": "eJfL0SxdPvX2"
      }
    },
    {
      "cell_type": "code",
      "source": [
        "y_test.shape"
      ],
      "metadata": {
        "id": "7AMcUJ0VQBrY"
      },
      "execution_count": null,
      "outputs": []
    },
    {
      "cell_type": "code",
      "source": [
        "X_test"
      ],
      "metadata": {
        "id": "kIRFSaWJQBra"
      },
      "execution_count": null,
      "outputs": []
    },
    {
      "cell_type": "code",
      "source": [
        "prediction_df = predict_model(tuned_model_HUMIDITY, data=X_test)\n",
        "prediction_df.head()"
      ],
      "metadata": {
        "id": "1Xtq_AWwQBrb"
      },
      "execution_count": null,
      "outputs": []
    },
    {
      "cell_type": "code",
      "source": [
        "df_pred=prediction_df.filter(['prediction_label'], axis=1)\n",
        "df_pred.head()"
      ],
      "metadata": {
        "id": "xGCaoKpzQBrb"
      },
      "execution_count": null,
      "outputs": []
    },
    {
      "cell_type": "code",
      "source": [
        "from sklearn import metrics\n",
        "\n",
        "print('MAE', metrics.mean_absolute_error(y_test, df_pred))\n",
        "print('MSE', metrics.mean_squared_error(y_test, df_pred))\n",
        "print('RMSE', np.sqrt(metrics.mean_squared_error(y_test, df_pred)))\n",
        "print('R2 Score', metrics.r2_score(y_test, df_pred))"
      ],
      "metadata": {
        "id": "pWzzAKtRQBrc"
      },
      "execution_count": null,
      "outputs": []
    },
    {
      "cell_type": "markdown",
      "source": [
        "**PREDICT model for predicting TEMPERATURE**"
      ],
      "metadata": {
        "id": "fTVQvq-qPvX3"
      }
    },
    {
      "cell_type": "code",
      "source": [
        "y_test.shape"
      ],
      "metadata": {
        "id": "tG6yV1BaQCeF"
      },
      "execution_count": null,
      "outputs": []
    },
    {
      "cell_type": "code",
      "source": [
        "X_test"
      ],
      "metadata": {
        "id": "JeC1RKdEQCeH"
      },
      "execution_count": null,
      "outputs": []
    },
    {
      "cell_type": "code",
      "source": [
        "prediction_df = predict_model(tuned_model_TEMPERATURE, data=X_test)\n",
        "prediction_df.head()"
      ],
      "metadata": {
        "id": "kHXm0VPIQCeI"
      },
      "execution_count": null,
      "outputs": []
    },
    {
      "cell_type": "code",
      "source": [
        "df_pred=prediction_df.filter(['prediction_label'], axis=1)\n",
        "df_pred.head()"
      ],
      "metadata": {
        "id": "j8DX3Q13QCeI"
      },
      "execution_count": null,
      "outputs": []
    },
    {
      "cell_type": "code",
      "source": [
        "from sklearn import metrics\n",
        "\n",
        "print('MAE', metrics.mean_absolute_error(y_test, df_pred))\n",
        "print('MSE', metrics.mean_squared_error(y_test, df_pred))\n",
        "print('RMSE', np.sqrt(metrics.mean_squared_error(y_test, df_pred)))\n",
        "print('R2 Score', metrics.r2_score(y_test, df_pred))"
      ],
      "metadata": {
        "id": "6REhuj9MQCeJ"
      },
      "execution_count": null,
      "outputs": []
    },
    {
      "cell_type": "markdown",
      "source": [
        "# Save / Load Model"
      ],
      "metadata": {
        "id": "ZrMr9OE42xMd"
      }
    },
    {
      "cell_type": "code",
      "source": [
        "#SAVE Model for repeating the EXPERIMENT, and predicting HUMIDITY\n",
        "\n",
        "save_model(final_model_experiment_humidity, model_name='experiment_HUMIDITY_ML_model_rf_pycaret_9_lamps_with_avg_light_temp_sensor_temp_humidity_power_2_5_data')"
      ],
      "metadata": {
        "id": "oKVdPRZ22yxr",
        "colab": {
          "base_uri": "https://localhost:8080/"
        },
        "outputId": "2801042e-cfff-402f-846f-43dd35b3fc09"
      },
      "execution_count": 74,
      "outputs": [
        {
          "output_type": "stream",
          "name": "stdout",
          "text": [
            "Transformation Pipeline and Model Successfully Saved\n"
          ]
        },
        {
          "output_type": "execute_result",
          "data": {
            "text/plain": [
              "(Pipeline(memory=Memory(location=/tmp/joblib),\n",
              "          steps=[('numerical_imputer',\n",
              "                  TransformerWrapper(include=['sht40_humidity',\n",
              "                                              'sht40_temperature',\n",
              "                                              'shtc3_temperature', 'power'],\n",
              "                                     transformer=SimpleImputer())),\n",
              "                 ('categorical_imputer',\n",
              "                  TransformerWrapper(include=[],\n",
              "                                     transformer=SimpleImputer(fill_value='constant',\n",
              "                                                               strategy='constant'))),\n",
              "                 ('low_variance',\n",
              "                  TransformerWrapper(exclude=[],\n",
              "                                     transformer=VarianceThreshold(threshold=0))),\n",
              "                 ('normalize', TransformerWrapper(transformer=StandardScaler())),\n",
              "                 ('actual_estimator',\n",
              "                  RandomForestRegressor(n_jobs=-1, random_state=1))]),\n",
              " 'experiment_HUMIDITY_ML_model_rf_pycaret_9_lamps_with_avg_light_temp_sensor_temp_humidity_power_2_5_data.pkl')"
            ]
          },
          "metadata": {},
          "execution_count": 74
        }
      ]
    },
    {
      "cell_type": "code",
      "source": [
        "#SAVE Model for repeating the EXPERIMENT, and predicting TEMPERATURE\n",
        "\n",
        "save_model(final_model_experiment_temperature, model_name='experiment_TEMPERATURE_ML_model_rf_pycaret_9_lamps_with_avg_light_temp_sensor_temp_humidity_power_2_5_data')"
      ],
      "metadata": {
        "id": "tkIG0ALn7hZ7",
        "colab": {
          "base_uri": "https://localhost:8080/"
        },
        "outputId": "95f448a0-cc8a-4e47-e11e-e7de1e952e9d"
      },
      "execution_count": 102,
      "outputs": [
        {
          "output_type": "stream",
          "name": "stdout",
          "text": [
            "Transformation Pipeline and Model Successfully Saved\n"
          ]
        },
        {
          "output_type": "execute_result",
          "data": {
            "text/plain": [
              "(Pipeline(memory=Memory(location=/tmp/joblib),\n",
              "          steps=[('numerical_imputer',\n",
              "                  TransformerWrapper(include=['sht40_humidity',\n",
              "                                              'sht40_temperature',\n",
              "                                              'shtc3_humidity', 'power'],\n",
              "                                     transformer=SimpleImputer())),\n",
              "                 ('categorical_imputer',\n",
              "                  TransformerWrapper(include=[],\n",
              "                                     transformer=SimpleImputer(fill_value='constant',\n",
              "                                                               strategy='constant'))),\n",
              "                 ('low_variance',\n",
              "                  TransformerWrapper(exclude=[],\n",
              "                                     transformer=VarianceThreshold(threshold=0))),\n",
              "                 ('normalize', TransformerWrapper(transformer=StandardScaler())),\n",
              "                 ('actual_estimator', LGBMRegressor(random_state=1))]),\n",
              " 'experiment_TEMPERATURE_ML_model_rf_pycaret_9_lamps_with_avg_light_temp_sensor_temp_humidity_power_2_5_data.pkl')"
            ]
          },
          "metadata": {},
          "execution_count": 102
        }
      ]
    },
    {
      "cell_type": "code",
      "source": [
        "#SAVE Model predicting HUMIDITY\n",
        "\n",
        "save_model(final_model_HUMIDITY, model_name='HUMIDITY_ML_model_rf_pycaret_9_lamps_with_avg_light_temp_sensor_temp_humidity_power_2_5_data')"
      ],
      "metadata": {
        "id": "MK3yJbQ4Hekk"
      },
      "execution_count": null,
      "outputs": []
    },
    {
      "cell_type": "code",
      "source": [
        "#SAVE Model predicting TEMPERATURE\n",
        "\n",
        "save_model(final_model_TEMPERATURE, model_name='TEMPERATURE_ML_model_rf_pycaret_9_lamps_with_avg_light_temp_sensor_temp_humidity_power_2_5_data')"
      ],
      "metadata": {
        "id": "EQt59mQ4Mx8-"
      },
      "execution_count": null,
      "outputs": []
    },
    {
      "cell_type": "code",
      "source": [
        "#Load model of your choice; make sure that the model is saved or the file path is correct\n",
        "\n",
        "loaded_model = load_model('experiment_HUMIDITY_ML_model_rf_pycaret_9_lamps_with_avg_light_temp_sensor_temp_humidity_power_2_5_data')\n",
        "loaded_model"
      ],
      "metadata": {
        "id": "-gH9MYJc21_9",
        "colab": {
          "base_uri": "https://localhost:8080/"
        },
        "outputId": "ecb768ca-2376-4dc2-ccdb-863c915917d9"
      },
      "execution_count": 75,
      "outputs": [
        {
          "output_type": "stream",
          "name": "stdout",
          "text": [
            "Transformation Pipeline and Model Successfully Loaded\n"
          ]
        },
        {
          "output_type": "execute_result",
          "data": {
            "text/plain": [
              "Pipeline(memory=Memory(location=/tmp/joblib),\n",
              "         steps=[('numerical_imputer',\n",
              "                 TransformerWrapper(include=['sht40_humidity',\n",
              "                                             'sht40_temperature',\n",
              "                                             'shtc3_temperature', 'power'],\n",
              "                                    transformer=SimpleImputer())),\n",
              "                ('categorical_imputer',\n",
              "                 TransformerWrapper(include=[],\n",
              "                                    transformer=SimpleImputer(fill_value='constant',\n",
              "                                                              strategy='constant'))),\n",
              "                ('low_variance',\n",
              "                 TransformerWrapper(exclude=[],\n",
              "                                    transformer=VarianceThreshold(threshold=0))),\n",
              "                ('normalize', TransformerWrapper(transformer=StandardScaler())),\n",
              "                ('actual_estimator',\n",
              "                 RandomForestRegressor(n_jobs=-1, random_state=1))])"
            ]
          },
          "metadata": {},
          "execution_count": 75
        }
      ]
    },
    {
      "cell_type": "code",
      "source": [
        "#Run predictions on loaded model to test new data or random data\n",
        "\n",
        "prediction_df = predict_model(loaded_model, data=df_single_lamp_avg_sensor_2_lamp_test_temp_humidity_clean)\n",
        "predictions = prediction_df['prediction_label']\n",
        "predictions.mean()"
      ],
      "metadata": {
        "id": "bJ4KmBpJ28Ps",
        "colab": {
          "base_uri": "https://localhost:8080/",
          "height": 99
        },
        "outputId": "4800b22c-013f-4847-88a6-ccc4dfb9648e"
      },
      "execution_count": 77,
      "outputs": [
        {
          "output_type": "display_data",
          "data": {
            "text/plain": [
              "<pandas.io.formats.style.Styler at 0x7f8de5418e10>"
            ],
            "text/html": [
              "<style type=\"text/css\">\n",
              "</style>\n",
              "<table id=\"T_a6c9b_\" class=\"dataframe\">\n",
              "  <thead>\n",
              "    <tr>\n",
              "      <th class=\"blank level0\" >&nbsp;</th>\n",
              "      <th class=\"col_heading level0 col0\" >Model</th>\n",
              "      <th class=\"col_heading level0 col1\" >MAE</th>\n",
              "      <th class=\"col_heading level0 col2\" >MSE</th>\n",
              "      <th class=\"col_heading level0 col3\" >RMSE</th>\n",
              "      <th class=\"col_heading level0 col4\" >R2</th>\n",
              "      <th class=\"col_heading level0 col5\" >RMSLE</th>\n",
              "      <th class=\"col_heading level0 col6\" >MAPE</th>\n",
              "    </tr>\n",
              "  </thead>\n",
              "  <tbody>\n",
              "    <tr>\n",
              "      <th id=\"T_a6c9b_level0_row0\" class=\"row_heading level0 row0\" >0</th>\n",
              "      <td id=\"T_a6c9b_row0_col0\" class=\"data row0 col0\" >Random Forest Regressor</td>\n",
              "      <td id=\"T_a6c9b_row0_col1\" class=\"data row0 col1\" >0.6132</td>\n",
              "      <td id=\"T_a6c9b_row0_col2\" class=\"data row0 col2\" >0.7848</td>\n",
              "      <td id=\"T_a6c9b_row0_col3\" class=\"data row0 col3\" >0.8859</td>\n",
              "      <td id=\"T_a6c9b_row0_col4\" class=\"data row0 col4\" >0.9914</td>\n",
              "      <td id=\"T_a6c9b_row0_col5\" class=\"data row0 col5\" >0.0171</td>\n",
              "      <td id=\"T_a6c9b_row0_col6\" class=\"data row0 col6\" >0.0121</td>\n",
              "    </tr>\n",
              "  </tbody>\n",
              "</table>\n"
            ]
          },
          "metadata": {}
        },
        {
          "output_type": "execute_result",
          "data": {
            "text/plain": [
              "52.02850317397731"
            ]
          },
          "metadata": {},
          "execution_count": 77
        }
      ]
    }
  ]
}